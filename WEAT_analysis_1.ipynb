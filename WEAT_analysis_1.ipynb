{
 "cells": [
  {
   "cell_type": "code",
   "execution_count": 6,
   "metadata": {},
   "outputs": [
    {
     "data": {
      "text/plain": [
       "'\\n\\n* # get_subreddit(subreddit_name, app_name, oa_script, oa_secret, pwd)\\n\\n* # make_corpus(subreddit_object)\\n\\n* # clean_all_docs(docs)\\n\\n* # train_w2v_model(docs)\\n\\n\\n\\n# get_top_50(df)\\n\\n# get_bottom_50(df)\\n\\n\\n\\n* # get_cos_sim(model, word_1, word_2)\\n\\n# compare_cos_sim(model, word_list, comp_word)\\n\\n# comp_cos_sim_lists(model, list_1, list_2)\\n'"
      ]
     },
     "execution_count": 6,
     "metadata": {},
     "output_type": "execute_result"
    }
   ],
   "source": [
    "\n",
    "* # get_subreddit(subreddit_name, app_name, oa_script, oa_secret, pwd)\n",
    "\n",
    "* # make_corpus(subreddit_object)\n",
    "\n",
    "* # clean_all_docs(docs)\n",
    "\n",
    "* # train_w2v_model(docs)\n",
    "\n",
    "\n",
    "\n",
    "# get_top_50(df)\n",
    "\n",
    "# get_bottom_50(df)\n",
    "\n",
    "\n",
    "\n",
    "* # get_cos_sim(model, word_1, word_2)\n",
    "\n",
    "# compare_cos_sim(model, word_list, comp_word)\n",
    "\n",
    "# comp_cos_sim_lists(model, list_1, list_2)\n"
   ]
  },
  {
   "cell_type": "code",
   "execution_count": null,
   "metadata": {},
   "outputs": [],
   "source": []
  }
 ],
 "metadata": {
  "kernelspec": {
   "display_name": "Python 3",
   "language": "python",
   "name": "python3"
  },
  "language_info": {
   "codemirror_mode": {
    "name": "ipython",
    "version": 3
   },
   "file_extension": ".py",
   "mimetype": "text/x-python",
   "name": "python",
   "nbconvert_exporter": "python",
   "pygments_lexer": "ipython3",
   "version": "3.6.3"
  }
 },
 "nbformat": 4,
 "nbformat_minor": 2
}
