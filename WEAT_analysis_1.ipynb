{
 "cells": [
  {
   "cell_type": "code",
   "execution_count": 227,
   "metadata": {},
   "outputs": [
    {
     "name": "stdout",
     "output_type": "stream",
     "text": [
      "[nltk_data] Downloading package stopwords to /home/keras/nltk_data...\n",
      "[nltk_data]   Package stopwords is already up-to-date!\n"
     ]
    },
    {
     "data": {
      "text/plain": [
       "True"
      ]
     },
     "execution_count": 227,
     "metadata": {},
     "output_type": "execute_result"
    }
   ],
   "source": [
    "import praw\n",
    "import pandas as pd\n",
    "import re\n",
    "import string\n",
    "from collections import Counter\n",
    "import nltk\n",
    "nltk.download('stopwords')"
   ]
  },
  {
   "cell_type": "code",
   "execution_count": 189,
   "metadata": {},
   "outputs": [],
   "source": [
    "# get reddit secret & script i've saved as .txt in the working directory\n",
    "\n",
    "with open('reddit_oa_script.txt') as f:\n",
    "    \n",
    "    reddit_script = f.read().strip()\n",
    "    \n",
    "with open('reddit_oa_secret.txt') as f:\n",
    "    \n",
    "    reddit_secret = f.read().strip()\n",
    "    \n",
    "with open('reddit_id.txt') as f:\n",
    "    \n",
    "    pw = f.read().strip()"
   ]
  },
  {
   "cell_type": "code",
   "execution_count": 190,
   "metadata": {},
   "outputs": [],
   "source": [
    "# user_agent is the name of the app\n",
    "\n",
    "reddit  = praw.Reddit(client_id=reddit_script,\n",
    "                          client_secret=reddit_secret,\n",
    "                          user_agent='get_corpora',\n",
    "                          username='neurodivergent_ai',\n",
    "                          password=pw)\n"
   ]
  },
  {
   "cell_type": "code",
   "execution_count": 191,
   "metadata": {},
   "outputs": [],
   "source": [
    "# get the subreddit\n",
    "\n",
    "subreddit_1 = reddit.subreddit('The_Donald')\n",
    "\n",
    "# get the top (upvoted) 1000 threads\n",
    "\n",
    "subreddit_1_top = subreddit_1.top(limit=1000)"
   ]
  },
  {
   "cell_type": "code",
   "execution_count": 192,
   "metadata": {},
   "outputs": [
    {
     "name": "stdout",
     "output_type": "stream",
     "text": [
      "DONALD J. TRUMP DECLARED THE WINNER! \n",
      "\n",
      "I’m Donald J. Trump and I'm Your Next President of the United States. \n",
      "\n",
      "The New Algorithm Was Designed To Keep President Trump From The Front Page... But Sadly, That Won't Happen. \n",
      "\n",
      "CNN will soon be #1...when searching for the term \"Fake News\". Congratulations to CNN on this major achievement. \n",
      "\n",
      "ALL CELEBRITIES THAT VOWED TO LEAVE THE U.S.A. IF TRUMP WINS, WE NOW DEMAND YOU TO FOLLOW THROUGH!!!! OUT! OUT! OUT! \n",
      "\n"
     ]
    }
   ],
   "source": [
    "# get the top 5 submissions to check\n",
    "\n",
    "for post in subreddit_1.top(limit=5):\n",
    "    \n",
    "    print(post.title, '\\n')"
   ]
  },
  {
   "cell_type": "code",
   "execution_count": 193,
   "metadata": {},
   "outputs": [],
   "source": [
    "# build a dataset\n",
    "\n",
    "# choose information to gather\n",
    "\n",
    "columns_dict = {'title':[],\n",
    "               'id':[],\n",
    "               'url':[],\n",
    "               'date':[],\n",
    "               'score':[],\n",
    "               'num_comments':[],\n",
    "               'body':[]}\n",
    "\n",
    "# build a dictionary\n",
    "\n",
    "for post in subreddit_1_top:\n",
    "    \n",
    "    columns_dict['title'].append(post.title)\n",
    "    \n",
    "    columns_dict['id'].append(post.id)\n",
    "    \n",
    "    columns_dict['url'].append(post.url)\n",
    "    \n",
    "    columns_dict['date'].append(post.created)\n",
    "    \n",
    "    columns_dict['score'].append(post.score)\n",
    "    \n",
    "    columns_dict['num_comments'].append(post.num_comments)\n",
    "    \n",
    "    columns_dict['body'].append(post.selftext)\n",
    "\n",
    "# convert dictionary to a dataframe\n",
    "\n",
    "subreddit_1_df = pd.DataFrame(columns_dict)"
   ]
  },
  {
   "cell_type": "code",
   "execution_count": 194,
   "metadata": {},
   "outputs": [
    {
     "data": {
      "text/html": [
       "<div>\n",
       "<style scoped>\n",
       "    .dataframe tbody tr th:only-of-type {\n",
       "        vertical-align: middle;\n",
       "    }\n",
       "\n",
       "    .dataframe tbody tr th {\n",
       "        vertical-align: top;\n",
       "    }\n",
       "\n",
       "    .dataframe thead th {\n",
       "        text-align: right;\n",
       "    }\n",
       "</style>\n",
       "<table border=\"1\" class=\"dataframe\">\n",
       "  <thead>\n",
       "    <tr style=\"text-align: right;\">\n",
       "      <th></th>\n",
       "      <th>title</th>\n",
       "      <th>id</th>\n",
       "      <th>url</th>\n",
       "      <th>date</th>\n",
       "      <th>score</th>\n",
       "      <th>num_comments</th>\n",
       "      <th>body</th>\n",
       "    </tr>\n",
       "  </thead>\n",
       "  <tbody>\n",
       "    <tr>\n",
       "      <th>0</th>\n",
       "      <td>DONALD J. TRUMP DECLARED THE WINNER!</td>\n",
       "      <td>5bzjv5</td>\n",
       "      <td>https://www.reddit.com/r/The_Donald/comments/5...</td>\n",
       "      <td>1.478706e+09</td>\n",
       "      <td>66715</td>\n",
       "      <td>12097</td>\n",
       "      <td>#Meme Magic is REAL.\\n\\n#Donald J. Trump is th...</td>\n",
       "    </tr>\n",
       "    <tr>\n",
       "      <th>1</th>\n",
       "      <td>I’m Donald J. Trump and I'm Your Next Presiden...</td>\n",
       "      <td>4uxdbn</td>\n",
       "      <td>https://www.reddit.com/r/The_Donald/comments/4...</td>\n",
       "      <td>1.469687e+09</td>\n",
       "      <td>42112</td>\n",
       "      <td>20806</td>\n",
       "      <td>Hello The_Donald readers and the entire Reddit...</td>\n",
       "    </tr>\n",
       "    <tr>\n",
       "      <th>2</th>\n",
       "      <td>The New Algorithm Was Designed To Keep Preside...</td>\n",
       "      <td>5gvy1j</td>\n",
       "      <td>https://i.sli.mg/gu0oHA.png</td>\n",
       "      <td>1.481092e+09</td>\n",
       "      <td>40970</td>\n",
       "      <td>835</td>\n",
       "      <td></td>\n",
       "    </tr>\n",
       "    <tr>\n",
       "      <th>3</th>\n",
       "      <td>CNN will soon be #1...when searching for the t...</td>\n",
       "      <td>5jt9xs</td>\n",
       "      <td>https://i.redd.it/7jeyhzgku65y.png</td>\n",
       "      <td>1.482472e+09</td>\n",
       "      <td>37274</td>\n",
       "      <td>724</td>\n",
       "      <td></td>\n",
       "    </tr>\n",
       "    <tr>\n",
       "      <th>4</th>\n",
       "      <td>ALL CELEBRITIES THAT VOWED TO LEAVE THE U.S.A....</td>\n",
       "      <td>5bz5ds</td>\n",
       "      <td>https://www.reddit.com/r/The_Donald/comments/5...</td>\n",
       "      <td>1.478702e+09</td>\n",
       "      <td>36621</td>\n",
       "      <td>1685</td>\n",
       "      <td>Now that we have proven our commitment to the ...</td>\n",
       "    </tr>\n",
       "  </tbody>\n",
       "</table>\n",
       "</div>"
      ],
      "text/plain": [
       "                                               title      id  \\\n",
       "0               DONALD J. TRUMP DECLARED THE WINNER!  5bzjv5   \n",
       "1  I’m Donald J. Trump and I'm Your Next Presiden...  4uxdbn   \n",
       "2  The New Algorithm Was Designed To Keep Preside...  5gvy1j   \n",
       "3  CNN will soon be #1...when searching for the t...  5jt9xs   \n",
       "4  ALL CELEBRITIES THAT VOWED TO LEAVE THE U.S.A....  5bz5ds   \n",
       "\n",
       "                                                 url          date  score  \\\n",
       "0  https://www.reddit.com/r/The_Donald/comments/5...  1.478706e+09  66715   \n",
       "1  https://www.reddit.com/r/The_Donald/comments/4...  1.469687e+09  42112   \n",
       "2                        https://i.sli.mg/gu0oHA.png  1.481092e+09  40970   \n",
       "3                 https://i.redd.it/7jeyhzgku65y.png  1.482472e+09  37274   \n",
       "4  https://www.reddit.com/r/The_Donald/comments/5...  1.478702e+09  36621   \n",
       "\n",
       "   num_comments                                               body  \n",
       "0         12097  #Meme Magic is REAL.\\n\\n#Donald J. Trump is th...  \n",
       "1         20806  Hello The_Donald readers and the entire Reddit...  \n",
       "2           835                                                     \n",
       "3           724                                                     \n",
       "4          1685  Now that we have proven our commitment to the ...  "
      ]
     },
     "execution_count": 194,
     "metadata": {},
     "output_type": "execute_result"
    }
   ],
   "source": [
    "subreddit_1_df.head()"
   ]
  },
  {
   "cell_type": "code",
   "execution_count": 195,
   "metadata": {},
   "outputs": [],
   "source": [
    "# create a copy to work on\n",
    "\n",
    "reddit_df = subreddit_1_df.copy()"
   ]
  },
  {
   "cell_type": "code",
   "execution_count": 196,
   "metadata": {},
   "outputs": [],
   "source": [
    "# grab texts to build into corpus\n",
    "\n",
    "titles_df = reddit_df['title']\n",
    "\n",
    "posts_df = reddit_df['body']"
   ]
  },
  {
   "cell_type": "code",
   "execution_count": 197,
   "metadata": {},
   "outputs": [
    {
     "data": {
      "text/plain": [
       "0                 DONALD J. TRUMP DECLARED THE WINNER!\n",
       "1    I’m Donald J. Trump and I'm Your Next Presiden...\n",
       "2    The New Algorithm Was Designed To Keep Preside...\n",
       "3    CNN will soon be #1...when searching for the t...\n",
       "4    ALL CELEBRITIES THAT VOWED TO LEAVE THE U.S.A....\n",
       "5                             IMMINENT VICTORY THREAD.\n",
       "6    Hey admins, we found a picture of your wife's ...\n",
       "7             Oh yeah, nothing fucky going on here :^)\n",
       "8                     Can't Stump your President Trump\n",
       "9    It's official: Trump will become the first U.S...\n",
       "Name: title, dtype: object"
      ]
     },
     "execution_count": 197,
     "metadata": {},
     "output_type": "execute_result"
    }
   ],
   "source": [
    "titles_df.head(10)"
   ]
  },
  {
   "cell_type": "code",
   "execution_count": 198,
   "metadata": {},
   "outputs": [
    {
     "data": {
      "text/plain": [
       "0    #Meme Magic is REAL.\\n\\n#Donald J. Trump is th...\n",
       "1    Hello The_Donald readers and the entire Reddit...\n",
       "2                                                     \n",
       "3                                                     \n",
       "4    Now that we have proven our commitment to the ...\n",
       "5    #THIS IS NOT A DRILL. WE ARE ACTUALLY GOING TO...\n",
       "6                                                     \n",
       "7                                                     \n",
       "8                                                     \n",
       "9                                                     \n",
       "Name: body, dtype: object"
      ]
     },
     "execution_count": 198,
     "metadata": {},
     "output_type": "execute_result"
    }
   ],
   "source": [
    "posts_df.head(10)"
   ]
  },
  {
   "cell_type": "code",
   "execution_count": 199,
   "metadata": {},
   "outputs": [
    {
     "name": "stdout",
     "output_type": "stream",
     "text": [
      "['Now', 'that', 'we', 'have', 'proven', 'our', 'commitment', 'to', 'the', 'cause,', 'now', 'that', 'we', 'have', 'voiced', 'and', 'acted', 'on', 'our', 'patriotism,', 'now', 'that', 'against', 'all', 'odds', 'and', 'constant', 'criticism', 'with', 'the', 'world', 'against', 'us,', 'we', 'have', 'won,', 'and', 'we', 'call', 'for', 'this:', '#All', 'of', 'you', 'elitist', 'hollywood', 'celebrities', 'who', 'vowed', 'to', 'betray', 'your', 'country', 'and', 'leave,', 'to', 'abandon', 'and', 'shun', 'those', 'who', 'you', 'spent', 'your', 'careers', 'milking', 'for', 'your', 'posh', 'lifestyles,', 'we', 'ask,', 'nay,', 'demand', 'that', 'you', 'follow', 'through', 'on', 'your', 'claims', 'to', 'leave', 'the', 'country.', 'We', 'as', 'Americans', 'have', 'spoken,', 'and', 'you', 'brushed', 'us', 'and', 'our', 'movement', 'off,', 'as', 'if', 'you', 'were', 'somehow', 'above', 'us,', 'forgetting', 'that', 'it', 'was', 'us', 'who', 'made', 'you.', '**FUCK', 'YOU!**', 'You', 'think', 'you', 'are', 'too', 'good', 'for', 'us,', 'well,', \"we're\", 'too', 'good', 'for', 'you.', 'So', 'follow', 'through', 'on', 'your', 'vapid', 'and', 'empty', '\"threat\"', 'as', 'you', 'mistakenly', 'and', 'pridefully', 'consider', 'it', 'to', 'be,', 'and', '**GET.', 'THE.', 'FUCK.', 'OUT.**', 'Your', 'fame', 'and', 'celebrity', 'status', 'are', 'despicable,', 'or', 'shall', 'I', 'say,', 'deplorable.', 'You', 'are', 'not', 'better', 'than', 'us,', 'you', 'are', 'not', 'more', 'important', 'than', 'us,', 'you', 'would', 'be', 'nothing', 'without', 'us.', 'How', 'dare', 'you', 'pretend', 'that', 'you', 'are', 'above', 'us.', '_______', 'So', 'all', 'of', 'you', 'on', 'the', 'list', 'below,', 'we', 'demand', 'you', 'leave.', 'ASAP!!!', '*', 'Amy', '(unfunny)', 'schumer', '*', 'Lena', 'Dunham', '*', 'Barbra', 'Streisand', '*', 'Bryan', 'Cranston', '*', 'Miley', 'Cyrus', '*', 'Amy', 'Schumer', '*', 'Jon', 'Stewart', '*', 'Cher', '*', 'Chelsea', 'Handler', '*', 'Samuel', 'L.', 'Jackson', '*', 'Whoopi', 'Goldberg', '*', 'Neve', 'Campbell', '*', 'Keegan-Michael', 'Key', '*', 'George', 'Lopez', '*', 'Ne-Yo', '*', 'Rev.', 'Al', 'Sharpton', '*', 'Raven-Symoné', '#BUH-BYE.', '#Be', 'assured,', 'YOU', 'WILL', 'NOT', 'BE', 'MISSED.', 'Love,', 'The', 'Basket', 'of', 'Deplorables']\n"
     ]
    }
   ],
   "source": [
    "# experiment\n",
    "# need to toeknize, etc\n",
    "\n",
    "text = posts_df[4].split()\n",
    "\n",
    "print(text)"
   ]
  },
  {
   "cell_type": "markdown",
   "metadata": {},
   "source": [
    "the text needs to be cleaned. lots of stopwords, punctuation, & non-alpha characters. case needs to be lowered etc."
   ]
  },
  {
   "cell_type": "code",
   "execution_count": 210,
   "metadata": {},
   "outputs": [],
   "source": [
    "def clean_text(doc):\n",
    "    '''\n",
    "    tokenizes input text, converts to lowercase,\n",
    "    removes punctuation/non-alphabetic characters\n",
    "    and stopwords. returns clean document.\n",
    "    \n",
    "    '''\n",
    "    \n",
    "    # tokenize\n",
    "    \n",
    "    split_tokens = doc.split()\n",
    "    \n",
    "    # grab punctuation list\n",
    "    \n",
    "    punctuation = string.punctuation\n",
    "    \n",
    "    # set up regex \n",
    "    \n",
    "    punct_filter = re.compile('[%s]' % re.escape(punctuation))\n",
    "    \n",
    "    # filter out punctuation\n",
    "    \n",
    "    no_punct_tokens = [punct_filter.sub('', char) for char in split_tokens]\n",
    "    \n",
    "    # remove non-alphabetic tokens\n",
    "    \n",
    "    alpha_tokens = [t for t in no_punct_tokens if t.isalpha()]\n",
    "    \n",
    "    # lowercase\n",
    "    \n",
    "    lower_tokens = [t.lower() for t in alpha_tokens]\n",
    "    \n",
    "    # get stop words\n",
    "    \n",
    "    stop_words = set(stopwords.words('english'))\n",
    "    \n",
    "    # filter out stopwords\n",
    "    \n",
    "    go_tokens = [t for t in lower_tokens if not t in stop_words]\n",
    "    \n",
    "    # remove very short tokens\n",
    "    \n",
    "    clean_tokens = [word for word in go_tokens if len(word) > 1]\n",
    "    \n",
    "    return clean_tokens\n",
    "    "
   ]
  },
  {
   "cell_type": "code",
   "execution_count": 211,
   "metadata": {},
   "outputs": [
    {
     "data": {
      "text/plain": [
       "['proven',\n",
       " 'commitment',\n",
       " 'cause',\n",
       " 'voiced',\n",
       " 'acted',\n",
       " 'patriotism',\n",
       " 'odds',\n",
       " 'constant',\n",
       " 'criticism',\n",
       " 'world',\n",
       " 'us',\n",
       " 'call',\n",
       " 'elitist',\n",
       " 'hollywood',\n",
       " 'celebrities',\n",
       " 'vowed',\n",
       " 'betray',\n",
       " 'country',\n",
       " 'leave',\n",
       " 'abandon',\n",
       " 'shun',\n",
       " 'spent',\n",
       " 'careers',\n",
       " 'milking',\n",
       " 'posh',\n",
       " 'lifestyles',\n",
       " 'ask',\n",
       " 'nay',\n",
       " 'demand',\n",
       " 'follow',\n",
       " 'claims',\n",
       " 'leave',\n",
       " 'country',\n",
       " 'americans',\n",
       " 'spoken',\n",
       " 'brushed',\n",
       " 'us',\n",
       " 'movement',\n",
       " 'somehow',\n",
       " 'us',\n",
       " 'forgetting',\n",
       " 'us',\n",
       " 'made',\n",
       " 'fuck',\n",
       " 'think',\n",
       " 'good',\n",
       " 'us',\n",
       " 'well',\n",
       " 'good',\n",
       " 'follow',\n",
       " 'vapid',\n",
       " 'empty',\n",
       " 'threat',\n",
       " 'mistakenly',\n",
       " 'pridefully',\n",
       " 'consider',\n",
       " 'get',\n",
       " 'fuck',\n",
       " 'fame',\n",
       " 'celebrity',\n",
       " 'status',\n",
       " 'despicable',\n",
       " 'shall',\n",
       " 'say',\n",
       " 'deplorable',\n",
       " 'better',\n",
       " 'us',\n",
       " 'important',\n",
       " 'us',\n",
       " 'would',\n",
       " 'nothing',\n",
       " 'without',\n",
       " 'us',\n",
       " 'dare',\n",
       " 'pretend',\n",
       " 'us',\n",
       " 'list',\n",
       " 'demand',\n",
       " 'leave',\n",
       " 'asap',\n",
       " 'amy',\n",
       " 'unfunny',\n",
       " 'schumer',\n",
       " 'lena',\n",
       " 'dunham',\n",
       " 'barbra',\n",
       " 'streisand',\n",
       " 'bryan',\n",
       " 'cranston',\n",
       " 'miley',\n",
       " 'cyrus',\n",
       " 'amy',\n",
       " 'schumer',\n",
       " 'jon',\n",
       " 'stewart',\n",
       " 'cher',\n",
       " 'chelsea',\n",
       " 'handler',\n",
       " 'samuel',\n",
       " 'jackson',\n",
       " 'whoopi',\n",
       " 'goldberg',\n",
       " 'neve',\n",
       " 'campbell',\n",
       " 'keeganmichael',\n",
       " 'key',\n",
       " 'george',\n",
       " 'lopez',\n",
       " 'neyo',\n",
       " 'rev',\n",
       " 'al',\n",
       " 'sharpton',\n",
       " 'ravensymoné',\n",
       " 'buhbye',\n",
       " 'assured',\n",
       " 'missed',\n",
       " 'love',\n",
       " 'basket',\n",
       " 'deplorables']"
      ]
     },
     "execution_count": 211,
     "metadata": {},
     "output_type": "execute_result"
    }
   ],
   "source": [
    "# test\n",
    "\n",
    "raw_text = posts_df[4]\n",
    "\n",
    "clean_text(raw_text)"
   ]
  },
  {
   "cell_type": "code",
   "execution_count": 220,
   "metadata": {},
   "outputs": [],
   "source": [
    "def clean_all_texts(texts):\n",
    "    '''\n",
    "    iterate through a list of texts\n",
    "    apply clean_text() function to each\n",
    "    append each clean text to a list\n",
    "    return the list of cleaned texts\n",
    "    \n",
    "    '''\n",
    "    \n",
    "    cleaned_texts = []\n",
    "    \n",
    "    for text in texts:\n",
    "        \n",
    "        text = clean_text(text)\n",
    "        \n",
    "        # remove empty lists\n",
    "        \n",
    "        if text:\n",
    "        \n",
    "            cleaned_texts.append(text)\n",
    "        \n",
    "    return cleaned_texts"
   ]
  },
  {
   "cell_type": "code",
   "execution_count": 221,
   "metadata": {},
   "outputs": [],
   "source": [
    "clean_titles = clean_all_texts(titles)\n",
    "\n",
    "clean_posts = clean_all_texts(posts)"
   ]
  },
  {
   "cell_type": "code",
   "execution_count": 222,
   "metadata": {},
   "outputs": [
    {
     "name": "stdout",
     "output_type": "stream",
     "text": [
      "['celebrities', 'vowed', 'leave', 'usa', 'trump', 'wins', 'demand', 'follow']\n",
      "\n",
      "\n",
      "['proven', 'commitment', 'cause', 'voiced', 'acted', 'patriotism', 'odds', 'constant', 'criticism', 'world', 'us', 'call', 'elitist', 'hollywood', 'celebrities', 'vowed', 'betray', 'country', 'leave', 'abandon', 'shun', 'spent', 'careers', 'milking', 'posh', 'lifestyles', 'ask', 'nay', 'demand', 'follow', 'claims', 'leave', 'country', 'americans', 'spoken', 'brushed', 'us', 'movement', 'somehow', 'us', 'forgetting', 'us', 'made', 'fuck', 'think', 'good', 'us', 'well', 'good', 'follow', 'vapid', 'empty', 'threat', 'mistakenly', 'pridefully', 'consider', 'get', 'fuck', 'fame', 'celebrity', 'status', 'despicable', 'shall', 'say', 'deplorable', 'better', 'us', 'important', 'us', 'would', 'nothing', 'without', 'us', 'dare', 'pretend', 'us', 'list', 'demand', 'leave', 'asap', 'amy', 'unfunny', 'schumer', 'lena', 'dunham', 'barbra', 'streisand', 'bryan', 'cranston', 'miley', 'cyrus', 'amy', 'schumer', 'jon', 'stewart', 'cher', 'chelsea', 'handler', 'samuel', 'jackson', 'whoopi', 'goldberg', 'neve', 'campbell', 'keeganmichael', 'key', 'george', 'lopez', 'neyo', 'rev', 'al', 'sharpton', 'ravensymoné', 'buhbye', 'assured', 'missed', 'love', 'basket', 'deplorables']\n"
     ]
    }
   ],
   "source": [
    "# test\n",
    "\n",
    "print(clean_titles[4])\n",
    "\n",
    "print('\\n')\n",
    "\n",
    "print(clean_posts[2])"
   ]
  },
  {
   "cell_type": "code",
   "execution_count": 225,
   "metadata": {},
   "outputs": [],
   "source": [
    "# combine all sentences\n",
    "\n",
    "docs = clean_titles + clean_posts"
   ]
  },
  {
   "cell_type": "code",
   "execution_count": 226,
   "metadata": {},
   "outputs": [
    {
     "name": "stdout",
     "output_type": "stream",
     "text": [
      "['donald', 'trump', 'declared', 'winner'] \n",
      "\n",
      "['donald', 'trump', 'im', 'next', 'president', 'united', 'states'] \n",
      "\n",
      "['new', 'algorithm', 'designed', 'keep', 'president', 'trump', 'front', 'page', 'sadly', 'wont', 'happen'] \n",
      "\n",
      "['cnn', 'soon', 'searching', 'term', 'fake', 'news', 'congratulations', 'cnn', 'major', 'achievement'] \n",
      "\n",
      "['celebrities', 'vowed', 'leave', 'usa', 'trump', 'wins', 'demand', 'follow'] \n",
      "\n",
      "['imminent', 'victory', 'thread'] \n",
      "\n",
      "['hey', 'admins', 'found', 'picture', 'wifes', 'boyfriends', 'president'] \n",
      "\n",
      "['oh', 'yeah', 'nothing', 'fucky', 'going'] \n",
      "\n",
      "['cant', 'stump', 'president', 'trump'] \n",
      "\n",
      "['official', 'trump', 'become', 'first', 'us', 'president', 'support', 'gay', 'marriage', 'starting', 'inauguration', 'day', 'shame', 'reached', 'rall'] \n",
      "\n",
      "['fuck', 'reddit', 'admins', 'like', 'redit', 'try', 'much', 'like', 'cant', 'stop', 'portrait', 'getting', 'upvotes', 'deserves'] \n",
      "\n",
      "['reddit', 'cuck', 'admins', 'take', 'official', 'portrait', 'president', 'upvoted', 'post', 'reddits', 'history'] \n",
      "\n",
      "['press', 'pay', 'respect'] \n",
      "\n",
      "['youtube', 'removed', 'countless', 'copies', 'video', 'bunch', 'racists', 'beating', 'trump', 'voter', 'issued', 'strikes', 'accounts', 'uploaded', 'posting', 'every', 'day', 'racists', 'identified', 'punished'] \n",
      "\n",
      "['hey', 'rall'] \n",
      "\n",
      "['fired'] \n",
      "\n",
      "['little', 'something', 'reddit', 'admins', 'get', 'used', 'looking', 'around', 'next', 'years'] \n",
      "\n",
      "['official', 'portrait', 'president', 'upvotednot', 'post', 'reddits', 'history'] \n",
      "\n",
      "['trump'] \n",
      "\n",
      "['united', 'states', 'trump'] \n",
      "\n",
      "['hero', 'stopped', 'terrorist', 'attack', 'today', 'ohio', 'state'] \n",
      "\n",
      "['portrait', 'powerful', 'man', 'free', 'world'] \n",
      "\n",
      "['reddit', 'voting', 'algorithm', 'changed', 'picture', 'droniest', 'president', 'ever', 'highest', 'voted', 'shitpost', 'time'] \n",
      "\n",
      "['heard', 'reddit', 'admins', 'hate', 'photo', 'know', 'centipedes'] \n",
      "\n",
      "['top', 'god', 'emperor'] \n",
      "\n"
     ]
    }
   ],
   "source": [
    "counter = 0\n",
    "\n",
    "for i in docs:\n",
    "    \n",
    "    if counter < 25:\n",
    "        \n",
    "        print(i, '\\n')\n",
    "        \n",
    "        counter +=1"
   ]
  },
  {
   "cell_type": "code",
   "execution_count": 246,
   "metadata": {},
   "outputs": [
    {
     "name": "stdout",
     "output_type": "stream",
     "text": [
      "Counter({'trump': 342, 'us': 154, 'president': 123, 'clinton': 121, 'people': 118, 'reddit': 114, 'like': 102, 'would': 95, 'hillary': 90, 'one': 80, 'donald': 78, 'get': 77, 'post': 66, 'make': 66, 'media': 66, 'campaign': 65, 'going': 61, 'even': 61, 'new': 59, 'time': 59, 'foundation': 58, 'news': 57, 'dont': 57, 'email': 57, 'first': 56, 'hate': 56, 'rall': 54, 'see': 54, 'know': 52, 'support': 50, 'america': 49, 'cnn': 48, 'im': 47, 'admins': 47, 'dnc': 47, 'many': 46, 'right': 44, 'want': 43, 'election': 43, 'also': 43, 'never': 42, 'year': 41, 'crime': 40, 'left': 39, 'breaking': 39, 'made': 39, 'political': 39, 'well': 39, 'say': 38, 'every': 37, 'today': 37, 'top': 37, 'rthedonald': 37, 'back': 37, 'americans': 37, 'go': 37, 'years': 36, 'edit': 36, 'think': 36, 'state': 35, 'country': 35, 'still': 34, 'need': 34, 'vote': 34, 'wikileaks': 34, 'last': 34, 'lets': 33, 'said': 33, 'black': 33, 'nbsp': 33, 'fake': 32, 'show': 32, 'could': 32, 'got': 32, 'keep': 31, 'man': 31, 'fbi': 31, 'emails': 31, 'white': 31, 'american': 31, 'seth': 31, 'page': 30, 'much': 30, 'community': 30, 'way': 30, 'obama': 30, 'work': 30, 'may': 30, 'bill': 30, 'promise': 30, 'found': 29, 'day': 29, 'let': 29, 'rich': 29, 'money': 29, 'information': 29, 'front': 28, 'getting': 28, 'attack': 28, 'energy': 28, 'things': 28, 'someone': 28, 'fund': 28, 'cant': 27, 'thedonald': 27, 'great': 27, 'love': 27, 'called': 27, 'good': 27, 'illegal': 27, 'fuck': 26, 'help': 26, 'jobs': 26, 'list': 26, 'another': 26, 'women': 25, 'since': 25, 'story': 25, 'something': 24, 'days': 24, 'real': 24, 'far': 24, 'podesta': 24, 'questions': 24, 'team': 24, 'states': 23, 'video': 23, 'ever': 23, 'says': 23, 'youre': 23, 'trumps': 23, 'maga': 23, 'put': 23, 'russia': 23, 'link': 23, 'posts': 22, 'comments': 22, 'calling': 22, 'give': 22, 'wants': 22, 'went': 22, 'twitter': 22, 'lot': 22, 'teneo': 22, 'picture': 21, 'official': 21, 'stop': 21, 'terrorist': 21, 'world': 21, 'told': 21, 'uspez': 21, 'without': 21, 'based': 21, 'come': 21, 'thing': 21, 'part': 21, 'months': 21, 'didnt': 21, 'shame': 20, 'name': 20, 'believe': 20, 'case': 20, 'instead': 20, 'gets': 20, 'violence': 20, 'speech': 20, 'win': 20, 'fucking': 20, 'employees': 20, 'office': 20, 'million': 20, 'really': 20, 'family': 20, 'try': 19, 'take': 19, 'doesnt': 19, 'ban': 19, 'google': 19, 'look': 19, 'end': 19, 'sub': 19, 'needs': 19, 'police': 19, 'thank': 19, 'full': 19, 'entire': 19, 'please': 19, 'john': 19, 'emailid': 19, 'next': 18, 'voted': 18, 'anything': 18, 'fact': 18, 'old': 18, 'must': 18, 'point': 18, 'two': 18, 'house': 18, 'call': 18, 'order': 18, 'foreign': 18, 'initiative': 18, 'united': 17, 'used': 17, 'allow': 17, 'supporters': 17, 'muslim': 17, 'woman': 17, 'ones': 17, 'clintons': 17, 'tell': 17, 'fox': 17, 'understand': 17, 'saying': 17, 'government': 17, 'candidate': 17, 'cgi': 17, 'isnt': 16, 'votes': 16, 'message': 16, 'image': 16, 'find': 16, 'guys': 16, 'immigration': 16, 'including': 16, 'hard': 16, 'staff': 16, 'lost': 16, 'doj': 16, 'plan': 16, 'rules': 16, 'private': 16, 'death': 16, 'winning': 16, 'dead': 16, 'asked': 16, 'though': 16, 'leave': 15, 'nothing': 15, 'history': 15, 'press': 15, 'little': 15, 'free': 15, 'might': 15, 'investigation': 15, 'watch': 15, 'users': 15, 'wrong': 15, 'trying': 15, 'berkeley': 15, 'send': 15, 'sure': 15, 'censorship': 15, 'promised': 15, 'finally': 15, 'despite': 15, 'company': 15, 'night': 15, 'coming': 15, 'racist': 15, 'system': 15, 'subreddit': 15, 'update': 15, 'global': 15, 'department': 15, 'seen': 15, 'cf': 15, 'school': 15, 'outside': 15, 'business': 15, 'wont': 14, 'thread': 14, 'hey': 14, 'reached': 14, 'spez': 14, 'started': 14, 'ceo': 14, 'democrats': 14, 'anyone': 14, 'single': 14, 'shit': 14, 'obamas': 14, 'feel': 14, 'court': 14, 'different': 14, 'funds': 14, 'gave': 14, 'subreddits': 14, 'etc': 14, 'mods': 14, 'makes': 14, 'rally': 14, 'statement': 14, 'injured': 14, 'truth': 14, 'group': 14, 'clear': 14, 'national': 14, 'currently': 14, 'role': 14, 'posted': 14, 'centipedes': 13, 'sanders': 13, 'rest': 13, 'asking': 13, 'happened': 13, 'march': 13, 'use': 13, 'war': 13, 'high': 13, 'policies': 13, 'james': 13, 'federal': 13, 'matter': 13, 'face': 13, 'force': 13, 'times': 13, 'read': 13, 'secret': 13, 'big': 13, 'tried': 13, 'church': 13, 'control': 13, 'presidential': 13, 'ask': 13, 'yet': 13, 'actually': 13, 'father': 13, 'worked': 13, 'actions': 13, 'policy': 13, 'cities': 13, 'board': 13, 'ge': 13, 'island': 13, 'kadzik': 13, 'monica': 13, 'portrait': 12, 'around': 12, 'downvote': 12, 'censoring': 12, 'confirmed': 12, 'signed': 12, 'issue': 12, 'officially': 12, 'change': 12, 'already': 12, 'means': 12, 'elected': 12, 'ago': 12, 'hours': 12, 'pedes': 12, 'liberals': 12, 'important': 12, 'taking': 12, 'live': 12, 'law': 12, 'huge': 12, 'done': 12, 'everyone': 12, 'democrat': 12, 'theyre': 12, 'shows': 12, 'maybe': 12, 'countries': 12, 'wanted': 12, 'idea': 12, 'remember': 12, 'funding': 12, 'given': 12, 'executive': 12, 'best': 12, 'thanks': 12, 'paid': 12, 'special': 12, 'pretty': 12, 'major': 11, 'reddits': 11, 'pay': 11, 'voter': 11, 'using': 11, 'safe': 11, 'everything': 11, 'died': 11, 'wouldnt': 11, 'beat': 11, 'meme': 11, 'student': 11, 'within': 11, 'website': 11, 'deal': 11, 'tweet': 11, 'following': 11, 'young': 11, 'facebook': 11, 'agree': 11, 'claims': 11, 'general': 11, 'child': 11, 'looks': 11, 'talking': 11, 'investigating': 11, 'hillarys': 11, 'sign': 11, 'caught': 11, 'making': 11, 'msm': 11, 'memo': 11, 'proof': 11, 'taken': 11, 'place': 11, 'less': 11, 'bullshit': 11, 'issues': 11, 'long': 11, 'act': 11, 'isis': 11, 'slush': 11, 'thats': 11, 'deleted': 11, 'later': 11, 'mean': 11, 'job': 11, 'ive': 11, 'working': 11, 'id': 11, 'soros': 11, 'better': 11, 'members': 11, 'decided': 11, 'friends': 11, 'former': 11, 'interest': 11, 'subject': 11, 'projects': 11, 'huma': 11, 'peter': 11, 'oh': 10, 'voting': 10, 'god': 10, 'emperor': 10, 'womens': 10, 'human': 10, 'bernie': 10, 'share': 10, 'simply': 10, 'direct': 10, 'shooting': 10, 'reminder': 10, 'narrative': 10, 'liberal': 10, 'russian': 10, 'kids': 10, 'blue': 10, 'rather': 10, 'amy': 10, 'islamic': 10, 'presidentelect': 10, 'administration': 10, 'received': 10, 'together': 10, 'debate': 10, 'happening': 10, 'congress': 10, 'banned': 10, 'project': 10, 'member': 10, 'life': 10, 'towards': 10, 'running': 10, 'attention': 10, 'party': 10, 'evidence': 10, 'set': 10, 'establishment': 10, 'response': 10, 'folks': 10, 'collusion': 10, 'watching': 10, 'ill': 10, 'security': 10, 'bad': 10, 'haiti': 10, 'august': 10, 'interests': 10, 'stand': 10, 'secretary': 10, 'else': 10, 'chain': 10, 'works': 10, 'almost': 10, 'seems': 10, 'algorithm': 9, 'wins': 9, 'become': 9, 'inauguration': 9, 'upvoted': 9, 'looking': 9, 'tpp': 9, 'suicide': 9, 'presidency': 9, 'rnews': 9, 'orlando': 9, 'saw': 9, 'result': 9, 'cucks': 9, 'billion': 9, 'create': 9, 'person': 9, 'calls': 9, 'supporter': 9, 'actual': 9, 'politics': 9, 'internet': 9, 'antifa': 9, 'terrorism': 9, 'girl': 9, 'milo': 9, 'report': 9, 'cover': 9, 'directly': 9, 'future': 9, 'subscribers': 9, 'coverage': 9, 'wall': 9, 'faith': 9, 'heres': 9, 'hollywood': 9, 'tonight': 9, 'flag': 9, 'americas': 9, 'quote': 9, 'saudi': 9, 'sent': 9, 'legal': 9, 'goes': 9, 'gun': 9, 'knew': 9, 'event': 9, 'article': 9, 'regarding': 9, 'chelsea': 9, 'points': 9, 'immigrants': 9, 'clearly': 9, 'reporter': 9, 'korean': 9, 'rape': 9, 'attacked': 9, 'tax': 9, 'according': 9, 'sanctuary': 9, 'words': 9, 'continue': 9, 'power': 9, 'governments': 9, 'cesc': 9, 'band': 9, 'ira': 9, 'cheryl': 9, 'solar': 9, 'hrc': 9, 'soon': 8, 'term': 8, 'victory': 8, 'gay': 8, 'upvotes': 8, 'removed': 8, 'racists': 8, 'posting': 8, 'upvote': 8, 'everybody': 8, 'reach': 8, 'admits': 8, 'crisis': 8, 'violent': 8, 'protest': 8, 'question': 8, 'came': 8, 'race': 8, 'welcome': 8, 'away': 8, 'btfo': 8, 'schumer': 8, 'college': 8, 'mfw': 8, 'multiple': 8, 'reported': 8, 'realdonaldtrump': 8, 'supreme': 8, 'politicians': 8, 'search': 8, 'fellow': 8, 'wake': 8, 'leftist': 8, 'dear': 8, 'veritas': 8, 'muslims': 8, 'care': 8, 'republican': 8, 'donations': 8, 'promises': 8, 'killing': 8, 'female': 8, 'facts': 8, 'terrorists': 8, 'assange': 8, 'hand': 8, 'brave': 8, 'second': 8, 'apparently': 8, 'total': 8, 'director': 8, 'justice': 8, 'allowed': 8, 'released': 8, 'start': 8, 'level': 8, 'across': 8, 'mentioned': 8, 'rights': 8, 'public': 8, 'arrested': 8, 'corrupt': 8, 'guy': 8, 'recent': 8, 'site': 8, 'helped': 8, 'immediately': 8, 'always': 8, 'knows': 8, 'justin': 8, 'current': 8, 'nobody': 8, 'risk': 8, 'able': 8, 'personal': 8, 'involved': 8, 'letter': 8, 'hope': 8, 'others': 8, 'culture': 8, 'past': 8, 'personally': 8, 'likely': 8, 'certain': 8, 'park': 8, 'conflicts': 8, 'wyden': 8, 'demand': 7, 'follow': 7, 'heard': 7, 'stickies': 7, 'longer': 7, 'mr': 7, 'lie': 7, 'enough': 7, 'local': 7, 'side': 7, 'week': 7, 'thousands': 7, 'editing': 7, 'forget': 7, 'joe': 7, 'couldnt': 7, 'racism': 7, 'electoral': 7, 'officials': 7, 'previous': 7, 'university': 7, 'confirms': 7, 'literally': 7, 'theres': 7, 'killed': 7, 'mass': 7, 'ctr': 7, 'potential': 7, 'speak': 7, 'pedophile': 7, 'fabricated': 7, 'revealed': 7, 'head': 7, 'note': 7, 'wish': 7, 'swedish': 7, 'losing': 7, 'creamer': 7, 'lied': 7, 'word': 7, 'shut': 7, 'tired': 7, 'kept': 7, 'realize': 7, 'senate': 7, 'corruption': 7, 'happy': 7, 'air': 7, 'voters': 7, 'swamp': 7, 'gold': 7, 'sessions': 7, 'worse': 7, 'five': 7, 'reason': 7, 'protests': 7, 'agreed': 7, 'education': 7, 'sense': 7, 'pepe': 7, 'weve': 7, 'telling': 7, 'messages': 7, 'takes': 7, 'concerned': 7, 'spirit': 7, 'exposure': 7, 'crooked': 7, 'wearing': 7, 'popular': 7, 'son': 7, 'threatening': 7, 'thought': 7, 'kind': 7, 'washington': 7, 'needed': 7, 'chief': 7, 'city': 7, 'date': 7, 'met': 7, 'meeting': 7, 'trade': 7, 'daily': 7, 'jon': 7, 'created': 7, 'push': 7, 'regulations': 7, 'views': 7, 'write': 7, 'written': 7, 'possible': 7, 'data': 7, 'reform': 7, 'companies': 7, 'common': 7, 'completely': 7, 'july': 7, 'serious': 7, 'international': 7, 'mills': 7, 'firm': 7, 'writing': 7, 'account': 7, 'debt': 7, 'designed': 6, 'happen': 6, 'cuck': 6, 'youtube': 6, 'accounts': 6, 'stopped': 6, 'ohio': 6, 'powerful': 6, 'photo': 6, 'due': 6, 'shes': 6, 'hijab': 6, 'january': 6, 'havent': 6, 'youve': 6, 'tomorrow': 6, 'number': 6, 'true': 6, 'upset': 6, 'censor': 6, 'quick': 6, 'memes': 6, 'claimed': 6, 'exposed': 6, 'cannot': 6, 'truly': 6, 'room': 6, 'hell': 6, 'uc': 6, 'treated': 6, 'censored': 6, 'platform': 6, 'plans': 6, 'bring': 6, 'apply': 6, 'donors': 6, 'paul': 6, 'leader': 6, 'sweden': 6, 'opinion': 6, 'shills': 6, 'double': 6, 'le': 6, 'pen': 6, 'citizens': 6, 'travel': 6, 'chicago': 6, 'cnns': 6, 'reveal': 6, 'colbert': 6, 'raise': 6, 'interviewed': 6, 'salary': 6, 'joy': 6, 'publicly': 6, 'victim': 6, 'reports': 6, 'sources': 6, 'building': 6, 'morning': 6, 'fight': 6, 'consider': 6, 'pressure': 6, 'run': 6, 'red': 6, 'ring': 6, 'blood': 6, 'recount': 6, 'check': 6, 'acting': 6, 'hit': 6, 'friend': 6, 'veterans': 6, 'giving': 6, 'interview': 6, 'movement': 6, 'gone': 6, 'staffer': 6, 'centipede': 6, 'network': 6, 'tucker': 6, 'onto': 6, 'either': 6, 'military': 6, 'cia': 6, 'billions': 6, 'dollars': 6, 'putin': 6, 'reality': 6, 'save': 6, 'sexist': 6, 'judge': 6, 'resist': 6, 'attacks': 6, 'count': 6, 'career': 6, 'immigrant': 6, 'decades': 6, 'men': 6, 'leak': 6, 'independent': 6, 'join': 6, 'simple': 6, 'suspended': 6, 'london': 6, 'downvoting': 6, 'harassment': 6, 'signs': 6, 'threats': 6, 'pence': 6, 'religion': 6, 'release': 6, 'absolutely': 6, 'george': 6, 'threat': 6, 'wasnt': 6, 'organization': 6, 'spread': 6, 'riots': 6, 'events': 6, 'six': 6, 'millions': 6, 'nafta': 6, 'close': 6, 'mention': 6, 'dc': 6, 'murder': 6, 'hes': 6, 'koreans': 6, 'intelligence': 6, 'finance': 6, 'central': 6, 'prison': 6, 'believes': 6, 'brad': 6, 'wrote': 6, 'home': 6, 'bots': 6, 'employee': 6, 'address': 6, 'blame': 6, 'mind': 6, 'drive': 6, 'un': 6, 'corporate': 6, 'careers': 6, 'okay': 6, 'broken': 6, 'car': 6, 'stuff': 6, 'quite': 6, 'whose': 6, 'healthcare': 6, 'previously': 6, 'several': 6, 'redditors': 6, 'whole': 6, 'various': 6, 'content': 6, 'transactions': 6, 'development': 6, 'cci': 6, 'chai': 6, 'fundraiser': 6, 'renewable': 6, 'specific': 6, 'korea': 6, 'english': 6, 'slack': 6, 'winner': 5, 'usa': 5, 'beating': 5, 'changed': 5, 'rising': 5, 'chess': 5, 'wear': 5, 'outright': 5, 'space': 5, 'kek': 5, 'mike': 5, 'supposed': 5, 'passes': 5, 'hide': 5, 'protrump': 5, 'wow': 5, 'barron': 5, 'nbc': 5, 'identity': 5, 'sad': 5, 'neutrality': 5, 'freedom': 5, 'favorite': 5, 'florida': 5, 'exposing': 5, 'comment': 5, 'move': 5, 'nightclub': 5, 'joseph': 5, 'freaking': 5, 'source': 5, 'zero': 5, 'sitting': 5, 'syrian': 5, 'boy': 5, 'parents': 5, 'gender': 5, 'tells': 5, 'chat': 5, 'michigan': 5, 'small': 5, 'groups': 5, 'hear': 5, 'lying': 5, 'disgusting': 5, 'hates': 5, 'nearly': 5, 'birth': 5, 'document': 5, 'yuge': 5, 'explain': 5, 'hands': 5, 'rigging': 5, 'involvement': 5, 'yesterday': 5, 'rredacted': 5, 'doubt': 5, 'turn': 5, 'readers': 5, 'streets': 5, 'accept': 5, 'lock': 5, 'scott': 5, 'reading': 5, 'robert': 5, 'victims': 5, 'cut': 5, 'crackdown': 5, 'break': 5, 'ordered': 5, 'okeefe': 5, 'showed': 5, 'showing': 5, 'voice': 5, 'destroy': 5, 'refused': 5, 'seat': 5, 'potus': 5, 'represent': 5, 'patriot': 5, 'sick': 5, 'agenda': 5, 'wife': 5, 'france': 5, 'arabia': 5, 'remove': 5, 'drain': 5, 'carlson': 5, 'sharia': 5, 'problem': 5, 'dropped': 5, 'became': 5, 'worst': 5, 'title': 5, 'stein': 5, 'burning': 5, 'funny': 5, 'homophobic': 5, 'wonder': 5, 'religious': 5, 'supporting': 5, 'aware': 5, 'committee': 5, 'orders': 5, 'fire': 5, 'aid': 5, 'citizenship': 5, 'dedicated': 5, 'lobbying': 5, 'xenophobic': 5, 'seeing': 5, 'user': 5, 'joke': 5, 'border': 5, 'stay': 5, 'mayor': 5, 'linked': 5, 'reporting': 5, 'consultant': 5, 'living': 5, 'comes': 5, 'republicans': 5, 'richs': 5, 'antitrump': 5, 'democracy': 5, 'san': 5, 'peace': 5, 'leading': 5, 'light': 5, 'leaked': 5, 'documents': 5, 'syria': 5, 'lives': 5, 'forward': 5, 'landslide': 5, 'inside': 5, 'hiring': 5, 'details': 5, 'info': 5, 'appointed': 5, 'access': 5, 'recently': 5, 'whether': 5, 'amount': 5, 'record': 5, 'budget': 5, 'named': 5, 'fall': 5, 'propaganda': 5, 'statements': 5, 'fucked': 5, 'fun': 5, 'treatment': 5, 'stage': 5, 'hoaxes': 5, 'articles': 5, 'probably': 5, 'attorney': 5, 'arent': 5, 'hannity': 5, 'talk': 5, 'keeping': 5, 'throughout': 5, 'links': 5, 'husband': 5, 'took': 5, 'aliens': 5, 'images': 5, 'biased': 5, 'average': 5, 'speaking': 5, 'cultural': 5, 'heads': 5, 'strong': 5, 'focus': 5, 'trafficking': 5, 'hypocrisy': 5, 'discuss': 5, 'among': 5, 'couple': 5, 'bryan': 5, 'key': 5, 'smart': 5, 'june': 5, 'ignorant': 5, 'choose': 5, 'form': 5, 'incredibly': 5, 'month': 5, 'obamaera': 5, 'significant': 5, 'donated': 5, 'va': 5, 'examples': 5, 'selling': 5, 'pr': 5, 'period': 5, 'podestas': 5, 'entirely': 5, 'endowment': 5, 'profit': 5, 'south': 5, 'bank': 5, 'attachment': 5, 'doug': 5, 'walker': 5, 'wjc': 5, 'discussing': 5, 'example': 5, 'maura': 5, 'writes': 5, 'dws': 5, 'declared': 4, 'sadly': 4, 'starting': 4, 'bunch': 4, 'fired': 4, 'highest': 4, 'shitpost': 4, 'nazi': 4, 'champion': 4, 'iran': 4, 'fear': 4, 'informed': 4, 'appear': 4, 'hacked': 4, 'threatened': 4, 'fantasies': 4, 'beautiful': 4, 'moderators': 4, 'pushing': 4, 'environment': 4, 'paying': 4, 'moment': 4, 'except': 4, 'boom': 4, 'announces': 4, 'shooter': 4, 'beaten': 4, 'equally': 4, 'amazing': 4, 'officers': 4, 'refugee': 4, 'stance': 4, 'lies': 4, 'stands': 4, 'googled': 4, 'fix': 4, 'la': 4, 'radical': 4, 'usually': 4, 'hire': 4, 'disagree': 4, 'somehow': 4, 'watson': 4, 'sink': 4, 'becomes': 4, 'lose': 4, 'tweeted': 4, 'announcement': 4, 'hi': 4, 'harassed': 4, 'charges': 4, 'standing': 4, 'prevent': 4, 'numbers': 4, 'sorry': 4, 'stickied': 4, 'tolerant': 4, 'ben': 4, 'pass': 4, 'ridiculous': 4, 'anymore': 4, 'refugees': 4, 'elon': 4, 'supported': 4, 'view': 4, 'children': 4, 'abuse': 4, 'leftwing': 4, 'holy': 4, 'tv': 4, 'stupid': 4, 'illegally': 4, 'treat': 4, 'scared': 4, 'bloody': 4, 'ideas': 4, 'gowdy': 4, 'exploitation': 4, 'forced': 4, 'updated': 4, 'edited': 4, 'feminists': 4, 'lady': 4, 'hearing': 4, 'three': 4, 'undercover': 4, 'raped': 4, 'covered': 4, 'eric': 4, 'chance': 4, 'least': 4, 'presidents': 4, 'mexico': 4, 'missed': 4, 'stewart': 4, 'rust': 4, 'belt': 4, 'donating': 4, 'tweets': 4, 'mark': 4, 'proves': 4, 'stole': 4, 'kkk': 4, 'kill': 4, 'irony': 4, 'protesting': 4, 'program': 4, 'blow': 4, 'surely': 4, 'banning': 4, 'carried': 4, 'saved': 4, 'magic': 4, 'expenses': 4, 'committed': 4, 'wealth': 4, 'ignore': 4, 'die': 4, 'leaks': 4, 'camera': 4, 'lena': 4, 'dunham': 4, 'leaving': 4, 'silent': 4, 'cruz': 4, 'murdered': 4, 'assassination': 4, 'sjws': 4, 'openly': 4, 'burned': 4, 'cuts': 4, 'negative': 4, 'copy': 4, 'mccain': 4, 'limits': 4, 'noticed': 4, 'responsibility': 4, 'chosen': 4, 'buying': 4, 'planning': 4, 'whos': 4, 'accepting': 4, 'conference': 4, 'exactly': 4, 'minutes': 4, 'carrier': 4, 'feminist': 4, 'mocking': 4, 'extreme': 4, 'islam': 4, 'nominated': 4, 'effort': 4, 'achieve': 4, 'sex': 4, 'finds': 4, 'terror': 4, 'prior': 4, 'begins': 4, 'ruin': 4, 'toward': 4, 'arrest': 4, 'behind': 4, 'large': 4, 'amendment': 4, 'correct': 4, 'reporters': 4, 'giant': 4, 'probe': 4, 'responds': 4, 'resources': 4, 'divide': 4, 'daughter': 4, 'protect': 4, 'hello': 4, 'russians': 4, 'conversation': 4, 'partnership': 4, 'ends': 4, 'ties': 4, 'drill': 4, 'longtime': 4, 'corporations': 4, 'extremely': 4, 'tfw': 4, 'cooking': 4, 'nonsense': 4, 'classified': 4, 'gop': 4, 'adding': 4, 'failing': 4, 'leaders': 4, 'democratic': 4, 'strongly': 4, 'parts': 4, 'enemy': 4, 'garrison': 4, 'kidding': 4, 'learn': 4, 'ground': 4, 'established': 4, 'pede': 4, 'romney': 4, 'david': 4, 'correctness': 4, 'willing': 4, 'credit': 4, 'terrible': 4, 'odds': 4, 'yes': 4, 'seriously': 4, 'crimes': 4, 'globalists': 4, 'stated': 4, 'fantasy': 4, 'nation': 4, 'melania': 4, 'schools': 4, 'investigate': 4, 'laws': 4, 'senators': 4, 'nuclear': 4, 'india': 4, 'service': 4, 'contribution': 4, 'african': 4, 'hits': 4, 'china': 4, 'known': 4, 'wolf': 4, 'blitzer': 4, 'creating': 4, 'assistant': 4, 'age': 4, 'robbery': 4, 'promoting': 4, 'rhetoric': 4, 'constantly': 4, 'communities': 4, 'rigged': 4, 'putting': 4, 'discovered': 4, 'fit': 4, 'pm': 4, 'letting': 4, 'stream': 4, 'sr': 4, 'goal': 4, 'voiced': 4, 'empty': 4, 'streisand': 4, 'especially': 4, 'powermods': 4, 'thoughts': 4, 'jennifer': 4, 'drop': 4, 'expect': 4, 'resistance': 4, 'pc': 4, 'course': 4, 'mirror': 4, 'book': 4, 'yelling': 4, 'causing': 4, 'possibly': 4, 'text': 4, 'base': 4, 'easy': 4, 'polls': 4, 'polling': 4, 'majority': 4, 'arms': 4, 'health': 4, 'wade': 4, 'equal': 4, 'began': 4, 'added': 4, 'rejected': 4, 'line': 4, 'trail': 4, 'blog': 4, 'enacted': 4, 'implemented': 4, 'repeal': 4, 'helping': 4, 'nato': 4, 'allowing': 4, 'easier': 4, 'lower': 4, 'taxes': 4, 'abortions': 4, 'interested': 4, 'organizations': 4, 'burn': 4, 'outlets': 4, 'position': 4, 'april': 4, 'rod': 4, 'mainstream': 4, 'via': 4, 'request': 4, 'planned': 4, 'subs': 4, 'affect': 4, 'domreddit': 4, 'harass': 4, 'charity': 4, 'concerns': 4, 'nations': 4, 'ilya': 4, 'restructuring': 4, 'africa': 4, 'excerpt': 4, 'ensure': 4, 'hr': 4, 'mf': 4, 'shared': 4, 'add': 4, 'internally': 4, 'vulnerable': 4, 'bottom': 4, 'anywhere': 4, 'sharing': 4, 'peninsula': 4, 'maximum': 4, 'include': 4, 'notes': 4, 'track': 4, 'tpa': 4, 'mentions': 4, 'cashion': 4, 'isab': 4, 'kasich': 4, 'fb': 4, 'bella': 4, 'congratulations': 3, 'deserves': 3, 'copies': 3, 'issued': 3, 'strikes': 3, 'triggers': 3, 'organically': 3, 'biggest': 3, 'mans': 3, 'praises': 3, 'greatest': 3, 'fathers': 3, 'everywhere': 3, 'prove': 3, 'van': 3, 'hotel': 3, 'homeless': 3, 'offering': 3, 'sudden': 3, 'suspicious': 3, 'computer': 3, 'expert': 3, 'papers': 3, 'agreement': 3, 'half': 3, 'writer': 3, 'equalrightsonreddit': 3, 'low': 3, 'osu': 3, 'campus': 3, 'somali': 3, 'committing': 3, 'gift': 3, 'canada': 3, 'play': 3, 'thinks': 3, 'spoke': 3, 'ceiling': 3, 'twice': 3, 'hack': 3, 'plenty': 3, 'investigations': 3, 'class': 3, 'honor': 3, 'cucked': 3, 'action': 3, 'archived': 3, 'japan': 3, 'protesters': 3, 'proud': 3, 'custody': 3, 'sound': 3, 'sec': 3, 'edits': 3, 'mad': 3, 'defense': 3, 'trouble': 3, 'innocent': 3, 'decision': 3, 'body': 3, 'womans': 3, 'fair': 3, 'proven': 3, 'cowards': 3, 'enforcement': 3, 'wisconsin': 3, 'destroyed': 3, 'yiannopoulos': 3, 'trey': 3, 'warns': 3, 'filtered': 3, 'weeks': 3, 'elections': 3, 'beliefs': 3, 'primary': 3, 'fascism': 3, 'mother': 3, 'activity': 3, 'british': 3, 'england': 3, 'browsing': 3, 'north': 3, 'unnecessary': 3, 'server': 3, 'legally': 3, 'trending': 3, 'est': 3, 'guess': 3, 'trudeau': 3, 'tape': 3, 'stephen': 3, 'jail': 3, 'offer': 3, 'deplorable': 3, 'conservative': 3, 'kellyanne': 3, 'conway': 3, 'circumstances': 3, 'results': 3, 'pol': 3, 'sees': 3, 'whats': 3, 'opinions': 3, 'hasnt': 3, 'southern': 3, 'soft': 3, 'protester': 3, 'fraud': 3, 'success': 3, 'unemployment': 3, 'york': 3, 'hacking': 3, 'frame': 3, 'spy': 3, 'sprayed': 3, 'friendly': 3, 'aged': 3, 'hat': 3, 'cast': 3, 'pretend': 3, 'active': 3, 'deals': 3, 'interviews': 3, 'laugh': 3, 'bullying': 3, 'costs': 3, 'defeated': 3, 'destroying': 3, 'marine': 3, 'mostly': 3, 'petition': 3, 'texas': 3, 'impose': 3, 'knee': 3, 'claim': 3, 'invite': 3, 'linda': 3, 'sarsour': 3, 'entity': 3, 'nominee': 3, 'largest': 3, 'piece': 3, 'honored': 3, 'capitol': 3, 'chamber': 3, 'triggered': 3, 'morgan': 3, 'mens': 3, 'timeline': 3, 'poll': 3, 'continues': 3, 'attempt': 3, 'madman': 3, 'round': 3, 'mocked': 3, 'uk': 3, 'islamophobic': 3, 'bigot': 3, 'obstruct': 3, 'downvotes': 3, 'surprise': 3, 'shocked': 3, 'stories': 3, 'attacking': 3, 'ted': 3, 'infowars': 3, 'investigator': 3, 'contacted': 3, 'train': 3, 'softbank': 3, 'businesses': 3, 'adams': 3, 'meryl': 3, 'streep': 3, 'advanced': 3, 'politically': 3, 'ghana': 3, 'feels': 3, 'peaceful': 3, 'four': 3, 'anon': 3, 'tony': 3, 'angry': 3, 'viral': 3, 'army': 3, 'placed': 3, 'passed': 3, 'kid': 3, 'magathread': 3, 'raising': 3, 'wasserman': 3, 'exit': 3, 'condemn': 3, 'dinner': 3, 'phony': 3, 'minister': 3, 'recordings': 3, 'transpacific': 3, 'theyll': 3, 'speaker': 3, 'owned': 3, 'parties': 3, 'barack': 3, 'screams': 3, 'california': 3, 'presented': 3, 'hold': 3, 'turns': 3, 'sjw': 3, 'situation': 3, 'boston': 3, 'td': 3, 'drone': 3, 'paper': 3, 'opened': 3, 'social': 3, 'workers': 3, 'redditor': 3, 'dutch': 3, 'qatar': 3, 'however': 3, 'film': 3, 'honestly': 3, 'alert': 3, 'code': 3, 'late': 3, 'elizabeth': 3, 'assault': 3, 'negotiated': 3, 'disabled': 3, 'counterculture': 3, 'ad': 3, 'monday': 3, 'domestic': 3, 'girls': 3, 'shot': 3, 'grateful': 3, 'market': 3, 'renegotiate': 3, 'christmas': 3, 'tolerance': 3, 'teen': 3, 'engaging': 3, 'missing': 3, 'busted': 3, 'illegals': 3, 'kanye': 3, 'capital': 3, 'ahead': 3, 'brigading': 3, 'sarah': 3, 'deplorables': 3, 'changes': 3, 'net': 3, 'shariablue': 3, 'downvoted': 3, 'hq': 3, 'coworkers': 3, 'nobel': 3, 'prize': 3, 'stabbed': 3, 'third': 3, 'approve': 3, 'alex': 3, 'keeps': 3, 'saving': 3, 'targeted': 3, 'sending': 3, 'crowd': 3, 'mock': 3, 'approval': 3, 'heroes': 3, 'considering': 3, 'approved': 3, 'discussion': 3, 'protestor': 3, 'andor': 3, 'apologize': 3, 'early': 3, 'pull': 3, 'stupidity': 3, 'model': 3, 'imagine': 3, 'opening': 3, 'deserve': 3, 'countrys': 3, 'income': 3, 'extra': 3, 'wanting': 3, 'wait': 3, 'invites': 3, 'perform': 3, 'colorado': 3, 'rep': 3, 'daughters': 3, 'straight': 3, 'latino': 3, 'answer': 3, 'opponents': 3, 'lobbyists': 3, 'govt': 3, 'forgot': 3, 'cases': 3, 'matt': 3, 'enforce': 3, 'open': 3, 'setting': 3, 'hatred': 3, 'floor': 3, 'hearts': 3, 'believed': 3, 'answering': 3, 'spent': 3, 'status': 3, 'self': 3, 'fine': 3, 'inc': 3, 'donate': 3, 'database': 3, 'appears': 3, 'continually': 3, 'screenshots': 3, 'william': 3, 'occurred': 3, 'affected': 3, 'willingness': 3, 'sticky': 3, 'theory': 3, 'reasons': 3, 'effect': 3, 'kick': 3, 'programming': 3, 'threaten': 3, 'respond': 3, 'names': 3, 'listed': 3, 'praise': 3, 'quit': 3, 'sit': 3, 'ready': 3, 'busy': 3, 'sexism': 3, 'anyway': 3, 'favor': 3, 'caused': 3, 'alongside': 3, 'hundreds': 3, 'split': 3, 'abortion': 3, 'stood': 3, 'roe': 3, 'born': 3, 'popped': 3, 'families': 3, 'mistake': 3, 'barely': 3, 'gotten': 3, 'likeminded': 3, 'citizen': 3, 'benefit': 3, 'upon': 3, 'obamacare': 3, 'dow': 3, 'unfortunately': 3, 'spending': 3, 'donation': 3, 'pacific': 3, 'gives': 3, 'offered': 3, 'bauman': 3, 'professional': 3, 'understood': 3, 'wheeler': 3, 'looked': 3, 'unknown': 3, 'places': 3, 'lawyer': 3, 'detailed': 3, 'remained': 3, 'loopholes': 3, 'donor': 3, 'street': 3, 'audit': 3, 'core': 3, 'insiders': 3, 'terry': 3, 'publishing': 3, 'argument': 3, 'actively': 3, 'brigade': 3, 'additionally': 3, 'meant': 3, 'services': 3, 'served': 3, 'sids': 3, 'climate': 3, 'douglas': 3, 'kelly': 3, 'efforts': 3, 'ireland': 3, 'magaziner': 3, 'abedin': 3, 'employment': 3, 'somewhere': 3, 'restructure': 3, 'consulting': 3, 'referred': 3, 'supposedly': 3, 'opportunity': 3, 'beginning': 3, 'ubs': 3, 'clients': 3, 'moved': 3, 'attached': 3, 'conduct': 3, 'training': 3, 'provides': 3, 'obtain': 3, 'secure': 3, 'granted': 3, 'managers': 3, 'clarification': 3, 'procedures': 3, 'properly': 3, 'benefits': 3, 'difficult': 3, 'accused': 3, 'explicit': 3, 'sunday': 3, 'staffers': 3, 'otherwise': 3, 'plus': 3, 'sort': 3, 'provide': 3, 'relationship': 3, 'screen': 3, 'includes': 3, 'aka': 3, 'plain': 3, 'tactics': 3, 'hateful': 3, 'strategies': 3, 'fisa': 3, 'dossier': 3, 'warrant': 3, 'tie': 3, 'blah': 3, 'whatever': 3, 'respected': 3, 'confidential': 3, 'dynasty': 3, 'similar': 3, 'sentence': 3, 'earlier': 3, 'junior': 3, 'suggested': 3, 'spahn': 3, 'thumb': 3, 'journalist': 3, 'archives': 3, 'unlimited': 3, 'chopper': 3, 'trading': 3, 'assumptions': 3, 'research': 3, 'chats': 3, 'reasoning': 3, 'supremacist': 3, 'admitted': 3, 'hoax': 3, 'closed': 3, 'disability': 3, 'spiritual': 3, 'products': 3, 'values': 3, 'christianity': 3, 'userbase': 3, 'petersen': 3, 'celebrities': 2, 'vowed': 2, 'marriage': 2, 'respect': 2, 'uploaded': 2, 'punished': 2, 'pennsylvania': 2, 'paikidze': 2, 'championship': 2, 'attending': 2, 'shed': 2, 'oppression': 2, 'recorded': 2, 'tear': 2, 'proved': 2, 'liar': 2, 'learned': 2, 'happens': 2, 'nancy': 2, 'song': 2, 'reaching': 2, 'pedophiles': 2, 'convey': 2, 'walk': 2, 'itll': 2, 'implying': 2, 'adjusting': 2, 'spaz': 2, 'mom': 2, 'imam': 2, 'changing': 2, 'flint': 2, 'mi': 2, 'water': 2, 'traction': 2, 'ignored': 2, 'locked': 2, 'trash': 2, 'ladies': 2, 'gentlemen': 2, 'return': 2, 'retaliatory': 2, 'condone': 2, 'eyes': 2, 'trigger': 2, 'upvoting': 2, 'invest': 2, 'naked': 2, 'boys': 2, 'forwarded': 2, 'cares': 2, 'enthusiasts': 2, 'engaged': 2, 'minute': 2, 'deleting': 2, 'integrity': 2, 'holds': 2, 'effectively': 2, 'step': 2, 'meet': 2, 'specifically': 2, 'snowflakes': 2, 'hot': 2, 'visit': 2, 'brought': 2, 'addresses': 2, 'pulse': 2, 'remembers': 2, 'positions': 2, 'resume': 2, 'politifact': 2, 'whistleblowers': 2, 'combined': 2, 'filter': 2, 'shitposting': 2, 'democratically': 2, 'glass': 2, 'audio': 2, 'rolled': 2, 'shaking': 2, 'bed': 2, 'packed': 2, 'sexually': 2, 'stabbing': 2, 'insulted': 2, 'facing': 2, 'hilary': 2, 'reagan': 2, 'birthday': 2, 'grubhub': 2, 'boss': 2, 'resign': 2, 'boycott': 2, 'function': 2, 'standards': 2, 'singling': 2, 'frontpage': 2, 'brigaded': 2, 'pizzagate': 2, 'bag': 2, 'nazis': 2, 'commend': 2, 'refuse': 2, 'supports': 2, 'refuses': 2, 'buzzfeed': 2, 'announced': 2, 'musk': 2, 'surprising': 2, 'excellent': 2, 'king': 2, 'clean': 2, 'bigly': 2, 'practices': 2, 'appearance': 2, 'introduced': 2, 'marijuana': 2, 'lawmakers': 2, 'limo': 2, 'torched': 2, 'checking': 2, 'considered': 2, 'final': 2, 'fraudulently': 2, 'investigators': 2, 'mateen': 2, 'club': 2, 'damn': 2, 'brakes': 2, 'killer': 2, 'belongings': 2, 'heal': 2, 'behar': 2, 'television': 2, 'talks': 2, 'moving': 2, 'manufacturing': 2, 'awareness': 2, 'algorithms': 2, 'dad': 2, 'blown': 2, 'nytimes': 2, 'poor': 2, 'highly': 2, 'exposes': 2, 'criminal': 2, 'childhood': 2, 'entities': 2, 'psa': 2, 'mexican': 2, 'neighbor': 2, 'nutshell': 2, 'oval': 2, 'impeached': 2, 'brother': 2, 'suddenly': 2, 'online': 2, 'michael': 2, 'moore': 2, 'byrd': 2, 'idiots': 2, 'rioting': 2, 'demanded': 2, 'cnnblackmail': 2, 'wars': 2, 'load': 2, 'pepes': 2, 'plant': 2, 'certainly': 2, 'michelle': 2, 'elijah': 2, 'wood': 2, 'software': 2, 'counties': 2, 'adblock': 2, 'glorious': 2, 'begin': 2, 'lauren': 2, 'quarantine': 2, 'thedonaldreddit': 2, 'yfw': 2, 'villa': 2, 'margin': 2, 'cross': 2, 'rate': 2, 'broke': 2, 'colors': 2, 'meanwhile': 2, 'perfect': 2, 'historic': 2, 'unprecedented': 2, 'economic': 2, 'kim': 2, 'short': 2, 'fat': 2, 'agencies': 2, 'complete': 2, 'dude': 2, 'bomb': 2, 'plot': 2, 'elderly': 2, 'pepper': 2, 'matters': 2, 'minority': 2, 'assaulted': 2, 'exist': 2, 'immunity': 2, 'blm': 2, 'rioters': 2, 'parking': 2, 'garage': 2, 'higher': 2, 'whoever': 2, 'absolute': 2, 'savage': 2, 'guccifer': 2, 'losers': 2, 'dick': 2, 'male': 2, 'independence': 2, 'abc': 2, 'africanamerican': 2, 'boeing': 2, 'rockstar': 2, 'games': 2, 'buy': 2, 'launches': 2, 'allah': 2, 'catches': 2, 'producer': 2, 'ratings': 2, 'massive': 2, 'signatures': 2, 'propose': 2, 'prince': 2, 'bends': 2, 'creaming': 2, 'shake': 2, 'organizer': 2, 'complain': 2, 'neil': 2, 'gorsuch': 2, 'moab': 2, 'tunnels': 2, 'afghanistan': 2, 'included': 2, 'sabotage': 2, 'activists': 2, 'chant': 2, 'piers': 2, 'vs': 2, 'contributions': 2, 'brutal': 2, 'green': 2, 'scam': 2, 'singularity': 2, 'delegate': 2, 'tennessee': 2, 'convention': 2, 'promising': 2, 'swedens': 2, 'visited': 2, 'hourly': 2, 'huckabee': 2, 'shakedown': 2, 'picking': 2, 'professor': 2, 'teaching': 2, 'duties': 2, 'kavanaugh': 2, 'disgraceful': 2, 'process': 2, 'sued': 2, 'removing': 2, 'lawsuit': 2, 'criticize': 2, 'hypocrite': 2, 'silenced': 2, 'maher': 2, 'karma': 2, 'credentials': 2, 'soil': 2, 'betray': 2, 'sudan': 2, 'pulls': 2, 'hypocrites': 2, 'til': 2, 'anally': 2, 'yells': 2, 'redacted': 2, 'finding': 2, 'comey': 2, 'food': 2, 'salute': 2, 'rapid': 2, 'coordinating': 2, 'log': 2, 'fingers': 2, 'blacks': 2, 'whites': 2, 'gays': 2, 'fucks': 2, 'sake': 2, 'rob': 2, 'schneider': 2, 'taxpayer': 2, 'wing': 2, 'activist': 2, 'hospital': 2, 'center': 2, 'merchant': 2, 'snowflake': 2, 'mueller': 2, 'guide': 2, 'gain': 2, 'moscow': 2, 'uranium': 2, 'starts': 2, 'cincinnati': 2, 'driver': 2, 'pulled': 2, 'heart': 2, 'islamaphobic': 2, 'rpolitics': 2, 'currency': 2, 'celebrity': 2, 'publish': 2, 'explains': 2, 'failed': 2, 'bikers': 2, 'schultz': 2, 'aide': 2, 'indicted': 2, 'counts': 2, 'unless': 2, 'host': 2, 'nice': 2, 'parliament': 2, 'backs': 2, 'false': 2, 'prime': 2, 'civil': 2, 'shitposts': 2, 'benghazi': 2, 'waiting': 2, 'middle': 2, 'moral': 2, 'sold': 2, 'fakenews': 2, 'asks': 2, 'ayaan': 2, 'hirsi': 2, 'ali': 2, 'glad': 2, 'surveillance': 2, 'pleased': 2, 'journalism': 2, 'sides': 2, 'strike': 2, 'demands': 2, 'riot': 2, 'basis': 2, 'color': 2, 'jill': 2, 'queen': 2, 'expected': 2, 'searched': 2, 'wtf': 2, 'directed': 2, 'bernardino': 2, 'saudis': 2, 'shareholder': 2, 'incoming': 2, 'odd': 2, 'published': 2, 'totally': 2, 'admit': 2, 'talked': 2, 'november': 2, 'reversing': 2, 'path': 2, 'erdogan': 2, 'pic': 2, 'islamist': 2, 'thrown': 2, 'style': 2, 'scandal': 2, 'figures': 2, 'industry': 2, 'reward': 2, 'rush': 2, 'reveals': 2, 'trumprussia': 2, 'breitbart': 2, 'hidden': 2, 'lifetime': 2, 'warrens': 2, 'reaction': 2, 'meddling': 2, 'denied': 2, 'addition': 2, 'deduct': 2, 'yield': 2, 'gotta': 2, 'customer': 2, 'continuing': 2, 'conservatism': 2, 'invaded': 2, 'europeans': 2, 'financial': 2, 'chair': 2, 'guilty': 2, 'butter': 2, 'superbowl': 2, 'faces': 2, 'bust': 2, 'expelled': 2, 'advertisers': 2, 'recognizes': 2, 'brock': 2, 'bitch': 2, 'expecting': 2, 'playing': 2, 'shitposter': 2, 'pelosi': 2, 'violating': 2, 'nationality': 2, 'fined': 2, 'stock': 2, 'intel': 2, 'vindicated': 2, 'warren': 2, 'defended': 2, 'shitting': 2, 'germany': 2, 'price': 2, 'accepted': 2, 'increased': 2, 'asap': 2, 'maid': 2, 'clearance': 2, 'xenophobia': 2, 'charged': 2, 'anitfa': 2, 'nuke': 2, 'crazy': 2, 'click': 2, 'listen': 2, 'screaming': 2, 'pie': 2, 'taunted': 2, 'vice': 2, 'returning': 2, 'transition': 2, 'damaging': 2, 'enemny': 2, 'ice': 2, 'science': 2, 'fundraisers': 2, 'djt': 2, 'fbidoj': 2, 'delivery': 2, 'threads': 2, 'retweeted': 2, 'test': 2, 'inappropriate': 2, 'mockery': 2, 'rapes': 2, 'malmo': 2, 'requests': 2, 'spezs': 2, 'alabama': 2, 'stocks': 2, 'badly': 2, 'silverman': 2, 'pussy': 2, 'inciting': 2, 'atm': 2, 'feminism': 2, 'legitimize': 2, 'western': 2, 'society': 2, 'constitution': 2, 'ann': 2, 'rdncleaks': 2, 'worth': 2, 'res': 2, 'scream': 2, 'moon': 2, 'vetting': 2, 'broad': 2, 'agrees': 2, 'sums': 2, 'import': 2, 'goods': 2, 'promoted': 2, 'tied': 2, 'shouting': 2, 'jones': 2, 'reviewed': 2, 'fixed': 2, 'investment': 2, 'tip': 2, 'wishes': 2, 'solidarity': 2, 'mail': 2, 'sykes': 2, 'bashing': 2, 'kicked': 2, 'league': 2, 'rise': 2, 'steps': 2, 'pro': 2, 'werent': 2, 'loretta': 2, 'lynch': 2, 'subbed': 2, 'teachers': 2, 'dems': 2, 'drudge': 2, 'everyday': 2, 'rosie': 2, 'laundering': 2, 'foreigners': 2, 'flight': 2, 'older': 2, 'usaa': 2, 'becoming': 2, 'berlin': 2, 'truck': 2, 'knowledge': 2, 'gas': 2, 'aggravated': 2, 'genius': 2, 'malik': 2, 'electors': 2, 'dominating': 2, 'breaks': 2, 'ramadan': 2, 'castro': 2, 'sean': 2, 'socially': 2, 'dan': 2, 'navy': 2, 'shall': 2, 'infowarscom': 2, 'encourages': 2, 'original': 2, 'sheet': 2, 'turned': 2, 'attempts': 2, 'aides': 2, 'handled': 2, 'potentially': 2, 'returns': 2, 'undone': 2, 'att': 2, 'joint': 2, 'courage': 2, 'stunning': 2, 'parks': 2, 'shitholes': 2, 'jr': 2, 'colleagues': 2, 'ambassador': 2, 'influence': 2, 'pathetic': 2, 'nowhere': 2, 'speaks': 2, 'difference': 2, 'politician': 2, 'ny': 2, 'pics': 2, 'offensive': 2, 'pictures': 2, 'window': 2, 'photoshop': 2, 'ii': 2, 'liberty': 2, 'butthurt': 2, 'youd': 2, 'pointed': 2, 'legislation': 2, 'accessing': 2, 'assistance': 2, 'seeking': 2, 'financially': 2, 'vp': 2, 'removes': 2, 'julian': 2, 'battle': 2, 'confirm': 2, 'album': 2, 'newest': 2, 'afraid': 2, 'cost': 2, 'crossing': 2, 'ending': 2, 'prepared': 2, 'weight': 2, 'levels': 2, 'fires': 2, 'compile': 2, 'enjoy': 2, 'tragedy': 2, 'anonymous': 2, 'conscious': 2, 'star': 2, 'tuesday': 2, 'immediate': 2, 'apology': 2, 'checkmate': 2, 'sounds': 2, 'vehicular': 2, 'stone': 2, 'suggest': 2, 'acted': 2, 'violated': 2, 'game': 2, 'sanctions': 2, 'jeff': 2, 'extremist': 2, 'kate': 2, 'steinle': 2, 'fundamentally': 2, 'identify': 2, 'hired': 2, 'confused': 2, 'tendies': 2, 'connection': 2, 'commitment': 2, 'cause': 2, 'patriotism': 2, 'cranston': 2, 'miley': 2, 'cyrus': 2, 'cher': 2, 'handler': 2, 'samuel': 2, 'jackson': 2, 'neve': 2, 'campbell': 2, 'lopez': 2, 'neyo': 2, 'al': 2, 'sharpton': 2, 'suppression': 2, 'problems': 2, 'table': 2, 'encourage': 2, 'loyal': 2, 'fighting': 2, 'punish': 2, 'dying': 2, 'manipulated': 2, 'addressed': 2, 'differently': 2, 'uspezs': 2, 'manipulation': 2, 'available': 2, 'behalf': 2, 'archive': 2, 'union': 2, 'cuckery': 2, 'related': 2, 'processing': 2, 'initially': 2, 'greater': 2, 'wonderful': 2, 'screwed': 2, 'challenge': 2, 'regardless': 2, 'legitimate': 2, 'bias': 2, 'jose': 2, 'appreciated': 2, 'cars': 2, 'bashed': 2, 'block': 2, 'ambulances': 2, 'bat': 2, 'listening': 2, 'held': 2, 'protestors': 2, 'rip': 2, 'items': 2, 'cry': 2, 'filming': 2, 'behavior': 2, 'main': 2, 'arrangements': 2, 'throw': 2, 'authority': 2, 'bypass': 2, 'amnesty': 2, 'defined': 2, 'terrifying': 2, 'chose': 2, 'individual': 2, 'vast': 2, 'argued': 2, 'falling': 2, 'standard': 2, 'entered': 2, 'overturn': 2, 'mitt': 2, 'opponent': 2, 'forth': 2, 'loved': 2, 'deport': 2, 'script': 2, 'holding': 2, 'pride': 2, 'billionaire': 2, 'defend': 2, 'sincerely': 2, 'whenever': 2, 'creator': 2, 'replace': 2, 'antonin': 2, 'scalia': 2, 'successfully': 2, 'seven': 2, 'concern': 2, 'defund': 2, 'crack': 2, 'harbor': 2, 'keystone': 2, 'pipeline': 2, 'dakota': 2, 'strive': 2, 'threatens': 2, 'laid': 2, 'undo': 2, 'taxpayers': 2, 'cutting': 2, 'increase': 2, 'innercities': 2, 'universities': 2, 'enact': 2, 'drug': 2, 'cartels': 2, 'coal': 2, 'bringing': 2, 'allies': 2, 'freeze': 2, 'mars': 2, 'unconstitutional': 2, 'replacement': 2, 'fault': 2, 'solely': 2, 'belongs': 2, 'ryan': 2, 'mandates': 2, 'rid': 2, 'participate': 2, 'technology': 2, 'quarterly': 2, 'opportunities': 2, 'seek': 2, 'accountability': 2, 'scroll': 2, 'defunding': 2, 'hyde': 2, 'index': 2, 'hour': 2, 'unbelievably': 2, 'safely': 2, 'remaining': 2, 'prioritize': 2, 'edition': 2, 'travelling': 2, 'instruct': 2, 'checks': 2, 'hed': 2, 'beholden': 2, 'treating': 2, 'none': 2, 'value': 2, 'channel': 2, 'highlighted': 2, 'shortly': 2, 'altleft': 2, 'responded': 2, 'gather': 2, 'although': 2, 'offers': 2, 'contact': 2, 'verbally': 2, 'referring': 2, 'embarrasment': 2, 'laptop': 2, 'communications': 2, 'location': 2, 'operative': 2, 'ingrisano': 2, 'andrew': 2, 'therriault': 2, 'abused': 2, 'personality': 2, 'scaremongering': 2, 'lead': 2, 'limit': 2, 'ethics': 2, 'lobbyism': 2, 'definition': 2, 'consultants': 2, 'luxury': 2, 'closing': 2, 'compare': 2, 'dishonest': 2, 'warner': 2, 'merger': 2, 'ron': 2, 'amounts': 2, 'unlike': 2, 'favors': 2, 'uses': 2, 'inequality': 2, 'gdp': 2, 'seemed': 2, 'appropriate': 2, 'ignoring': 2, 'amys': 2, 'applying': 2, 'advocate': 2, 'field': 2, 'blocked': 2, 'sticked': 2, 'often': 2, 'dozens': 2, 'regular': 2, 'raw': 2, 'unfair': 2, 'highenergy': 2, 'larger': 2, 'collect': 2, 'exchange': 2, 'fully': 2, 'specified': 2, 'oman': 2, 'uae': 2, 'beyond': 2, 'founded': 2, 'holdings': 2, 'guise': 2, 'branch': 2, 'stayed': 2, 'establish': 2, 'declan': 2, 'northern': 2, 'connections': 2, 'task': 2, 'importantly': 2, 'simultaneously': 2, 'deputy': 2, 'humas': 2, 'trial': 2, 'scrutiny': 2, 'applied': 2, 'enter': 2, 'maintain': 2, 'enrich': 2, 'discusses': 2, 'banking': 2, 'oddly': 2, 'corporation': 2, 'contribute': 2, 'tivo': 2, 'ag': 2, 'leaking': 2, 'bc': 2, 'management': 2, 'internal': 2, 'conducting': 2, 'separate': 2, 'publicize': 2, 'familiarize': 2, 'wishing': 2, 'tone': 2, 'lines': 2, 'educate': 2, 'disclosure': 2, 'vetted': 2, 'membership': 2, 'advance': 2, 'avoid': 2, 'providing': 2, 'retain': 2, 'thus': 2, 'advisory': 2, 'bankruptcy': 2, 'corzine': 2, 'lovely': 2, 'bari': 2, 'allegations': 2, 'harry': 2, 'represents': 2, 'speeches': 2, 'krinivic': 2, 'agent': 2, 'derogatory': 2, 'widely': 2, 'forgive': 2, 'ie': 2, 'bruce': 2, 'loses': 2, 'runs': 2, 'ton': 2, 'goldman': 2, 'wjcs': 2, 'sponsors': 2, 'lasry': 2, 'built': 2, 'chairman': 2, 'advising': 2, 'concept': 2, 'cvc': 2, 'bush': 2, 'lots': 2, 'reply': 2, 'hawaii': 2, 'renewables': 2, 'siemens': 2, 'initial': 2, 'economics': 2, 'grid': 2, 'design': 2, 'islands': 2, 'rd': 2, 'reference': 2, 'positive': 2, 'contest': 2, 'undp': 2, 'dock': 2, 'raised': 2, 'structure': 2, 'target': 2, 'waste': 2, 'turning': 2, 'launch': 2, 'lab': 2, 'organized': 2, 'nrel': 2, 'expressed': 2, 'websites': 2, 'gujarat': 2, 'stats': 2, 'dropping': 2, 'deeds': 2, 'hoping': 2, 'stops': 2, 'unseemly': 2, 'charge': 2, 'version': 2, 'consequences': 2, 'severe': 2, 'quickly': 2, 'feeds': 2, 'deep': 2, 'wide': 2, 'harassing': 2, 'flying': 2, 'planet': 2, 'connect': 2, 'cabinet': 2, 'controlled': 2, 'illegitimate': 2, 'journalists': 2, 'inspired': 2, 'antics': 2, 'doxxing': 2, 'unique': 2, 'organizing': 2, 'surveil': 2, 'anita': 2, 'divisive': 2, 'introduce': 2, 'rsorosforprison': 2, 'foia': 2, 'motion': 2, 'feb': 2, 'sentiment': 2, 'basically': 2, 'tons': 2, 'purposed': 2, 'regarded': 2, 'impartial': 2, 'neutral': 2, 'objective': 2, 'purposely': 2, 'frustration': 2, 'reflect': 2, '기자reporter': 2, 'chinese': 2, 'japanese': 2, 'troops': 2, '만력제': 2, 'abandoned': 2, 'soldiers': 2, 'theater': 2, 'strategic': 2, 'viewed': 2, 'web': 2, 'picked': 2, 'diplomatic': 2, 'explaining': 2, 'navigational': 2, 'contacts': 2, 'palmieri': 2, 'taa': 2, 'fast': 2, 'conversations': 2, 'pj': 2, 'urging': 2, 'kadzikmustresign': 2, 'firekadzik': 2, 'ca': 2, 'kadziks': 2, 'profile': 2, 'shown': 2, 'fcc': 2, 'andy': 2, 'gonring': 2, 'relations': 2, 'kendall': 2, 'covering': 2, 'gladly': 2, 'pagliano': 2, 'neera': 2, 'tanden': 2, 'bar': 2, 'retrieved': 2, 'sexual': 2, 'formatted': 2, 'maxed': 2, 'max': 2, 'debbie': 2, 'spreadsheet': 2, 'download': 2, 'advantage': 2, 'duplicate': 2, 'fec': 2, 'duplicates': 2, 'dncs': 2, 'sam': 2, 'brown': 2, 'raj': 2, 'fernando': 2, 'wikipedia': 2, 'fernandos': 2, 'lack': 2, 'area': 2, 'appointment': 2, 'balance': 2, 'backgrounds': 2, 'screenshot': 2, 'perhaps': 2, 'mob': 2, 'incorrect': 2, 'seem': 2, 'reshared': 2, 'diverse': 2, 'battles': 2, 'box': 2, 'fria': 2, 'sentencing': 2, 'perp': 2, 'nr': 2, 'graffiti': 2, 'claiming': 2, 'slurs': 2, 'holocaust': 2, 'bye': 2, 'copypasting': 2, 'section': 2, 'options': 2, 'submitted': 2, 'witnessed': 2, 'expression': 2, 'flailing': 2, 'onevoice': 2, 'compiled': 2, 'clintonnewsnetwork': 2, 'wed': 2, 'veritasvideos': 2, 'saturday': 2, 'linking': 2, 'invited': 2, 'hfa': 2, 'jews': 2, 'zeps': 2, 'odell': 2, 'allied': 2, 'barton': 2, 'seiu': 2, 'clip': 2, 'superiority': 2, 'clock': 2, 'oliver': 2, 'welfare': 2, 'panicking': 2, 'passing': 2, 'hippies': 2, 'alternative': 2, 'pointless': 2, 'bridge': 2, 'deceased': 2, 'ebba': 2, 'uncensored': 2, 'notable': 2, 'pure': 2, 'ideal': 2, 'ideological': 2, 'conformity': 2, 'answers': 2, 'httphumantraffickingcenterorgguestpostsrootcausescontradictionsdisplacedyouthalongusmexicoborder': 2, 'searching': 1, 'achievement': 1, 'imminent': 1, 'wifes': 1, 'boyfriends': 1, 'yeah': 1, 'fucky': 1, 'stump': 1, 'redit': 1, 'countless': 1, 'identified': 1, 'upvotednot': 1, 'hero': 1, 'droniest': 1, 'reposted': 1, 'recruiting': 1, 'zealand': 1, 'tongue': 1, 'chaffetz': 1, 'dir': 1, 'existence': 1, 'pertinent': 1, 'reopened': 1, 'salty': 1, 'withdrawal': 1, 'admincucks': 1, 'sinatra': 1, 'stumps': 1, 'toxic': 1, 'poorly': 1, 'behaving': 1, 'imposed': 1, 'discrimination': 1, 'demonic': 1, 'fuckup': 1, 'wills': 1, 'clintonget': 1, 'occupy': 1, 'adjust': 1, 'tread': 1, 'hager': 1, 'iraqi': 1, 'eo': 1, 'shameful': 1, 'chucked': 1, 'beef': 1, 'insults': 1, 'participants': 1, 'seedy': 1, 'outcry': 1, 'tower': 1, 'flowers': 1, 'slightly': 1, 'influx': 1, 'fuel': 1, 'rpics': 1, 'rtwoxchromosomes': 1, 'theme': 1, 'shoutout': 1, 'manager': 1, 'implicated': 1, 'panama': 1, 'sprint': 1, 'snl': 1, 'homeschool': 1, 'unconscious': 1, 'brutally': 1, 'receive': 1, 'trophylike': 1, 'supremacists': 1, 'separatists': 1, 'ethnonationalists': 1, 'racebaiters': 1, 'defaulting': 1, 'suffering': 1, 'resorted': 1, 'pd': 1, 'eliminated': 1, 'prodoma': 1, 'videos': 1, 'shred': 1, 'criticisms': 1, 'grace': 1, 'freezes': 1, 'parting': 1, 'biden': 1, 'chooses': 1, 'greatness': 1, 'shamelessly': 1, 'implementing': 1, 'billboards': 1, 'popping': 1, 'drove': 1, 'spaces': 1, 'cocoa': 1, 'dough': 1, 'ping': 1, 'pong': 1, 'pizza': 1, 'steel': 1, 'unveils': 1, 'celebs': 1, 'surpasses': 1, 'formally': 1, 'snapped': 1, 'prosecuted': 1, 'administrations': 1, 'selectively': 1, 'offend': 1, 'dictatorship': 1, 'attended': 1, 'dream': 1, 'afford': 1, 'smashes': 1, 'happeningaudio': 1, 'seymour': 1, 'hersh': 1, 'counter': 1, 'harvard': 1, 'ceremony': 1, 'somebody': 1, 'fuckery': 1, 'overall': 1, 'arminas': 1, 'pileckas': 1, 'protected': 1, 'neither': 1, 'pronouns': 1, 'dr': 1, 'jordan': 1, 'peterson': 1, 'rationality': 1, 'canadas': 1, 'bs': 1, 'ronald': 1, 'apologizes': 1, 'breath': 1, 'forever': 1, 'unable': 1, 'evacuated': 1, 'cbss': 1, 'swann': 1, 'cats': 1, 'pooooodddeessssstaaaaa': 1, 'utah': 1, 'defeating': 1, 'bakeries': 1, 'cake': 1, 'wedding': 1, 'wheres': 1, 'headlines': 1, 'americafirst': 1, 'samesex': 1, 'lebanon': 1, 'respects': 1, 'grand': 1, 'mufti': 1, 'stages': 1, 'grief': 1, 'devolved': 1, 'protested': 1, 'passion': 1, 'reinstates': 1, 'tortured': 1, 'economist': 1, 'rex': 1, 'tillerson': 1, 'publically': 1, 'dog': 1, 'mattis': 1, 'fry': 1, 'brains': 1, 'nevertrumps': 1, 'pediatrics': 1, 'reaches': 1, 'transgenderism': 1, 'shaming': 1, 'repeatedly': 1, 'instructed': 1, 'prohibition': 1, 'immigrantowned': 1, 'homosexual': 1, 'nprs': 1, 'traumatic': 1, 'shaq': 1, 'netherlands': 1, 'mohammad': 1, 'certificate': 1, 'forgery': 1, 'forensic': 1, 'continents': 1, 'hid': 1, 'omar': 1, 'swore': 1, 'allegiance': 1, 'learning': 1, 'uptrump': 1, 'haters': 1, 'cyberattack': 1, 'partisan': 1, 'killers': 1, 'hiding': 1, 'trumpi': 1, 'harm': 1, 'rbg': 1, 'recovery': 1, 'retirement': 1, 'flamboyant': 1, 'likes': 1, 'homophobe': 1, 'fights': 1, 'tears': 1, 'interferes': 1, 'obstructing': 1, 'apple': 1, 'godblesstrump': 1, 'wheelchair': 1, 'gangraped': 1, 'west': 1, 'endure': 1, 'rthedon': 1, 'unstoppable': 1, 'subscriber': 1, 'growth': 1, 'slowing': 1, 'trigglytards': 1, 'ssaaayyyyy': 1, 'iiiittttttt': 1, 'ahahahahahahahahaha': 1, 'resurrection': 1, 'finished': 1, 'inaccurate': 1, 'phenomena': 1, 'iii': 1, 'pretrial': 1, 'molested': 1, 'urinated': 1, 'summer': 1, 'idaho': 1, 'pushed': 1, 'rug': 1, 'forgotten': 1, 'mtv': 1, 'plotting': 1, 'schoolgirls': 1, 'kidnapped': 1, 'carolina': 1, 'bowlcut': 1, 'outperform': 1, 'aggressively': 1, 'permits': 1, 'hanging': 1, 'rtinder': 1, 'meets': 1, 'palestine': 1, 'silly': 1, 'martha': 1, 'mcdonalds': 1, 'affiliation': 1, 'comfort': 1, 'thug': 1, 'bragged': 1, 'postfeminist': 1, 'product': 1, 'choices': 1, 'resultsjpg': 1, 'nyt': 1, 'tedcruz': 1, 'awaythe': 1, 'smash': 1, 'rarest': 1, 'dankest': 1, 'postmortem': 1, 'berniacs': 1, 'revolution': 1, 'tim': 1, 'negrouncle': 1, 'tomrace': 1, 'traitor': 1, 'themthis': 1, 'ashamed': 1, 'spicier': 1, 'grabbing': 1, 'pussies': 1, 'ford': 1, 'canceling': 1, 'investing': 1, 'uncuckening': 1, 'hardcore': 1, 'pilling': 1, 'paedophile': 1, 'actors': 1, 'prey': 1, 'parcel': 1, 'manchester': 1, 'embracing': 1, 'despicablernews': 1, 'jackie': 1, 'evancho': 1, 'triple': 1, 'cu': 1, 'boulder': 1, 'ticket': 1, 'along': 1, 'ticketholders': 1, 'doctored': 1, 'findings': 1, 'aids': 1, 'failures': 1, 'install': 1, 'sourcing': 1, 'revenue': 1, 'trumpsupporting': 1, 'proving': 1, 'stripped': 1, 'delivers': 1, 'todays': 1, 'patriots': 1, 'sample': 1, 'benevolent': 1, 'montana': 1, 'cycle': 1, 'af': 1, 'singer': 1, 'grammys': 1, 'defectors': 1, 'defect': 1, 'dubs': 1, 'famits': 1, 'payroll': 1, 'referenced': 1, 'zulema': 1, 'rodriguez': 1, 'rioter': 1, 'phone': 1, 'shitlibs': 1, 'rhillaryclinton': 1, 'fuzzing': 1, 'einstein': 1, 'weather': 1, 'celebrate': 1, 'milestones': 1, 'creation': 1, 'lowest': 1, 'rascism': 1, 'tries': 1, 'jongun': 1, 'insult': 1, 'someday': 1, 'falsehood': 1, 'thugs': 1, 'masks': 1, 'pedophilia': 1, 'aggressive': 1, 'ongoing': 1, 'laptops': 1, 'void': 1, 'strip': 1, 'drag': 1, 'random': 1, 'rsweden': 1, 'retains': 1, 'pittsburgh': 1, 'paris': 1, 'leaker': 1, 'dncleaks': 1, 'civillians': 1, 'taste': 1, 'hahahahahahahahahahahahahahahahahahahhahahahahahahahahha': 1, 'liberallogic': 1, 'accidently': 1, 'annoy': 1, 'croatia': 1, 'shillary': 1, 'katie': 1, 'ok': 1, 'kiddies': 1, 'complicated': 1, 'brand': 1, 'cancel': 1, 'retreat': 1, 'hilldog': 1, 'tumblrites': 1, 'subscribe': 1, 'feed': 1, 'jokingly': 1, 'refers': 1, 'combat': 1, 'stereotypes': 1, 'decapitating': 1, 'effing': 1, 'buttons': 1, 'pravda': 1, 'admitting': 1, 'discovers': 1, 'operation': 1, 'institute': 1, 'accepts': 1, 'foriegn': 1, 'rothschilds': 1, 'rogue': 1, 'elector': 1, 'governor': 1, 'incite': 1, 'rallies': 1, 'hahahahahaha': 1, 'pledges': 1, 'congressional': 1, 'ethicsreform': 1, 'verify': 1, 'dopey': 1, 'panties': 1, 'merkels': 1, 'reasonable': 1, 'waite': 1, 'bestseller': 1, 'amazon': 1, 'xdddddd': 1, 'nude': 1, 'painting': 1, 'suitable': 1, 'ordnance': 1, 'blast': 1, 'nonnuclear': 1, 'ordinance': 1, 'inventory': 1, 'burial': 1, 'donna': 1, 'brazile': 1, 'authenticated': 1, 'dkim': 1, 'prosecute': 1, 'luis': 1, 'gutierrez': 1, 'monument': 1, 'stormed': 1, 'creeping': 1, 'emasculation': 1, 'rabid': 1, 'juan': 1, 'accuses': 1, 'yard': 1, 'trumphating': 1, 'defenseless': 1, 'earns': 1, 'trusted': 1, 'cable': 1, 'suit': 1, 'tossed': 1, 'assaulting': 1, 'credible': 1, 'rainvote': 1, 'saloncom': 1, 'vive': 1, 'motherfuckers': 1, 'chuck': 1, 'vladimir': 1, 'laughs': 1, 'wand': 1, 'policing': 1, 'receives': 1, 'poisoned': 1, 'prochild': 1, 'mafia': 1, 'awards': 1, 'katy': 1, 'perry': 1, 'unicefsnowflake': 1, 'ball': 1, 'dogs': 1, 'texans': 1, 'deserved': 1, 'harvey': 1, 'relieved': 1, 'hahahahaha': 1, 'testimony': 1, 'honest': 1, 'riveting': 1, 'strategy': 1, 'sham': 1, 'delay': 1, 'nothat': 1, 'sucks': 1, 'dearborn': 1, 'allegedly': 1, 'traffic': 1, 'faux': 1, 'migrant': 1, 'bowed': 1, 'confederate': 1, 'statues': 1, 'slavery': 1, 'planted': 1, 'audience': 1, 'goodbye': 1, 'zuckerberg': 1, 'noting': 1, 'zuck': 1, 'roll': 1, 'cbs': 1, 'downfall': 1, 'surfaces': 1, 'defending': 1, 'adults': 1, 'minors': 1, 'alexjones': 1, 'epic': 1, 'wh': 1, 'aclu': 1, 'discriminate': 1, 'assholes': 1, 'traitors': 1, 'eager': 1, 'familys': 1, 'oversight': 1, 'gaining': 1, 'herr': 1, 'retort': 1, 'masa': 1, 'emanuel': 1, 'kidega': 1, 'samson': 1, 'vanish': 1, 'fk': 1, 'em': 1, 'alumni': 1, 'animal': 1, 'undecided': 1, 'roman': 1, 'polanski': 1, 'drugged': 1, 'fleeing': 1, 'escape': 1, 'rallied': 1, 'janet': 1, 'reno': 1, 'attorneys': 1, 'shoots': 1, 'indian': 1, 'narratives': 1, 'atleast': 1, 'debates': 1, 'hosted': 1, 'hosting': 1, 'leonardo': 1, 'dicaprios': 1, 'yacht': 1, 'asshole': 1, 'lecturing': 1, 'carbon': 1, 'footprint': 1, 'terminated': 1, 'silence': 1, 'grew': 1, 'serve': 1, 'gratefulness': 1, 'aaron': 1, 'coordinator': 1, 'boasts': 1, 'borrow': 1, 'browns': 1, 'transgenders': 1, 'religions': 1, 'implore': 1, 'thursday': 1, 'limiting': 1, 'fascists': 1, 'funneled': 1, 'scheme': 1, 'sunrise': 1, 'medical': 1, 'las': 1, 'vegas': 1, 'bless': 1, 'tireless': 1, 'doctors': 1, 'nurses': 1, 'toon': 1, 'funniest': 1, 'fuckin': 1, 'baiters': 1, 'stepping': 1, 'amid': 1, 'thoughtful': 1, 'bribery': 1, 'kickbacks': 1, 'extortion': 1, 'atomic': 1, 'reeeeeeeeeeeeeeeeeeeeeeeeeeeeeeeeeeeeeeeeeeeeeeeeeeeeeeeeeeeeeeeeeeeeeeeeeeeeeeeeeeeeeeeeeeeeeeeeeeeeeeeeeeeeeeeeeeeeeeeeeeeeeeeeeeeeeeeeeeeeeeeeeeeeeeeeeeeeeeeeeeeeeeeeeeeeeeeeeeeeeeeeeeeeeeeeeeeeeeeeeeeeeeeeeeeeeeeeeeeeeeeeeeeeeeeeeeeeeeeeeeeeeeeeeeeeeeeeeeeeeeeeeeeeeeeeeeeeeeeeeeeeeeeeeeeeeee': 1, 'ohsnap': 1, 'semitruck': 1, 'patriotic': 1, 'veteran': 1, 'bradley': 1, 'faulkner': 1, 'shoulder': 1, 'cab': 1, 'funeral': 1, 'procession': 1, 'memba': 1, 'nye': 1, 'irredeemable': 1, 'prayer': 1, 'modmailed': 1, 'cheaters': 1, 'exclusive': 1, 'photos': 1, 'sane': 1, 'bend': 1, 'pastorweve': 1, 'hispanicamerican': 1, 'realise': 1, 'indict': 1, 'uniform': 1, 'tulsi': 1, 'gabbard': 1, 'aint': 1, 'headed': 1, 'quebec': 1, 'obstruction': 1, 'brexit': 1, 'greenlit': 1, 'brothers': 1, 'sisters': 1, 'pond': 1, 'globalism': 1, 'australia': 1, 'releases': 1, 'everyones': 1, 'nambla': 1, 'airport': 1, 'spotted': 1, 'gq': 1, 'employs': 1, 'banks': 1, 'dilemma': 1, 'stonetear': 1, 'erasing': 1, 'redacting': 1, 'bold': 1, 'drained': 1, 'cameramen': 1, 'espn': 1, 'trolled': 1, 'gameday': 1, 'poisonous': 1, 'hm': 1, 'rare': 1, 'attacker': 1, 'endorsing': 1, 'survived': 1, 'conducts': 1, 'colorized': 1, 'plantd': 1, 'glorifying': 1, 'enslaves': 1, 'lol': 1, 'slaughtered': 1, 'seddique': 1, 'vip': 1, 'seating': 1, 'steven': 1, 'crowder': 1, 'infiltrates': 1, 'garbage': 1, 'beverly': 1, 'nelson': 1, 'forged': 1, 'yearbook': 1, 'gloria': 1, 'allred': 1, 'roy': 1, 'lefties': 1, 'yale': 1, 'hunger': 1, 'barbecue': 1, 'percent': 1, 'hispanic': 1, 'googling': 1, 'portland': 1, 'editor': 1, 'barring': 1, 'skin': 1, 'masterful': 1, 'tucked': 1, 'accurately': 1, 'honorably': 1, 'dabbling': 1, 'shady': 1, 'ponzi': 1, 'tekei': 1, 'comparable': 1, 'milos': 1, 'props': 1, 'counterprotest': 1, 'justislamthings': 1, 'movent': 1, 'libexit': 1, 'thirsting': 1, 'crown': 1, 'twitters': 1, 'trended': 1, 'stopenslavingsaudiwomen': 1, 'dept': 1, 'martin': 1, 'shkreli': 1, 'clothed': 1, 'nyts': 1, 'donates': 1, 'coincidence': 1, 'stonetears': 1, 'redditgate': 1, 'celebration': 1, 'lindsey': 1, 'graham': 1, 'experiment': 1, 'therefore': 1, 'fraudulent': 1, 'classmates': 1, 'immigrantsyou': 1, 'subgot': 1, 'gilded': 1, 'troll': 1, 'christmasthis': 1, 'shirts': 1, 'mugging': 1, 'brooklyn': 1, 'intimidation': 1, 'shithole': 1, 'nailed': 1, 'fabulously': 1, 'fascist': 1, 'turkish': 1, 'dictator': 1, 'reeeeeeeeeeeeeeeeeeeeeee': 1, 'coz': 1, 'complained': 1, 'pressuring': 1, 'marry': 1, 'rnottheonion': 1, 'criticizing': 1, 'gripped': 1, 'jimmy': 1, 'savile': 1, 'paedophiles': 1, 'shielded': 1, 'organised': 1, 'appointments': 1, 'activismwatch': 1, 'lads': 1, 'limbaugh': 1, 'signals': 1, 'clintonera': 1, 'cronyism': 1, 'applause': 1, 'chris': 1, 'wallace': 1, 'loser': 1, 'colin': 1, 'kaepernick': 1, 'earned': 1, 'cap': 1, 'computers': 1, 'typed': 1, 'undermine': 1, 'successor': 1, 'generous': 1, 'retract': 1, 'proclaims': 1, 'incitementa': 1, 'mere': 1, 'incitement': 1, 'commit': 1, 'arson': 1, 'pressed': 1, 'vehemently': 1, 'ceasefire': 1, 'constructively': 1, 'fresh': 1, 'haha': 1, 'stronger': 1, 'laura': 1, 'ingraham': 1, 'denounce': 1, 'youth': 1, 'screamed': 1, 'ppl': 1, 'notmyceo': 1, 'road': 1, 'fortunate': 1, 'tovbe': 1, 'quietly': 1, 'uncovered': 1, 'banker': 1, 'french': 1, 'destroys': 1, 'homelands': 1, 'contractor': 1, 'lumber': 1, 'super': 1, 'bowl': 1, 'houses': 1, 'apolitical': 1, 'probuild': 1, 'winston': 1, 'churchills': 1, 'subpoenaed': 1, 'felony': 1, 'convicted': 1, 'toast': 1, 'lmao': 1, 'risked': 1, 'miss': 1, 'newt': 1, 'gingrich': 1, 'sucking': 1, 'basic': 1, 'iranian': 1, 'ripping': 1, 'slaughter': 1, 'armenians': 1, 'atrocities': 1, 'releasethememo': 1, 'legit': 1, 'influencepeddling': 1, 'skyrocket': 1, 'avenatti': 1, 'spicy': 1, 'cartoon': 1, 'shouldnt': 1, 'concentrating': 1, 'superreddit': 1, 'gradea': 1, 'relevant': 1, 'starbucks': 1, 'eeoc': 1, 'prohibits': 1, 'origin': 1, 'violation': 1, 'refusing': 1, 'fresno': 1, 'kori': 1, 'muhammad': 1, 'yelled': 1, 'allahu': 1, 'akbar': 1, 'collapse': 1, 'wiretapped': 1, 'nudes': 1, 'friendsand': 1, 'enemiesa': 1, 'merry': 1, 'vpelect': 1, 'indy': 1, 'exi': 1, 'infested': 1, 'spend': 1, 'iphones': 1, 'condition': 1, 'genocidal': 1, 'fanatics': 1, 'ultimate': 1, 'noble': 1, 'selfless': 1, 'pursuit': 1, 'incorrectly': 1, 'tabulation': 1, 'gates': 1, 'likens': 1, 'jfk': 1, 'canadian': 1, 'patrol': 1, 'print': 1, 'material': 1, 'whatsoever': 1, 'torture': 1, 'piss': 1, 'tactical': 1, 'store': 1, 'shrill': 1, 'estonian': 1, 'terrrorist': 1, 'en': 1, 'route': 1, 'retardation': 1, 'ahahhahahha': 1, 'sweetie': 1, 'dreaming': 1, 'footage': 1, 'officer': 1, 'alan': 1, 'horujko': 1, 'shocker': 1, 'missingdcgirls': 1, 'hamilton': 1, 'norway': 1, 'mosque': 1, 'treasury': 1, 'victor': 1, 'thorn': 1, 'researched': 1, 'scandals': 1, 'ruled': 1, 'nominate': 1, 'agents': 1, 'reportedly': 1, 'cali': 1, 'stayhomestaysafe': 1, 'huuuugggeee': 1, 'fans': 1, 'briefings': 1, 'podestaemail': 1, 'humaabedin': 1, 'orange': 1, 'symbol': 1, 'commanderinchief': 1, 'cherokee': 1, 'dna': 1, 'dishonoring': 1, 'undermining': 1, 'tribal': 1, 'nonswedish': 1, 'europe': 1, 'mogadishu': 1, 'ossoff': 1, 'handeled': 1, 'hereby': 1, 'infiltrated': 1, 'surveilled': 1, 'purposes': 1, 'incase': 1, 'funneling': 1, 'ass': 1, 'accurate': 1, 'map': 1, 'mini': 1, 'picks': 1, 'highs': 1, 'schedule': 1, 'enemies': 1, 'fought': 1, 'battlestations': 1, 'credits': 1, 'netflix': 1, 'starring': 1, 'travis': 1, 'county': 1, 'wears': 1, 'hearings': 1, 'prez': 1, 'competition': 1, 'rocket': 1, 'conquers': 1, 'spezcaustdenialist': 1, 'erased': 1, 'despotic': 1, 'perpetuating': 1, 'priority': 1, 'condemns': 1, 'marches': 1, 'shria': 1, 'dontstopupvoting': 1, 'nicole': 1, 'kidman': 1, 'proamerica': 1, 'aussie': 1, 'violently': 1, 'royally': 1, 'coulter': 1, 'subversion': 1, 'tag': 1, 'caps': 1, 'interesting': 1, 'theo': 1, 'gogh': 1, 'filmmaker': 1, 'criticized': 1, 'islams': 1, 'daylight': 1, 'mohammedan': 1, 'spezkillary': 1, 'association': 1, 'rapist': 1, 'withdraws': 1, 'pa': 1, 'cloud': 1, 'ballots': 1, 'population': 1, 'ids': 1, 'tariff': 1, 'daddy': 1, 'ama': 1, 'founding': 1, 'grandmother': 1, 'remind': 1, 'trashes': 1, 'mess': 1, 'comedy': 1, 'mrmcstevie': 1, 'classy': 1, 'daterapisttobe': 1, 'weaponized': 1, 'autistics': 1, 'clicked': 1, 'wikilinks': 1, 'wikileak': 1, 'arabian': 1, 'theyd': 1, 'protection': 1, 'intolerant': 1, 'mysterious': 1, 'powders': 1, 'crybullies': 1, 'wanda': 1, 'booed': 1, 'flipped': 1, 'emotional': 1, 'whining': 1, 'natural': 1, 'selection': 1, 'growing': 1, 'expose': 1, 'omghes': 1, 'virginia': 1, 'salon': 1, 'deletes': 1, 'study': 1, 'acosta': 1, 'irl': 1, 'slimy': 1, 'unethical': 1, 'incarceration': 1, 'stations': 1, 'unqualified': 1, 'accounting': 1, 'errors': 1, 'stink': 1, 'spotlighted': 1, 'sadick': 1, 'khan': 1, 'evan': 1, 'mcmullin': 1, 'odonnell': 1, 'precisely': 1, 'sixmillion': 1, 'fourteenthousand': 1, 'twohundred': 1, 'fortyeight': 1, 'hillaryobama': 1, 'payer': 1, 'fovals': 1, 'woodhouse': 1, 'pardons': 1, 'nickelodeon': 1, 'totalday': 1, 'viewership': 1, 'outtttt': 1, 'treasonous': 1, 'poverty': 1, 'pimp': 1, 'bread': 1, 'recieved': 1, 'shelia': 1, 'fredrick': 1, 'attendant': 1, 'terrified': 1, 'accompanied': 1, 'bathroom': 1, 'alerted': 1, 'trafficker': 1, 'species': 1, 'reinstate': 1, 'ads': 1, 'rumored': 1, 'plows': 1, 'alt': 1, 'equality': 1, 'highschool': 1, 'antifeminism': 1, 'hashtags': 1, 'exemplar': 1, 'rowe': 1, 'phx': 1, 'hahahaha': 1, 'dynamite': 1, 'ivanka': 1, 'halfbrother': 1, 'tradition': 1, 'declines': 1, 'doors': 1, 'boo': 1, 'hoo': 1, 'contain': 1, 'sampling': 1, 'altlefts': 1, 'valid': 1, 'feelthebern': 1, 'demexit': 1, 'commits': 1, 'european': 1, 'millenials': 1, 'migration': 1, 'mainly': 1, 'smh': 1, 'priebus': 1, 'automatic': 1, 'believer': 1, 'backlash': 1, 'trends': 1, 'grassroots': 1, 'lefty': 1, 'sleeping': 1, 'wakes': 1, 'hmmm': 1, 'jew': 1, 'teenage': 1, 'stomped': 1, 'shadowbanning': 1, 'replying': 1, 'cached': 1, 'grilos': 1, 'seals': 1, 'widow': 1, 'idiot': 1, 'notmypresident': 1, 'nsa': 1, 'shadowbanned': 1, 'invisible': 1, 'spree': 1, 'kremlin': 1, 'deciding': 1, 'dallas': 1, 'bump': 1, 'physician': 1, 'antonio': 1, 'jog': 1, 'rap': 1, 'deliver': 1, 'energized': 1, 'mommy': 1, 'muslimban': 1, 'arrived': 1, 'lax': 1, 'passport': 1, 'snowden': 1, 'assylum': 1, 'reopens': 1, 'shariaforamerica': 1, 'whyimarched': 1, 'watergate': 1, 'reset': 1, 'collectively': 1, 'bonus': 1, 'dictionary': 1, 'definitions': 1, 'jeanine': 1, 'britain': 1, 'session': 1, 'pewdiepie': 1, 'conform': 1, 'regressiveleft': 1, 'slander': 1, 'coordination': 1, 'timer': 1, 'rosa': 1, 'ustonetear': 1, 'underlings': 1, 'sir': 1, 'urged': 1, 'jim': 1, 'exploding': 1, 'envelope': 1, 'powder': 1, 'intended': 1, 'happend': 1, 'bus': 1, 'globalist': 1, 'scum': 1, 'shrieks': 1, 'participated': 1, 'heinous': 1, 'recording': 1, 'businessman': 1, 'deblasio': 1, 'possession': 1, 'pornography': 1, 'blackface': 1, 'disappear': 1, 'catching': 1, 'textbooks': 1, 'americathemed': 1, 'ditch': 1, 'scummy': 1, 'detail': 1, 'steak': 1, 'catch': 1, 'improving': 1, 'weekly': 1, 'introduces': 1, 'allows': 1, 'sue': 1, 'iraq': 1, 'uncovers': 1, 'trains': 1, 'fraudnewscnn': 1, 'fnn': 1, 'httpstcowyunhjjujg': 1, 'nail': 1, 'prediction': 1, 'praising': 1, 'siding': 1, 'boycottstarbucks': 1, 'fantasizes': 1, 'allahuakbar': 1, 'rental': 1, 'trucks': 1, 'cherry': 1, 'arming': 1, 'backed': 1, 'rebels': 1, 'transformation': 1, 'wednesday': 1, 'shareblue': 1, 'squirm': 1, 'hitting': 1, 'hornets': 1, 'nest': 1, 'douche': 1, 'bannon': 1, 'hill': 1, 'referencing': 1, 'entering': 1, 'cuckaroos': 1, 'rjontron': 1, 'commited': 1, 'marxismgive': 1, 'assassinated': 1, 'flee': 1, 'scene': 1, 'arlington': 1, 'highfives': 1, 'awww': 1, 'miamidade': 1, 'drops': 1, 'dominance': 1, 'permanent': 1, 'extensive': 1, 'sales': 1, 'explode': 1, 'dress': 1, 'navigate': 1, 'horrific': 1, 'practice': 1, 'magas': 1, 'babies': 1, 'lefts': 1, 'collection': 1, 'handed': 1, 'coaching': 1, 'panel': 1, 'berkley': 1, 'netneutrality': 1, 'seal': 1, 'flies': 1, 'convoy': 1, 'bans': 1, 'ufc': 1, 'heavyweight': 1, 'derrick': 1, 'lewis': 1, 'knock': 1, 'mofo': 1, 'cuz': 1, 'makin': 1, 'flotus': 1, 'horror': 1, 'cleveland': 1, 'newly': 1, 'prosecutor': 1, 'buried': 1, 'slam': 1, 'dunk': 1, 'decisionto': 1, 'inactiveits': 1, 'outrageous': 1, 'prosecutors': 1, 'cleans': 1, 'georgia': 1, 'fears': 1, 'familiar': 1, 'occurrence': 1, 'taibbi': 1, 'rolling': 1, 'merely': 1, 'arm': 1, 'nfl': 1, 'sally': 1, 'yates': 1, 'refusal': 1, 'maxine': 1, 'waters': 1, 'posing': 1, 'ukraine': 1, 'placements': 1, 'flynn': 1, 'investigated': 1, 'kayne': 1, 'smeared': 1, 'uncle': 1, 'tom': 1, 'comply': 1, 'forego': 1, 'ape': 1, 'africans': 1, 'mindboggling': 1, 'fedex': 1, 'allin': 1, 'uhrin': 1, 'arguments': 1, 'exec': 1, 'requiring': 1, 'regulation': 1, 'revoked': 1, 'commenced': 1, 'retweet': 1, 'gaga': 1, 'pepsihalftime': 1, 'performance': 1, 'superbowlsunday': 1, 'murderer': 1, 'rethink': 1, 'diplomats': 1, 'forces': 1, 'schemes': 1, 'bully': 1, 'employed': 1, 'planetgets': 1, 'guns': 1, 'upholds': 1, 'thankful': 1, 'tommy': 1, 'robinson': 1, 'relentlessly': 1, 'freeloading': 1, 'laggards': 1, 'accomplished': 1, 'disaster': 1, 'nov': 1, 'kavabrah': 1, 'rude': 1, 'elevator': 1, 'screamers': 1, 'professionals': 1, 'professionally': 1, 'identical': 1, 'basement': 1, 'troublemakers': 1, 'insurmountable': 1, 'crush': 1, 'machine': 1, 'toledo': 1, 'spotty': 1, 'et': 1, 'constant': 1, 'criticism': 1, 'elitist': 1, 'abandon': 1, 'shun': 1, 'milking': 1, 'posh': 1, 'lifestyles': 1, 'nay': 1, 'spoken': 1, 'brushed': 1, 'forgetting': 1, 'vapid': 1, 'mistakenly': 1, 'pridefully': 1, 'fame': 1, 'despicable': 1, 'dare': 1, 'unfunny': 1, 'barbra': 1, 'whoopi': 1, 'goldberg': 1, 'keeganmichael': 1, 'rev': 1, 'ravensymoné': 1, 'buhbye': 1, 'assured': 1, 'basket': 1, 'suck': 1, 'dissent': 1, 'facist': 1, 'damnit': 1, 'discourse': 1, 'differing': 1, 'dissapointed': 1, 'christ': 1, 'outraged': 1, 'foster': 1, 'ideologically': 1, 'aligned': 1, 'stipulations': 1, 'moderation': 1, 'bullied': 1, 'sidebar': 1, 'polices': 1, 'fervor': 1, 'heck': 1, 'transpired': 1, 'singled': 1, 'modteam': 1, 'compromise': 1, 'brings': 1, 'doublestandard': 1, 'perpetuates': 1, 'heels': 1, 'logs': 1, 'rooms': 1, 'echo': 1, 'elite': 1, 'represented': 1, 'shutdown': 1, 'rpizzagate': 1, 'havechanged': 1, 'mentionshttparchiveisteroc': 1, 'usernames': 1, 'slimg': 1, 'orignal': 1, 'bent': 1, 'barbara': 1, 'eddie': 1, 'griffin': 1, 'omari': 1, 'hardwick': 1, 'whoopie': 1, 'goldburg': 1, 'ravensymone': 1, 'lawrence': 1, 'barry': 1, 'diller': 1, 'jenny': 1, 'slate': 1, 'zosia': 1, 'mamet': 1, 'chloe': 1, 'sevigny': 1, 'natasha': 1, 'lyonne': 1, 'elisabeth': 1, 'moss': 1, 'spike': 1, 'lee': 1, 'kathryn': 1, 'hahn': 1, 'lily': 1, 'depp': 1, 'gabrielle': 1, 'damon': 1, 'ruth': 1, 'bader': 1, 'ginsburg': 1, 'keegan': 1, 'michaelkey': 1, 'bought': 1, 'nosedive': 1, 'begging': 1, 'cat': 1, 'commercials': 1, 'sincerly': 1, 'scratching': 1, 'hackers': 1, 'delays': 1, 'antagonistic': 1, 'attracted': 1, 'positioning': 1, 'sharply': 1, 'soooooooyeah': 1, 'triggering': 1, 'whateverwill': 1, 'tenacity': 1, 'intellectual': 1, 'scaffolding': 1, 'virtue': 1, 'populace': 1, 'express': 1, 'greatly': 1, 'quo': 1, 'lesson': 1, 'reinvigorated': 1, 'makeamericagreatagain': 1, 'effecthttpsenwikipediaorgwikistreisandeffect': 1, 'describe': 1, 'boosts': 1, 'resolve': 1, 'intimidate': 1, 'victimization': 1, 'censors': 1, 'preventing': 1, 'leftism': 1, 'topics': 1, 'blocking': 1, 'unacceptable': 1, 'reenabled': 1, 'unlikely': 1, 'morale': 1, 'boosted': 1, 'sympathy': 1, 'outsiders': 1, 'peak': 1, 'ahh': 1, 'wonders': 1, 'bullies': 1, 'label': 1, 'spitting': 1, 'freely': 1, 'praised': 1, 'highways': 1, 'hospitals': 1, 'monsters': 1, 'spit': 1, 'baseball': 1, 'collective': 1, 'willfully': 1, 'httpsyoutubethszxjlxhyw': 1, 'door': 1, 'bawling': 1, 'elementary': 1, 'httpsyoutubedmehracdlxs': 1, 'httpsyoutubetsizbucvoa': 1, 'smashing': 1, 'spewing': 1, 'pointing': 1, 'lays': 1, 'kicking': 1, 'exercising': 1, 'unverified': 1, 'highway': 1, 'deaf': 1, 'ears': 1, 'applauds': 1, 'httpsyoutubeemuxuhmpvc': 1, 'httpsyoutubeuhvygebbgom': 1, 'misogynist': 1, 'calmly': 1, 'logic': 1, 'ripped': 1, 'punch': 1, 'senseless': 1, 'steal': 1, 'undeserved': 1, 'defenses': 1, 'weak': 1, 'participating': 1, 'havoc': 1, 'crying': 1, 'tissues': 1, 'deemed': 1, 'labeled': 1, 'registered': 1, 'electionobama': 1, 'seeingfeeling': 1, 'editi': 1, 'opposing': 1, 'decieved': 1, 'stereotype': 1, 'bigots': 1, 'backfire': 1, 'sympathetic': 1, 'slowly': 1, 'deceived': 1, 'clintonsmsm': 1, 'politely': 1, 'reeducating': 1, 'rage': 1, 'celebspoliticians': 1, 'wew': 1, 'airplane': 1, 'refrained': 1, 'longwinded': 1, 'explanations': 1, 'frankly': 1, 'celebrating': 1, 'smiling': 1, 'moreliberal': 1, 'diagnoses': 1, 'blaming': 1, 'prudent': 1, 'cents': 1, 'minor': 1, 'compassionate': 1, 'pathway': 1, 'shifted': 1, 'dramatically': 1, 'paperwork': 1, 'fivetime': 1, 'deported': 1, 'potentialkillers': 1, 'roam': 1, 'pain': 1, 'plurality': 1, 'sensible': 1, 'season': 1, 'eliminate': 1, 'bear': 1, 'heller': 1, 'affirmed': 1, 'categories': 1, 'weapons': 1, 'lethality': 1, 'attachments': 1, 'revamping': 1, 'affordable': 1, 'jammed': 1, 'throats': 1, 'parliamentary': 1, 'maneuver': 1, 'architects': 1, 'aca': 1, 'faced': 1, 'premiums': 1, 'skyrocketing': 1, 'insurance': 1, 'apart': 1, 'celebrated': 1, 'wto': 1, 'negotiate': 1, 'companion': 1, 'adjustment': 1, 'setaside': 1, 'retrain': 1, 'roughly': 1, 'judges': 1, 'measure': 1, 'terrifies': 1, 'significantly': 1, 'premature': 1, 'viability': 1, 'contrary': 1, 'nightly': 1, 'filled': 1, 'neighborhoods': 1, 'gunned': 1, 'congressmen': 1, 'disgruntled': 1, 'savagely': 1, 'devoid': 1, 'specifics': 1, 'issuebased': 1, 'isolated': 1, 'ship': 1, 'salivating': 1, 'prospect': 1, 'rolls': 1, 'massacre': 1, 'extremism': 1, 'antigay': 1, 'thanking': 1, 'delegates': 1, 'applauding': 1, 'lgbt': 1, 'spell': 1, 'defeat': 1, 'maverick': 1, 'dust': 1, 'settled': 1, 'prevalent': 1, 'ism': 1, 'repeated': 1, 'pundits': 1, 'melting': 1, 'napoleonic': 1, 'interrupt': 1, 'proverb': 1, 'countryman': 1, 'pleasantly': 1, 'surprised': 1, 'conspiracy': 1, 'swallowing': 1, 'updating': 1, 'staying': 1, 'uptodate': 1, 'dilbert': 1, 'urge': 1, 'cognitive': 1, 'dissonance': 1, 'incredible': 1, 'preceded': 1, 'asterisk': 1, 'httpswwwdonaldjtrumpcompressreleasesdonaldjtrumpaddstolistofpotentialsupremecourtjusticepicks': 1, 'replaced': 1, 'qualified': 1, 'constitutionabiding': 1, 'suspend': 1, 'terrorprone': 1, 'constitutional': 1, 'outlined': 1, 'messing': 1, 'revive': 1, 'revival': 1, 'xl': 1, 'pipelines': 1, 'detrimental': 1, 'disastrous': 1, 'loves': 1, 'httpswwwcnetcomnewstrumpwomeninstemtechlaws': 1, 'stem': 1, 'dance': 1, 'therapy': 1, 'launched': 1, 'council': 1, 'empowering': 1, 'entrepreneurs': 1, 'tweaking': 1, 'regards': 1, 'agency': 1, 'twoforone': 1, 'rollback': 1, 'impossible': 1, 'httpswwwamericanactionforumorginsightfiscalbenefitscraregulatoryreform': 1, 'deeply': 1, 'rebuilding': 1, 'httpwwwpbsorgnewshourrundowntrumpsignsexecutiveorderblackcolleges': 1, 'historically': 1, 'colleges': 1, 'immensely': 1, 'policemen': 1, 'protecting': 1, 'build': 1, 'bolster': 1, 'depleted': 1, 'httpswwwdonaldjtrumpcompressreleasesdonaldjtrumpaddressesthedrugepidemicintheunitedstates': 1, 'drugs': 1, 'cracking': 1, 'revitalize': 1, 'resolution': 1, 'miners': 1, 'httpwwwpbsorgnewshourmakingsensetrumpsayshellbringjobsbacktoamericaeconomistsareskeptical': 1, 'ceos': 1, 'february': 1, 'alone': 1, 'fiscal': 1, 'shovel': 1, 'fulfilled': 1, 'kroger': 1, 'era': 1, 'yielded': 1, 'estimated': 1, 'handful': 1, 'relieving': 1, 'dependence': 1, 'opec': 1, 'overbloated': 1, 'bureaucracy': 1, 'nasa': 1, 'exploration': 1, 'rescinding': 1, 'transgender': 1, 'bathrooms': 1, 'fallout': 1, 'ahca': 1, 'capitalize': 1, 'crash': 1, 'idiotic': 1, 'penalty': 1, 'fines': 1, 'militants': 1, 'damage': 1, 'underground': 1, 'qari': 1, 'yasin': 1, 'pakistani': 1, 'alqaeda': 1, 'vets': 1, 'httpwwwmilitarytimescomarticlestrumpvaofficeaccountabilityexecutiveorder': 1, 'oust': 1, 'incompetent': 1, 'httpsassetsdonaldjtrumpcomtrumptaxreformpdf': 1, 'concise': 1, 'effective': 1, 'inheritance': 1, 'rates': 1, 'choice': 1, 'authorities': 1, 'clinics': 1, 'prochoiceprolife': 1, 'httpsenwikipediaorgwikihydeamendment': 1, 'spikes': 1, 'nasdaq': 1, 'httpmoneycnncomdatamarketsdow': 1, 'tested': 1, 'ballistic': 1, 'missiles': 1, 'withtalked': 1, 'lasted': 1, 'believable': 1, 'egypt': 1, 'humanitarian': 1, 'aya': 1, 'hijazi': 1, 'returned': 1, 'magaing': 1, 'voat': 1, 'seriousness': 1, 'cheap': 1, 'labor': 1, 'manufacture': 1, 'overseas': 1, 'stockholders': 1, 'paragraph': 1, 'trans': 1, 'latest': 1, 'memoir': 1, 'diametrically': 1, 'opposed': 1, 'nonsecure': 1, 'blackberry': 1, 'opennet': 1, 'abroad': 1, 'assets': 1, 'briefing': 1, 'lacked': 1, 'indictment': 1, 'delivering': 1, 'acknowledging': 1, 'shitty': 1, 'contributing': 1, 'counterintuitive': 1, 'strange': 1, 'gilding': 1, 'suspects': 1, 'uninterested': 1, 'stonewalled': 1, 'inquiries': 1, 'cash': 1, 'emerged': 1, 'indicating': 1, 'communication': 1, 'intermediary': 1, 'confirmation': 1, 'joined': 1, 'graciously': 1, 'pastorum': 1, 'pertain': 1, 'megathread': 1, 'valuable': 1, 'relating': 1, 'conrad': 1, 'hospitalhttparchiveisfgwoo': 1, 'newsweek': 1, 'attempted': 1, 'himhttparchiveisewast': 1, 'endorses': 1, 'spanning': 1, 'spokesperson': 1, 'maintained': 1, 'surrounding': 1, 'risks': 1, 'commentators': 1, 'imply': 1, 'fmr': 1, 'homicide': 1, 'detective': 1, 'eye': 1, 'fud': 1, 'democratallied': 1, 'sends': 1, 'memory': 1, 'employer': 1, 'promptly': 1, 'publishes': 1, 'printing': 1, 'notify': 1, 'zerohedge': 1, 'posthumously': 1, 'ghoulish': 1, 'archivehttparchiveisecubi': 1, 'unconfirmed': 1, 'alleged': 1, 'dotcom': 1, 'entrepreneur': 1, 'near': 1, 'sethrich': 1, 'concentrated': 1, 'httpswwwdonaldjtrumpcom': 1, 'seasons': 1, 'convince': 1, 'vested': 1, 'drowned': 1, 'sea': 1, 'sensationalist': 1, 'treaty': 1, 'hegemony': 1, 'orthodoxy': 1, 'noninterventionist': 1, 'militarydefense': 1, 'contractors': 1, 'sounded': 1, 'dismal': 1, 'expanding': 1, 'lobbyist': 1, 'labeling': 1, 'advisorshttpswwwdonaldjtrumpcompressreleasesdonaldjtrumpsfivepointplanforethicsreform': 1, 'resistant': 1, 'reluctant': 1, 'lived': 1, 'downgrade': 1, 'owns': 1, 'custom': 1, 'bankers': 1, 'calculator': 1, 'hillaryhttpwwwclarkcomtaxcalculatorclintontrump': 1, 'firsthand': 1, 'atttime': 1, 'comcastnbc': 1, 'fed': 1, 'earliest': 1, 'endorsement': 1, 'nra': 1, 'perfectly': 1, 'anti': 1, 'illegalimmigration': 1, 'americanshttpswwwdonaldjtrumpcompoliciesimmigration': 1, 'costing': 1, 'yearhttpwwwfairusorgissuespublicationsstatecoststudies': 1, 'flood': 1, 'worlders': 1, 'grant': 1, 'citizenships': 1, 'pronuclear': 1, 'gained': 1, 'stranglehold': 1, 'neoprogressivism': 1, 'vogue': 1, 'wage': 1, 'gap': 1, 'promedical': 1, 'legalize': 1, 'antiglobalist': 1, 'financiers': 1, 'precedence': 1, 'profits': 1, 'inversion': 1, 'discourage': 1, 'offshoring': 1, 'understands': 1, 'regressive': 1, 'defends': 1, 'authoritarian': 1, 'proclaiming': 1, 'maternal': 1, 'stopping': 1, 'jihadis': 1, 'adversaries': 1, 'rejiggered': 1, 'cold': 1, 'bombing': 1, 'monopolies': 1, 'competitive': 1, 'bidding': 1, 'hoopla': 1, 'grab': 1, 'senior': 1, 'succeed': 1, 'incompetence': 1, 'knowingly': 1, 'antiestablishment': 1, 'danger': 1, 'crossfire': 1, 'transphobic': 1, 'buzzwords': 1, 'peer': 1, 'candidates': 1, 'pacified': 1, 'inaction': 1, 'increases': 1, 'satisfied': 1, 'direction': 1, 'gallup': 1, 'workforce': 1, 'savings': 1, 'struggle': 1, 'slipping': 1, 'indicators': 1, 'graph': 1, 'percentage': 1, 'skyrockets': 1, 'slides': 1, 'enriched': 1, 'mcaullife': 1, 'raskthedonald': 1, 'harasssment': 1, 'prosecution': 1, 'radicalized': 1, 'destruction': 1, 'property': 1, 'criminals': 1, 'erosion': 1, 'anarchists': 1, 'overthrow': 1, 'buzzfeeds': 1, 'penalizing': 1, 'offshore': 1, 'inbox': 1, 'tickets': 1, 'standup': 1, 'tour': 1, 'greeted': 1, 'geniuslevel': 1, 'piecehttpimagaimgnetimgytdpng': 1, 'amas': 1, 'oldfashioned': 1, 'younot': 1, 'adminsdecide': 1, 'httpsshopdonaldjtrumpcom': 1, 'outvirtuesignal': 1, 'professing': 1, 'reddithttpimagaimgnetimgyuipng': 1, 'alldatamatters': 1, 'admin': 1, 'practicing': 1, 'preach': 1, 'guessed': 1, 'apartheid': 1, 'eternally': 1, 'firmly': 1, 'pinnacle': 1, 'unequally': 1, 'massas': 1, 'ornery': 1, 'selfthinking': 1, 'appearing': 1, 'reprisal': 1, 'frequently': 1, 'brigades': 1, 'blatantly': 1, 'ithttpimagaimgnetimgyuqpng': 1, 'blanket': 1, 'distribution': 1, 'scripts': 1, 'advertised': 1, 'tagging': 1, 'ghetto': 1, 'tos': 1, 'dealt': 1, 'penalize': 1, 'louder': 1, 'continued': 1, 'grow': 1, 'remain': 1, 'unequal': 1, 'mlk': 1, 'thepersistence': 1, 'summary': 1, 'explored': 1, 'cinton': 1, 'purpose': 1, 'sniff': 1, 'annoyed': 1, 'duped': 1, 'complicit': 1, 'acts': 1, 'restructured': 1, 'wrongdoings': 1, 'method': 1, 'discover': 1, 'colluded': 1, 'programme': 1, 'energyrelated': 1, 'acronyms': 1, 'corp': 1, 'players': 1, 'besides': 1, 'retained': 1, 'advisor': 1, 'httpsenwikipediaorgwikidougband': 1, 'rewarded': 1, 'envoy': 1, 'blogs': 1, 'enterprise': 1, 'economical': 1, 'httpsenwikipediaorgwikideclankellybusinessperson': 1, 'nongovernment': 1, 'dismissed': 1, 'serves': 1, 'httpsenwikipediaorgwikiiramagaziner': 1, 'arrangement': 1, 'impeachment': 1, 'tenure': 1, 'httpsenwikipediaorgwikicherylmills': 1, 'aspis': 1, 'inquiry': 1, 'misplaced': 1, 'simpson': 1, 'thacher': 1, 'bartlett': 1, 'audited': 1, 'conflictsofinterest': 1, 'described': 1, 'counsel': 1, 'spearheaded': 1, 'instituting': 1, 'subsidized': 1, 'institutes': 1, 'cocacola': 1, 'chemical': 1, 'aif': 1, 'allstate': 1, 'barclays': 1, 'indo': 1, 'gems': 1, 'rockefeller': 1, 'laureate': 1, 'diamond': 1, 'firebird': 1, 'mutual': 1, 'frank': 1, 'stronach': 1, 'mylan': 1, 'attempting': 1, 'proposed': 1, 'lease': 1, 'obligation': 1, 'landlord': 1, 'personnel': 1, 'harlem': 1, 'gsa': 1, 'squarefeet': 1, 'option': 1, 'landlords': 1, 'operations': 1, 'envision': 1, 'auditors': 1, 'recommending': 1, 'shouldnot': 1, 'operate': 1, 'sublease': 1, 'advantages': 1, 'obvious': 1, 'continuity': 1, 'conflictofinterest': 1, 'applicable': 1, 'directors': 1, 'longstanding': 1, 'supervisor': 1, 'sole': 1, 'discretion': 1, 'consultation': 1, 'compliance': 1, 'norm': 1, 'pathways': 1, 'situations': 1, 'proper': 1, 'timely': 1, 'provisions': 1, 'arise': 1, 'adopt': 1, 'acceptance': 1, 'proposes': 1, 'drafted': 1, 'outlines': 1, 'compensates': 1, 'scope': 1, 'mission': 1, 'billed': 1, 'reminded': 1, 'multi': 1, 'switch': 1, 'formalize': 1, 'perception': 1, 'smelled': 1, 'fishy': 1, 'collecting': 1, 'per': 1, 'brokerage': 1, 'careened': 1, 'halloween': 1, 'filing': 1, 'chapter': 1, 'improve': 1, 'enhance': 1, 'withheld': 1, 'feared': 1, 'retribution': 1, 'borrowing': 1, 'reeks': 1, 'httpsenwikipediaorgwikimfglobal': 1, 'eg': 1, 'liveris': 1, 'inelegantly': 1, 'ineffectually': 1, 'precipitating': 1, 'comparisons': 1, 'blairs': 1, 'motivations': 1, 'outline': 1, 'scheduler': 1, 'physically': 1, 'sawcaught': 1, 'bberry': 1, 'loading': 1, 'spyware': 1, 'loaded': 1, 'baris': 1, 'marc': 1, 'absurdity': 1, 'anecdote': 1, 'offline': 1, 'ways': 1, 'oscar': 1, 'reads': 1, 'receiving': 1, 'memberships': 1, 'hustling': 1, 'davidson': 1, 'town': 1, 'hannah': 1, 'downplay': 1, 'collude': 1, 'solve': 1, 'interact': 1, 'victoria': 1, 'privilege': 1, 'recommended': 1, 'speculation': 1, 'exchanges': 1, 'complaining': 1, 'external': 1, 'employersinfluence': 1, 'advisors': 1, 'connectivity': 1, 'bob': 1, 'harrison': 1, 'decisions': 1, 'engagementrole': 1, 'valerie': 1, 'boards': 1, 'nexus': 1, 'conflict': 1, 'designs': 1, 'bags': 1, 'timeand': 1, 'expensive': 1, 'gifts': 1, 'offense': 1, 'crutch': 1, 'regret': 1, 'dj': 1, 'khaled': 1, 'worry': 1, 'dk': 1, 'wives': 1, 'husbands': 1, 'depend': 1, 'bhp': 1, 'advice': 1, 'comm': 1, 'dep': 1, 'bloomberg': 1, 'stanley': 1, 'asia': 1, 'latin': 1, 'hurt': 1, 'adv': 1, 'bd': 1, 'reorg': 1, 'privately': 1, 'chatter': 1, 'perfecting': 1, 'skills': 1, 'understatement': 1, 'feeling': 1, 'blank': 1, 'programs': 1, 'facilitate': 1, 'installation': 1, 'systems': 1, 'drawn': 1, 'approached': 1, 'jointly': 1, 'developing': 1, 'highrenewable': 1, 'pilot': 1, 'figure': 1, 'select': 1, 'caribbean': 1, 'bankifc': 1, 'notice': 1, 'brief': 1, 'driven': 1, 'manage': 1, 'grenada': 1, 'maldives': 1, 'samoa': 1, 'earlystage': 1, 'walking': 1, 'utility': 1, 'financing': 1, 'rfp': 1, 'technical': 1, 'perspective': 1, 'resource': 1, 'assessment': 1, 'modelling': 1, 'integration': 1, 'flagship': 1, 'devote': 1, 'engineering': 1, 'ecomagination': 1, 'labs': 1, 'ability': 1, 'floating': 1, 'apec': 1, 'midnovember': 1, 'representatives': 1, 'present': 1, 'indicated': 1, 'copenhagen': 1, 'approach': 1, 'challenging': 1, 'sector': 1, 'vestas': 1, 'innovative': 1, 'islandwide': 1, 'wind': 1, 'hydro': 1, 'financed': 1, 'quotes': 1, 'insinuated': 1, 'nine': 1, 'lottery': 1, 'aflciopension': 1, 'retrofit': 1, 'dig': 1, 'longterm': 1, 'develop': 1, 'sustainable': 1, 'payback': 1, 'sustain': 1, 'participation': 1, 'associated': 1, 'partnerships': 1, 'outset': 1, 'considerable': 1, 'nefarious': 1, 'begun': 1, 'closely': 1, 'natl': 1, 'background': 1, 'infrastructure': 1, 'furthermore': 1, 'interestingly': 1, 'gujurat': 1, 'asian': 1, 'partnering': 1, 'keenly': 1, 'diesel': 1, 'industrial': 1, 'acknowledge': 1, 'reactions': 1, 'whiff': 1, 'foul': 1, 'sensitive': 1, 'listing': 1, 'accomplishment': 1, 'grants': 1, 'hivaids': 1, 'healthy': 1, 'chais': 1, 'deflect': 1, 'robby': 1, 'mook': 1, 'angst': 1, 'convo': 1, 'beefing': 1, 'accomplishments': 1, 'thin': 1, 'anxious': 1, 'tabs': 1, 'implicate': 1, 'braverman': 1, 'virtually': 1, 'supportedfunded': 1, 'disbursements': 1, 'tweetemailpost': 1, 'pdf': 1, 'kneebending': 1, 'conditioner': 1, 'manufacturer': 1, 'httprsbntvwatchpresidentelectdonaldtrumpholdsrallyincincinnatioh': 1, 'uzbuster': 1, 'adminshttpslimgeaefdp': 1, 'enforced': 1, 'moderator': 1, 'messaged': 1, 'nonmoderator': 1, 'harshly': 1, 'confront': 1, 'checked': 1, 'traditional': 1, 'popularity': 1, 'untouched': 1, 'countered': 1, 'enormous': 1, 'manipulating': 1, 'handle': 1, 'bogged': 1, 'megyn': 1, 'hahahahahaaha': 1, 'newshttpwwwlivenewsoncomamericanfoxnewschannelfnchtml': 1, 'oanhttpwwwstreamgaroocomlivetelevisionunitedstatesoanlivestream': 1, 'maps': 1, 'maphttpwwwnytimescomelectionsresultspresident': 1, 'strongest': 1, 'targeting': 1, 'civilians': 1, 'abhorrent': 1, 'cowardly': 1, 'instilling': 1, 'supremacy': 1, 'foxs': 1, 'bureau': 1, 'logging': 1, 'sitewide': 1, 'cool': 1, 'jeopardy': 1, 'apples': 1, 'genuinely': 1, 'nicest': 1, 'series': 1, 'atlanta': 1, 'headquarters': 1, 'cnnleakscom': 1, 'portions': 1, 'helpful': 1, 'partners': 1, 'dots': 1, 'targets': 1, 'hhes': 1, 'draining': 1, 'drumpfkins': 1, 'bruh': 1, 'walltowall': 1, 'delegitimatize': 1, 'gtfo': 1, 'alright': 1, 'worded': 1, 'itd': 1, 'reformist': 1, 'endured': 1, 'unfathomable': 1, 'sneers': 1, 'smears': 1, 'washingtons': 1, 'dwellers': 1, 'hordes': 1, 'glorified': 1, 'bloggers': 1, 'wounded': 1, 'bodies': 1, 'maimed': 1, 'mangled': 1, 'middleaged': 1, 'affiliations': 1, 'shitlib': 1, 'leadership': 1, 'legitimizing': 1, 'equate': 1, 'hitler': 1, 'accuse': 1, 'accusing': 1, 'treason': 1, 'execution': 1, 'leftists': 1, 'inspiring': 1, 'escalating': 1, 'crybully': 1, 'abundantly': 1, 'alphas': 1, 'shitposters': 1, 'alpha': 1, 'exceptions': 1, 'alphapede': 1, 'spew': 1, 'alter': 1, 'slandering': 1, 'arrive': 1, 'closes': 1, 'tiny': 1, 'bobama': 1, 'humble': 1, 'announce': 1, 'purty': 1, 'scribd': 1, 'imgur': 1, 'albumhttpsimgurcomajbcxw': 1, 'reacts': 1, 'washex': 1, 'disputed': 1, 'origins': 1, 'caller': 1, 'sought': 1, 'campaignhttpswwwhannitycommediaroomthesmokinggunmemoshowsrussiadossierusedtosurveiltrumpcampaign': 1, 'streams': 1, 'rsbnhttpswwwyoutubecomwatchvuxzyazvlew': 1, 'recognized': 1, 'endorsed': 1, 'occurring': 1, 'fatal': 1, 'error': 1, 'mayors': 1, 'chiefs': 1, 'encouraged': 1, 'announcing': 1, 'lace': 1, 'gen': 1, 'pop': 1, 'sorosorgs': 1, 'mainip': 1, 'usengage': 1, 'hashtag': 1, 'makehimfamous': 1, 'umeloprime': 1, 'seconded': 1, 'commence': 1, 'udogsnameischarlie': 1, 'ustereoblind': 1, 'useless': 1, 'uunclepravada': 1, 'uswansonbreakfast': 1, 'httpwwwdiscoverthenetworksorg': 1, 'oranizations': 1, 'killings': 1, 'deeeeep': 1, 'lid': 1, 'peedes': 1, 'subbing': 1, 'httphumanglobalincidentmapcom': 1, 'volta': 1, 'lake': 1, 'httparchiveisozkls': 1, 'realized': 1, 'native': 1, 'approvalis': 1, 'opposite': 1, 'veto': 1, 'academy': 1, 'hence': 1, 'grasp': 1, 'weird': 1, 'introducing': 1, 'attributes': 1, 'sk': 1, 'unreliable': 1, 'anglosphere': 1, 'globaldiplomatic': 1, 'peninsulas': 1, 'experts': 1, 'northsouth': 1, 'affairsexcept': 1, 'east': 1, 'relationproblems': 1, 'socalled': 1, 'usbbc': 1, 'depicted': 1, 'maniac': 1, 'psychopath': 1, 'immoral': 1, 'demonized': 1, 'reckless': 1, 'bombards': 1, 'economicsocialcultural': 1, 'ignoredmaybe': 1, 'skepticism': 1, 'witnessing': 1, 'campaigns': 1, 'analyze': 1, 'explained': 1, 'fury': 1, 'felt': 1, 'habit': 1, 'demonizing': 1, 'expresident': 1, '박근혜park': 1, 'geunhye': 1, 'felonies': 1, 'engagement': 1, 'staterun': 1, 'watchdog': 1, 'truthseeking': 1, 'nowadays': 1, 'functioned': 1, 'realizing': 1, 'intrinsically': 1, 'maneuvering': 1, 'distortion': 1, 'vocation': 1, 'strife': 1, 'democratization': 1, 'despised': 1, '기레기': 1, '쓰레기trash': 1, 'evaluate': 1, 'ally': 1, 'heshe': 1, 'virtual': 1, 'reputationimage': 1, 'plotted': 1, 'individuals': 1, 'appreciations': 1, 'typical': 1, 'contemporarily': 1, '트력제트': 1, '트럼프trump': 1, '력제': 1, '만력제萬曆帝': 1, 'medieval': 1, 'ming': 1, 'invasion': 1, '조선joseon': 1, 'preceding': 1, 'republic': 1, 'sacred': 1, 'miraculously': 1, 'regiments': 1, 'payed': 1, 'treasures': 1, 'purchase': 1, 'foodssupplies': 1, 'heroic': 1, 'victories': 1, '이순신yi': 1, 'sunsin': 1, 'samurais': 1, 'shrine': 1, 'worshipping': 1, 'kings': 1, 'nobles': 1, 'enthusiastic': 1, 'hilarious': 1, 'ministerssecretary': 1, 'lawmakerscongressmen': 1, 'ruling': 1, 'consensus': 1, 'guarantee': 1, 'solved': 1, 'empirical': 1, 'peacehuman': 1, 'awarded': 1, 'powers': 1, 'dealing': 1, 'justifieddecorated': 1, 'attitude': 1, 'endurance': 1, 'proofs': 1, 'ranked': 1, 'randomly': 1, '오바마obama': 1, 'keyword': 1, 'withdraw': 1, 'communized': 1, 'controversial': 1, 'lecture': 1, 'unification': 1, 'unchanged': 1, 'anger': 1, 'wordings': 1, 'henry': 1, 'kissinger': 1, 'bark': 1, 'phenomenon': 1, 'achievements': 1, 'humanity': 1, 'verge': 1, 'bombshell': 1, 'dojfbihuma': 1, 'fbidojhuma': 1, 'assigns': 1, 'separately': 1, 'contains': 1, 'unreleased': 1, 'importance': 1, 'unilaterally': 1, 'weiners': 1, 'haz': 1, 'mat': 1, 'suits': 1, 'savehuma': 1, 'senator': 1, 'wydenhttpsenwikipediaorgwikironwyden': 1, 'apr': 1, 'readout': 1, 'describes': 1, 'gang': 1, 'postpone': 1, 'calculation': 1, 'referendum': 1, 'secrecy': 1, 'largely': 1, 'operating': 1, 'stacked': 1, 'forms': 1, 'legislative': 1, 'affairs': 1, 'schake': 1, 'letters': 1, 'solicits': 1, 'monetary': 1, 'reception': 1, 'megan': 1, 'rouse': 1, 'dublin': 1, 'candidacy': 1, 'modest': 1, 'guest': 1, 'informing': 1, 'ups': 1, 'markey': 1, 'chartertime': 1, 'anticipate': 1, 'loop': 1, 'mole': 1, 'transmit': 1, 'associates': 1, 'specializes': 1, 'advocacy': 1, 'partner': 1, 'containing': 1, 'panicked': 1, 'aug': 1, 'topic': 1, 'ap': 1, 'steered': 1, 'ferocious': 1, 'unyielding': 1, 'steer': 1, 'misinformed': 1, 'terrabyte': 1, 'presumed': 1, 'stolen': 1, 'searchable': 1, 'suboptimal': 1, 'mistaking': 1, 'meaning': 1, 'representation': 1, 'slew': 1, 'intersting': 1, 'avoiding': 1, 'testifying': 1, 'pally': 1, 'associate': 1, 'touch': 1, 'jd': 1, 'interim': 1, 'clintonhaiti': 1, 'joel': 1, 'benenson': 1, 'somalians': 1, 'assaults': 1, 'vaginal': 1, 'penetration': 1, 'discovery': 1, 'ubananawhom': 1, 'expanded': 1, 'kristin': 1, 'bennett': 1, 'murphy': 1, 'nfc': 1, 'poking': 1, 'aroundupdating': 1, 'daniel': 1, 'parrish': 1, 'lindsay': 1, 'rachelefsky': 1, 'owes': 1, 'retroactively': 1, 'frees': 1, 'depending': 1, 'tens': 1, 'ex': 1, 'chairwoman': 1, 'schultzs': 1, 'excel': 1, 'file': 1, 'tab': 1, 'columns': 1, 'covers': 1, 'assume': 1, 'rnc': 1, 'distribute': 1, 'hosts': 1, 'unnamed': 1, 'ken': 1, 'lerer': 1, 'huffpo': 1, 'ostensibly': 1, 'contributor': 1, 'specialty': 1, 'marked': 1, 'transfer': 1, 'committees': 1, 'hfv': 1, 'speed': 1, 'erase': 1, 'mile': 1, 'bit': 1, 'periods': 1, 'datahygiene': 1, 'ngp': 1, 'delete': 1, 'transaction': 1, 'typos': 1, 'keen': 1, 'patrick': 1, 'hallahan': 1, 'buys': 1, 'sells': 1, 'bonds': 1, 'commodities': 1, 'automation': 1, 'useful': 1, 'toss': 1, 'kaplan': 1, 'affiliated': 1, 'types': 1, 'additional': 1, 'prepare': 1, 'eventual': 1, 'september': 1, 'spot': 1, 'departments': 1, 'resigned': 1, 'citing': 1, 'unexpected': 1, 'excessive': 1, 'volatility': 1, 'markets': 1, 'speculated': 1, 'quidproquo': 1, 'expertise': 1, 'relation': 1, 'revisited': 1, 'terms': 1, 'experience': 1, 'charter': 1, 'demographic': 1, 'diversity': 1, 'variety': 1, 'scientific': 1, 'boese': 1, 'gg': 1, 'dwsforprison': 1, 'tldr': 1, 'discussed': 1, 'gods': 1, 'formatting': 1, 'grammar': 1, 'sentences': 1, 'climbing': 1, 'rustled': 1, 'jimmies': 1, 'supress': 1, 'crosspost': 1, 'rhillaryforprison': 1, 'convinced': 1, 'autofill': 1, 'shout': 1, 'philip': 1, 'defranco': 1, 'regretted': 1, 'antidiversity': 1, 'screed': 1, 'prompted': 1, 'pmd': 1, 'remembering': 1, 'badge': 1, 'damore': 1, 'nonetheless': 1, 'repercussions': 1, 'untouchable': 1, 'lucky': 1, 'afar': 1, 'gangster': 1, 'unleash': 1, 'rational': 1, 'calm': 1, 'wellthought': 1, 'discriminating': 1, 'wrongthink': 1, 'litup': 1, 'flamed': 1, 'advancing': 1, 'engage': 1, 'scary': 1, 'mythical': 1, 'magical': 1, 'wrongthinking': 1, 'conservatives': 1, 'unicorns': 1, 'silicon': 1, 'valley': 1, 'itwhere': 1, 'amongst': 1, 'ended': 1, 'agreeing': 1, 'inpart': 1, 'infull': 1, 'grimace': 1, 'blend': 1, 'shamed': 1, 'eviscerated': 1, 'empathy': 1, 'martyrs': 1, 'invested': 1, 'appreciate': 1, 'hahahhahahhahaha': 1, 'los': 1, 'angeles': 1, 'fetid': 1, 'horrors': 1, 'resisting': 1, 'cert': 1, 'rubbing': 1, 'glee': 1, 'dental': 1, 'lone': 1, 'solitary': 1, 'plug': 1, 'overweight': 1, 'lesbian': 1, 'dumb': 1, 'bricks': 1, 'mohammed': 1, 'restroom': 1, 'vaginally': 1, 'sentenced': 1, 'translate': 1, 'tider': 1, 'impressively': 1, 'translation': 1, 'aftonbladet': 1, 'tabloid': 1, 'consdered': 1, 'rundown': 1, 'normal': 1, 'normally': 1, 'math': 1, 'outrage': 1, 'escapes': 1, 'reduce': 1, 'uncertain': 1, 'dates': 1, 'dangerous': 1, 'eek': 1, 'baba': 1, 'durkle': 1, 'justifies': 1, 'oblivion': 1, 'op': 1, 'genuine': 1, 'radio': 1, 'institution': 1, 'avoided': 1, 'articlehttpwwwinfowarscommuslimmigrantanallyrapesteenagergetsonlytwomonthsjail': 1, 'motorcycle': 1, 'spraypainted': 1, 'lover': 1, 'hoaxed': 1, 'infamous': 1, 'burneddown': 1, 'philly': 1, 'httpwwwphillycomphillyblogsrealtimesjerseymanarrestedinpostelectionvandalisminsouthphillyhtmlmobitrue': 1, 'fabricating': 1, 'nyc': 1, 'subway': 1, 'arbor': 1, 'tale': 1, 'httpwwwclickondetroitcomnewsannarborpolicewomansstoryaboutbeingforcetoremovehijabdidnotoccur': 1, 'louisiana': 1, 'lafayette': 1, 'hats': 1, 'knocked': 1, 'headscarf': 1, 'swastikas': 1, 'nassau': 1, 'httppatchcomnewyorkgardencitymanwhodrewswastikasacrossnassaucommunitycollegearrestedpolice': 1, 'bowling': 1, 'falsely': 1, 'racial': 1, 'magagear': 1, 'bgsu': 1, 'slur': 1, 'malden': 1, 'lynching': 1, 'chased': 1, 'hung': 1, 'sf': 1, 'incidentally': 1, 'neighbors': 1, 'courageous': 1, 'throatpunching': 1, 'raciststomping': 1, 'fash': 1, 'inexplicably': 1, 'handcuffed': 1, 'incident': 1, 'williams': 1, 'students': 1, 'dumped': 1, 'effects': 1, 'bisexual': 1, 'latinos': 1, 'hasta': 1, 'vista': 1, 'satirical': 1, 'commentary': 1, 'wellesley': 1, 'cleared': 1, 'determined': 1, 'station': 1, 'accusation': 1, 'httpwwwphillyvoicecompolicenoofficialreportuglyracialincidentdelgasstation': 1, 'pittsburg': 1, 'hang': 1, 'tree': 1, 'mistreatment': 1, 'probate': 1, 'constitutes': 1, 'catchall': 1, 'flags': 1, 'misattribution': 1, 'satire': 1, 'incidents': 1, 'politicallymotivated': 1, 'electionyear': 1, 'paste': 1, 'psychological': 1, 'impact': 1, 'impressive': 1, 'length': 1, 'harder': 1, 'markdown': 1, 'ease': 1, 'reddithttpspasteeepwpziu': 1, 'mobile': 1, 'copypaste': 1, 'fleshed': 1, 'uevilhillary': 1, 'transformed': 1, 'wellorganized': 1, 'videohttpswwwyoutubecomwatchvgokdgkmbvmg': 1, 'wellwritten': 1, 'blackpilled': 1, 'udalisu': 1, 'featured': 1, 'gateway': 1, 'accompanying': 1, 'excited': 1, 'isishere': 1, 'preface': 1, 'altright': 1, 'lurked': 1, 'revelation': 1, 'msms': 1, 'myriad': 1, 'accusations': 1, 'flung': 1, 'unfairly': 1, 'violations': 1, 'unfortunate': 1, 'manning': 1, 'quarantines': 1, 'misconception': 1, 'farthest': 1, 'mentioning': 1, 'describing': 1, 'talker': 1, 'remembe': 1, 'medias': 1, 'watched': 1, 'spin': 1, 'type': 1, 'exact': 1, 'obviously': 1, 'physical': 1, 'mental': 1, 'mocks': 1, 'hadnt': 1, 'crossed': 1, 'ultimately': 1, 'commen': 1, 'developments': 1, 'camps': 1, 'sharebluebrock': 1, 'interventionmoney': 1, 'httparchiveisitpsi': 1, 'httparchiveistvtim': 1, 'httparchiveiszobqp': 1, 'httparchiveisqblll': 1, 'httparchiveishoqno': 1, 'wwwfacebookcomdonaldtrump': 1, 'streaming': 1, 'pre': 1, 'bigleaguetruth': 1, 'wwwdonaldjtrumpcomthedonald': 1, 'directing': 1, 'interviewing': 1, 'tues': 1, 'cancelled': 1, 'ct': 1, 'tj': 1, 'connects': 1, 'brady': 1, 'everytown': 1, 'upcoming': 1, 'byokeefe': 1, 'waterbury': 1, 'birddogging': 1, 'upside': 1, 'eliminating': 1, 'doe': 1, 'ave': 1, 'remark': 1, 'pls': 1, 'author': 1, 'topicalinteresting': 1, 'fiorina': 1, 'primaries': 1, 'juarez': 1, 'hillaryclintoncom': 1, 'messaging': 1, 'app': 1, 'teams': 1, 'teamwork': 1, 'simpler': 1, 'pleasant': 1, 'productive': 1, 'obscure': 1, 'rand': 1, 'advisers': 1, 'exploit': 1, 'simes': 1, 'prorussia': 1, 'putinweak': 1, 'context': 1, 'hrtsleeve': 1, 'ordering': 1, 'yom': 1, 'hashoah': 1, 'curiously': 1, 'moniker': 1, 'banfill': 1, 'traps': 1, 'pushback': 1, 'jewish': 1, 'holidays': 1, 'optional': 1, 'remembrance': 1, 'darfur': 1, 'bosnia': 1, 'constituency': 1, 'holiday': 1, 'memorial': 1, 'spewed': 1, 'insisting': 1, 'enlightening': 1, 'assemble': 1, 'backwards': 1, 'nearing': 1, 'homepage': 1, 'ah': 1, 'frisco': 1, 'tx': 1, 'janitorial': 1, 'remembered': 1, 'focuses': 1, 'enrolling': 1, 'janitors': 1, 'seiusoros': 1, 'httpwwwconservapediacomserviceemployeesinternationalunion': 1, 'faggots': 1, 'invading': 1, 'ets': 1, 'wfaa': 1, 'tonights': 1, 'dvr': 1, 'replay': 1, 'dominique': 1, 'alexander': 1, 'httpmimgurcomqfjgdgj': 1, 'disturbing': 1, 'unsettling': 1, 'eyeopening': 1, 'affects': 1, 'recap': 1, 'operates': 1, 'shaken': 1, 'confidence': 1, 'scenes': 1, 'zuckerburg': 1, 'vent': 1, 'egregious': 1, 'unprofessional': 1, 'suspicions': 1, 'mod': 1, 'default': 1, 'liked': 1, 'influential': 1, 'circulate': 1, 'whistleblower': 1, 'proceeded': 1, 'rsports': 1, 'peopleevents': 1, 'readily': 1, 'accessible': 1, 'irrevocably': 1, 'damaged': 1, 'trust': 1, 'paltry': 1, 'prominent': 1, 'cnethttpswwwcnetcomnewsredditceoadmitstoeditingusercommentsamidpizzagatemalarkey': 1, 'tech': 1, 'digital': 1, 'trendshttpwwwdigitaltrendscomsocialmediareddithuffmanapology': 1, 'wiredhttpwwwwiredcoukarticleredditeditpost': 1, 'exploiting': 1, 'satisfy': 1, 'clique': 1, 'unite': 1, 'particular': 1, 'scored': 1, 'stumbled': 1, 'panic': 1, 'hammerlock': 1, 'progressivism': 1, 'enlightenment': 1, 'modern': 1, 'primetime': 1, 'griffith': 1, 'reinforcing': 1, 'lessons': 1, 'inclusion': 1, 'antiracism': 1, 'scifi': 1, 'heroine': 1, 'evil': 1, 'satisfying': 1, 'wayne': 1, 'westerns': 1, 'controls': 1, 'churchgoer': 1, 'preachers': 1, 'quiet': 1, 'grandma': 1, 'reinforced': 1, 'dopamine': 1, 'angels': 1, 'whispering': 1, 'award': 1, 'talent': 1, 'skits': 1, 'jokes': 1, 'conservativism': 1, 'appeal': 1, 'morality': 1, 'sometimes': 1, 'appeals': 1, 'hollow': 1, 'planes': 1, 'buildings': 1, 'mattered': 1, 'medicare': 1, 'faithful': 1, 'contract': 1, 'theyve': 1, 'christian': 1, 'cliches': 1, 'rejection': 1, 'explicitly': 1, 'defying': 1, 'indoctrination': 1, 'warnings': 1, 'trained': 1, 'obey': 1, 'flyover': 1, 'younger': 1, 'grown': 1, 'questioned': 1, 'anonymously': 1, 'bolder': 1, 'crude': 1, 'dirty': 1, 'taught': 1, 'oldschool': 1, 'wicked': 1, 'laughed': 1, 'classrooms': 1, 'administrator': 1, 'desks': 1, 'eight': 1, 'adult': 1, 'swim': 1, 'prototype': 1, 'magazine': 1, 'filters': 1, 'inquisitors': 1, 'fluttering': 1, 'housewives': 1, 'resolutions': 1, 'platitudes': 1, 'turf': 1, 'pope': 1, 'progressive': 1, 'shifts': 1, 'christians': 1, 'dominant': 1, 'souls': 1, 'churches': 1, 'levalloisperret': 1, 'seineetmarne': 1, 'pizzeria': 1, 'barcelona': 1, 'vehicle': 1, 'champsélysées': 1, 'ramming': 1, 'attackhttpsguardianngnewsworldcarploughsintopolicevaninparischampselyseesattack': 1, 'finsbury': 1, 'circulated': 1, 'casualtiesinjuries': 1, 'stockholm': 1, 'åkerlund': 1, 'scrubbed': 1, 'outlet': 1, 'region': 1, 'boil': 1, 'westminster': 1, 'jerusalem': 1, 'december': 1, 'bastille': 1, 'extent': 1, 'caring': 1, 'avatar': 1, 'prayforinsertcity': 1, 'unbiased': 1, 'objectivity': 1, 'bastion': 1, 'rail': 1, 'dishonor': 1, 'loathe': 1, 'oppose': 1, 'embodying': 1, 'onesidedness': 1, 'cheer': 1, 'beg': 1, 'plays': 1, 'spreading': 1, 'smug': 1, 'frog': 1, 'napoleon': 1, 'drawing': 1, 'truest': 1, 'fairly': 1, 'portraits': 1, 'thinkers': 1, 'fits': 1, 'demographics': 1, 'somewhat': 1, 'similarities': 1, 'ideologies': 1, 'warring': 1, 'factions': 1, 'hivemind': 1, 'expresses': 1, 'dynamics': 1, 'compartmentalized': 1, 'desperate': 1, 'purported': 1, 'opposition': 1, 'pissing': 1, 'wander': 1, 'commonly': 1, 'realities': 1, 'cuckold': 1, 'alienated': 1, 'encouraging': 1, 'easily': 1, 'ousting': 1, 'dares': 1, 'pissed': 1, 'forcedculture': 1, 'alien': 1, 'deeper': 1, 'defaults': 1, 'sided': 1, 'goddamn': 1, 'berniebot': 1, 'trumpthemed': 1, 'throwaway': 1, 'harsh': 1, 'passionately': 1, 'carrying': 1, 'scapegoating': 1, 'dylanw': 1, 'understanding': 1, 'critical': 1, 'dealings': 1, 'compilation': 1, 'peoples': 1, 'heading': 1, 'helpinvestigate': 1, 'youll': 1, 'httpimgurcomakneuc': 1, 'hint': 1, 'dark': 1, 'unsure': 1, 'monicas': 1, 'httpimgurcomayzkqt': 1})\n"
     ]
    }
   ],
   "source": [
    "# create a dictionary to study vocabulary\n",
    "\n",
    "vocab_list = []\n",
    "\n",
    "for sentence in docs:\n",
    "    \n",
    "    for word in sentence:\n",
    "        \n",
    "        vocab_list.append(word)\n",
    "\n",
    "counts = Counter(vocab_list)\n",
    "\n",
    "print(counts)"
   ]
  },
  {
   "cell_type": "code",
   "execution_count": null,
   "metadata": {},
   "outputs": [],
   "source": []
  }
 ],
 "metadata": {
  "kernelspec": {
   "display_name": "Python 3",
   "language": "python",
   "name": "python3"
  },
  "language_info": {
   "codemirror_mode": {
    "name": "ipython",
    "version": 3
   },
   "file_extension": ".py",
   "mimetype": "text/x-python",
   "name": "python",
   "nbconvert_exporter": "python",
   "pygments_lexer": "ipython3",
   "version": "3.6.3"
  }
 },
 "nbformat": 4,
 "nbformat_minor": 2
}
