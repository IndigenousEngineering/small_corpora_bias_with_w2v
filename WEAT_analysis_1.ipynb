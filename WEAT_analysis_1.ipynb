{
 "cells": [
  {
   "cell_type": "code",
   "execution_count": null,
   "metadata": {},
   "outputs": [],
   "source": [
    "make_corpus(subreddit_object)\n",
    "\n",
    "clean_all_docs(docs)\n",
    "\n",
    "get_subreddit(subreddit_name, app_name, oa_script, oa_secret, pwd)\n",
    "\n",
    "get_cos_sim(model, word_1, word_2)\n",
    "\n",
    "compare_cos_sim(model, word_list, comp_word)\n",
    "\n"
   ]
  }
 ],
 "metadata": {
  "kernelspec": {
   "display_name": "Python 3",
   "language": "python",
   "name": "python3"
  },
  "language_info": {
   "codemirror_mode": {
    "name": "ipython",
    "version": 3
   },
   "file_extension": ".py",
   "mimetype": "text/x-python",
   "name": "python",
   "nbconvert_exporter": "python",
   "pygments_lexer": "ipython3",
   "version": "3.6.3"
  }
 },
 "nbformat": 4,
 "nbformat_minor": 2
}
