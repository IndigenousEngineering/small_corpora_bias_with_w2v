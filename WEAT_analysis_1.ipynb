{
 "cells": [
  {
   "cell_type": "code",
   "execution_count": 2,
   "metadata": {},
   "outputs": [],
   "source": [
    "import praw\n",
    "import pandas as pd"
   ]
  },
  {
   "cell_type": "code",
   "execution_count": 61,
   "metadata": {},
   "outputs": [],
   "source": [
    "# get reddit secret & script i've saved as .txt in the working directory\n",
    "\n",
    "with open('reddit_oa_script.txt') as f:\n",
    "    \n",
    "    reddit_script = f.read().strip()\n",
    "    \n",
    "with open('reddit_oa_secret.txt') as f:\n",
    "    \n",
    "    reddit_secret = f.read().strip()\n",
    "    \n",
    "with open('reddit_id.txt') as f:\n",
    "    \n",
    "    pw = f.read().strip()"
   ]
  },
  {
   "cell_type": "code",
   "execution_count": 62,
   "metadata": {},
   "outputs": [],
   "source": [
    "# user_agent is the name of the app\n",
    "\n",
    "\n",
    "\n",
    "reddit  = praw.Reddit(client_id=reddit_script,\n",
    "                          client_secret=reddit_secret,\n",
    "                          user_agent='get_corpora',\n",
    "                          username='neurodivergent_ai',\n",
    "                          password=pw)\n"
   ]
  },
  {
   "cell_type": "code",
   "execution_count": 63,
   "metadata": {},
   "outputs": [],
   "source": [
    "# get the subreddit\n",
    "\n",
    "subreddit_1 = reddit.subreddit('The_Donald')\n",
    "\n",
    "# get the top threads\n",
    "\n",
    "subreddit_1_top = subreddit_1.top(limit=1000)"
   ]
  },
  {
   "cell_type": "code",
   "execution_count": 64,
   "metadata": {},
   "outputs": [
    {
     "name": "stdout",
     "output_type": "stream",
     "text": [
      "DONALD J. TRUMP DECLARED THE WINNER! 5bzjv5\n",
      "I’m Donald J. Trump and I'm Your Next President of the United States. 4uxdbn\n"
     ]
    }
   ],
   "source": [
    "for submission in subreddit_1.top(limit=2):\n",
    "    print(submission.title, submission.id)"
   ]
  },
  {
   "cell_type": "code",
   "execution_count": null,
   "metadata": {},
   "outputs": [],
   "source": []
  }
 ],
 "metadata": {
  "kernelspec": {
   "display_name": "Python 3",
   "language": "python",
   "name": "python3"
  },
  "language_info": {
   "codemirror_mode": {
    "name": "ipython",
    "version": 3
   },
   "file_extension": ".py",
   "mimetype": "text/x-python",
   "name": "python",
   "nbconvert_exporter": "python",
   "pygments_lexer": "ipython3",
   "version": "3.6.3"
  }
 },
 "nbformat": 4,
 "nbformat_minor": 2
}
