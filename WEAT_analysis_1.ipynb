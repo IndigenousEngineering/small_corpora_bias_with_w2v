{
 "cells": [
  {
   "cell_type": "code",
   "execution_count": 141,
   "metadata": {},
   "outputs": [
    {
     "name": "stdout",
     "output_type": "stream",
     "text": [
      "[nltk_data] Downloading package stopwords to /home/keras/nltk_data...\n",
      "[nltk_data]   Package stopwords is already up-to-date!\n"
     ]
    },
    {
     "data": {
      "text/plain": [
       "True"
      ]
     },
     "execution_count": 141,
     "metadata": {},
     "output_type": "execute_result"
    }
   ],
   "source": [
    "import praw\n",
    "import pandas as pd\n",
    "import re\n",
    "import string\n",
    "import nltk\n",
    "nltk.download('stopwords')"
   ]
  },
  {
   "cell_type": "code",
   "execution_count": 142,
   "metadata": {},
   "outputs": [],
   "source": [
    "# get reddit secret & script i've saved as .txt in the working directory\n",
    "\n",
    "with open('reddit_oa_script.txt') as f:\n",
    "    \n",
    "    reddit_script = f.read().strip()\n",
    "    \n",
    "with open('reddit_oa_secret.txt') as f:\n",
    "    \n",
    "    reddit_secret = f.read().strip()\n",
    "    \n",
    "with open('reddit_id.txt') as f:\n",
    "    \n",
    "    pw = f.read().strip()"
   ]
  },
  {
   "cell_type": "code",
   "execution_count": 143,
   "metadata": {},
   "outputs": [],
   "source": [
    "# user_agent is the name of the app\n",
    "\n",
    "reddit  = praw.Reddit(client_id=reddit_script,\n",
    "                          client_secret=reddit_secret,\n",
    "                          user_agent='get_corpora',\n",
    "                          username='neurodivergent_ai',\n",
    "                          password=pw)\n"
   ]
  },
  {
   "cell_type": "code",
   "execution_count": 144,
   "metadata": {},
   "outputs": [],
   "source": [
    "# get the subreddit\n",
    "\n",
    "subreddit_1 = reddit.subreddit('The_Donald')\n",
    "\n",
    "# get the top (upvoted) 1000 threads\n",
    "\n",
    "subreddit_1_top = subreddit_1.top(limit=1000)"
   ]
  },
  {
   "cell_type": "code",
   "execution_count": 145,
   "metadata": {},
   "outputs": [
    {
     "name": "stdout",
     "output_type": "stream",
     "text": [
      "DONALD J. TRUMP DECLARED THE WINNER! \n",
      "\n",
      "I’m Donald J. Trump and I'm Your Next President of the United States. \n",
      "\n",
      "The New Algorithm Was Designed To Keep President Trump From The Front Page... But Sadly, That Won't Happen. \n",
      "\n",
      "CNN will soon be #1...when searching for the term \"Fake News\". Congratulations to CNN on this major achievement. \n",
      "\n",
      "ALL CELEBRITIES THAT VOWED TO LEAVE THE U.S.A. IF TRUMP WINS, WE NOW DEMAND YOU TO FOLLOW THROUGH!!!! OUT! OUT! OUT! \n",
      "\n"
     ]
    }
   ],
   "source": [
    "# get the top 5 submissions to check\n",
    "\n",
    "for post in subreddit_1.top(limit=5):\n",
    "    \n",
    "    print(post.title, '\\n')"
   ]
  },
  {
   "cell_type": "code",
   "execution_count": 146,
   "metadata": {},
   "outputs": [],
   "source": [
    "# build a dataset\n",
    "\n",
    "# choose information to gather\n",
    "\n",
    "columns_dict = {'title':[],\n",
    "               'id':[],\n",
    "               'url':[],\n",
    "               'date':[],\n",
    "               'score':[],\n",
    "               'num_comments':[],\n",
    "               'body':[]}\n",
    "\n",
    "# build a dictionary\n",
    "\n",
    "for post in subreddit_1_top:\n",
    "    \n",
    "    columns_dict['title'].append(post.title)\n",
    "    \n",
    "    columns_dict['id'].append(post.id)\n",
    "    \n",
    "    columns_dict['url'].append(post.url)\n",
    "    \n",
    "    columns_dict['date'].append(post.created)\n",
    "    \n",
    "    columns_dict['score'].append(post.score)\n",
    "    \n",
    "    columns_dict['num_comments'].append(post.num_comments)\n",
    "    \n",
    "    columns_dict['body'].append(post.selftext)\n",
    "\n",
    "# convert dictionary to a dataframe\n",
    "\n",
    "subreddit_1_df = pd.DataFrame(columns_dict)"
   ]
  },
  {
   "cell_type": "code",
   "execution_count": 147,
   "metadata": {},
   "outputs": [
    {
     "data": {
      "text/html": [
       "<div>\n",
       "<style scoped>\n",
       "    .dataframe tbody tr th:only-of-type {\n",
       "        vertical-align: middle;\n",
       "    }\n",
       "\n",
       "    .dataframe tbody tr th {\n",
       "        vertical-align: top;\n",
       "    }\n",
       "\n",
       "    .dataframe thead th {\n",
       "        text-align: right;\n",
       "    }\n",
       "</style>\n",
       "<table border=\"1\" class=\"dataframe\">\n",
       "  <thead>\n",
       "    <tr style=\"text-align: right;\">\n",
       "      <th></th>\n",
       "      <th>title</th>\n",
       "      <th>id</th>\n",
       "      <th>url</th>\n",
       "      <th>date</th>\n",
       "      <th>score</th>\n",
       "      <th>num_comments</th>\n",
       "      <th>body</th>\n",
       "    </tr>\n",
       "  </thead>\n",
       "  <tbody>\n",
       "    <tr>\n",
       "      <th>0</th>\n",
       "      <td>DONALD J. TRUMP DECLARED THE WINNER!</td>\n",
       "      <td>5bzjv5</td>\n",
       "      <td>https://www.reddit.com/r/The_Donald/comments/5...</td>\n",
       "      <td>1.478706e+09</td>\n",
       "      <td>66714</td>\n",
       "      <td>12097</td>\n",
       "      <td>#Meme Magic is REAL.\\n\\n#Donald J. Trump is th...</td>\n",
       "    </tr>\n",
       "    <tr>\n",
       "      <th>1</th>\n",
       "      <td>I’m Donald J. Trump and I'm Your Next Presiden...</td>\n",
       "      <td>4uxdbn</td>\n",
       "      <td>https://www.reddit.com/r/The_Donald/comments/4...</td>\n",
       "      <td>1.469687e+09</td>\n",
       "      <td>42118</td>\n",
       "      <td>20806</td>\n",
       "      <td>Hello The_Donald readers and the entire Reddit...</td>\n",
       "    </tr>\n",
       "    <tr>\n",
       "      <th>2</th>\n",
       "      <td>The New Algorithm Was Designed To Keep Preside...</td>\n",
       "      <td>5gvy1j</td>\n",
       "      <td>https://i.sli.mg/gu0oHA.png</td>\n",
       "      <td>1.481092e+09</td>\n",
       "      <td>40966</td>\n",
       "      <td>835</td>\n",
       "      <td></td>\n",
       "    </tr>\n",
       "    <tr>\n",
       "      <th>3</th>\n",
       "      <td>CNN will soon be #1...when searching for the t...</td>\n",
       "      <td>5jt9xs</td>\n",
       "      <td>https://i.redd.it/7jeyhzgku65y.png</td>\n",
       "      <td>1.482472e+09</td>\n",
       "      <td>37276</td>\n",
       "      <td>724</td>\n",
       "      <td></td>\n",
       "    </tr>\n",
       "    <tr>\n",
       "      <th>4</th>\n",
       "      <td>ALL CELEBRITIES THAT VOWED TO LEAVE THE U.S.A....</td>\n",
       "      <td>5bz5ds</td>\n",
       "      <td>https://www.reddit.com/r/The_Donald/comments/5...</td>\n",
       "      <td>1.478702e+09</td>\n",
       "      <td>36614</td>\n",
       "      <td>1685</td>\n",
       "      <td>Now that we have proven our commitment to the ...</td>\n",
       "    </tr>\n",
       "  </tbody>\n",
       "</table>\n",
       "</div>"
      ],
      "text/plain": [
       "                                               title      id  \\\n",
       "0               DONALD J. TRUMP DECLARED THE WINNER!  5bzjv5   \n",
       "1  I’m Donald J. Trump and I'm Your Next Presiden...  4uxdbn   \n",
       "2  The New Algorithm Was Designed To Keep Preside...  5gvy1j   \n",
       "3  CNN will soon be #1...when searching for the t...  5jt9xs   \n",
       "4  ALL CELEBRITIES THAT VOWED TO LEAVE THE U.S.A....  5bz5ds   \n",
       "\n",
       "                                                 url          date  score  \\\n",
       "0  https://www.reddit.com/r/The_Donald/comments/5...  1.478706e+09  66714   \n",
       "1  https://www.reddit.com/r/The_Donald/comments/4...  1.469687e+09  42118   \n",
       "2                        https://i.sli.mg/gu0oHA.png  1.481092e+09  40966   \n",
       "3                 https://i.redd.it/7jeyhzgku65y.png  1.482472e+09  37276   \n",
       "4  https://www.reddit.com/r/The_Donald/comments/5...  1.478702e+09  36614   \n",
       "\n",
       "   num_comments                                               body  \n",
       "0         12097  #Meme Magic is REAL.\\n\\n#Donald J. Trump is th...  \n",
       "1         20806  Hello The_Donald readers and the entire Reddit...  \n",
       "2           835                                                     \n",
       "3           724                                                     \n",
       "4          1685  Now that we have proven our commitment to the ...  "
      ]
     },
     "execution_count": 147,
     "metadata": {},
     "output_type": "execute_result"
    }
   ],
   "source": [
    "subreddit_1_df.head()"
   ]
  },
  {
   "cell_type": "code",
   "execution_count": 148,
   "metadata": {},
   "outputs": [],
   "source": [
    "# create a copy to work on\n",
    "\n",
    "reddit_df = subreddit_1_df.copy()"
   ]
  },
  {
   "cell_type": "code",
   "execution_count": 149,
   "metadata": {},
   "outputs": [],
   "source": [
    "# grab texts to build into corpus\n",
    "\n",
    "titles_df = reddit_df['title']\n",
    "\n",
    "posts_df = reddit_df['body']"
   ]
  },
  {
   "cell_type": "code",
   "execution_count": 150,
   "metadata": {},
   "outputs": [
    {
     "data": {
      "text/plain": [
       "0                 DONALD J. TRUMP DECLARED THE WINNER!\n",
       "1    I’m Donald J. Trump and I'm Your Next Presiden...\n",
       "2    The New Algorithm Was Designed To Keep Preside...\n",
       "3    CNN will soon be #1...when searching for the t...\n",
       "4    ALL CELEBRITIES THAT VOWED TO LEAVE THE U.S.A....\n",
       "5                             IMMINENT VICTORY THREAD.\n",
       "6    Hey admins, we found a picture of your wife's ...\n",
       "7             Oh yeah, nothing fucky going on here :^)\n",
       "8                     Can't Stump your President Trump\n",
       "9    It's official: Trump will become the first U.S...\n",
       "Name: title, dtype: object"
      ]
     },
     "execution_count": 150,
     "metadata": {},
     "output_type": "execute_result"
    }
   ],
   "source": [
    "titles_df.head(10)"
   ]
  },
  {
   "cell_type": "code",
   "execution_count": 151,
   "metadata": {},
   "outputs": [
    {
     "data": {
      "text/plain": [
       "0    #Meme Magic is REAL.\\n\\n#Donald J. Trump is th...\n",
       "1    Hello The_Donald readers and the entire Reddit...\n",
       "2                                                     \n",
       "3                                                     \n",
       "4    Now that we have proven our commitment to the ...\n",
       "5    #THIS IS NOT A DRILL. WE ARE ACTUALLY GOING TO...\n",
       "6                                                     \n",
       "7                                                     \n",
       "8                                                     \n",
       "9                                                     \n",
       "Name: body, dtype: object"
      ]
     },
     "execution_count": 151,
     "metadata": {},
     "output_type": "execute_result"
    }
   ],
   "source": [
    "posts_df.head(10)"
   ]
  },
  {
   "cell_type": "code",
   "execution_count": 152,
   "metadata": {},
   "outputs": [
    {
     "name": "stdout",
     "output_type": "stream",
     "text": [
      "['Now', 'that', 'we', 'have', 'proven', 'our', 'commitment', 'to', 'the', 'cause,', 'now', 'that', 'we', 'have', 'voiced', 'and', 'acted', 'on', 'our', 'patriotism,', 'now', 'that', 'against', 'all', 'odds', 'and', 'constant', 'criticism', 'with', 'the', 'world', 'against', 'us,', 'we', 'have', 'won,', 'and', 'we', 'call', 'for', 'this:', '#All', 'of', 'you', 'elitist', 'hollywood', 'celebrities', 'who', 'vowed', 'to', 'betray', 'your', 'country', 'and', 'leave,', 'to', 'abandon', 'and', 'shun', 'those', 'who', 'you', 'spent', 'your', 'careers', 'milking', 'for', 'your', 'posh', 'lifestyles,', 'we', 'ask,', 'nay,', 'demand', 'that', 'you', 'follow', 'through', 'on', 'your', 'claims', 'to', 'leave', 'the', 'country.', 'We', 'as', 'Americans', 'have', 'spoken,', 'and', 'you', 'brushed', 'us', 'and', 'our', 'movement', 'off,', 'as', 'if', 'you', 'were', 'somehow', 'above', 'us,', 'forgetting', 'that', 'it', 'was', 'us', 'who', 'made', 'you.', '**FUCK', 'YOU!**', 'You', 'think', 'you', 'are', 'too', 'good', 'for', 'us,', 'well,', \"we're\", 'too', 'good', 'for', 'you.', 'So', 'follow', 'through', 'on', 'your', 'vapid', 'and', 'empty', '\"threat\"', 'as', 'you', 'mistakenly', 'and', 'pridefully', 'consider', 'it', 'to', 'be,', 'and', '**GET.', 'THE.', 'FUCK.', 'OUT.**', 'Your', 'fame', 'and', 'celebrity', 'status', 'are', 'despicable,', 'or', 'shall', 'I', 'say,', 'deplorable.', 'You', 'are', 'not', 'better', 'than', 'us,', 'you', 'are', 'not', 'more', 'important', 'than', 'us,', 'you', 'would', 'be', 'nothing', 'without', 'us.', 'How', 'dare', 'you', 'pretend', 'that', 'you', 'are', 'above', 'us.', '_______', 'So', 'all', 'of', 'you', 'on', 'the', 'list', 'below,', 'we', 'demand', 'you', 'leave.', 'ASAP!!!', '*', 'Amy', '(unfunny)', 'schumer', '*', 'Lena', 'Dunham', '*', 'Barbra', 'Streisand', '*', 'Bryan', 'Cranston', '*', 'Miley', 'Cyrus', '*', 'Amy', 'Schumer', '*', 'Jon', 'Stewart', '*', 'Cher', '*', 'Chelsea', 'Handler', '*', 'Samuel', 'L.', 'Jackson', '*', 'Whoopi', 'Goldberg', '*', 'Neve', 'Campbell', '*', 'Keegan-Michael', 'Key', '*', 'George', 'Lopez', '*', 'Ne-Yo', '*', 'Rev.', 'Al', 'Sharpton', '*', 'Raven-Symoné', '#BUH-BYE.', '#Be', 'assured,', 'YOU', 'WILL', 'NOT', 'BE', 'MISSED.', 'Love,', 'The', 'Basket', 'of', 'Deplorables']\n"
     ]
    }
   ],
   "source": [
    "# experiment\n",
    "# need to toeknize, etc\n",
    "\n",
    "text = posts_df[4].split()\n",
    "\n",
    "print(text)"
   ]
  },
  {
   "cell_type": "markdown",
   "metadata": {},
   "source": [
    "the text needs to be cleaned. lots of stopwords, punctuation, & non-alpha characters. case needs to be lowered etc."
   ]
  },
  {
   "cell_type": "code",
   "execution_count": 153,
   "metadata": {},
   "outputs": [],
   "source": [
    "def clean_text(doc):\n",
    "    '''\n",
    "    tokenizes input text, converts to lowercase,\n",
    "    removes punctuation/non-alphabetic characters\n",
    "    and stopwords. returns clean document.\n",
    "    \n",
    "    '''\n",
    "    \n",
    "    # tokenize\n",
    "    \n",
    "    split_tokens = doc.split()\n",
    "    \n",
    "    # grab punctuation list\n",
    "    \n",
    "    punctuation = string.punctuation\n",
    "    \n",
    "    # set up regex \n",
    "    \n",
    "    punct_filter = re.compile('[%s]' % re.escape(punctuation))\n",
    "    \n",
    "    # filter out punctuation\n",
    "    \n",
    "    no_punct_tokens = [punct_filter.sub('', char) for char in split_tokens]\n",
    "    \n",
    "    # remove non-alphabetic tokens\n",
    "    \n",
    "    alpha_tokens = [t for t in no_punct_tokens if t.isalpha()]\n",
    "    \n",
    "    # lowercase\n",
    "    \n",
    "    lower_tokens = [t.lower() for t in alpha_tokens]\n",
    "    \n",
    "    # get stop words\n",
    "    \n",
    "    stop_words = set(stopwords.words('english'))\n",
    "    \n",
    "    # filter out stopwords\n",
    "    \n",
    "    go_tokens = [t for t in lower_tokens if not t in stop_words]\n",
    "    \n",
    "    # remove very short tokens\n",
    "    \n",
    "    clean_tokens = [word for word in go_tokens if len(word) > 1]\n",
    "    \n",
    "    return clean_tokens\n",
    "    "
   ]
  },
  {
   "cell_type": "code",
   "execution_count": 154,
   "metadata": {},
   "outputs": [
    {
     "data": {
      "text/plain": [
       "['proven',\n",
       " 'commitment',\n",
       " 'cause',\n",
       " 'voiced',\n",
       " 'acted',\n",
       " 'patriotism',\n",
       " 'odds',\n",
       " 'constant',\n",
       " 'criticism',\n",
       " 'world',\n",
       " 'us',\n",
       " 'call',\n",
       " 'elitist',\n",
       " 'hollywood',\n",
       " 'celebrities',\n",
       " 'vowed',\n",
       " 'betray',\n",
       " 'country',\n",
       " 'leave',\n",
       " 'abandon',\n",
       " 'shun',\n",
       " 'spent',\n",
       " 'careers',\n",
       " 'milking',\n",
       " 'posh',\n",
       " 'lifestyles',\n",
       " 'ask',\n",
       " 'nay',\n",
       " 'demand',\n",
       " 'follow',\n",
       " 'claims',\n",
       " 'leave',\n",
       " 'country',\n",
       " 'americans',\n",
       " 'spoken',\n",
       " 'brushed',\n",
       " 'us',\n",
       " 'movement',\n",
       " 'somehow',\n",
       " 'us',\n",
       " 'forgetting',\n",
       " 'us',\n",
       " 'made',\n",
       " 'fuck',\n",
       " 'think',\n",
       " 'good',\n",
       " 'us',\n",
       " 'well',\n",
       " 'good',\n",
       " 'follow',\n",
       " 'vapid',\n",
       " 'empty',\n",
       " 'threat',\n",
       " 'mistakenly',\n",
       " 'pridefully',\n",
       " 'consider',\n",
       " 'get',\n",
       " 'fuck',\n",
       " 'fame',\n",
       " 'celebrity',\n",
       " 'status',\n",
       " 'despicable',\n",
       " 'shall',\n",
       " 'say',\n",
       " 'deplorable',\n",
       " 'better',\n",
       " 'us',\n",
       " 'important',\n",
       " 'us',\n",
       " 'would',\n",
       " 'nothing',\n",
       " 'without',\n",
       " 'us',\n",
       " 'dare',\n",
       " 'pretend',\n",
       " 'us',\n",
       " 'list',\n",
       " 'demand',\n",
       " 'leave',\n",
       " 'asap',\n",
       " 'amy',\n",
       " 'unfunny',\n",
       " 'schumer',\n",
       " 'lena',\n",
       " 'dunham',\n",
       " 'barbra',\n",
       " 'streisand',\n",
       " 'bryan',\n",
       " 'cranston',\n",
       " 'miley',\n",
       " 'cyrus',\n",
       " 'amy',\n",
       " 'schumer',\n",
       " 'jon',\n",
       " 'stewart',\n",
       " 'cher',\n",
       " 'chelsea',\n",
       " 'handler',\n",
       " 'samuel',\n",
       " 'jackson',\n",
       " 'whoopi',\n",
       " 'goldberg',\n",
       " 'neve',\n",
       " 'campbell',\n",
       " 'keeganmichael',\n",
       " 'key',\n",
       " 'george',\n",
       " 'lopez',\n",
       " 'neyo',\n",
       " 'rev',\n",
       " 'al',\n",
       " 'sharpton',\n",
       " 'ravensymoné',\n",
       " 'buhbye',\n",
       " 'assured',\n",
       " 'missed',\n",
       " 'love',\n",
       " 'basket',\n",
       " 'deplorables']"
      ]
     },
     "execution_count": 154,
     "metadata": {},
     "output_type": "execute_result"
    }
   ],
   "source": [
    "# test\n",
    "\n",
    "raw_text = posts_df[4]\n",
    "\n",
    "clean_text(raw_text)"
   ]
  },
  {
   "cell_type": "code",
   "execution_count": 155,
   "metadata": {},
   "outputs": [],
   "source": [
    "def clean_all_texts(texts):\n",
    "    '''\n",
    "    iterate through a list of texts\n",
    "    apply clean_text() function to each\n",
    "    append each clean text to a list\n",
    "    return the list of cleaned texts\n",
    "    \n",
    "    '''\n",
    "    \n",
    "    cleaned_texts = []\n",
    "    \n",
    "    for text in texts:\n",
    "        \n",
    "        text = clean_text(text)\n",
    "        \n",
    "        cleaned_texts.append(text)\n",
    "        \n",
    "    return cleaned_texts"
   ]
  },
  {
   "cell_type": "code",
   "execution_count": 156,
   "metadata": {},
   "outputs": [],
   "source": [
    "clean_titles = clean_all_texts(titles)\n",
    "\n",
    "clean_posts = clean_all_texts(posts)"
   ]
  },
  {
   "cell_type": "code",
   "execution_count": 166,
   "metadata": {},
   "outputs": [
    {
     "name": "stdout",
     "output_type": "stream",
     "text": [
      "['celebrities', 'vowed', 'leave', 'usa', 'trump', 'wins', 'demand', 'follow']\n",
      "\n",
      "\n",
      "['proven', 'commitment', 'cause', 'voiced', 'acted', 'patriotism', 'odds', 'constant', 'criticism', 'world', 'us', 'call', 'elitist', 'hollywood', 'celebrities', 'vowed', 'betray', 'country', 'leave', 'abandon', 'shun', 'spent', 'careers', 'milking', 'posh', 'lifestyles', 'ask', 'nay', 'demand', 'follow', 'claims', 'leave', 'country', 'americans', 'spoken', 'brushed', 'us', 'movement', 'somehow', 'us', 'forgetting', 'us', 'made', 'fuck', 'think', 'good', 'us', 'well', 'good', 'follow', 'vapid', 'empty', 'threat', 'mistakenly', 'pridefully', 'consider', 'get', 'fuck', 'fame', 'celebrity', 'status', 'despicable', 'shall', 'say', 'deplorable', 'better', 'us', 'important', 'us', 'would', 'nothing', 'without', 'us', 'dare', 'pretend', 'us', 'list', 'demand', 'leave', 'asap', 'amy', 'unfunny', 'schumer', 'lena', 'dunham', 'barbra', 'streisand', 'bryan', 'cranston', 'miley', 'cyrus', 'amy', 'schumer', 'jon', 'stewart', 'cher', 'chelsea', 'handler', 'samuel', 'jackson', 'whoopi', 'goldberg', 'neve', 'campbell', 'keeganmichael', 'key', 'george', 'lopez', 'neyo', 'rev', 'al', 'sharpton', 'ravensymoné', 'buhbye', 'assured', 'missed', 'love', 'basket', 'deplorables']\n"
     ]
    }
   ],
   "source": [
    "# test\n",
    "\n",
    "print(clean_titles[4])\n",
    "\n",
    "print('\\n')\n",
    "\n",
    "print(clean_posts[4])"
   ]
  },
  {
   "cell_type": "code",
   "execution_count": 164,
   "metadata": {},
   "outputs": [
    {
     "name": "stdout",
     "output_type": "stream",
     "text": [
      "['donald', 'trump', 'declared', 'winner'] \n",
      "\n",
      "['donald', 'trump', 'im', 'next', 'president', 'united', 'states'] \n",
      "\n",
      "['new', 'algorithm', 'designed', 'keep', 'president', 'trump', 'front', 'page', 'sadly', 'wont', 'happen'] \n",
      "\n",
      "['cnn', 'soon', 'searching', 'term', 'fake', 'news', 'congratulations', 'cnn', 'major', 'achievement'] \n",
      "\n",
      "['celebrities', 'vowed', 'leave', 'usa', 'trump', 'wins', 'demand', 'follow'] \n",
      "\n",
      "['imminent', 'victory', 'thread'] \n",
      "\n",
      "['hey', 'admins', 'found', 'picture', 'wifes', 'boyfriends', 'president'] \n",
      "\n",
      "['oh', 'yeah', 'nothing', 'fucky', 'going'] \n",
      "\n",
      "['cant', 'stump', 'president', 'trump'] \n",
      "\n",
      "['official', 'trump', 'become', 'first', 'us', 'president', 'support', 'gay', 'marriage', 'starting', 'inauguration', 'day', 'shame', 'reached', 'rall'] \n",
      "\n",
      "['fuck', 'reddit', 'admins', 'like', 'redit', 'try', 'much', 'like', 'cant', 'stop', 'portrait', 'getting', 'upvotes', 'deserves'] \n",
      "\n",
      "['reddit', 'cuck', 'admins', 'take', 'official', 'portrait', 'president', 'upvoted', 'post', 'reddits', 'history'] \n",
      "\n",
      "['press', 'pay', 'respect'] \n",
      "\n",
      "['youtube', 'removed', 'countless', 'copies', 'video', 'bunch', 'racists', 'beating', 'trump', 'voter', 'issued', 'strikes', 'accounts', 'uploaded', 'posting', 'every', 'day', 'racists', 'identified', 'punished'] \n",
      "\n",
      "['hey', 'rall'] \n",
      "\n",
      "['fired'] \n",
      "\n",
      "['little', 'something', 'reddit', 'admins', 'get', 'used', 'looking', 'around', 'next', 'years'] \n",
      "\n",
      "['official', 'portrait', 'president', 'upvotednot', 'post', 'reddits', 'history'] \n",
      "\n",
      "['trump'] \n",
      "\n",
      "['united', 'states', 'trump'] \n",
      "\n",
      "['hero', 'stopped', 'terrorist', 'attack', 'today', 'ohio', 'state'] \n",
      "\n",
      "['portrait', 'powerful', 'man', 'free', 'world'] \n",
      "\n",
      "['reddit', 'voting', 'algorithm', 'changed', 'picture', 'droniest', 'president', 'ever', 'highest', 'voted', 'shitpost', 'time'] \n",
      "\n",
      "['heard', 'reddit', 'admins', 'hate', 'photo', 'know', 'centipedes'] \n",
      "\n",
      "['top', 'god', 'emperor'] \n",
      "\n"
     ]
    }
   ],
   "source": [
    "# get the first 25 titles\n",
    "\n",
    "counter = 0\n",
    "\n",
    "for i in clean_titles:\n",
    "    \n",
    "    if counter < 25:\n",
    "        \n",
    "        print(i, '\\n')\n",
    "        \n",
    "        counter += 1"
   ]
  },
  {
   "cell_type": "code",
   "execution_count": 165,
   "metadata": {},
   "outputs": [
    {
     "name": "stdout",
     "output_type": "stream",
     "text": [
      "['meme', 'magic', 'real', 'donald', 'trump', 'next', 'president', 'united', 'states', 'america', 'let', 'tendies', 'hit', 'floor', 'donald', 'trump', 'proved', 'entire', 'world', 'wrong', 'insurmountable', 'odds', 'corruption', 'media', 'sabotage', 'party', 'crush', 'establishment', 'machine', 'donald', 'trump', 'feel', 'centipedes', 'god', 'emperor', 'said', 'would', 'get', 'tired', 'winning', 'tired', 'winning', 'yet', 'feel', 'vindicated', 'centipedes', 'nothing', 'future', 'history', 'part', 'history', 'thedonald', 'part', 'history', 'knew', 'hearts', 'one', 'believed', 'us', 'always', 'knew', 'truth', 'brakes', 'train', 'trump', 'wins'] \n",
      "\n",
      "['hello', 'thedonald', 'readers', 'entire', 'reddit', 'community', 'going', 'huge', 'im', 'looking', 'forward', 'answering', 'questions', 'im', 'flight', 'visit', 'great', 'people', 'toledo', 'oh', 'internet', 'connection', 'might', 'spotty', 'promise', 'ill', 'answer', 'questions', 'want', 'big', 'things', 'america', 'president', 'make', 'america', 'great', 'back', 'pm', 'et', 'update', 'proof', 'looking', 'forward', 'answering', 'questions', 'still', 'air', 'way', 'ohio', 'great', 'time', 'answering', 'questions', 'thank'] \n",
      "\n",
      "[] \n",
      "\n",
      "[] \n",
      "\n",
      "['proven', 'commitment', 'cause', 'voiced', 'acted', 'patriotism', 'odds', 'constant', 'criticism', 'world', 'us', 'call', 'elitist', 'hollywood', 'celebrities', 'vowed', 'betray', 'country', 'leave', 'abandon', 'shun', 'spent', 'careers', 'milking', 'posh', 'lifestyles', 'ask', 'nay', 'demand', 'follow', 'claims', 'leave', 'country', 'americans', 'spoken', 'brushed', 'us', 'movement', 'somehow', 'us', 'forgetting', 'us', 'made', 'fuck', 'think', 'good', 'us', 'well', 'good', 'follow', 'vapid', 'empty', 'threat', 'mistakenly', 'pridefully', 'consider', 'get', 'fuck', 'fame', 'celebrity', 'status', 'despicable', 'shall', 'say', 'deplorable', 'better', 'us', 'important', 'us', 'would', 'nothing', 'without', 'us', 'dare', 'pretend', 'us', 'list', 'demand', 'leave', 'asap', 'amy', 'unfunny', 'schumer', 'lena', 'dunham', 'barbra', 'streisand', 'bryan', 'cranston', 'miley', 'cyrus', 'amy', 'schumer', 'jon', 'stewart', 'cher', 'chelsea', 'handler', 'samuel', 'jackson', 'whoopi', 'goldberg', 'neve', 'campbell', 'keeganmichael', 'key', 'george', 'lopez', 'neyo', 'rev', 'al', 'sharpton', 'ravensymoné', 'buhbye', 'assured', 'missed', 'love', 'basket', 'deplorables'] \n",
      "\n",
      "['drill', 'actually', 'going', 'win', 'sjws', 'suck', 'dick'] \n",
      "\n",
      "[] \n",
      "\n",
      "[] \n",
      "\n",
      "[] \n",
      "\n",
      "[] \n",
      "\n",
      "[] \n",
      "\n",
      "[] \n",
      "\n",
      "[] \n",
      "\n",
      "[] \n",
      "\n",
      "[] \n",
      "\n",
      "[] \n",
      "\n",
      "[] \n",
      "\n",
      "[] \n",
      "\n",
      "[] \n",
      "\n",
      "[] \n",
      "\n",
      "[] \n",
      "\n",
      "[] \n",
      "\n",
      "[] \n",
      "\n",
      "[] \n",
      "\n",
      "[] \n",
      "\n"
     ]
    }
   ],
   "source": [
    "# get the first 25 posts\n",
    "\n",
    "counter = 0\n",
    "\n",
    "for i in clean_posts:\n",
    "    \n",
    "    if counter < 25:\n",
    "        \n",
    "        print(i, '\\n')\n",
    "        \n",
    "        counter += 1"
   ]
  },
  {
   "cell_type": "markdown",
   "metadata": {},
   "source": [
    "there are no missing lines in `clean_titles`, since every post must at least have a title. some posts, however, consist only of the title (with no body). \n",
    "\n",
    "because of this, there are a number of empty rows in `clean_posts`."
   ]
  },
  {
   "cell_type": "code",
   "execution_count": 167,
   "metadata": {},
   "outputs": [],
   "source": [
    "clean_posts_2 = [i for i in clean_posts if len(i) > 0]"
   ]
  },
  {
   "cell_type": "code",
   "execution_count": 168,
   "metadata": {},
   "outputs": [
    {
     "name": "stdout",
     "output_type": "stream",
     "text": [
      "['meme', 'magic', 'real', 'donald', 'trump', 'next', 'president', 'united', 'states', 'america', 'let', 'tendies', 'hit', 'floor', 'donald', 'trump', 'proved', 'entire', 'world', 'wrong', 'insurmountable', 'odds', 'corruption', 'media', 'sabotage', 'party', 'crush', 'establishment', 'machine', 'donald', 'trump', 'feel', 'centipedes', 'god', 'emperor', 'said', 'would', 'get', 'tired', 'winning', 'tired', 'winning', 'yet', 'feel', 'vindicated', 'centipedes', 'nothing', 'future', 'history', 'part', 'history', 'thedonald', 'part', 'history', 'knew', 'hearts', 'one', 'believed', 'us', 'always', 'knew', 'truth', 'brakes', 'train', 'trump', 'wins'] \n",
      "\n",
      "['hello', 'thedonald', 'readers', 'entire', 'reddit', 'community', 'going', 'huge', 'im', 'looking', 'forward', 'answering', 'questions', 'im', 'flight', 'visit', 'great', 'people', 'toledo', 'oh', 'internet', 'connection', 'might', 'spotty', 'promise', 'ill', 'answer', 'questions', 'want', 'big', 'things', 'america', 'president', 'make', 'america', 'great', 'back', 'pm', 'et', 'update', 'proof', 'looking', 'forward', 'answering', 'questions', 'still', 'air', 'way', 'ohio', 'great', 'time', 'answering', 'questions', 'thank'] \n",
      "\n",
      "['proven', 'commitment', 'cause', 'voiced', 'acted', 'patriotism', 'odds', 'constant', 'criticism', 'world', 'us', 'call', 'elitist', 'hollywood', 'celebrities', 'vowed', 'betray', 'country', 'leave', 'abandon', 'shun', 'spent', 'careers', 'milking', 'posh', 'lifestyles', 'ask', 'nay', 'demand', 'follow', 'claims', 'leave', 'country', 'americans', 'spoken', 'brushed', 'us', 'movement', 'somehow', 'us', 'forgetting', 'us', 'made', 'fuck', 'think', 'good', 'us', 'well', 'good', 'follow', 'vapid', 'empty', 'threat', 'mistakenly', 'pridefully', 'consider', 'get', 'fuck', 'fame', 'celebrity', 'status', 'despicable', 'shall', 'say', 'deplorable', 'better', 'us', 'important', 'us', 'would', 'nothing', 'without', 'us', 'dare', 'pretend', 'us', 'list', 'demand', 'leave', 'asap', 'amy', 'unfunny', 'schumer', 'lena', 'dunham', 'barbra', 'streisand', 'bryan', 'cranston', 'miley', 'cyrus', 'amy', 'schumer', 'jon', 'stewart', 'cher', 'chelsea', 'handler', 'samuel', 'jackson', 'whoopi', 'goldberg', 'neve', 'campbell', 'keeganmichael', 'key', 'george', 'lopez', 'neyo', 'rev', 'al', 'sharpton', 'ravensymoné', 'buhbye', 'assured', 'missed', 'love', 'basket', 'deplorables'] \n",
      "\n",
      "['drill', 'actually', 'going', 'win', 'sjws', 'suck', 'dick'] \n",
      "\n",
      "['get', 'rall'] \n",
      "\n",
      "['welcome', 'folks', 'time', 'upvote', 'literally', 'every', 'post', 'subreddit'] \n",
      "\n",
      "['remember', 'self', 'defense', 'fine', 'make', 'sure', 'clear', 'laws', 'state', 'regarding', 'last', 'thing', 'need', 'msm', 'run', 'fake', 'news', 'story', 'pede', 'violent', 'stay', 'safe', 'smart', 'making', 'america', 'great'] \n",
      "\n",
      "['wins', 'everything'] \n",
      "\n",
      "['suppression', 'dissent', 'facist', 'gets', 'may', 'agree', 'may', 'even', 'like', 'god', 'damnit', 'left', 'need', 'hear', 'discourse', 'especially', 'differing', 'views', 'way', 'democracy', 'works', 'without', 'country', 'never', 'address', 'problems', 'face', 'us', 'voted', 'trump', 'dissapointed', 'fucking', 'christ', 'outraged', 'platform', 'designed', 'foster', 'discussion', 'free', 'speech', 'works', 'censor', 'people', 'doesnt', 'agree', 'fuck', 'uspez', 'equalrightsonreddit'] \n",
      "\n",
      "['dear', 'reddit', 'get', 'everyone', 'ideologically', 'aligned', 'rthedonald', 'thats', 'okay', 'want', 'seat', 'table', 'seat', 'everyone', 'else', 'without', 'special', 'rules', 'stipulations', 'us', 'moderation', 'team', 'community', 'members', 'harassed', 'threatened', 'bullied', 'also', 'real', 'life', 'encourage', 'harassment', 'violence', 'bullying', 'kind', 'subreddit', 'rules', 'clear', 'sidebar', 'subreddit', 'polices', 'fervor', 'rthedonald', 'heck', 'even', 'loyal', 'centipedes', 'banned', 'point', 'come', 'soft', 'quarantine', 'us', 'community', 'next', 'want', 'know', 'also', 'fighting', 'today', 'uspez', 'finally', 'made', 'regarding', 'events', 'transpired', 'last', 'week', 'back', 'june', 'terrorist', 'attack', 'happened', 'orlando', 'reddit', 'inc', 'decided', 'punish', 'rthedonald', 'instead', 'rnews', 'censoring', 'information', 'donate', 'blood', 'dying', 'americans', 'time', 'uspez', 'manipulated', 'reddit', 'database', 'reddit', 'inc', 'decided', 'punish', 'rthedonald', 'wish', 'point', 'community', 'deserve', 'singled', 'harassment', 'rules', 'rthedonald', 'violating', 'havent', 'addressed', 'modteam', 'appears', 'compromise', 'states', 'rules', 'broken', 'reddit', 'going', 'treat', 'rthedonald', 'differently', 'every', 'single', 'subreddit', 'brings', 'light', 'doublestandard', 'site', 'continually', 'perpetuates', 'heels', 'uspezs', 'manipulation', 'reddit', 'database', 'last', 'week', 'leak', 'secret', 'chat', 'logs', 'reddit', 'powermods', 'admins', 'uspez', 'made', 'available', 'internet', 'nbsp', 'reddit', 'internet', 'culture', 'decided', 'secret', 'chat', 'rooms', 'echo', 'chamber', 'elite', 'fight', 'fight', 'also', 'behalf', 'everyone', 'represented', 'secret', 'chat', 'room', 'ask', 'us', 'treated', 'equally', 'demand', 'equalrightsonreddit'] \n",
      "\n",
      "['see', 'remember', 'post', 'yesterday', 'regarding', 'shutdown', 'rpizzagate', 'well', 'appears', 'comments', 'havechanged', 'archive', 'original', 'post', 'yesterday', 'note', 'uspez', 'mentionshttparchiveisteroc', 'looks', 'usernames', 'thedonald', 'slimg', 'album', 'screenshots', 'link', 'orignal', 'post', 'stands', 'right', 'thoughts', 'edit', 'well', 'well', 'well', 'looks', 'like', 'uspez', 'bent'] \n",
      "\n",
      "['lena', 'dunham', 'barbara', 'streisand', 'rosie', 'cher', 'eddie', 'griffin', 'samuel', 'jackson', 'john', 'stewart', 'omari', 'hardwick', 'whoopie', 'goldburg', 'al', 'sharpton', 'ravensymone', 'jennifer', 'lawrence', 'barry', 'diller', 'miley', 'cyrus', 'george', 'lopez', 'chelsea', 'handler', 'jenny', 'slate', 'neve', 'campbell', 'zosia', 'mamet', 'chloe', 'sevigny', 'natasha', 'lyonne', 'elisabeth', 'moss', 'spike', 'lee', 'kathryn', 'hahn', 'lily', 'depp', 'gabrielle', 'union', 'matt', 'damon', 'ruth', 'bader', 'ginsburg', 'amy', 'schumer', 'william', 'bryan', 'cranston', 'lena', 'dunham', 'amy', 'schumer', 'keegan', 'michaelkey', 'neyo', 'bought', 'paid', 'cucks', 'listen', 'get', 'fuck', 'country', 'thought', 'nothing', 'people', 'decided', 'donald', 'trump', 'us', 'american', 'people', 'may', 'nosedive', 'fucking', 'hard', 'careers', 'begging', 'cat', 'food', 'commercials', 'sincerly', 'fuck'] \n",
      "\n",
      "['hello', 'centipedes', 'browsing', 'today', 'may', 'noticed', 'reached', 'today', 'sudden', 'upvote', 'total', 'drop', 'exactly', 'scratching', 'heads', 'occurred', 'downvote', 'bots', 'algorithm', 'cuckery', 'russian', 'hackers', 'well', 'asked', 'admins', 'response', 'received', 'hey', 'weve', 'investigating', 'happened', 'post', 'seeing', 'bots', 'anything', 'like', 'appears', 'related', 'delays', 'vote', 'processing', 'post', 'initially', 'well', 'community', 'would', 'expected', 'title', 'pretty', 'clearly', 'antagonistic', 'towards', 'greater', 'reddit', 'community', 'made', 'high', 'rall', 'attracted', 'huge', 'number', 'downvotes', 'positioning', 'affected', 'vote', 'processing', 'id', 'expect', 'drop', 'sharply', 'catches', 'amount', 'downvoting', 'happening', 'post', 'soooooooyeah', 'say', 'amount', 'downvotes', 'cuckery', 'bots', 'suppression', 'triggering', 'whateverwill', 'change', 'fact', 'tomorrow', 'donald', 'trump', 'officially', 'president', 'united', 'states', 'america', 'maga'] \n",
      "\n",
      "['im', 'sure', 'stand', 'trump', 'matter', 'resistance', 'censorship', 'wonderful', 'independent', 'political', 'views', 'commend', 'success', 'getting', 'truth', 'shame', 'rnews', 'spirit', 'resistance', 'tenacity', 'combined', 'intellectual', 'scaffolding', 'needed', 'realize', 'screwed', 'excellent', 'virtue', 'populace', 'find', 'willingness', 'express', 'greatly', 'wonderful', 'willingness', 'challenge', 'pc', 'status', 'quo', 'lesson', 'americans', 'regardless', 'trump', 'opinions', 'need', 'understand', 'spirit', 'resistance', 'made', 'country', 'first', 'place', 'reinvigorated', 'actions', 'like', 'makeamericagreatagain', 'edit', 'wow', 'wasnt', 'expecting', 'sticky', 'great', 'response', 'glad', 'many', 'people', 'agree', 'theory', 'one', 'user', 'pointed', 'streisand', 'effecthttpsenwikipediaorgwikistreisandeffect', 'could', 'better', 'describe', 'going', 'censoring', 'group', 'people', 'boosts', 'resolve', 'intimidate', 'proves', 'people', 'middle', 'victimization', 'group', 'encourages', 'support', 'even', 'though', 'trump', 'supporter', 'though', 'think', 'legitimate', 'reasons', 'people', 'vote', 'strongly', 'censorship', 'going', 'simple', 'way', 'check', 'site', 'biased', 'see', 'censors', 'media', 'fact', 'subreddit', 'atm', 'censored', 'preventing', 'upvotes', 'proves', 'reddit', 'leftism', 'bias', 'mods', 'banning', 'topics', 'rnews', 'one', 'thing', 'site', 'admins', 'blocking', 'upvotes', 'sub', 'unacceptable', 'edit', 'well', 'voting', 'finally', 'reenabled', 'took', 'long', 'enough', 'truth', 'unlikely', 'last', 'censorship', 'sub', 'censored', 'streisand', 'effect', 'kick', 'morale', 'go', 'like', 'san', 'jose', 'protests', 'events', 'like', 'boosted', 'sympathy', 'outsiders', 'like', 'towards', 'trump', 'supporters', 'edit', 'course', 'past', 'hours', 'went', 'peak', 'around', 'votes', 'current', 'votes', 'ahh', 'wonders', 'leftist', 'programming'] \n",
      "\n",
      "['many', 'users', 'across', 'site', 'found', 'funny', 'appreciated', 'standing', 'bullies', 'received', 'plenty', 'support', 'users', 'rthedonald', 'lies', 'spez'] \n",
      "\n",
      "['label', 'us', 'everything', 'truly', 'look', 'mirror', 'actions', 'words', 'see', 'see', 'scared', 'show', 'support', 'candidate', 'media', 'praises', 'actions', 'us', 'us', 'getting', 'beaten', 'cars', 'getting', 'bashed', 'setting', 'cities', 'fire', 'spitting', 'us', 'attacking', 'us', 'threatening', 'us', 'freely', 'show', 'support', 'candidate', 'praised', 'media', 'told', 'okay', 'treat', 'another', 'human', 'like', 'shit', 'since', 'agree', 'attack', 'police', 'block', 'highways', 'ambulances', 'cannot', 'reach', 'hospitals', 'thats', 'okay', 'voted', 'trump', 'right', 'thats', 'okay', 'monsters', 'right', 'okay', 'deserve', 'right', 'right', 'look', 'mirror', 'actions', 'call', 'every', 'name', 'book', 'beat', 'bloody', 'spit', 'beat', 'car', 'baseball', 'bat', 'threaten', 'set', 'cities', 'fire', 'actions', 'nothing', 'prove', 'collective', 'points', 'making', 'continue', 'willfully', 'ignorant', 'instead', 'listening', 'fellow', 'americans', 'angry', 'choose', 'respond', 'hate', 'choose', 'respond', 'violence', 'choose', 'respond', 'people', 'dont', 'want', 'call', 'names', 'actually', 'want', 'learn', 'side', 'story', 'instead', 'listening', 'media', 'first', 'see', 'see', 'trump', 'httpsyoutubethszxjlxhyw', 'get', 'stuff', 'get', 'packed', 'door', 'since', 'morning', 'woman', 'screams', 'bawling', 'child', 'voted', 'trump', 'mock', 'elementary', 'school', 'election', 'peaceful', 'protests', 'destroying', 'cities', 'httpsyoutubedmehracdlxs', 'rape', 'melania', 'trending', 'twitter', 'signs', 'held', 'protestors', 'httpsyoutubetsizbucvoa', 'protestors', 'smashing', 'womans', 'car', 'told', 'wouldnt', 'help', 'save', 'spewing', 'hate', 'black', 'man', 'says', 'pointing', 'black', 'homeless', 'womans', 'face', 'lays', 'face', 'ground', 'people', 'rip', 'home', 'made', 'signs', 'push', 'belongings', 'even', 'one', 'point', 'kicking', 'exercising', 'right', 'protest', 'protect', 'donald', 'trumps', 'star', 'unverified', 'think', 'youre', 'good', 'thing', 'protesting', 'block', 'highway', 'people', 'ambulances', 'could', 'end', 'dead', 'youre', 'racist', 'crowd', 'yells', 'try', 'explain', 'youre', 'proud', 'voting', 'words', 'fall', 'deaf', 'ears', 'instead', 'peaceful', 'people', 'beat', 'children', 'bloody', 'beliefs', 'media', 'applauds', 'httpsyoutubeemuxuhmpvc', 'httpsyoutubeuhvygebbgom', 'trump', 'misogynist', 'protestor', 'screams', 'try', 'talk', 'calmly', 'explain', 'policies', 'yet', 'keep', 'yelling', 'keep', 'hearing', 'logic', 'words', 'hollywood', 'tells', 'american', 'people', 'wrong', 'voting', 'hillary', 'save', 'day', 'voted', 'trump', 'thats', 'gets', 'white', 'older', 'man', 'ripped', 'car', 'film', 'black', 'young', 'people', 'punch', 'beat', 'senseless', 'steal', 'items', 'car', 'people', 'cry', 'trump', 'man', 'father', 'husband', 'killed', 'people', 'already', 'tried', 'question', 'hate', 'think', 'things', 'us', 'hate', 'trump', 'supporters', 'dont', 'support', 'trump', 'like', 'us', 'see', 'hate', 'towards', 'us', 'undeserved', 'question', 'tell', 'without', 'returning', 'general', 'go', 'defenses', 'listed', 'weak', 'ignorant', 'people', 'tell', 'im', 'wrong', 'voting', 'trump', 'participating', 'actions', 'listed', 'look', 'mirror', 'seen', 'terrorist', 'voting', 'man', 'believe', 'ones', 'calling', 'us', 'names', 'ones', 'beating', 'us', 'bloody', 'ones', 'yelling', 'kids', 'telling', 'get', 'house', 'ones', 'beating', 'homeless', 'black', 'elderly', 'women', 'filming', 'ones', 'hate', 'us', 'terrorists', 'look', 'mirror', 'see', 'see', 'edit', 'know', 'everyone', 'left', 'like', 'know', 'people', 'didnt', 'even', 'vote', 'giving', 'guys', 'bad', 'rep', 'guys', 'probably', 'great', 'people', 'post', 'specifically', 'ones', 'causing', 'havoc', 'currently', 'point', 'maybe', 'wake', 'people', 'feel', 'personally', 'attacked', 'currently', 'even', 'though', 'see', 'news', 'every', 'day', 'see', 'support', 'praise', 'every', 'day', 'feel', 'triggered', 'crying', 'need', 'tissues', 'posted', 'think', 'load', 'shit', 'media', 'people', 'government', 'saying', 'things', 'condone', 'support', 'behavior', 'turn', 'support', 'divide', 'american', 'people', 'people', 'standing', 'everything', 'used', 'american', 'deemed', 'sexist', 'racist', 'xenophobic', 'homophobic', 'islamaphobic', 'bigot', 'name', 'possibly', 'think', 'anyone', 'shows', 'form', 'patriotism', 'labeled', 'registered', 'independent', 'vote', 'candidate', 'agree', 'electionobama', 'last', 'election', 'posted', 'wanted', 'write', 'things', 'seeingfeeling', 'get', 'head', 'thank', 'much', 'kind', 'words', 'post', 'expect', 'stickied', 'end', 'freaking', 'front', 'page', 'thank', 'much', 'editi', 'posted', 'tried', 'posting', 'subreddits', 'opposing', 'views', 'allow', 'text', 'posts', 'thank', 'much', 'support', 'love', 'thank'] \n",
      "\n",
      "['realize', 'average', 'hillary', 'supporter', 'decieved', 'lets', 'stereotype', 'hillarys', 'entire', 'base', 'ignorant', 'bigots', 'like', 'us', 'know', 'thats', 'easy', 'thing', 'likely', 'backfire', 'us', 'lets', 'sympathetic', 'confused', 'ever', 'slowly', 'realize', 'deceived', 'clintonsmsm', 'lets', 'open', 'politely', 'reeducating', 'ones', 'dont', 'rage', 'quit', 'apply', 'main', 'stream', 'media', 'certain', 'celebspoliticians', 'etc'] \n",
      "\n",
      "['nothing', 'understand', 'people', 'different', 'political', 'views', 'edit', 'wew'] \n",
      "\n",
      "['write', 'sit', 'airplane', 'way', 'meet', 'family', 'make', 'arrangements', 'im', 'ready', 'heart', 'broken', 'family', 'little', 'daughter', 'need', 'help', 'guys'] \n",
      "\n",
      "['lot', 'written', 'election', 'coming', 'days', 'months', 'years', 'refrained', 'putting', 'longwinded', 'explanations', 'well', 'quite', 'frankly', 'busy', 'celebrating', 'stopped', 'smiling', 'two', 'days', 'see', 'many', 'moreliberal', 'friends', 'posting', 'diagnoses', 'usually', 'blaming', 'racism', 'sexism', 'xenophobia', 'etc', 'think', 'prudent', 'throw', 'two', 'cents', 'believe', 'believe', 'said', 'trump', 'would', 'win', 'way', 'rust', 'belt', 'year', 'half', 'ago', 'said', 'polls', 'wrong', 'minor', 'want', 'say', 'clearly', 'possible', 'liberals', 'went', 'far', 'polling', 'data', 'showed', 'majority', 'americans', 'supported', 'compassionate', 'immigration', 'reform', 'turned', 'around', 'called', 'pathway', 'citizenship', 'would', 'shifted', 'american', 'electoral', 'politics', 'dramatically', 'left', 'decades', 'come', 'president', 'barack', 'obama', 'saying', 'less', 'times', 'legal', 'authority', 'decided', 'bypass', 'congress', 'give', 'amnesty', 'millions', 'illegal', 'immigrants', 'executive', 'order', 'federal', 'judge', 'ordered', 'administration', 'stop', 'kept', 'sending', 'amnesty', 'paperwork', 'anyway', 'kate', 'steinle', 'murdered', 'fivetime', 'deported', 'illegal', 'immigrant', 'sanctuary', 'city', 'spoke', 'favor', 'letting', 'potentialkillers', 'roam', 'streets', 'commitment', 'political', 'correctness', 'instead', 'looking', 'real', 'pain', 'caused', 'illegal', 'immigration', 'country', 'went', 'bat', 'people', 'whose', 'first', 'act', 'country', 'break', 'laws', 'went', 'far', 'immigration', 'lost', 'polling', 'data', 'shows', 'plurality', 'americans', 'support', 'sensible', 'gun', 'control', 'election', 'season', 'defined', 'term', 'first', 'terrifying', 'chose', 'presidential', 'candidate', 'promised', 'eliminate', 'individual', 'right', 'keep', 'bear', 'arms', 'reversing', 'supreme', 'court', 'case', 'heller', 'dc', 'affirmed', 'americans', 'right', 'gun', 'nominated', 'candidate', 'promised', 'ban', 'entire', 'categories', 'weapons', 'based', 'lethality', 'attachments', 'look', 'like', 'went', 'far', 'gun', 'control', 'lost', 'vast', 'majority', 'americans', 'supported', 'idea', 'revamping', 'healthcare', 'make', 'affordable', 'instead', 'working', 'alongside', 'republicans', 'jammed', 'healthcare', 'bill', 'throats', 'using', 'parliamentary', 'maneuver', 'allowed', 'pass', 'without', 'single', 'republican', 'vote', 'one', 'chief', 'architects', 'aca', 'said', 'camera', 'law', 'passed', 'stupidity', 'american', 'voter', 'faced', 'reality', 'premiums', 'skyrocketing', 'health', 'insurance', 'companies', 'leaving', 'system', 'together', 'refused', 'admit', 'people', 'upset', 'went', 'far', 'instead', 'nominated', 'candidate', 'argued', 'system', 'falling', 'apart', 'go', 'far', 'enough', 'went', 'far', 'healthcare', 'lost', 'majority', 'americans', 'support', 'idea', 'nominated', 'candidate', 'called', 'transpacific', 'partnership', 'standard', 'trade', 'candidate', 'celebrated', 'alongside', 'husband', 'nafta', 'passed', 'china', 'entered', 'wto', 'democrats', 'chance', 'kill', 'transpacific', 'partnership', 'last', 'year', 'senate', 'democrats', 'voted', 'alongside', 'republicans', 'give', 'president', 'power', 'negotiate', 'democrats', 'voted', 'companion', 'bill', 'trade', 'adjustment', 'assistance', 'act', 'setaside', 'billions', 'dollars', 'retrain', 'hundreds', 'thousands', 'americans', 'would', 'lose', 'jobs', 'result', 'tpp', 'went', 'far', 'trade', 'lost', 'entire', 'rust', 'belt', 'result', 'country', 'roughly', 'split', 'issue', 'abortion', 'donald', 'trump', 'stood', 'presidential', 'debate', 'stage', 'say', 'yes', 'elected', 'supreme', 'court', 'judges', 'would', 'overturn', 'roe', 'wade', 'four', 'years', 'ago', 'many', 'said', 'romney', 'lost', 'election', 'full', 'measure', 'donald', 'statement', 'lost', 'election', 'received', 'less', 'support', 'among', 'women', 'mitt', 'romney', 'right', 'said', 'wanted', 'overturn', 'roe', 'wade', 'opponent', 'declared', 'believes', 'abortion', 'legal', 'date', 'delivery', 'terrifies', 'someone', 'born', 'significantly', 'premature', 'also', 'goes', 'directly', 'viability', 'test', 'set', 'forth', 'roe', 'wade', 'went', 'far', 'abortion', 'lost', 'contrary', 'liberal', 'talking', 'points', 'coming', 'past', 'days', 'vast', 'majority', 'country', 'believes', 'equal', 'rights', 'people', 'color', 'instead', 'building', 'common', 'ground', 'black', 'lives', 'matter', 'popped', 'nightly', 'news', 'filled', 'images', 'african', 'americans', 'rioting', 'burning', 'black', 'neighborhoods', 'ground', 'police', 'officers', 'began', 'getting', 'gunned', 'streets', 'yet', 'democratic', 'congressmen', 'senators', 'promoted', 'organization', 'floor', 'house', 'senate', 'even', 'today', 'donald', 'trump', 'presidency', 'landslide', 'disgruntled', 'african', 'americans', 'caught', 'camera', 'savagely', 'beating', 'white', 'citizens', 'simply', 'voted', 'donald', 'trump', 'went', 'far', 'issue', 'race', 'lost', 'many', 'left', 'throughout', 'election', 'said', 'donald', 'message', 'devoid', 'specifics', 'one', 'paying', 'attention', 'donald', 'campaign', 'completely', 'issuebased', 'landslide', 'isolated', 'every', 'single', 'thing', 'left', 'went', 'far', 'promised', 'right', 'ship', 'salivating', 'prospect', 'million', 'illegal', 'aliens', 'given', 'citizenship', 'added', 'voter', 'rolls', 'donald', 'trump', 'meeting', 'families', 'loved', 'ones', 'killed', 'illegal', 'aliens', 'barack', 'obama', 'refused', 'deport', 'used', 'san', 'bernardino', 'attack', 'orlando', 'massacre', 'push', 'gun', 'control', 'donald', 'trump', 'stood', 'stage', 'promised', 'keep', 'violent', 'muslim', 'extremism', 'caused', 'attacks', 'hell', 'called', 'donald', 'trump', 'antigay', 'candidate', 'ever', 'going', 'script', 'republican', 'convention', 'thanking', 'delegates', 'applauding', 'plan', 'keep', 'lgbt', 'community', 'safe', 'standing', 'stage', 'rally', 'colorado', 'holding', 'gay', 'pride', 'flag', 'believed', 'comments', 'illegal', 'aliens', 'certain', 'women', 'would', 'spell', 'certain', 'defeat', 'maverick', 'billionaire', 'dust', 'settled', 'exit', 'polls', 'show', 'donald', 'trump', 'winning', 'latino', 'vote', 'getting', 'less', 'women', 'vote', 'mitt', 'romney', 'wrong', 'means', 'continue', 'post', 'think', 'donald', 'victory', 'caused', 'prevalent', 'racism', 'sexism', 'ism', 'right', 'defend', 'death', 'hillary', 'clinton', 'lose', 'election', 'lost', 'election', 'american', 'people', 'rejected', 'every', 'single', 'part', 'platform', 'realize', 'going', 'keep', 'losing', 'one', 'line', 'repeated', 'throughout', 'campaign', 'pundits', 'thought', 'trump', 'melting', 'napoleonic', 'quote', 'never', 'interrupt', 'enemy', 'making', 'mistake', 'would', 'easy', 'say', 'clinton', 'supporters', 'blame', 'everyone', 'historic', 'electoral', 'result', 'end', 'day', 'proverb', 'fit', 'enemy', 'friend', 'neighbor', 'countryman', 'voted', 'make', 'america', 'great', 'americans', 'sincerely', 'believe', 'pleasantly', 'surprised'] \n",
      "\n",
      "['running', 'list', 'promises', 'president', 'trump', 'made', 'campaign', 'trail', 'kept', 'first', 'days', 'office', 'barely', 'reported', 'bullshit', 'russia', 'conspiracy', 'theory', 'swallowing', 'msm', 'literally', 'done', 'obama', 'years', 'running', 'list', 'promises', 'kept', 'far', 'also', 'things', 'done', 'werent', 'even', 'promised', 'campaign', 'trail', 'maga', 'updating', 'much', 'whenever', 'new', 'initiative', 'comes', 'light', 'edit', 'much', 'like', 'amazing', 'president', 'incredibly', 'busy', 'past', 'six', 'months', 'apologize', 'staying', 'uptodate', 'gotten', 'many', 'requests', 'update', 'finally', 'extra', 'time', 'hands', 'big', 'update', 'many', 'new', 'yuge', 'promises', 'kept', 'coming', 'soon', 'last', 'time', 'edited', 'first', 'days', 'going', 'six', 'month', 'update', 'also', 'noticed', 'great', 'creator', 'dilbert', 'scott', 'adams', 'linked', 'one', 'recent', 'blog', 'posts', 'tells', 'readers', 'share', 'every', 'liberal', 'know', 'urge', 'cognitive', 'dissonance', 'real', 'incredible', 'months', 'first', 'term', 'america', 'already', 'gotten', 'much', 'greater', 'promises', 'preceded', 'asterisk', 'part', 'updated', 'list', 'taken', 'place', 'first', 'days', 'promises', 'made', 'kept', 'far', 'campaign', 'promise', 'httpswwwdonaldjtrumpcompressreleasesdonaldjtrumpaddstolistofpotentialsupremecourtjusticepicks', 'replace', 'antonin', 'scalia', 'likeminded', 'justice', 'list', 'trump', 'replaced', 'antonin', 'scalia', 'neil', 'gorsuch', 'incredibly', 'qualified', 'constitutionabiding', 'justice', 'campaign', 'promise', 'suspend', 'immigration', 'terrorprone', 'countries', 'trump', 'successfully', 'enacted', 'travel', 'ban', 'constitutional', 'made', 'seven', 'six', 'countries', 'concern', 'outlined', 'obama', 'administration', 'ban', 'part', 'president', 'trumps', 'promise', 'keep', 'every', 'citizen', 'united', 'states', 'safe', 'radical', 'islamic', 'terrorism', 'campaign', 'promise', 'defund', 'crack', 'sanctuary', 'cities', 'trump', 'implemented', 'yuge', 'crackdown', 'sanctuary', 'cities', 'threatening', 'defund', 'attorney', 'general', 'sessions', 'stated', 'messing', 'around', 'comes', 'sanctuary', 'cities', 'continues', 'fight', 'cities', 'harbor', 'criminal', 'illegal', 'aliens', 'campaign', 'promise', 'revive', 'keystone', 'pipeline', 'dakota', 'access', 'pipeline', 'revival', 'dakota', 'keystone', 'xl', 'pipelines', 'creating', 'american', 'jobs', 'campaign', 'promise', 'pull', 'us', 'tpp', 'obamaera', 'trade', 'deal', 'detrimental', 'us', 'trump', 'pulled', 'us', 'tpp', 'would', 'absolutely', 'disastrous', 'us', 'campaign', 'promise', 'donald', 'trump', 'loves', 'women', 'wants', 'help', 'women', 'trump', 'signed', 'executive', 'order', 'httpswwwcnetcomnewstrumpwomeninstemtechlaws', 'promoting', 'women', 'stem', 'jobs', 'careers', 'real', 'feminists', 'strive', 'dance', 'therapy', 'feminists', 'trump', 'launched', 'council', 'empowering', 'female', 'leaders', 'female', 'entrepreneurs', 'campaign', 'promise', 'renegotiate', 'pull', 'bill', 'clintons', 'terrible', 'trade', 'deal', 'nafta', 'trump', 'met', 'justin', 'trudeau', 'joke', 'discuss', 'tweaking', 'nafta', 'benefit', 'us', 'threatens', 'leave', 'trump', 'administration', 'laid', 'wishes', 'see', 'regards', 'nafta', 'reform', 'campaign', 'promise', 'undo', 'ridiculous', 'obamaera', 'federal', 'agency', 'regulations', 'trump', 'ordered', 'twoforone', 'repeal', 'new', 'regulations', 'enacted', 'federal', 'agencies', 'campaign', 'promise', 'rollback', 'obamaera', 'regulations', 'small', 'businesses', 'trump', 'rolled', 'back', 'ridiculous', 'obamaera', 'regulations', 'made', 'nearly', 'impossible', 'small', 'businesses', 'hire', 'employees', 'trump', 'already', 'saved', 'taxpayers', 'billion', 'httpswwwamericanactionforumorginsightfiscalbenefitscraregulatoryreform', 'cutting', 'regulations', 'trump', 'undone', 'hundreds', 'obamaera', 'job', 'killing', 'regulations', 'helped', 'cause', 'significant', 'increase', 'jobs', 'campaign', 'promise', 'help', 'americas', 'innercities', 'deeply', 'need', 'rebuilding', 'trump', 'signed', 'executive', 'order', 'httpwwwpbsorgnewshourrundowntrumpsignsexecutiveorderblackcolleges', 'give', 'major', 'funding', 'historically', 'black', 'colleges', 'universities', 'helping', 'innercities', 'immensely', 'campaign', 'promise', 'protect', 'policemen', 'true', 'everyday', 'heroes', 'trump', 'signed', 'executive', 'order', 'protecting', 'police', 'campaign', 'promise', 'crackdown', 'illegal', 'immigration', 'build', 'wall', 'trump', 'implemented', 'yuge', 'crackdown', 'illegal', 'immigration', 'started', 'wall', 'initiative', 'campaign', 'promise', 'bolster', 'depleted', 'military', 'trump', 'increased', 'military', 'budget', 'dont', 'want', 'use', 'military', 'want', 'prepared', 'use', 'campaign', 'promise', 'enact', 'five', 'year', 'lobbying', 'ban', 'government', 'officials', 'leave', 'office', 'trump', 'placed', 'five', 'year', 'lifetime', 'lobbying', 'ban', 'government', 'officials', 'leave', 'office', 'campaign', 'promise', 'httpswwwdonaldjtrumpcompressreleasesdonaldjtrumpaddressesthedrugepidemicintheunitedstates', 'crackdown', 'drug', 'cartels', 'illegal', 'drugs', 'crossing', 'border', 'trump', 'signed', 'executive', 'order', 'cracking', 'drug', 'cartels', 'campaign', 'promise', 'revitalize', 'dying', 'coal', 'industry', 'us', 'trump', 'enacted', 'joint', 'resolution', 'putting', 'thousands', 'coal', 'miners', 'back', 'work', 'campaign', 'promise', 'httpwwwpbsorgnewshourmakingsensetrumpsayshellbringjobsbacktoamericaeconomistsareskeptical', 'create', 'american', 'jobs', 'bring', 'companies', 'back', 'america', 'trump', 'negotiated', 'deal', 'carrier', 'promising', 'bring', 'manufacturing', 'jobs', 'back', 'us', 'trump', 'met', 'ceos', 'huge', 'companies', 'work', 'bringing', 'jobs', 'back', 'america', 'increase', 'jobs', 'february', 'alone', 'liberals', 'say', 'counts', 'obamas', 'fiscal', 'year', 'know', 'truth', 'trump', 'met', 'intel', 'ceo', 'promised', 'billion', 'investment', 'high', 'paying', 'shovel', 'ready', 'bullshit', 'jobs', 'america', 'trump', 'met', 'ceo', 'softbank', 'promised', 'american', 'jobs', 'already', 'fulfilled', 'jobs', 'kroger', 'promised', 'new', 'jobs', 'era', 'trump', 'month', 'march', 'yielded', 'new', 'jobs', 'passes', 'months', 'estimated', 'big', 'league', 'campaign', 'promise', 'pushing', 'nato', 'allies', 'pay', 'fair', 'share', 'face', 'reality', 'us', 'possibly', 'leaving', 'trump', 'put', 'major', 'pressure', 'members', 'nato', 'pay', 'fair', 'equal', 'share', 'handful', 'countries', 'nato', 'currently', 'pay', 'much', 'agreed', 'upon', 'campaign', 'promise', 'make', 'america', 'energy', 'independent', 'relieving', 'us', 'dependence', 'foreign', 'entities', 'opec', 'trump', 'taken', 'major', 'steps', 'towards', 'americas', 'energy', 'independence', 'campaign', 'promise', 'enact', 'hiring', 'freeze', 'government', 'employees', 'help', 'stop', 'corruption', 'trump', 'enacted', 'hiring', 'freeze', 'federal', 'employees', 'cutting', 'overbloated', 'bureaucracy', 'campaign', 'promise', 'trump', 'could', 'president', 'takes', 'us', 'mars', 'trump', 'signed', 'bill', 'allowing', 'nasa', 'funding', 'including', 'exploration', 'mars', 'campaign', 'promise', 'undo', 'many', 'obamas', 'unconstitutional', 'executive', 'orders', 'rescinding', 'one', 'obamas', 'incredibly', 'unconstitutional', 'actions', 'regarding', 'transgender', 'bathrooms', 'schools', 'campaign', 'promise', 'repeal', 'replacement', 'obamacare', 'recent', 'gop', 'fallout', 'ahca', 'plan', 'fault', 'trumps', 'blame', 'solely', 'belongs', 'speaker', 'ryan', 'created', 'shit', 'bill', 'couldnt', 'even', 'capitalize', 'get', 'enough', 'votes', 'obamacare', 'crash', 'individual', 'mandates', 'kick', 'democrats', 'blame', 'trump', 'truly', 'work', 'repeal', 'replace', 'plan', 'promised', 'us', 'trump', 'got', 'rid', 'idiotic', 'penalty', 'obamacare', 'fines', 'choose', 'participate', 'program', 'campaign', 'promise', 'bomb', 'shit', 'isis', 'days', 'ago', 'trump', 'dropped', 'yuge', 'moab', 'group', 'isis', 'militants', 'killing', 'terrorists', 'causing', 'damage', 'underground', 'tunnels', 'technology', 'called', 'drone', 'strike', 'afghanistan', 'killing', 'qari', 'yasin', 'pakistani', 'alqaeda', 'leader', 'campaign', 'promise', 'take', 'salary', 'president', 'donated', 'first', 'quarterly', 'salary', 'national', 'park', 'service', 'campaign', 'promise', 'reform', 'va', 'make', 'easier', 'vets', 'get', 'healthcare', 'opportunities', 'signed', 'bill', 'allowing', 'veterans', 'seek', 'healthcare', 'outside', 'broken', 'va', 'system', 'trump', 'created', 'accountability', 'office', 'httpwwwmilitarytimescomarticlestrumpvaofficeaccountabilityexecutiveorder', 'va', 'making', 'incredibly', 'easy', 'oust', 'incompetent', 'va', 'employees', 'campaign', 'promise', 'httpsassetsdonaldjtrumpcomtrumptaxreformpdf', 'create', 'much', 'needed', 'tax', 'reform', 'trump', 'laid', 'extremely', 'concise', 'yet', 'effective', 'tax', 'reform', 'plan', 'lower', 'taxes', 'americans', 'end', 'things', 'like', 'inheritance', 'tax', 'cut', 'corporate', 'tax', 'rates', 'campaign', 'promise', 'scroll', 'see', 'school', 'choice', 'education', 'act', 'fix', 'countrys', 'incredibly', 'broken', 'education', 'system', 'trump', 'signed', 'executive', 'order', 'giving', 'power', 'countrys', 'education', 'back', 'state', 'local', 'authorities', 'actions', 'promised', 'campaign', 'trail', 'put', 'effect', 'even', 'though', 'mike', 'pence', 'defunding', 'clinics', 'perform', 'abortions', 'matter', 'whether', 'prochoiceprolife', 'government', 'funding', 'abortions', 'also', 'people', 'bring', 'hyde', 'amendment', 'httpsenwikipediaorgwikihydeamendment', 'supposed', 'let', 'federal', 'funding', 'go', 'towards', 'abortions', 'let', 'know', 'us', 'taxpayers', 'pay', 'abortions', 'despite', 'amendment', 'huge', 'spikes', 'nasdaq', 'average', 'index', 'dow', 'average', 'index', 'httpmoneycnncomdatamarketsdow', 'starting', 'november', 'count', 'obama', 'unfortunately', 'know', 'real', 'credit', 'belongs', 'placed', 'sanctions', 'iran', 'tested', 'ballistic', 'missiles', 'met', 'withtalked', 'foreign', 'leaders', 'negotiated', 'price', 'new', 'air', 'force', 'one', 'one', 'billion', 'dollars', 'meeting', 'lasted', 'one', 'hour', 'issued', 'major', 'cuts', 'costs', 'saving', 'billions', 'opened', 'eyes', 'american', 'public', 'unbelievably', 'corrupt', 'pretty', 'believable', 'obama', 'administration', 'spending', 'years', 'prison', 'egypt', 'absolutely', 'help', 'president', 'obama', 'humanitarian', 'us', 'citizen', 'aya', 'hijazi', 'safely', 'returned', 'home', 'given', 'credit', 'president', 'trump', 'edits', 'examples', 'magaing'] \n",
      "\n",
      "['uspez', 'clearly', 'doesnt', 'want', 'business', 'time', 'get', 'adblock', 'reddit', 'gold', 'buying', 'simply', 'comment', 'donation', 'name', 'made', 'voat', 'instead'] \n",
      "\n",
      "['rall', 'algorithm', 'take', 'shitpost', 'seriousness', 'donald', 'trump', 'major', 'candidate', 'remaining', 'prioritize', 'america', 'first', 'selling', 'american', 'workers', 'special', 'interests', 'import', 'cheap', 'labor', 'manufacture', 'goods', 'overseas', 'make', 'money', 'stockholders', 'theres', 'reason', 'hillary', 'clinton', 'deleted', 'paragraph', 'supporting', 'trans', 'pacific', 'partnership', 'released', 'new', 'edition', 'latest', 'memoir', 'thinks', 'american', 'people', 'stupid', 'realize', 'diametrically', 'opposed', 'interests', 'also', 'hillary', 'clinton', 'approved', 'cia', 'drone', 'strikes', 'nonsecure', 'blackberry', 'opennet', 'travelling', 'abroad', 'put', 'national', 'security', 'lives', 'intelligence', 'assets', 'risk', 'believes', 'shes', 'law', 'would', 'make', 'history', 'elected', 'would', 'first', 'president', 'leave', 'room', 'intelligence', 'briefing', 'lacked', 'security', 'clearance', 'trump', 'also', 'candidate', 'openly', 'said', 'would', 'instruct', 'doj', 'seek', 'indictment', 'hillary', 'clinton', 'facts', 'support', 'though', 'billionaire', 'donald', 'trump', 'refused', 'allow', 'special', 'interests', 'finance', 'primary', 'campaign', 'interested', 'delivering', 'american', 'people', 'organizations', 'write', 'campaign', 'checks', 'hed', 'rather', 'burn', 'money', 'beholden', 'act', 'interests', 'american', 'people', 'vote', 'trump', 'make', 'america', 'great', 'send', 'hillary', 'prison', 'edit', 'person', 'gave', 'gold', 'thank', 'acknowledging', 'shitty', 'post', 'would', 'rather', 'went', 'back', 'burned', 'money', 'instead', 'contributing', 'crooked', 'system', 'seriously', 'whoever', 'second', 'person', 'give', 'gold', 'wasnt', 'kidding', 'please', 'burn', 'money', 'donating', 'entity', 'protesting', 'rather', 'counterintuitive', 'strange', 'first', 'two', 'times', 'funny', 'please', 'stop', 'gilding', 'donate', 'money', 'one', 'veterans', 'instead'] \n",
      "\n",
      "['gives', 'us', 'rights', 'edit', 'rredacted', 'right'] \n",
      "\n",
      "['almost', 'year', 'since', 'seth', 'rich', 'murdered', 'nobody', 'indicted', 'nobody', 'charged', 'crime', 'far', 'know', 'suspects', 'according', 'media', 'reports', 'fbi', 'comey', 'uninterested', 'case', 'even', 'investigating', 'right', 'dc', 'police', 'stonewalled', 'press', 'inquiries', 'information', 'press', 'reported', 'police', 'treating', 'robbery', 'gone', 'wrong', 'even', 'though', 'none', 'high', 'value', 'items', 'cash', 'taken', 'rich', 'recent', 'days', 'many', 'main', 'stream', 'outlets', 'dedicated', 'significant', 'attention', 'seth', 'rich', 'case', 'drudge', 'report', 'fox', 'news', 'channel', 'hannity', 'many', 'outlets', 'highlighted', 'new', 'information', 'coming', 'light', 'case', 'reports', 'emerged', 'federal', 'investigator', 'reviewed', 'information', 'indicating', 'seth', 'rich', 'communication', 'wikileaks', 'intermediary', 'though', 'confirmation', 'wikileaks', 'organization', 'offered', 'reward', 'information', 'shortly', 'murder', 'something', 'never', 'done', 'dnc', 'seth', 'rich', 'worked', 'staffer', 'also', 'joined', 'decided', 'graciously', 'offer', 'amount', 'altleft', 'propaganda', 'media', 'responded', 'statements', 'brad', 'bauman', 'professional', 'democrat', 'crisis', 'pr', 'consultant', 'pastorum', 'course', 'fact', 'crisis', 'pr', 'consultant', 'never', 'mentioned', 'altleft', 'propaganda', 'articles', 'coverage', 'lets', 'try', 'gather', 'facts', 'sources', 'pertain', 'murder', 'seth', 'rich', 'patriot', 'bernie', 'supporter', 'megathread', 'style', 'update', 'thread', 'post', 'valuable', 'information', 'relating', 'case', 'timeline', 'july', 'seth', 'conrad', 'rich', 'dnc', 'staffer', 'patriot', 'murdered', 'washington', 'dc', 'july', 'rich', 'found', 'conscious', 'later', 'died', 'hospitalhttparchiveisfgwoo', 'newsweek', 'reported', 'police', 'said', 'may', 'killed', 'attempted', 'robbery', 'although', 'nothing', 'apparently', 'taken', 'himhttparchiveisewast', 'july', 'sanders', 'officially', 'endorses', 'clinton', 'july', 'wikileaks', 'begins', 'release', 'emails', 'dnc', 'spanning', 'period', 'january', 'may', 'july', 'clinton', 'confirmed', 'democratic', 'presidential', 'nominee', 'dnc', 'august', 'wikileaks', 'officially', 'offers', 'information', 'seth', 'richs', 'murder', 'previously', 'unprecedented', 'act', 'august', 'becomes', 'public', 'brad', 'bauman', 'professional', 'democrat', 'crisis', 'pr', 'became', 'family', 'spokesperson', 'seth', 'rich', 'family', 'position', 'maintained', 'ever', 'since', 'showing', 'questions', 'surrounding', 'murder', 'seth', 'rich', 'considered', 'crisis', 'democrats', 'august', 'statement', 'julian', 'assange', 'seth', 'rich', 'sources', 'take', 'risks', 'become', 'concerned', 'things', 'happen', 'sources', 'face', 'serious', 'risk', 'investigating', 'try', 'understand', 'happened', 'seth', 'multiple', 'commentators', 'understood', 'assange', 'statement', 'imply', 'seth', 'rich', 'contact', 'wikileaks', 'april', 'fmr', 'dnc', 'director', 'data', 'verbally', 'attacks', 'seth', 'rich', 'referring', 'embarrasment', 'may', 'rod', 'wheeler', 'former', 'homicide', 'detective', 'makes', 'several', 'comments', 'case', 'publicly', 'including', 'source', 'inside', 'police', 'department', 'looked', 'eye', 'said', 'rod', 'told', 'stand', 'also', 'states', 'key', 'seth', 'rich', 'murder', 'could', 'laptop', 'seth', 'rich', 'including', 'possible', 'proof', 'communications', 'wikileaks', 'laptop', 'unknown', 'location', 'may', 'democrat', 'party', 'fud', 'campaign', 'crisis', 'pr', 'operative', 'brad', 'places', 'several', 'statements', 'democratallied', 'press', 'calling', 'claims', 'rod', 'wheeler', 'investigator', 'working', 'seth', 'rich', 'case', 'question', 'may', 'lawyer', 'joseph', 'ingrisano', 'sends', 'threatening', 'legal', 'letter', 'rod', 'wheeler', 'try', 'stop', 'speaking', 'case', 'ingrisano', 'claims', 'want', 'protect', 'memory', 'seth', 'rich', 'letter', 'immediately', 'sent', 'john', 'podestas', 'current', 'employer', 'washington', 'promptly', 'publishes', 'parts', 'printing', 'statements', 'brad', 'article', 'washington', 'post', 'refuses', 'notify', 'readers', 'brad', 'bauman', 'democrat', 'crisis', 'pr', 'consultant', 'keeping', 'readers', 'ignorant', 'information', 'message', 'parents', 'seth', 'rich', 'please', 'watch', 'detailed', 'zerohedge', 'article', 'seth', 'rich', 'online', 'including', 'information', 'former', 'dnc', 'director', 'data', 'science', 'andrew', 'therriault', 'abused', 'seth', 'rich', 'twitter', 'posthumously', 'referring', 'embarrasment', 'ghoulish', 'act', 'discovered', 'therriault', 'deleted', 'tweet', 'archived', 'copies', 'remained', 'archivehttparchiveisecubi', 'unconfirmed', 'reports', 'article', 'seth', 'richs', 'alleged', 'reddit', 'kim', 'dotcom', 'entrepreneur', 'media', 'personality', 'promises', 'reveal', 'details', 'case', 'near', 'future', 'im', 'meeting', 'legal', 'team', 'monday', 'issue', 'statement', 'sethrich', 'tuesday'] \n",
      "\n"
     ]
    }
   ],
   "source": [
    "counter = 0\n",
    "\n",
    "for i in clean_posts_2:\n",
    "    \n",
    "    if counter < 25:\n",
    "        \n",
    "        print(i, '\\n')\n",
    "        \n",
    "        counter += 1"
   ]
  },
  {
   "cell_type": "code",
   "execution_count": null,
   "metadata": {},
   "outputs": [],
   "source": []
  }
 ],
 "metadata": {
  "kernelspec": {
   "display_name": "Python 3",
   "language": "python",
   "name": "python3"
  },
  "language_info": {
   "codemirror_mode": {
    "name": "ipython",
    "version": 3
   },
   "file_extension": ".py",
   "mimetype": "text/x-python",
   "name": "python",
   "nbconvert_exporter": "python",
   "pygments_lexer": "ipython3",
   "version": "3.6.3"
  }
 },
 "nbformat": 4,
 "nbformat_minor": 2
}
