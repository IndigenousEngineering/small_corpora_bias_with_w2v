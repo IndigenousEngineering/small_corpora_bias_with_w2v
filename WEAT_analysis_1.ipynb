{
 "cells": [
  {
   "cell_type": "code",
   "execution_count": 102,
   "metadata": {},
   "outputs": [],
   "source": [
    "import praw\n",
    "import pandas as pd\n",
    "from nltk.corpus import stopwords\n",
    "import re\n",
    "import string"
   ]
  },
  {
   "cell_type": "code",
   "execution_count": 77,
   "metadata": {},
   "outputs": [],
   "source": [
    "# get reddit secret & script i've saved as .txt in the working directory\n",
    "\n",
    "with open('reddit_oa_script.txt') as f:\n",
    "    \n",
    "    reddit_script = f.read().strip()\n",
    "    \n",
    "with open('reddit_oa_secret.txt') as f:\n",
    "    \n",
    "    reddit_secret = f.read().strip()\n",
    "    \n",
    "with open('reddit_id.txt') as f:\n",
    "    \n",
    "    pw = f.read().strip()"
   ]
  },
  {
   "cell_type": "code",
   "execution_count": 78,
   "metadata": {},
   "outputs": [],
   "source": [
    "# user_agent is the name of the app\n",
    "\n",
    "reddit  = praw.Reddit(client_id=reddit_script,\n",
    "                          client_secret=reddit_secret,\n",
    "                          user_agent='get_corpora',\n",
    "                          username='neurodivergent_ai',\n",
    "                          password=pw)\n"
   ]
  },
  {
   "cell_type": "code",
   "execution_count": 79,
   "metadata": {},
   "outputs": [],
   "source": [
    "# get the subreddit\n",
    "\n",
    "subreddit_1 = reddit.subreddit('The_Donald')\n",
    "\n",
    "# get the top (upvoted) 1000 threads\n",
    "\n",
    "subreddit_1_top = subreddit_1.top(limit=1000)"
   ]
  },
  {
   "cell_type": "code",
   "execution_count": 80,
   "metadata": {},
   "outputs": [
    {
     "name": "stdout",
     "output_type": "stream",
     "text": [
      "DONALD J. TRUMP DECLARED THE WINNER! \n",
      "\n",
      "I’m Donald J. Trump and I'm Your Next President of the United States. \n",
      "\n",
      "The New Algorithm Was Designed To Keep President Trump From The Front Page... But Sadly, That Won't Happen. \n",
      "\n",
      "CNN will soon be #1...when searching for the term \"Fake News\". Congratulations to CNN on this major achievement. \n",
      "\n",
      "ALL CELEBRITIES THAT VOWED TO LEAVE THE U.S.A. IF TRUMP WINS, WE NOW DEMAND YOU TO FOLLOW THROUGH!!!! OUT! OUT! OUT! \n",
      "\n"
     ]
    }
   ],
   "source": [
    "# get the top 5 submissions to check\n",
    "\n",
    "for post in subreddit_1.top(limit=5):\n",
    "    \n",
    "    print(post.title, '\\n')"
   ]
  },
  {
   "cell_type": "code",
   "execution_count": 81,
   "metadata": {},
   "outputs": [],
   "source": [
    "# build a dataset\n",
    "\n",
    "# choose information to gather\n",
    "\n",
    "columns_dict = {'title':[],\n",
    "               'id':[],\n",
    "               'url':[],\n",
    "               'date':[],\n",
    "               'score':[],\n",
    "               'num_comments':[],\n",
    "               'body':[]}\n",
    "\n",
    "# build a dictionary\n",
    "\n",
    "for post in subreddit_1_top:\n",
    "    \n",
    "    columns_dict['title'].append(post.title)\n",
    "    \n",
    "    columns_dict['id'].append(post.id)\n",
    "    \n",
    "    columns_dict['url'].append(post.url)\n",
    "    \n",
    "    columns_dict['date'].append(post.created)\n",
    "    \n",
    "    columns_dict['score'].append(post.score)\n",
    "    \n",
    "    columns_dict['num_comments'].append(post.num_comments)\n",
    "    \n",
    "    columns_dict['body'].append(post.selftext)\n",
    "\n",
    "# convert dictionary to a dataframe\n",
    "\n",
    "subreddit_1_df = pd.DataFrame(columns_dict)"
   ]
  },
  {
   "cell_type": "code",
   "execution_count": 83,
   "metadata": {},
   "outputs": [
    {
     "data": {
      "text/html": [
       "<div>\n",
       "<style scoped>\n",
       "    .dataframe tbody tr th:only-of-type {\n",
       "        vertical-align: middle;\n",
       "    }\n",
       "\n",
       "    .dataframe tbody tr th {\n",
       "        vertical-align: top;\n",
       "    }\n",
       "\n",
       "    .dataframe thead th {\n",
       "        text-align: right;\n",
       "    }\n",
       "</style>\n",
       "<table border=\"1\" class=\"dataframe\">\n",
       "  <thead>\n",
       "    <tr style=\"text-align: right;\">\n",
       "      <th></th>\n",
       "      <th>title</th>\n",
       "      <th>id</th>\n",
       "      <th>url</th>\n",
       "      <th>date</th>\n",
       "      <th>score</th>\n",
       "      <th>num_comments</th>\n",
       "      <th>body</th>\n",
       "    </tr>\n",
       "  </thead>\n",
       "  <tbody>\n",
       "    <tr>\n",
       "      <th>0</th>\n",
       "      <td>DONALD J. TRUMP DECLARED THE WINNER!</td>\n",
       "      <td>5bzjv5</td>\n",
       "      <td>https://www.reddit.com/r/The_Donald/comments/5...</td>\n",
       "      <td>1.478706e+09</td>\n",
       "      <td>66712</td>\n",
       "      <td>12097</td>\n",
       "      <td>#Meme Magic is REAL.\\n\\n#Donald J. Trump is th...</td>\n",
       "    </tr>\n",
       "    <tr>\n",
       "      <th>1</th>\n",
       "      <td>I’m Donald J. Trump and I'm Your Next Presiden...</td>\n",
       "      <td>4uxdbn</td>\n",
       "      <td>https://www.reddit.com/r/The_Donald/comments/4...</td>\n",
       "      <td>1.469687e+09</td>\n",
       "      <td>42122</td>\n",
       "      <td>20810</td>\n",
       "      <td>Hello The_Donald readers and the entire Reddit...</td>\n",
       "    </tr>\n",
       "    <tr>\n",
       "      <th>2</th>\n",
       "      <td>The New Algorithm Was Designed To Keep Preside...</td>\n",
       "      <td>5gvy1j</td>\n",
       "      <td>https://i.sli.mg/gu0oHA.png</td>\n",
       "      <td>1.481092e+09</td>\n",
       "      <td>40969</td>\n",
       "      <td>835</td>\n",
       "      <td></td>\n",
       "    </tr>\n",
       "    <tr>\n",
       "      <th>3</th>\n",
       "      <td>CNN will soon be #1...when searching for the t...</td>\n",
       "      <td>5jt9xs</td>\n",
       "      <td>https://i.redd.it/7jeyhzgku65y.png</td>\n",
       "      <td>1.482472e+09</td>\n",
       "      <td>37279</td>\n",
       "      <td>724</td>\n",
       "      <td></td>\n",
       "    </tr>\n",
       "    <tr>\n",
       "      <th>4</th>\n",
       "      <td>ALL CELEBRITIES THAT VOWED TO LEAVE THE U.S.A....</td>\n",
       "      <td>5bz5ds</td>\n",
       "      <td>https://www.reddit.com/r/The_Donald/comments/5...</td>\n",
       "      <td>1.478702e+09</td>\n",
       "      <td>36614</td>\n",
       "      <td>1685</td>\n",
       "      <td>Now that we have proven our commitment to the ...</td>\n",
       "    </tr>\n",
       "  </tbody>\n",
       "</table>\n",
       "</div>"
      ],
      "text/plain": [
       "                                               title      id  \\\n",
       "0               DONALD J. TRUMP DECLARED THE WINNER!  5bzjv5   \n",
       "1  I’m Donald J. Trump and I'm Your Next Presiden...  4uxdbn   \n",
       "2  The New Algorithm Was Designed To Keep Preside...  5gvy1j   \n",
       "3  CNN will soon be #1...when searching for the t...  5jt9xs   \n",
       "4  ALL CELEBRITIES THAT VOWED TO LEAVE THE U.S.A....  5bz5ds   \n",
       "\n",
       "                                                 url          date  score  \\\n",
       "0  https://www.reddit.com/r/The_Donald/comments/5...  1.478706e+09  66712   \n",
       "1  https://www.reddit.com/r/The_Donald/comments/4...  1.469687e+09  42122   \n",
       "2                        https://i.sli.mg/gu0oHA.png  1.481092e+09  40969   \n",
       "3                 https://i.redd.it/7jeyhzgku65y.png  1.482472e+09  37279   \n",
       "4  https://www.reddit.com/r/The_Donald/comments/5...  1.478702e+09  36614   \n",
       "\n",
       "   num_comments                                               body  \n",
       "0         12097  #Meme Magic is REAL.\\n\\n#Donald J. Trump is th...  \n",
       "1         20810  Hello The_Donald readers and the entire Reddit...  \n",
       "2           835                                                     \n",
       "3           724                                                     \n",
       "4          1685  Now that we have proven our commitment to the ...  "
      ]
     },
     "execution_count": 83,
     "metadata": {},
     "output_type": "execute_result"
    }
   ],
   "source": [
    "subreddit_1_df.head()"
   ]
  },
  {
   "cell_type": "code",
   "execution_count": 84,
   "metadata": {},
   "outputs": [],
   "source": [
    "# create a copy to work on\n",
    "\n",
    "reddit_df = subreddit_1_df.copy()"
   ]
  },
  {
   "cell_type": "code",
   "execution_count": 88,
   "metadata": {},
   "outputs": [],
   "source": [
    "# grab texts to build into corpus\n",
    "\n",
    "titles = reddit_df['title']\n",
    "\n",
    "posts = reddit_df['body']"
   ]
  },
  {
   "cell_type": "code",
   "execution_count": 89,
   "metadata": {},
   "outputs": [
    {
     "data": {
      "text/plain": [
       "0                 DONALD J. TRUMP DECLARED THE WINNER!\n",
       "1    I’m Donald J. Trump and I'm Your Next Presiden...\n",
       "2    The New Algorithm Was Designed To Keep Preside...\n",
       "3    CNN will soon be #1...when searching for the t...\n",
       "4    ALL CELEBRITIES THAT VOWED TO LEAVE THE U.S.A....\n",
       "Name: title, dtype: object"
      ]
     },
     "execution_count": 89,
     "metadata": {},
     "output_type": "execute_result"
    }
   ],
   "source": [
    "titles.head()"
   ]
  },
  {
   "cell_type": "code",
   "execution_count": 90,
   "metadata": {},
   "outputs": [
    {
     "data": {
      "text/plain": [
       "0    #Meme Magic is REAL.\\n\\n#Donald J. Trump is th...\n",
       "1    Hello The_Donald readers and the entire Reddit...\n",
       "2                                                     \n",
       "3                                                     \n",
       "4    Now that we have proven our commitment to the ...\n",
       "Name: body, dtype: object"
      ]
     },
     "execution_count": 90,
     "metadata": {},
     "output_type": "execute_result"
    }
   ],
   "source": [
    "posts.head()"
   ]
  },
  {
   "cell_type": "code",
   "execution_count": 107,
   "metadata": {},
   "outputs": [
    {
     "name": "stdout",
     "output_type": "stream",
     "text": [
      "['Now', 'that', 'we', 'have', 'proven', 'our', 'commitment', 'to', 'the', 'cause,', 'now', 'that', 'we', 'have', 'voiced', 'and', 'acted', 'on', 'our', 'patriotism,', 'now', 'that', 'against', 'all', 'odds', 'and', 'constant', 'criticism', 'with', 'the', 'world', 'against', 'us,', 'we', 'have', 'won,', 'and', 'we', 'call', 'for', 'this:', '#All', 'of', 'you', 'elitist', 'hollywood', 'celebrities', 'who', 'vowed', 'to', 'betray', 'your', 'country', 'and', 'leave,', 'to', 'abandon', 'and', 'shun', 'those', 'who', 'you', 'spent', 'your', 'careers', 'milking', 'for', 'your', 'posh', 'lifestyles,', 'we', 'ask,', 'nay,', 'demand', 'that', 'you', 'follow', 'through', 'on', 'your', 'claims', 'to', 'leave', 'the', 'country.', 'We', 'as', 'Americans', 'have', 'spoken,', 'and', 'you', 'brushed', 'us', 'and', 'our', 'movement', 'off,', 'as', 'if', 'you', 'were', 'somehow', 'above', 'us,', 'forgetting', 'that', 'it', 'was', 'us', 'who', 'made', 'you.', '**FUCK', 'YOU!**', 'You', 'think', 'you', 'are', 'too', 'good', 'for', 'us,', 'well,', \"we're\", 'too', 'good', 'for', 'you.', 'So', 'follow', 'through', 'on', 'your', 'vapid', 'and', 'empty', '\"threat\"', 'as', 'you', 'mistakenly', 'and', 'pridefully', 'consider', 'it', 'to', 'be,', 'and', '**GET.', 'THE.', 'FUCK.', 'OUT.**', 'Your', 'fame', 'and', 'celebrity', 'status', 'are', 'despicable,', 'or', 'shall', 'I', 'say,', 'deplorable.', 'You', 'are', 'not', 'better', 'than', 'us,', 'you', 'are', 'not', 'more', 'important', 'than', 'us,', 'you', 'would', 'be', 'nothing', 'without', 'us.', 'How', 'dare', 'you', 'pretend', 'that', 'you', 'are', 'above', 'us.', '_______', 'So', 'all', 'of', 'you', 'on', 'the', 'list', 'below,', 'we', 'demand', 'you', 'leave.', 'ASAP!!!', '*', 'Amy', '(unfunny)', 'schumer', '*', 'Lena', 'Dunham', '*', 'Barbra', 'Streisand', '*', 'Bryan', 'Cranston', '*', 'Miley', 'Cyrus', '*', 'Amy', 'Schumer', '*', 'Jon', 'Stewart', '*', 'Cher', '*', 'Chelsea', 'Handler', '*', 'Samuel', 'L.', 'Jackson', '*', 'Whoopi', 'Goldberg', '*', 'Neve', 'Campbell', '*', 'Keegan-Michael', 'Key', '*', 'George', 'Lopez', '*', 'Ne-Yo', '*', 'Rev.', 'Al', 'Sharpton', '*', 'Raven-Symoné', '#BUH-BYE.', '#Be', 'assured,', 'YOU', 'WILL', 'NOT', 'BE', 'MISSED.', 'Love,', 'The', 'Basket', 'of', 'Deplorables']\n"
     ]
    }
   ],
   "source": [
    "# experiment\n",
    "# need to toeknize, etc\n",
    "\n",
    "text = posts[4].split()\n",
    "\n",
    "print(text)"
   ]
  },
  {
   "cell_type": "markdown",
   "metadata": {},
   "source": [
    "the text needs to be cleaned. lots of stopwords, punctuation, & non-alpha characters. case needs to be lowered etc."
   ]
  },
  {
   "cell_type": "code",
   "execution_count": null,
   "metadata": {},
   "outputs": [],
   "source": [
    "# TODO\n",
    "# tokenize (split)\n",
    "# lowercase\n",
    "# remove punctuation\n",
    "# remove stopwords\n",
    "# remove non-alpha characters\n",
    "\n",
    "def clean_text(doc):\n",
    "    \n",
    "    # tokenize\n",
    "    \n",
    "    split_tokens = doc.split()\n",
    "    \n",
    "    \n",
    "    "
   ]
  }
 ],
 "metadata": {
  "kernelspec": {
   "display_name": "Python 3",
   "language": "python",
   "name": "python3"
  },
  "language_info": {
   "codemirror_mode": {
    "name": "ipython",
    "version": 3
   },
   "file_extension": ".py",
   "mimetype": "text/x-python",
   "name": "python",
   "nbconvert_exporter": "python",
   "pygments_lexer": "ipython3",
   "version": "3.6.3"
  }
 },
 "nbformat": 4,
 "nbformat_minor": 2
}
