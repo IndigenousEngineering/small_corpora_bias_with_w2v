{
 "cells": [
  {
   "cell_type": "code",
   "execution_count": 291,
   "metadata": {},
   "outputs": [],
   "source": [
    "import praw\n",
    "import pandas as pd\n",
    "import re\n",
    "import string\n",
    "from collections import Counter\n",
    "from gensim.models import Word2Vec\n",
    "from nltk.corpus import stopwords\n",
    "from sklearn.feature_extraction.text import CountVectorizer\n",
    "from sklearn.decomposition import PCA\n",
    "from matplotlib import pyplot\n",
    "%matplotlib inline\n"
   ]
  },
  {
   "cell_type": "code",
   "execution_count": 292,
   "metadata": {},
   "outputs": [],
   "source": [
    "# get reddit secret & script i've saved as .txt in the working directory\n",
    "\n",
    "with open('reddit_oa_script.txt') as f:\n",
    "    \n",
    "    reddit_script = f.read().strip()\n",
    "    \n",
    "with open('reddit_oa_secret.txt') as f:\n",
    "    \n",
    "    reddit_secret = f.read().strip()\n",
    "    \n",
    "with open('reddit_id.txt') as f:\n",
    "    \n",
    "    pw = f.read().strip()"
   ]
  },
  {
   "cell_type": "code",
   "execution_count": 293,
   "metadata": {},
   "outputs": [],
   "source": [
    "# user_agent is the name of the app\n",
    "\n",
    "reddit  = praw.Reddit(client_id=reddit_script,\n",
    "                          client_secret=reddit_secret,\n",
    "                          user_agent='get_corpora',\n",
    "                          username='neurodivergent_ai',\n",
    "                          password=pw)\n"
   ]
  },
  {
   "cell_type": "code",
   "execution_count": 294,
   "metadata": {},
   "outputs": [],
   "source": [
    "# get the subreddit\n",
    "\n",
    "subreddit_1 = reddit.subreddit('The_Donald')\n",
    "\n",
    "# get the top (upvoted) 1000 threads\n",
    "\n",
    "subreddit_1_top = subreddit_1.top(limit=1000)"
   ]
  },
  {
   "cell_type": "code",
   "execution_count": 295,
   "metadata": {},
   "outputs": [
    {
     "name": "stdout",
     "output_type": "stream",
     "text": [
      "DONALD J. TRUMP DECLARED THE WINNER! \n",
      "\n",
      "I’m Donald J. Trump and I'm Your Next President of the United States. \n",
      "\n",
      "The New Algorithm Was Designed To Keep President Trump From The Front Page... But Sadly, That Won't Happen. \n",
      "\n",
      "CNN will soon be #1...when searching for the term \"Fake News\". Congratulations to CNN on this major achievement. \n",
      "\n",
      "ALL CELEBRITIES THAT VOWED TO LEAVE THE U.S.A. IF TRUMP WINS, WE NOW DEMAND YOU TO FOLLOW THROUGH!!!! OUT! OUT! OUT! \n",
      "\n"
     ]
    }
   ],
   "source": [
    "# get the top 5 submissions to check\n",
    "\n",
    "for post in subreddit_1.top(limit=5):\n",
    "    \n",
    "    print(post.title, '\\n')"
   ]
  },
  {
   "cell_type": "code",
   "execution_count": 296,
   "metadata": {},
   "outputs": [],
   "source": [
    "# build a dataset\n",
    "\n",
    "# choose information to gather\n",
    "\n",
    "columns_dict = {'title':[],\n",
    "               'id':[],\n",
    "               'url':[],\n",
    "               'date':[],\n",
    "               'score':[],\n",
    "               'num_comments':[],\n",
    "               'body':[]}\n",
    "\n",
    "# build a dictionary\n",
    "\n",
    "for post in subreddit_1_top:\n",
    "    \n",
    "    columns_dict['title'].append(post.title)\n",
    "    \n",
    "    columns_dict['id'].append(post.id)\n",
    "    \n",
    "    columns_dict['url'].append(post.url)\n",
    "    \n",
    "    columns_dict['date'].append(post.created)\n",
    "    \n",
    "    columns_dict['score'].append(post.score)\n",
    "    \n",
    "    columns_dict['num_comments'].append(post.num_comments)\n",
    "    \n",
    "    columns_dict['body'].append(post.selftext)\n",
    "\n",
    "# convert dictionary to a dataframe\n",
    "\n",
    "subreddit_1_df = pd.DataFrame(columns_dict)\n"
   ]
  },
  {
   "cell_type": "code",
   "execution_count": 297,
   "metadata": {},
   "outputs": [
    {
     "data": {
      "text/html": [
       "<div>\n",
       "<style scoped>\n",
       "    .dataframe tbody tr th:only-of-type {\n",
       "        vertical-align: middle;\n",
       "    }\n",
       "\n",
       "    .dataframe tbody tr th {\n",
       "        vertical-align: top;\n",
       "    }\n",
       "\n",
       "    .dataframe thead th {\n",
       "        text-align: right;\n",
       "    }\n",
       "</style>\n",
       "<table border=\"1\" class=\"dataframe\">\n",
       "  <thead>\n",
       "    <tr style=\"text-align: right;\">\n",
       "      <th></th>\n",
       "      <th>title</th>\n",
       "      <th>id</th>\n",
       "      <th>url</th>\n",
       "      <th>date</th>\n",
       "      <th>score</th>\n",
       "      <th>num_comments</th>\n",
       "      <th>body</th>\n",
       "    </tr>\n",
       "  </thead>\n",
       "  <tbody>\n",
       "    <tr>\n",
       "      <th>0</th>\n",
       "      <td>DONALD J. TRUMP DECLARED THE WINNER!</td>\n",
       "      <td>5bzjv5</td>\n",
       "      <td>https://www.reddit.com/r/The_Donald/comments/5...</td>\n",
       "      <td>1.478706e+09</td>\n",
       "      <td>66714</td>\n",
       "      <td>12093</td>\n",
       "      <td>#Meme Magic is REAL.\\n\\n#Donald J. Trump is th...</td>\n",
       "    </tr>\n",
       "    <tr>\n",
       "      <th>1</th>\n",
       "      <td>I’m Donald J. Trump and I'm Your Next Presiden...</td>\n",
       "      <td>4uxdbn</td>\n",
       "      <td>https://www.reddit.com/r/The_Donald/comments/4...</td>\n",
       "      <td>1.469687e+09</td>\n",
       "      <td>42127</td>\n",
       "      <td>20800</td>\n",
       "      <td>Hello The_Donald readers and the entire Reddit...</td>\n",
       "    </tr>\n",
       "    <tr>\n",
       "      <th>2</th>\n",
       "      <td>The New Algorithm Was Designed To Keep Preside...</td>\n",
       "      <td>5gvy1j</td>\n",
       "      <td>https://i.sli.mg/gu0oHA.png</td>\n",
       "      <td>1.481092e+09</td>\n",
       "      <td>40964</td>\n",
       "      <td>832</td>\n",
       "      <td></td>\n",
       "    </tr>\n",
       "    <tr>\n",
       "      <th>3</th>\n",
       "      <td>CNN will soon be #1...when searching for the t...</td>\n",
       "      <td>5jt9xs</td>\n",
       "      <td>https://i.redd.it/7jeyhzgku65y.png</td>\n",
       "      <td>1.482472e+09</td>\n",
       "      <td>37282</td>\n",
       "      <td>724</td>\n",
       "      <td></td>\n",
       "    </tr>\n",
       "    <tr>\n",
       "      <th>4</th>\n",
       "      <td>ALL CELEBRITIES THAT VOWED TO LEAVE THE U.S.A....</td>\n",
       "      <td>5bz5ds</td>\n",
       "      <td>https://www.reddit.com/r/The_Donald/comments/5...</td>\n",
       "      <td>1.478702e+09</td>\n",
       "      <td>36625</td>\n",
       "      <td>1685</td>\n",
       "      <td>Now that we have proven our commitment to the ...</td>\n",
       "    </tr>\n",
       "  </tbody>\n",
       "</table>\n",
       "</div>"
      ],
      "text/plain": [
       "                                               title      id  \\\n",
       "0               DONALD J. TRUMP DECLARED THE WINNER!  5bzjv5   \n",
       "1  I’m Donald J. Trump and I'm Your Next Presiden...  4uxdbn   \n",
       "2  The New Algorithm Was Designed To Keep Preside...  5gvy1j   \n",
       "3  CNN will soon be #1...when searching for the t...  5jt9xs   \n",
       "4  ALL CELEBRITIES THAT VOWED TO LEAVE THE U.S.A....  5bz5ds   \n",
       "\n",
       "                                                 url          date  score  \\\n",
       "0  https://www.reddit.com/r/The_Donald/comments/5...  1.478706e+09  66714   \n",
       "1  https://www.reddit.com/r/The_Donald/comments/4...  1.469687e+09  42127   \n",
       "2                        https://i.sli.mg/gu0oHA.png  1.481092e+09  40964   \n",
       "3                 https://i.redd.it/7jeyhzgku65y.png  1.482472e+09  37282   \n",
       "4  https://www.reddit.com/r/The_Donald/comments/5...  1.478702e+09  36625   \n",
       "\n",
       "   num_comments                                               body  \n",
       "0         12093  #Meme Magic is REAL.\\n\\n#Donald J. Trump is th...  \n",
       "1         20800  Hello The_Donald readers and the entire Reddit...  \n",
       "2           832                                                     \n",
       "3           724                                                     \n",
       "4          1685  Now that we have proven our commitment to the ...  "
      ]
     },
     "execution_count": 297,
     "metadata": {},
     "output_type": "execute_result"
    }
   ],
   "source": [
    "subreddit_1_df.head()"
   ]
  },
  {
   "cell_type": "code",
   "execution_count": 298,
   "metadata": {},
   "outputs": [],
   "source": [
    "# create a copy to work on\n",
    "\n",
    "reddit_df = subreddit_1_df.copy()"
   ]
  },
  {
   "cell_type": "code",
   "execution_count": 299,
   "metadata": {},
   "outputs": [],
   "source": [
    "# grab texts to build into corpus\n",
    "\n",
    "titles_df = reddit_df['title']\n",
    "\n",
    "posts_df = reddit_df['body']"
   ]
  },
  {
   "cell_type": "code",
   "execution_count": 300,
   "metadata": {},
   "outputs": [
    {
     "data": {
      "text/plain": [
       "0                 DONALD J. TRUMP DECLARED THE WINNER!\n",
       "1    I’m Donald J. Trump and I'm Your Next Presiden...\n",
       "2    The New Algorithm Was Designed To Keep Preside...\n",
       "3    CNN will soon be #1...when searching for the t...\n",
       "4    ALL CELEBRITIES THAT VOWED TO LEAVE THE U.S.A....\n",
       "5                             IMMINENT VICTORY THREAD.\n",
       "6    Hey admins, we found a picture of your wife's ...\n",
       "7             Oh yeah, nothing fucky going on here :^)\n",
       "8                     Can't Stump your President Trump\n",
       "9    It's official: Trump will become the first U.S...\n",
       "Name: title, dtype: object"
      ]
     },
     "execution_count": 300,
     "metadata": {},
     "output_type": "execute_result"
    }
   ],
   "source": [
    "titles_df.head(10)"
   ]
  },
  {
   "cell_type": "code",
   "execution_count": 301,
   "metadata": {},
   "outputs": [
    {
     "data": {
      "text/plain": [
       "0    #Meme Magic is REAL.\\n\\n#Donald J. Trump is th...\n",
       "1    Hello The_Donald readers and the entire Reddit...\n",
       "2                                                     \n",
       "3                                                     \n",
       "4    Now that we have proven our commitment to the ...\n",
       "5    #THIS IS NOT A DRILL. WE ARE ACTUALLY GOING TO...\n",
       "6                                                     \n",
       "7                                                     \n",
       "8                                                     \n",
       "9                                                     \n",
       "Name: body, dtype: object"
      ]
     },
     "execution_count": 301,
     "metadata": {},
     "output_type": "execute_result"
    }
   ],
   "source": [
    "posts_df.head(10)"
   ]
  },
  {
   "cell_type": "code",
   "execution_count": 302,
   "metadata": {},
   "outputs": [
    {
     "name": "stdout",
     "output_type": "stream",
     "text": [
      "['Now', 'that', 'we', 'have', 'proven', 'our', 'commitment', 'to', 'the', 'cause,', 'now', 'that', 'we', 'have', 'voiced', 'and', 'acted', 'on', 'our', 'patriotism,', 'now', 'that', 'against', 'all', 'odds', 'and', 'constant', 'criticism', 'with', 'the', 'world', 'against', 'us,', 'we', 'have', 'won,', 'and', 'we', 'call', 'for', 'this:', '#All', 'of', 'you', 'elitist', 'hollywood', 'celebrities', 'who', 'vowed', 'to', 'betray', 'your', 'country', 'and', 'leave,', 'to', 'abandon', 'and', 'shun', 'those', 'who', 'you', 'spent', 'your', 'careers', 'milking', 'for', 'your', 'posh', 'lifestyles,', 'we', 'ask,', 'nay,', 'demand', 'that', 'you', 'follow', 'through', 'on', 'your', 'claims', 'to', 'leave', 'the', 'country.', 'We', 'as', 'Americans', 'have', 'spoken,', 'and', 'you', 'brushed', 'us', 'and', 'our', 'movement', 'off,', 'as', 'if', 'you', 'were', 'somehow', 'above', 'us,', 'forgetting', 'that', 'it', 'was', 'us', 'who', 'made', 'you.', '**FUCK', 'YOU!**', 'You', 'think', 'you', 'are', 'too', 'good', 'for', 'us,', 'well,', \"we're\", 'too', 'good', 'for', 'you.', 'So', 'follow', 'through', 'on', 'your', 'vapid', 'and', 'empty', '\"threat\"', 'as', 'you', 'mistakenly', 'and', 'pridefully', 'consider', 'it', 'to', 'be,', 'and', '**GET.', 'THE.', 'FUCK.', 'OUT.**', 'Your', 'fame', 'and', 'celebrity', 'status', 'are', 'despicable,', 'or', 'shall', 'I', 'say,', 'deplorable.', 'You', 'are', 'not', 'better', 'than', 'us,', 'you', 'are', 'not', 'more', 'important', 'than', 'us,', 'you', 'would', 'be', 'nothing', 'without', 'us.', 'How', 'dare', 'you', 'pretend', 'that', 'you', 'are', 'above', 'us.', '_______', 'So', 'all', 'of', 'you', 'on', 'the', 'list', 'below,', 'we', 'demand', 'you', 'leave.', 'ASAP!!!', '*', 'Amy', '(unfunny)', 'schumer', '*', 'Lena', 'Dunham', '*', 'Barbra', 'Streisand', '*', 'Bryan', 'Cranston', '*', 'Miley', 'Cyrus', '*', 'Amy', 'Schumer', '*', 'Jon', 'Stewart', '*', 'Cher', '*', 'Chelsea', 'Handler', '*', 'Samuel', 'L.', 'Jackson', '*', 'Whoopi', 'Goldberg', '*', 'Neve', 'Campbell', '*', 'Keegan-Michael', 'Key', '*', 'George', 'Lopez', '*', 'Ne-Yo', '*', 'Rev.', 'Al', 'Sharpton', '*', 'Raven-Symoné', '#BUH-BYE.', '#Be', 'assured,', 'YOU', 'WILL', 'NOT', 'BE', 'MISSED.', 'Love,', 'The', 'Basket', 'of', 'Deplorables']\n"
     ]
    }
   ],
   "source": [
    "# experiment\n",
    "# need to toeknize, etc\n",
    "\n",
    "text = posts_df[4].split()\n",
    "\n",
    "print(text)"
   ]
  },
  {
   "cell_type": "markdown",
   "metadata": {},
   "source": [
    "on the first go around, i'm going to try a lean text preparation strategy for ease of training. what i mean by this is that i'm removing comparatively a lot for a word embedding (but less than classical nlp text prep for many tasks). \n",
    "\n",
    "i'll add more features in one at a time later, to see how it affects performance. this means that for now, the text needs to be cleaned. \n",
    "\n",
    "lots of stopwords, punctuation, & non-alpha characters. case needs to be lowered etc."
   ]
  },
  {
   "cell_type": "code",
   "execution_count": 303,
   "metadata": {},
   "outputs": [],
   "source": [
    "def clean_text(doc):\n",
    "    '''\n",
    "    tokenizes input text, converts to lowercase,\n",
    "    removes punctuation/non-alphabetic characters\n",
    "    and stopwords. returns clean document.\n",
    "    \n",
    "    '''\n",
    "    \n",
    "    # tokenize\n",
    "    \n",
    "    split_tokens = doc.split()\n",
    "    \n",
    "    # grab punctuation list\n",
    "    \n",
    "    punctuation = string.punctuation\n",
    "    \n",
    "    # set up regex \n",
    "    \n",
    "    punct_filter = re.compile('[%s]' % re.escape(punctuation))\n",
    "    \n",
    "    # filter out punctuation\n",
    "    \n",
    "    no_punct_tokens = [punct_filter.sub('', char) for char in split_tokens]\n",
    "    \n",
    "    # remove non-alphabetic tokens\n",
    "    \n",
    "    alpha_tokens = [t for t in no_punct_tokens if t.isalpha()]\n",
    "    \n",
    "    # lowercase\n",
    "    \n",
    "    lower_tokens = [t.lower() for t in alpha_tokens]\n",
    "    \n",
    "    # get stop words\n",
    "    \n",
    "    stop_words = set(stopwords.words('english'))\n",
    "    \n",
    "    # filter out stopwords\n",
    "    \n",
    "    go_tokens = [t for t in lower_tokens if not t in stop_words]\n",
    "    \n",
    "    # remove very short tokens\n",
    "    \n",
    "    clean_tokens = [word for word in go_tokens if len(word) > 1]\n",
    "    \n",
    "    return clean_tokens\n",
    "    "
   ]
  },
  {
   "cell_type": "code",
   "execution_count": 304,
   "metadata": {},
   "outputs": [
    {
     "data": {
      "text/plain": [
       "['proven',\n",
       " 'commitment',\n",
       " 'cause',\n",
       " 'voiced',\n",
       " 'acted',\n",
       " 'patriotism',\n",
       " 'odds',\n",
       " 'constant',\n",
       " 'criticism',\n",
       " 'world',\n",
       " 'us',\n",
       " 'call',\n",
       " 'elitist',\n",
       " 'hollywood',\n",
       " 'celebrities',\n",
       " 'vowed',\n",
       " 'betray',\n",
       " 'country',\n",
       " 'leave',\n",
       " 'abandon',\n",
       " 'shun',\n",
       " 'spent',\n",
       " 'careers',\n",
       " 'milking',\n",
       " 'posh',\n",
       " 'lifestyles',\n",
       " 'ask',\n",
       " 'nay',\n",
       " 'demand',\n",
       " 'follow',\n",
       " 'claims',\n",
       " 'leave',\n",
       " 'country',\n",
       " 'americans',\n",
       " 'spoken',\n",
       " 'brushed',\n",
       " 'us',\n",
       " 'movement',\n",
       " 'somehow',\n",
       " 'us',\n",
       " 'forgetting',\n",
       " 'us',\n",
       " 'made',\n",
       " 'fuck',\n",
       " 'think',\n",
       " 'good',\n",
       " 'us',\n",
       " 'well',\n",
       " 'good',\n",
       " 'follow',\n",
       " 'vapid',\n",
       " 'empty',\n",
       " 'threat',\n",
       " 'mistakenly',\n",
       " 'pridefully',\n",
       " 'consider',\n",
       " 'get',\n",
       " 'fuck',\n",
       " 'fame',\n",
       " 'celebrity',\n",
       " 'status',\n",
       " 'despicable',\n",
       " 'shall',\n",
       " 'say',\n",
       " 'deplorable',\n",
       " 'better',\n",
       " 'us',\n",
       " 'important',\n",
       " 'us',\n",
       " 'would',\n",
       " 'nothing',\n",
       " 'without',\n",
       " 'us',\n",
       " 'dare',\n",
       " 'pretend',\n",
       " 'us',\n",
       " 'list',\n",
       " 'demand',\n",
       " 'leave',\n",
       " 'asap',\n",
       " 'amy',\n",
       " 'unfunny',\n",
       " 'schumer',\n",
       " 'lena',\n",
       " 'dunham',\n",
       " 'barbra',\n",
       " 'streisand',\n",
       " 'bryan',\n",
       " 'cranston',\n",
       " 'miley',\n",
       " 'cyrus',\n",
       " 'amy',\n",
       " 'schumer',\n",
       " 'jon',\n",
       " 'stewart',\n",
       " 'cher',\n",
       " 'chelsea',\n",
       " 'handler',\n",
       " 'samuel',\n",
       " 'jackson',\n",
       " 'whoopi',\n",
       " 'goldberg',\n",
       " 'neve',\n",
       " 'campbell',\n",
       " 'keeganmichael',\n",
       " 'key',\n",
       " 'george',\n",
       " 'lopez',\n",
       " 'neyo',\n",
       " 'rev',\n",
       " 'al',\n",
       " 'sharpton',\n",
       " 'ravensymoné',\n",
       " 'buhbye',\n",
       " 'assured',\n",
       " 'missed',\n",
       " 'love',\n",
       " 'basket',\n",
       " 'deplorables']"
      ]
     },
     "execution_count": 304,
     "metadata": {},
     "output_type": "execute_result"
    }
   ],
   "source": [
    "# test\n",
    "\n",
    "raw_text = posts_df[4]\n",
    "\n",
    "clean_text(raw_text)"
   ]
  },
  {
   "cell_type": "code",
   "execution_count": 305,
   "metadata": {},
   "outputs": [],
   "source": [
    "def clean_all_texts(texts):\n",
    "    '''\n",
    "    iterate through a list of texts\n",
    "    apply clean_text() function to each\n",
    "    append each clean text to a list\n",
    "    return the list of cleaned texts\n",
    "    \n",
    "    '''\n",
    "    \n",
    "    cleaned_texts = []\n",
    "    \n",
    "    for text in texts:\n",
    "        \n",
    "        text = clean_text(text)\n",
    "        \n",
    "        # remove empty lists\n",
    "        \n",
    "        if text:\n",
    "        \n",
    "            cleaned_texts.append(text)\n",
    "        \n",
    "    return cleaned_texts"
   ]
  },
  {
   "cell_type": "code",
   "execution_count": 306,
   "metadata": {},
   "outputs": [],
   "source": [
    "clean_titles = clean_all_texts(titles_df)\n",
    "\n",
    "clean_posts = clean_all_texts(posts_df)"
   ]
  },
  {
   "cell_type": "code",
   "execution_count": 307,
   "metadata": {},
   "outputs": [
    {
     "name": "stdout",
     "output_type": "stream",
     "text": [
      "['celebrities', 'vowed', 'leave', 'usa', 'trump', 'wins', 'demand', 'follow']\n",
      "\n",
      "\n",
      "['proven', 'commitment', 'cause', 'voiced', 'acted', 'patriotism', 'odds', 'constant', 'criticism', 'world', 'us', 'call', 'elitist', 'hollywood', 'celebrities', 'vowed', 'betray', 'country', 'leave', 'abandon', 'shun', 'spent', 'careers', 'milking', 'posh', 'lifestyles', 'ask', 'nay', 'demand', 'follow', 'claims', 'leave', 'country', 'americans', 'spoken', 'brushed', 'us', 'movement', 'somehow', 'us', 'forgetting', 'us', 'made', 'fuck', 'think', 'good', 'us', 'well', 'good', 'follow', 'vapid', 'empty', 'threat', 'mistakenly', 'pridefully', 'consider', 'get', 'fuck', 'fame', 'celebrity', 'status', 'despicable', 'shall', 'say', 'deplorable', 'better', 'us', 'important', 'us', 'would', 'nothing', 'without', 'us', 'dare', 'pretend', 'us', 'list', 'demand', 'leave', 'asap', 'amy', 'unfunny', 'schumer', 'lena', 'dunham', 'barbra', 'streisand', 'bryan', 'cranston', 'miley', 'cyrus', 'amy', 'schumer', 'jon', 'stewart', 'cher', 'chelsea', 'handler', 'samuel', 'jackson', 'whoopi', 'goldberg', 'neve', 'campbell', 'keeganmichael', 'key', 'george', 'lopez', 'neyo', 'rev', 'al', 'sharpton', 'ravensymoné', 'buhbye', 'assured', 'missed', 'love', 'basket', 'deplorables']\n"
     ]
    }
   ],
   "source": [
    "# test\n",
    "\n",
    "print(clean_titles[4])\n",
    "\n",
    "print('\\n')\n",
    "\n",
    "print(clean_posts[2])"
   ]
  },
  {
   "cell_type": "code",
   "execution_count": 308,
   "metadata": {},
   "outputs": [],
   "source": [
    "# combine all sentences\n",
    "\n",
    "docs = clean_titles + clean_posts"
   ]
  },
  {
   "cell_type": "code",
   "execution_count": 309,
   "metadata": {},
   "outputs": [
    {
     "name": "stdout",
     "output_type": "stream",
     "text": [
      "['donald', 'trump', 'declared', 'winner'] \n",
      "\n",
      "['donald', 'trump', 'im', 'next', 'president', 'united', 'states'] \n",
      "\n",
      "['new', 'algorithm', 'designed', 'keep', 'president', 'trump', 'front', 'page', 'sadly', 'wont', 'happen'] \n",
      "\n",
      "['cnn', 'soon', 'searching', 'term', 'fake', 'news', 'congratulations', 'cnn', 'major', 'achievement'] \n",
      "\n",
      "['celebrities', 'vowed', 'leave', 'usa', 'trump', 'wins', 'demand', 'follow'] \n",
      "\n",
      "['imminent', 'victory', 'thread'] \n",
      "\n",
      "['hey', 'admins', 'found', 'picture', 'wifes', 'boyfriends', 'president'] \n",
      "\n",
      "['oh', 'yeah', 'nothing', 'fucky', 'going'] \n",
      "\n",
      "['cant', 'stump', 'president', 'trump'] \n",
      "\n",
      "['official', 'trump', 'become', 'first', 'us', 'president', 'support', 'gay', 'marriage', 'starting', 'inauguration', 'day', 'shame', 'reached', 'rall'] \n",
      "\n",
      "['fuck', 'reddit', 'admins', 'like', 'redit', 'try', 'much', 'like', 'cant', 'stop', 'portrait', 'getting', 'upvotes', 'deserves'] \n",
      "\n",
      "['reddit', 'cuck', 'admins', 'take', 'official', 'portrait', 'president', 'upvoted', 'post', 'reddits', 'history'] \n",
      "\n",
      "['press', 'pay', 'respect'] \n",
      "\n",
      "['youtube', 'removed', 'countless', 'copies', 'video', 'bunch', 'racists', 'beating', 'trump', 'voter', 'issued', 'strikes', 'accounts', 'uploaded', 'posting', 'every', 'day', 'racists', 'identified', 'punished'] \n",
      "\n",
      "['hey', 'rall'] \n",
      "\n",
      "['fired'] \n",
      "\n",
      "['little', 'something', 'reddit', 'admins', 'get', 'used', 'looking', 'around', 'next', 'years'] \n",
      "\n",
      "['official', 'portrait', 'president', 'upvotednot', 'post', 'reddits', 'history'] \n",
      "\n",
      "['trump'] \n",
      "\n",
      "['united', 'states', 'trump'] \n",
      "\n",
      "['hero', 'stopped', 'terrorist', 'attack', 'today', 'ohio', 'state'] \n",
      "\n",
      "['portrait', 'powerful', 'man', 'free', 'world'] \n",
      "\n",
      "['reddit', 'voting', 'algorithm', 'changed', 'picture', 'droniest', 'president', 'ever', 'highest', 'voted', 'shitpost', 'time'] \n",
      "\n",
      "['heard', 'reddit', 'admins', 'hate', 'photo', 'know', 'centipedes'] \n",
      "\n",
      "['top', 'god', 'emperor'] \n",
      "\n"
     ]
    }
   ],
   "source": [
    "counter = 0\n",
    "\n",
    "for i in docs:\n",
    "    \n",
    "    if counter < 25:\n",
    "        \n",
    "        print(i, '\\n')\n",
    "        \n",
    "        counter +=1"
   ]
  },
  {
   "cell_type": "code",
   "execution_count": 310,
   "metadata": {},
   "outputs": [
    {
     "name": "stdout",
     "output_type": "stream",
     "text": [
      "Counter({'trump': 342, 'us': 154, 'president': 123, 'clinton': 121, 'people': 118, 'reddit': 114, 'like': 102, 'would': 95, 'hillary': 90, 'one': 80, 'donald': 78, 'get': 77, 'post': 66, 'make': 66, 'media': 66, 'campaign': 65, 'going': 61, 'even': 61, 'new': 59, 'time': 59, 'foundation': 58, 'news': 57, 'dont': 57, 'email': 57, 'first': 56, 'hate': 56, 'rall': 54, 'see': 54, 'know': 52, 'support': 50, 'america': 49, 'cnn': 48, 'im': 47, 'admins': 47, 'dnc': 47, 'many': 46, 'right': 44, 'want': 43, 'election': 43, 'also': 43, 'never': 42, 'year': 41, 'crime': 40, 'left': 39, 'breaking': 39, 'made': 39, 'political': 39, 'well': 39, 'say': 38, 'every': 37, 'today': 37, 'top': 37, 'rthedonald': 37, 'back': 37, 'americans': 37, 'go': 37, 'years': 36, 'edit': 36, 'think': 36, 'state': 35, 'country': 35, 'still': 34, 'need': 34, 'vote': 34, 'wikileaks': 34, 'last': 34, 'lets': 33, 'said': 33, 'black': 33, 'nbsp': 33, 'fake': 32, 'show': 32, 'could': 32, 'got': 32, 'keep': 31, 'man': 31, 'fbi': 31, 'emails': 31, 'white': 31, 'american': 31, 'seth': 31, 'page': 30, 'much': 30, 'community': 30, 'way': 30, 'obama': 30, 'work': 30, 'may': 30, 'bill': 30, 'promise': 30, 'found': 29, 'day': 29, 'let': 29, 'rich': 29, 'money': 29, 'information': 29, 'front': 28, 'getting': 28, 'attack': 28, 'energy': 28, 'things': 28, 'someone': 28, 'fund': 28, 'cant': 27, 'thedonald': 27, 'great': 27, 'love': 27, 'called': 27, 'good': 27, 'illegal': 27, 'fuck': 26, 'help': 26, 'jobs': 26, 'list': 26, 'another': 26, 'women': 25, 'since': 25, 'story': 25, 'something': 24, 'days': 24, 'real': 24, 'far': 24, 'podesta': 24, 'questions': 24, 'team': 24, 'states': 23, 'video': 23, 'ever': 23, 'says': 23, 'youre': 23, 'trumps': 23, 'maga': 23, 'put': 23, 'russia': 23, 'link': 23, 'posts': 22, 'comments': 22, 'calling': 22, 'give': 22, 'wants': 22, 'went': 22, 'twitter': 22, 'lot': 22, 'teneo': 22, 'picture': 21, 'official': 21, 'stop': 21, 'terrorist': 21, 'world': 21, 'told': 21, 'uspez': 21, 'without': 21, 'based': 21, 'come': 21, 'thing': 21, 'part': 21, 'months': 21, 'didnt': 21, 'shame': 20, 'name': 20, 'believe': 20, 'case': 20, 'instead': 20, 'gets': 20, 'violence': 20, 'speech': 20, 'win': 20, 'fucking': 20, 'employees': 20, 'office': 20, 'million': 20, 'really': 20, 'family': 20, 'try': 19, 'take': 19, 'doesnt': 19, 'ban': 19, 'google': 19, 'look': 19, 'end': 19, 'sub': 19, 'needs': 19, 'police': 19, 'thank': 19, 'full': 19, 'entire': 19, 'please': 19, 'john': 19, 'emailid': 19, 'next': 18, 'voted': 18, 'anything': 18, 'fact': 18, 'old': 18, 'must': 18, 'point': 18, 'two': 18, 'house': 18, 'call': 18, 'order': 18, 'foreign': 18, 'initiative': 18, 'united': 17, 'used': 17, 'allow': 17, 'supporters': 17, 'muslim': 17, 'woman': 17, 'ones': 17, 'clintons': 17, 'tell': 17, 'fox': 17, 'understand': 17, 'saying': 17, 'government': 17, 'candidate': 17, 'cgi': 17, 'isnt': 16, 'votes': 16, 'message': 16, 'image': 16, 'find': 16, 'guys': 16, 'immigration': 16, 'including': 16, 'hard': 16, 'staff': 16, 'lost': 16, 'doj': 16, 'plan': 16, 'rules': 16, 'private': 16, 'death': 16, 'winning': 16, 'dead': 16, 'asked': 16, 'though': 16, 'leave': 15, 'nothing': 15, 'history': 15, 'press': 15, 'little': 15, 'free': 15, 'might': 15, 'investigation': 15, 'watch': 15, 'users': 15, 'wrong': 15, 'trying': 15, 'berkeley': 15, 'send': 15, 'sure': 15, 'censorship': 15, 'promised': 15, 'finally': 15, 'despite': 15, 'company': 15, 'night': 15, 'coming': 15, 'racist': 15, 'system': 15, 'subreddit': 15, 'update': 15, 'global': 15, 'department': 15, 'seen': 15, 'cf': 15, 'school': 15, 'outside': 15, 'business': 15, 'wont': 14, 'thread': 14, 'hey': 14, 'reached': 14, 'spez': 14, 'started': 14, 'ceo': 14, 'democrats': 14, 'anyone': 14, 'single': 14, 'shit': 14, 'obamas': 14, 'feel': 14, 'court': 14, 'different': 14, 'funds': 14, 'gave': 14, 'subreddits': 14, 'etc': 14, 'mods': 14, 'makes': 14, 'rally': 14, 'statement': 14, 'injured': 14, 'truth': 14, 'group': 14, 'clear': 14, 'national': 14, 'currently': 14, 'role': 14, 'posted': 14, 'centipedes': 13, 'sanders': 13, 'rest': 13, 'asking': 13, 'happened': 13, 'march': 13, 'use': 13, 'war': 13, 'high': 13, 'policies': 13, 'james': 13, 'federal': 13, 'matter': 13, 'face': 13, 'force': 13, 'times': 13, 'read': 13, 'secret': 13, 'big': 13, 'tried': 13, 'church': 13, 'control': 13, 'presidential': 13, 'ask': 13, 'yet': 13, 'actually': 13, 'father': 13, 'worked': 13, 'actions': 13, 'policy': 13, 'cities': 13, 'board': 13, 'ge': 13, 'island': 13, 'kadzik': 13, 'monica': 13, 'portrait': 12, 'around': 12, 'downvote': 12, 'censoring': 12, 'confirmed': 12, 'signed': 12, 'issue': 12, 'officially': 12, 'change': 12, 'already': 12, 'means': 12, 'elected': 12, 'ago': 12, 'hours': 12, 'pedes': 12, 'liberals': 12, 'important': 12, 'taking': 12, 'live': 12, 'law': 12, 'huge': 12, 'done': 12, 'everyone': 12, 'democrat': 12, 'theyre': 12, 'shows': 12, 'maybe': 12, 'countries': 12, 'wanted': 12, 'idea': 12, 'remember': 12, 'funding': 12, 'given': 12, 'executive': 12, 'best': 12, 'thanks': 12, 'paid': 12, 'special': 12, 'pretty': 12, 'major': 11, 'reddits': 11, 'pay': 11, 'voter': 11, 'using': 11, 'safe': 11, 'everything': 11, 'died': 11, 'wouldnt': 11, 'beat': 11, 'meme': 11, 'student': 11, 'within': 11, 'website': 11, 'deal': 11, 'tweet': 11, 'following': 11, 'young': 11, 'facebook': 11, 'agree': 11, 'claims': 11, 'general': 11, 'child': 11, 'looks': 11, 'talking': 11, 'investigating': 11, 'hillarys': 11, 'sign': 11, 'caught': 11, 'making': 11, 'msm': 11, 'memo': 11, 'proof': 11, 'taken': 11, 'place': 11, 'less': 11, 'bullshit': 11, 'issues': 11, 'long': 11, 'act': 11, 'isis': 11, 'slush': 11, 'thats': 11, 'deleted': 11, 'later': 11, 'mean': 11, 'job': 11, 'ive': 11, 'working': 11, 'id': 11, 'soros': 11, 'better': 11, 'members': 11, 'decided': 11, 'friends': 11, 'former': 11, 'interest': 11, 'subject': 11, 'projects': 11, 'huma': 11, 'peter': 11, 'oh': 10, 'voting': 10, 'god': 10, 'emperor': 10, 'womens': 10, 'human': 10, 'bernie': 10, 'share': 10, 'simply': 10, 'direct': 10, 'shooting': 10, 'reminder': 10, 'narrative': 10, 'liberal': 10, 'russian': 10, 'kids': 10, 'blue': 10, 'rather': 10, 'amy': 10, 'islamic': 10, 'presidentelect': 10, 'administration': 10, 'received': 10, 'together': 10, 'debate': 10, 'happening': 10, 'congress': 10, 'banned': 10, 'project': 10, 'member': 10, 'life': 10, 'towards': 10, 'running': 10, 'attention': 10, 'party': 10, 'evidence': 10, 'set': 10, 'establishment': 10, 'response': 10, 'folks': 10, 'collusion': 10, 'watching': 10, 'ill': 10, 'security': 10, 'bad': 10, 'haiti': 10, 'august': 10, 'interests': 10, 'stand': 10, 'secretary': 10, 'else': 10, 'chain': 10, 'works': 10, 'almost': 10, 'seems': 10, 'algorithm': 9, 'wins': 9, 'become': 9, 'inauguration': 9, 'upvoted': 9, 'looking': 9, 'tpp': 9, 'suicide': 9, 'presidency': 9, 'rnews': 9, 'orlando': 9, 'saw': 9, 'result': 9, 'cucks': 9, 'billion': 9, 'create': 9, 'person': 9, 'calls': 9, 'supporter': 9, 'actual': 9, 'politics': 9, 'internet': 9, 'antifa': 9, 'terrorism': 9, 'girl': 9, 'milo': 9, 'report': 9, 'cover': 9, 'directly': 9, 'future': 9, 'subscribers': 9, 'coverage': 9, 'wall': 9, 'faith': 9, 'heres': 9, 'hollywood': 9, 'tonight': 9, 'flag': 9, 'americas': 9, 'quote': 9, 'saudi': 9, 'sent': 9, 'legal': 9, 'goes': 9, 'gun': 9, 'knew': 9, 'event': 9, 'article': 9, 'regarding': 9, 'chelsea': 9, 'points': 9, 'immigrants': 9, 'clearly': 9, 'reporter': 9, 'korean': 9, 'rape': 9, 'attacked': 9, 'tax': 9, 'according': 9, 'sanctuary': 9, 'words': 9, 'continue': 9, 'power': 9, 'governments': 9, 'cesc': 9, 'band': 9, 'ira': 9, 'cheryl': 9, 'solar': 9, 'hrc': 9, 'soon': 8, 'term': 8, 'victory': 8, 'gay': 8, 'upvotes': 8, 'removed': 8, 'racists': 8, 'posting': 8, 'upvote': 8, 'everybody': 8, 'reach': 8, 'admits': 8, 'crisis': 8, 'violent': 8, 'protest': 8, 'question': 8, 'came': 8, 'race': 8, 'welcome': 8, 'away': 8, 'btfo': 8, 'schumer': 8, 'college': 8, 'mfw': 8, 'multiple': 8, 'reported': 8, 'realdonaldtrump': 8, 'supreme': 8, 'politicians': 8, 'search': 8, 'fellow': 8, 'wake': 8, 'leftist': 8, 'dear': 8, 'veritas': 8, 'muslims': 8, 'care': 8, 'republican': 8, 'donations': 8, 'promises': 8, 'killing': 8, 'female': 8, 'facts': 8, 'terrorists': 8, 'assange': 8, 'hand': 8, 'brave': 8, 'second': 8, 'apparently': 8, 'total': 8, 'director': 8, 'justice': 8, 'allowed': 8, 'released': 8, 'start': 8, 'level': 8, 'across': 8, 'mentioned': 8, 'rights': 8, 'public': 8, 'arrested': 8, 'corrupt': 8, 'guy': 8, 'recent': 8, 'site': 8, 'helped': 8, 'immediately': 8, 'always': 8, 'knows': 8, 'justin': 8, 'current': 8, 'nobody': 8, 'risk': 8, 'able': 8, 'personal': 8, 'involved': 8, 'letter': 8, 'hope': 8, 'others': 8, 'culture': 8, 'past': 8, 'personally': 8, 'likely': 8, 'certain': 8, 'park': 8, 'conflicts': 8, 'wyden': 8, 'demand': 7, 'follow': 7, 'heard': 7, 'stickies': 7, 'longer': 7, 'mr': 7, 'lie': 7, 'enough': 7, 'local': 7, 'side': 7, 'week': 7, 'thousands': 7, 'editing': 7, 'forget': 7, 'joe': 7, 'couldnt': 7, 'racism': 7, 'electoral': 7, 'officials': 7, 'previous': 7, 'university': 7, 'confirms': 7, 'literally': 7, 'theres': 7, 'killed': 7, 'mass': 7, 'ctr': 7, 'potential': 7, 'speak': 7, 'pedophile': 7, 'fabricated': 7, 'revealed': 7, 'head': 7, 'wish': 7, 'note': 7, 'swedish': 7, 'losing': 7, 'creamer': 7, 'lied': 7, 'word': 7, 'shut': 7, 'tired': 7, 'kept': 7, 'realize': 7, 'senate': 7, 'corruption': 7, 'happy': 7, 'air': 7, 'voters': 7, 'swamp': 7, 'gold': 7, 'sessions': 7, 'worse': 7, 'five': 7, 'reason': 7, 'protests': 7, 'agreed': 7, 'education': 7, 'sense': 7, 'pepe': 7, 'weve': 7, 'telling': 7, 'messages': 7, 'takes': 7, 'concerned': 7, 'spirit': 7, 'exposure': 7, 'crooked': 7, 'wearing': 7, 'popular': 7, 'son': 7, 'threatening': 7, 'thought': 7, 'kind': 7, 'washington': 7, 'needed': 7, 'chief': 7, 'city': 7, 'date': 7, 'met': 7, 'meeting': 7, 'trade': 7, 'daily': 7, 'jon': 7, 'created': 7, 'push': 7, 'regulations': 7, 'views': 7, 'write': 7, 'written': 7, 'possible': 7, 'data': 7, 'reform': 7, 'companies': 7, 'common': 7, 'completely': 7, 'july': 7, 'serious': 7, 'international': 7, 'mills': 7, 'firm': 7, 'writing': 7, 'account': 7, 'debt': 7, 'designed': 6, 'happen': 6, 'cuck': 6, 'youtube': 6, 'accounts': 6, 'stopped': 6, 'ohio': 6, 'powerful': 6, 'photo': 6, 'due': 6, 'shes': 6, 'hijab': 6, 'january': 6, 'havent': 6, 'youve': 6, 'tomorrow': 6, 'number': 6, 'true': 6, 'upset': 6, 'censor': 6, 'quick': 6, 'memes': 6, 'claimed': 6, 'exposed': 6, 'cannot': 6, 'truly': 6, 'room': 6, 'hell': 6, 'uc': 6, 'treated': 6, 'censored': 6, 'platform': 6, 'plans': 6, 'bring': 6, 'apply': 6, 'donors': 6, 'paul': 6, 'leader': 6, 'sweden': 6, 'opinion': 6, 'shills': 6, 'double': 6, 'le': 6, 'pen': 6, 'citizens': 6, 'travel': 6, 'chicago': 6, 'cnns': 6, 'reveal': 6, 'colbert': 6, 'raise': 6, 'interviewed': 6, 'salary': 6, 'joy': 6, 'publicly': 6, 'victim': 6, 'reports': 6, 'sources': 6, 'building': 6, 'morning': 6, 'fight': 6, 'consider': 6, 'pressure': 6, 'run': 6, 'red': 6, 'ring': 6, 'blood': 6, 'recount': 6, 'check': 6, 'acting': 6, 'hit': 6, 'friend': 6, 'veterans': 6, 'giving': 6, 'interview': 6, 'movement': 6, 'gone': 6, 'staffer': 6, 'centipede': 6, 'network': 6, 'tucker': 6, 'onto': 6, 'either': 6, 'military': 6, 'cia': 6, 'billions': 6, 'dollars': 6, 'putin': 6, 'reality': 6, 'save': 6, 'sexist': 6, 'judge': 6, 'resist': 6, 'attacks': 6, 'count': 6, 'career': 6, 'immigrant': 6, 'decades': 6, 'men': 6, 'leak': 6, 'independent': 6, 'join': 6, 'simple': 6, 'suspended': 6, 'london': 6, 'downvoting': 6, 'harassment': 6, 'signs': 6, 'threats': 6, 'pence': 6, 'religion': 6, 'release': 6, 'absolutely': 6, 'george': 6, 'threat': 6, 'wasnt': 6, 'organization': 6, 'spread': 6, 'riots': 6, 'events': 6, 'six': 6, 'millions': 6, 'nafta': 6, 'close': 6, 'mention': 6, 'dc': 6, 'murder': 6, 'hes': 6, 'koreans': 6, 'intelligence': 6, 'finance': 6, 'central': 6, 'prison': 6, 'believes': 6, 'brad': 6, 'wrote': 6, 'home': 6, 'bots': 6, 'employee': 6, 'address': 6, 'blame': 6, 'mind': 6, 'drive': 6, 'un': 6, 'corporate': 6, 'careers': 6, 'okay': 6, 'broken': 6, 'car': 6, 'stuff': 6, 'quite': 6, 'whose': 6, 'healthcare': 6, 'previously': 6, 'several': 6, 'redditors': 6, 'whole': 6, 'various': 6, 'content': 6, 'transactions': 6, 'development': 6, 'cci': 6, 'chai': 6, 'fundraiser': 6, 'renewable': 6, 'specific': 6, 'korea': 6, 'english': 6, 'slack': 6, 'winner': 5, 'usa': 5, 'beating': 5, 'changed': 5, 'rising': 5, 'chess': 5, 'wear': 5, 'outright': 5, 'space': 5, 'kek': 5, 'mike': 5, 'supposed': 5, 'passes': 5, 'hide': 5, 'protrump': 5, 'wow': 5, 'barron': 5, 'nbc': 5, 'identity': 5, 'sad': 5, 'neutrality': 5, 'freedom': 5, 'favorite': 5, 'florida': 5, 'exposing': 5, 'comment': 5, 'move': 5, 'nightclub': 5, 'joseph': 5, 'freaking': 5, 'source': 5, 'zero': 5, 'sitting': 5, 'syrian': 5, 'boy': 5, 'parents': 5, 'gender': 5, 'tells': 5, 'chat': 5, 'michigan': 5, 'small': 5, 'groups': 5, 'hear': 5, 'lying': 5, 'disgusting': 5, 'hates': 5, 'nearly': 5, 'birth': 5, 'document': 5, 'yuge': 5, 'explain': 5, 'hands': 5, 'rigging': 5, 'involvement': 5, 'yesterday': 5, 'rredacted': 5, 'doubt': 5, 'turn': 5, 'readers': 5, 'streets': 5, 'accept': 5, 'lock': 5, 'scott': 5, 'reading': 5, 'robert': 5, 'victims': 5, 'cut': 5, 'crackdown': 5, 'break': 5, 'ordered': 5, 'okeefe': 5, 'showed': 5, 'showing': 5, 'voice': 5, 'seat': 5, 'destroy': 5, 'refused': 5, 'potus': 5, 'represent': 5, 'patriot': 5, 'sick': 5, 'agenda': 5, 'wife': 5, 'france': 5, 'arabia': 5, 'remove': 5, 'drain': 5, 'carlson': 5, 'sharia': 5, 'problem': 5, 'dropped': 5, 'became': 5, 'worst': 5, 'title': 5, 'stein': 5, 'burning': 5, 'funny': 5, 'homophobic': 5, 'wonder': 5, 'religious': 5, 'supporting': 5, 'aware': 5, 'committee': 5, 'orders': 5, 'fire': 5, 'aid': 5, 'citizenship': 5, 'dedicated': 5, 'lobbying': 5, 'xenophobic': 5, 'seeing': 5, 'user': 5, 'joke': 5, 'border': 5, 'stay': 5, 'mayor': 5, 'linked': 5, 'reporting': 5, 'consultant': 5, 'living': 5, 'comes': 5, 'republicans': 5, 'richs': 5, 'antitrump': 5, 'democracy': 5, 'san': 5, 'peace': 5, 'leading': 5, 'light': 5, 'leaked': 5, 'documents': 5, 'syria': 5, 'lives': 5, 'forward': 5, 'landslide': 5, 'inside': 5, 'hiring': 5, 'details': 5, 'info': 5, 'appointed': 5, 'access': 5, 'recently': 5, 'whether': 5, 'amount': 5, 'record': 5, 'budget': 5, 'named': 5, 'fall': 5, 'propaganda': 5, 'statements': 5, 'fucked': 5, 'fun': 5, 'treatment': 5, 'stage': 5, 'hoaxes': 5, 'articles': 5, 'probably': 5, 'attorney': 5, 'arent': 5, 'hannity': 5, 'talk': 5, 'keeping': 5, 'throughout': 5, 'links': 5, 'husband': 5, 'took': 5, 'aliens': 5, 'images': 5, 'biased': 5, 'average': 5, 'speaking': 5, 'cultural': 5, 'heads': 5, 'strong': 5, 'focus': 5, 'trafficking': 5, 'hypocrisy': 5, 'discuss': 5, 'among': 5, 'couple': 5, 'bryan': 5, 'key': 5, 'smart': 5, 'june': 5, 'ignorant': 5, 'choose': 5, 'form': 5, 'incredibly': 5, 'month': 5, 'obamaera': 5, 'significant': 5, 'donated': 5, 'va': 5, 'examples': 5, 'selling': 5, 'pr': 5, 'period': 5, 'podestas': 5, 'entirely': 5, 'endowment': 5, 'profit': 5, 'south': 5, 'bank': 5, 'attachment': 5, 'doug': 5, 'walker': 5, 'wjc': 5, 'discussing': 5, 'example': 5, 'maura': 5, 'writes': 5, 'dws': 5, 'declared': 4, 'sadly': 4, 'starting': 4, 'bunch': 4, 'fired': 4, 'highest': 4, 'shitpost': 4, 'nazi': 4, 'champion': 4, 'iran': 4, 'fear': 4, 'informed': 4, 'appear': 4, 'hacked': 4, 'threatened': 4, 'fantasies': 4, 'beautiful': 4, 'moderators': 4, 'pushing': 4, 'environment': 4, 'paying': 4, 'moment': 4, 'except': 4, 'boom': 4, 'announces': 4, 'shooter': 4, 'beaten': 4, 'equally': 4, 'amazing': 4, 'officers': 4, 'refugee': 4, 'stance': 4, 'lies': 4, 'stands': 4, 'googled': 4, 'fix': 4, 'la': 4, 'radical': 4, 'usually': 4, 'hire': 4, 'disagree': 4, 'somehow': 4, 'watson': 4, 'sink': 4, 'becomes': 4, 'lose': 4, 'tweeted': 4, 'announcement': 4, 'hi': 4, 'harassed': 4, 'charges': 4, 'standing': 4, 'prevent': 4, 'numbers': 4, 'sorry': 4, 'stickied': 4, 'tolerant': 4, 'ben': 4, 'pass': 4, 'ridiculous': 4, 'anymore': 4, 'refugees': 4, 'elon': 4, 'supported': 4, 'view': 4, 'children': 4, 'abuse': 4, 'leftwing': 4, 'holy': 4, 'tv': 4, 'stupid': 4, 'illegally': 4, 'ideas': 4, 'treat': 4, 'scared': 4, 'bloody': 4, 'gowdy': 4, 'exploitation': 4, 'forced': 4, 'updated': 4, 'edited': 4, 'feminists': 4, 'lady': 4, 'hearing': 4, 'three': 4, 'undercover': 4, 'raped': 4, 'covered': 4, 'eric': 4, 'chance': 4, 'least': 4, 'presidents': 4, 'mexico': 4, 'missed': 4, 'stewart': 4, 'rust': 4, 'belt': 4, 'donating': 4, 'tweets': 4, 'mark': 4, 'proves': 4, 'stole': 4, 'kkk': 4, 'kill': 4, 'irony': 4, 'protesting': 4, 'program': 4, 'blow': 4, 'surely': 4, 'banning': 4, 'carried': 4, 'saved': 4, 'magic': 4, 'expenses': 4, 'committed': 4, 'wealth': 4, 'ignore': 4, 'die': 4, 'leaks': 4, 'camera': 4, 'cruz': 4, 'lena': 4, 'dunham': 4, 'leaving': 4, 'silent': 4, 'murdered': 4, 'assassination': 4, 'sjws': 4, 'openly': 4, 'burned': 4, 'cuts': 4, 'negative': 4, 'copy': 4, 'mccain': 4, 'limits': 4, 'noticed': 4, 'responsibility': 4, 'chosen': 4, 'buying': 4, 'planning': 4, 'whos': 4, 'accepting': 4, 'conference': 4, 'exactly': 4, 'minutes': 4, 'carrier': 4, 'feminist': 4, 'mocking': 4, 'extreme': 4, 'islam': 4, 'nominated': 4, 'effort': 4, 'achieve': 4, 'sex': 4, 'finds': 4, 'terror': 4, 'prior': 4, 'begins': 4, 'ruin': 4, 'toward': 4, 'arrest': 4, 'behind': 4, 'large': 4, 'amendment': 4, 'correct': 4, 'reporters': 4, 'giant': 4, 'probe': 4, 'responds': 4, 'resources': 4, 'divide': 4, 'daughter': 4, 'protect': 4, 'hello': 4, 'russians': 4, 'conversation': 4, 'partnership': 4, 'ends': 4, 'ties': 4, 'drill': 4, 'longtime': 4, 'corporations': 4, 'extremely': 4, 'tfw': 4, 'cooking': 4, 'nonsense': 4, 'classified': 4, 'gop': 4, 'adding': 4, 'failing': 4, 'leaders': 4, 'democratic': 4, 'strongly': 4, 'parts': 4, 'enemy': 4, 'garrison': 4, 'kidding': 4, 'learn': 4, 'ground': 4, 'established': 4, 'pede': 4, 'romney': 4, 'david': 4, 'correctness': 4, 'willing': 4, 'credit': 4, 'terrible': 4, 'odds': 4, 'yes': 4, 'seriously': 4, 'crimes': 4, 'globalists': 4, 'stated': 4, 'fantasy': 4, 'nation': 4, 'melania': 4, 'schools': 4, 'investigate': 4, 'laws': 4, 'senators': 4, 'nuclear': 4, 'india': 4, 'service': 4, 'contribution': 4, 'african': 4, 'hits': 4, 'china': 4, 'known': 4, 'wolf': 4, 'blitzer': 4, 'creating': 4, 'assistant': 4, 'age': 4, 'robbery': 4, 'promoting': 4, 'rhetoric': 4, 'constantly': 4, 'communities': 4, 'rigged': 4, 'putting': 4, 'discovered': 4, 'fit': 4, 'pm': 4, 'letting': 4, 'stream': 4, 'sr': 4, 'goal': 4, 'voiced': 4, 'empty': 4, 'streisand': 4, 'especially': 4, 'powermods': 4, 'thoughts': 4, 'jennifer': 4, 'drop': 4, 'expect': 4, 'resistance': 4, 'pc': 4, 'course': 4, 'mirror': 4, 'book': 4, 'yelling': 4, 'causing': 4, 'possibly': 4, 'text': 4, 'base': 4, 'easy': 4, 'polls': 4, 'polling': 4, 'majority': 4, 'arms': 4, 'health': 4, 'wade': 4, 'equal': 4, 'began': 4, 'added': 4, 'rejected': 4, 'line': 4, 'trail': 4, 'blog': 4, 'enacted': 4, 'implemented': 4, 'repeal': 4, 'helping': 4, 'nato': 4, 'allowing': 4, 'easier': 4, 'lower': 4, 'taxes': 4, 'abortions': 4, 'interested': 4, 'organizations': 4, 'burn': 4, 'outlets': 4, 'position': 4, 'april': 4, 'rod': 4, 'mainstream': 4, 'via': 4, 'request': 4, 'planned': 4, 'subs': 4, 'affect': 4, 'domreddit': 4, 'harass': 4, 'charity': 4, 'concerns': 4, 'nations': 4, 'ilya': 4, 'restructuring': 4, 'africa': 4, 'excerpt': 4, 'ensure': 4, 'hr': 4, 'mf': 4, 'shared': 4, 'add': 4, 'internally': 4, 'vulnerable': 4, 'bottom': 4, 'anywhere': 4, 'sharing': 4, 'peninsula': 4, 'maximum': 4, 'include': 4, 'notes': 4, 'track': 4, 'tpa': 4, 'mentions': 4, 'cashion': 4, 'isab': 4, 'kasich': 4, 'fb': 4, 'bella': 4, 'congratulations': 3, 'deserves': 3, 'copies': 3, 'issued': 3, 'strikes': 3, 'triggers': 3, 'organically': 3, 'biggest': 3, 'mans': 3, 'praises': 3, 'greatest': 3, 'fathers': 3, 'everywhere': 3, 'prove': 3, 'van': 3, 'hotel': 3, 'homeless': 3, 'offering': 3, 'sudden': 3, 'suspicious': 3, 'computer': 3, 'expert': 3, 'papers': 3, 'agreement': 3, 'half': 3, 'writer': 3, 'equalrightsonreddit': 3, 'low': 3, 'osu': 3, 'campus': 3, 'somali': 3, 'committing': 3, 'gift': 3, 'canada': 3, 'play': 3, 'thinks': 3, 'spoke': 3, 'ceiling': 3, 'twice': 3, 'hack': 3, 'plenty': 3, 'investigations': 3, 'class': 3, 'honor': 3, 'cucked': 3, 'action': 3, 'archived': 3, 'japan': 3, 'protesters': 3, 'proud': 3, 'custody': 3, 'sound': 3, 'sec': 3, 'edits': 3, 'mad': 3, 'defense': 3, 'trouble': 3, 'innocent': 3, 'decision': 3, 'body': 3, 'womans': 3, 'fair': 3, 'proven': 3, 'cowards': 3, 'enforcement': 3, 'wisconsin': 3, 'destroyed': 3, 'yiannopoulos': 3, 'trey': 3, 'warns': 3, 'filtered': 3, 'weeks': 3, 'elections': 3, 'beliefs': 3, 'primary': 3, 'fascism': 3, 'mother': 3, 'activity': 3, 'british': 3, 'england': 3, 'browsing': 3, 'north': 3, 'unnecessary': 3, 'server': 3, 'legally': 3, 'trending': 3, 'est': 3, 'guess': 3, 'trudeau': 3, 'tape': 3, 'stephen': 3, 'jail': 3, 'offer': 3, 'deplorable': 3, 'conservative': 3, 'kellyanne': 3, 'conway': 3, 'circumstances': 3, 'results': 3, 'pol': 3, 'sees': 3, 'whats': 3, 'opinions': 3, 'hasnt': 3, 'southern': 3, 'soft': 3, 'protester': 3, 'fraud': 3, 'success': 3, 'unemployment': 3, 'york': 3, 'hacking': 3, 'frame': 3, 'spy': 3, 'sprayed': 3, 'friendly': 3, 'aged': 3, 'hat': 3, 'cast': 3, 'pretend': 3, 'active': 3, 'deals': 3, 'interviews': 3, 'laugh': 3, 'bullying': 3, 'costs': 3, 'defeated': 3, 'destroying': 3, 'marine': 3, 'mostly': 3, 'petition': 3, 'texas': 3, 'impose': 3, 'knee': 3, 'claim': 3, 'invite': 3, 'linda': 3, 'sarsour': 3, 'entity': 3, 'nominee': 3, 'largest': 3, 'piece': 3, 'honored': 3, 'capitol': 3, 'chamber': 3, 'triggered': 3, 'morgan': 3, 'mens': 3, 'timeline': 3, 'poll': 3, 'continues': 3, 'attempt': 3, 'madman': 3, 'round': 3, 'mocked': 3, 'uk': 3, 'islamophobic': 3, 'bigot': 3, 'obstruct': 3, 'downvotes': 3, 'surprise': 3, 'shocked': 3, 'stories': 3, 'attacking': 3, 'ted': 3, 'infowars': 3, 'investigator': 3, 'contacted': 3, 'train': 3, 'softbank': 3, 'businesses': 3, 'adams': 3, 'meryl': 3, 'streep': 3, 'advanced': 3, 'politically': 3, 'ghana': 3, 'feels': 3, 'peaceful': 3, 'four': 3, 'anon': 3, 'tony': 3, 'angry': 3, 'viral': 3, 'army': 3, 'placed': 3, 'passed': 3, 'kid': 3, 'magathread': 3, 'raising': 3, 'wasserman': 3, 'exit': 3, 'condemn': 3, 'dinner': 3, 'phony': 3, 'minister': 3, 'recordings': 3, 'transpacific': 3, 'theyll': 3, 'speaker': 3, 'owned': 3, 'parties': 3, 'barack': 3, 'screams': 3, 'california': 3, 'presented': 3, 'hold': 3, 'turns': 3, 'sjw': 3, 'situation': 3, 'boston': 3, 'td': 3, 'drone': 3, 'paper': 3, 'opened': 3, 'social': 3, 'workers': 3, 'redditor': 3, 'dutch': 3, 'qatar': 3, 'however': 3, 'film': 3, 'honestly': 3, 'alert': 3, 'code': 3, 'late': 3, 'elizabeth': 3, 'assault': 3, 'negotiated': 3, 'disabled': 3, 'counterculture': 3, 'ad': 3, 'monday': 3, 'domestic': 3, 'girls': 3, 'shot': 3, 'grateful': 3, 'market': 3, 'renegotiate': 3, 'christmas': 3, 'tolerance': 3, 'teen': 3, 'engaging': 3, 'missing': 3, 'busted': 3, 'illegals': 3, 'kanye': 3, 'capital': 3, 'ahead': 3, 'brigading': 3, 'sarah': 3, 'deplorables': 3, 'changes': 3, 'net': 3, 'shariablue': 3, 'downvoted': 3, 'hq': 3, 'coworkers': 3, 'nobel': 3, 'prize': 3, 'stabbed': 3, 'third': 3, 'approve': 3, 'alex': 3, 'keeps': 3, 'saving': 3, 'targeted': 3, 'sending': 3, 'crowd': 3, 'mock': 3, 'approval': 3, 'heroes': 3, 'considering': 3, 'approved': 3, 'discussion': 3, 'protestor': 3, 'andor': 3, 'apologize': 3, 'early': 3, 'pull': 3, 'stupidity': 3, 'model': 3, 'imagine': 3, 'opening': 3, 'deserve': 3, 'countrys': 3, 'income': 3, 'extra': 3, 'wanting': 3, 'wait': 3, 'invites': 3, 'perform': 3, 'colorado': 3, 'rep': 3, 'daughters': 3, 'straight': 3, 'latino': 3, 'answer': 3, 'opponents': 3, 'lobbyists': 3, 'govt': 3, 'forgot': 3, 'cases': 3, 'matt': 3, 'enforce': 3, 'open': 3, 'setting': 3, 'hatred': 3, 'floor': 3, 'hearts': 3, 'believed': 3, 'answering': 3, 'spent': 3, 'status': 3, 'self': 3, 'fine': 3, 'inc': 3, 'donate': 3, 'database': 3, 'appears': 3, 'continually': 3, 'screenshots': 3, 'william': 3, 'occurred': 3, 'affected': 3, 'willingness': 3, 'sticky': 3, 'theory': 3, 'reasons': 3, 'effect': 3, 'kick': 3, 'programming': 3, 'threaten': 3, 'respond': 3, 'names': 3, 'listed': 3, 'praise': 3, 'quit': 3, 'sit': 3, 'ready': 3, 'busy': 3, 'sexism': 3, 'anyway': 3, 'favor': 3, 'caused': 3, 'alongside': 3, 'hundreds': 3, 'split': 3, 'abortion': 3, 'stood': 3, 'roe': 3, 'born': 3, 'popped': 3, 'families': 3, 'mistake': 3, 'barely': 3, 'gotten': 3, 'likeminded': 3, 'citizen': 3, 'benefit': 3, 'upon': 3, 'obamacare': 3, 'dow': 3, 'unfortunately': 3, 'spending': 3, 'donation': 3, 'pacific': 3, 'gives': 3, 'offered': 3, 'bauman': 3, 'professional': 3, 'understood': 3, 'wheeler': 3, 'looked': 3, 'unknown': 3, 'places': 3, 'lawyer': 3, 'detailed': 3, 'remained': 3, 'loopholes': 3, 'donor': 3, 'street': 3, 'audit': 3, 'core': 3, 'insiders': 3, 'terry': 3, 'publishing': 3, 'argument': 3, 'actively': 3, 'brigade': 3, 'additionally': 3, 'meant': 3, 'services': 3, 'served': 3, 'sids': 3, 'climate': 3, 'douglas': 3, 'kelly': 3, 'efforts': 3, 'ireland': 3, 'magaziner': 3, 'abedin': 3, 'employment': 3, 'somewhere': 3, 'restructure': 3, 'consulting': 3, 'referred': 3, 'supposedly': 3, 'opportunity': 3, 'beginning': 3, 'ubs': 3, 'clients': 3, 'moved': 3, 'attached': 3, 'conduct': 3, 'training': 3, 'provides': 3, 'obtain': 3, 'secure': 3, 'granted': 3, 'managers': 3, 'clarification': 3, 'procedures': 3, 'properly': 3, 'benefits': 3, 'difficult': 3, 'accused': 3, 'explicit': 3, 'sunday': 3, 'staffers': 3, 'otherwise': 3, 'plus': 3, 'sort': 3, 'provide': 3, 'relationship': 3, 'screen': 3, 'includes': 3, 'aka': 3, 'plain': 3, 'tactics': 3, 'hateful': 3, 'strategies': 3, 'fisa': 3, 'dossier': 3, 'warrant': 3, 'tie': 3, 'blah': 3, 'whatever': 3, 'respected': 3, 'confidential': 3, 'dynasty': 3, 'similar': 3, 'sentence': 3, 'earlier': 3, 'junior': 3, 'suggested': 3, 'spahn': 3, 'thumb': 3, 'journalist': 3, 'archives': 3, 'unlimited': 3, 'chopper': 3, 'trading': 3, 'assumptions': 3, 'research': 3, 'chats': 3, 'reasoning': 3, 'supremacist': 3, 'admitted': 3, 'hoax': 3, 'closed': 3, 'disability': 3, 'spiritual': 3, 'products': 3, 'values': 3, 'christianity': 3, 'userbase': 3, 'petersen': 3, 'celebrities': 2, 'vowed': 2, 'marriage': 2, 'respect': 2, 'uploaded': 2, 'punished': 2, 'pennsylvania': 2, 'paikidze': 2, 'championship': 2, 'attending': 2, 'shed': 2, 'oppression': 2, 'recorded': 2, 'tear': 2, 'proved': 2, 'liar': 2, 'learned': 2, 'happens': 2, 'nancy': 2, 'song': 2, 'reaching': 2, 'pedophiles': 2, 'convey': 2, 'walk': 2, 'itll': 2, 'implying': 2, 'adjusting': 2, 'spaz': 2, 'mom': 2, 'imam': 2, 'changing': 2, 'flint': 2, 'mi': 2, 'water': 2, 'traction': 2, 'ignored': 2, 'locked': 2, 'trash': 2, 'ladies': 2, 'gentlemen': 2, 'return': 2, 'retaliatory': 2, 'condone': 2, 'eyes': 2, 'trigger': 2, 'upvoting': 2, 'invest': 2, 'naked': 2, 'boys': 2, 'forwarded': 2, 'cares': 2, 'enthusiasts': 2, 'engaged': 2, 'minute': 2, 'deleting': 2, 'integrity': 2, 'holds': 2, 'effectively': 2, 'step': 2, 'meet': 2, 'specifically': 2, 'snowflakes': 2, 'hot': 2, 'visit': 2, 'brought': 2, 'addresses': 2, 'pulse': 2, 'remembers': 2, 'positions': 2, 'resume': 2, 'politifact': 2, 'whistleblowers': 2, 'combined': 2, 'filter': 2, 'shitposting': 2, 'democratically': 2, 'glass': 2, 'audio': 2, 'rolled': 2, 'shaking': 2, 'bed': 2, 'packed': 2, 'sexually': 2, 'stabbing': 2, 'insulted': 2, 'facing': 2, 'hilary': 2, 'reagan': 2, 'birthday': 2, 'grubhub': 2, 'boss': 2, 'resign': 2, 'boycott': 2, 'function': 2, 'standards': 2, 'singling': 2, 'frontpage': 2, 'brigaded': 2, 'pizzagate': 2, 'bag': 2, 'nazis': 2, 'commend': 2, 'refuse': 2, 'supports': 2, 'refuses': 2, 'buzzfeed': 2, 'announced': 2, 'musk': 2, 'surprising': 2, 'excellent': 2, 'king': 2, 'clean': 2, 'bigly': 2, 'practices': 2, 'appearance': 2, 'introduced': 2, 'marijuana': 2, 'lawmakers': 2, 'limo': 2, 'torched': 2, 'checking': 2, 'considered': 2, 'final': 2, 'fraudulently': 2, 'investigators': 2, 'mateen': 2, 'club': 2, 'damn': 2, 'brakes': 2, 'heal': 2, 'killer': 2, 'belongings': 2, 'behar': 2, 'television': 2, 'talks': 2, 'moving': 2, 'manufacturing': 2, 'awareness': 2, 'algorithms': 2, 'dad': 2, 'blown': 2, 'nytimes': 2, 'poor': 2, 'highly': 2, 'exposes': 2, 'criminal': 2, 'childhood': 2, 'entities': 2, 'psa': 2, 'mexican': 2, 'neighbor': 2, 'nutshell': 2, 'oval': 2, 'impeached': 2, 'brother': 2, 'suddenly': 2, 'online': 2, 'michael': 2, 'moore': 2, 'byrd': 2, 'idiots': 2, 'rioting': 2, 'demanded': 2, 'cnnblackmail': 2, 'wars': 2, 'load': 2, 'pepes': 2, 'plant': 2, 'certainly': 2, 'michelle': 2, 'elijah': 2, 'wood': 2, 'software': 2, 'counties': 2, 'adblock': 2, 'glorious': 2, 'begin': 2, 'lauren': 2, 'quarantine': 2, 'thedonaldreddit': 2, 'yfw': 2, 'villa': 2, 'margin': 2, 'cross': 2, 'rate': 2, 'broke': 2, 'colors': 2, 'meanwhile': 2, 'perfect': 2, 'historic': 2, 'unprecedented': 2, 'economic': 2, 'kim': 2, 'short': 2, 'fat': 2, 'agencies': 2, 'complete': 2, 'dude': 2, 'bomb': 2, 'plot': 2, 'elderly': 2, 'pepper': 2, 'matters': 2, 'minority': 2, 'assaulted': 2, 'exist': 2, 'immunity': 2, 'blm': 2, 'rioters': 2, 'parking': 2, 'garage': 2, 'higher': 2, 'whoever': 2, 'absolute': 2, 'savage': 2, 'guccifer': 2, 'losers': 2, 'dick': 2, 'male': 2, 'independence': 2, 'abc': 2, 'africanamerican': 2, 'boeing': 2, 'rockstar': 2, 'games': 2, 'buy': 2, 'launches': 2, 'allah': 2, 'catches': 2, 'producer': 2, 'ratings': 2, 'massive': 2, 'signatures': 2, 'propose': 2, 'prince': 2, 'bends': 2, 'creaming': 2, 'shake': 2, 'organizer': 2, 'complain': 2, 'neil': 2, 'gorsuch': 2, 'moab': 2, 'tunnels': 2, 'afghanistan': 2, 'included': 2, 'sabotage': 2, 'activists': 2, 'chant': 2, 'piers': 2, 'vs': 2, 'contributions': 2, 'brutal': 2, 'green': 2, 'scam': 2, 'singularity': 2, 'delegate': 2, 'tennessee': 2, 'convention': 2, 'promising': 2, 'swedens': 2, 'visited': 2, 'hourly': 2, 'huckabee': 2, 'shakedown': 2, 'picking': 2, 'professor': 2, 'teaching': 2, 'duties': 2, 'kavanaugh': 2, 'disgraceful': 2, 'process': 2, 'sued': 2, 'removing': 2, 'lawsuit': 2, 'criticize': 2, 'hypocrite': 2, 'silenced': 2, 'maher': 2, 'karma': 2, 'credentials': 2, 'soil': 2, 'betray': 2, 'sudan': 2, 'pulls': 2, 'hypocrites': 2, 'til': 2, 'anally': 2, 'yells': 2, 'redacted': 2, 'finding': 2, 'comey': 2, 'food': 2, 'salute': 2, 'rapid': 2, 'coordinating': 2, 'log': 2, 'fingers': 2, 'blacks': 2, 'whites': 2, 'gays': 2, 'fucks': 2, 'sake': 2, 'rob': 2, 'schneider': 2, 'taxpayer': 2, 'wing': 2, 'activist': 2, 'hospital': 2, 'center': 2, 'merchant': 2, 'snowflake': 2, 'mueller': 2, 'guide': 2, 'gain': 2, 'moscow': 2, 'uranium': 2, 'starts': 2, 'cincinnati': 2, 'driver': 2, 'pulled': 2, 'heart': 2, 'islamaphobic': 2, 'rpolitics': 2, 'currency': 2, 'celebrity': 2, 'publish': 2, 'explains': 2, 'failed': 2, 'bikers': 2, 'schultz': 2, 'aide': 2, 'indicted': 2, 'counts': 2, 'unless': 2, 'host': 2, 'nice': 2, 'parliament': 2, 'backs': 2, 'false': 2, 'prime': 2, 'civil': 2, 'shitposts': 2, 'benghazi': 2, 'waiting': 2, 'middle': 2, 'moral': 2, 'sold': 2, 'fakenews': 2, 'asks': 2, 'ayaan': 2, 'hirsi': 2, 'ali': 2, 'glad': 2, 'surveillance': 2, 'pleased': 2, 'journalism': 2, 'sides': 2, 'strike': 2, 'demands': 2, 'riot': 2, 'basis': 2, 'color': 2, 'jill': 2, 'queen': 2, 'expected': 2, 'searched': 2, 'wtf': 2, 'directed': 2, 'bernardino': 2, 'saudis': 2, 'shareholder': 2, 'incoming': 2, 'odd': 2, 'published': 2, 'totally': 2, 'admit': 2, 'talked': 2, 'november': 2, 'reversing': 2, 'path': 2, 'erdogan': 2, 'pic': 2, 'islamist': 2, 'thrown': 2, 'style': 2, 'scandal': 2, 'figures': 2, 'industry': 2, 'reward': 2, 'rush': 2, 'reveals': 2, 'trumprussia': 2, 'breitbart': 2, 'hidden': 2, 'lifetime': 2, 'warrens': 2, 'reaction': 2, 'meddling': 2, 'denied': 2, 'addition': 2, 'deduct': 2, 'yield': 2, 'gotta': 2, 'customer': 2, 'continuing': 2, 'conservatism': 2, 'invaded': 2, 'europeans': 2, 'chair': 2, 'financial': 2, 'guilty': 2, 'butter': 2, 'superbowl': 2, 'faces': 2, 'bust': 2, 'expelled': 2, 'advertisers': 2, 'recognizes': 2, 'brock': 2, 'bitch': 2, 'expecting': 2, 'playing': 2, 'shitposter': 2, 'pelosi': 2, 'violating': 2, 'nationality': 2, 'fined': 2, 'stock': 2, 'intel': 2, 'vindicated': 2, 'warren': 2, 'defended': 2, 'shitting': 2, 'germany': 2, 'price': 2, 'accepted': 2, 'increased': 2, 'asap': 2, 'maid': 2, 'clearance': 2, 'xenophobia': 2, 'charged': 2, 'anitfa': 2, 'nuke': 2, 'crazy': 2, 'click': 2, 'listen': 2, 'screaming': 2, 'pie': 2, 'taunted': 2, 'vice': 2, 'returning': 2, 'transition': 2, 'damaging': 2, 'enemny': 2, 'ice': 2, 'science': 2, 'fundraisers': 2, 'djt': 2, 'fbidoj': 2, 'delivery': 2, 'threads': 2, 'retweeted': 2, 'test': 2, 'inappropriate': 2, 'mockery': 2, 'rapes': 2, 'malmo': 2, 'requests': 2, 'spezs': 2, 'alabama': 2, 'stocks': 2, 'badly': 2, 'silverman': 2, 'pussy': 2, 'inciting': 2, 'atm': 2, 'feminism': 2, 'legitimize': 2, 'western': 2, 'society': 2, 'constitution': 2, 'ann': 2, 'rdncleaks': 2, 'worth': 2, 'res': 2, 'scream': 2, 'moon': 2, 'vetting': 2, 'broad': 2, 'agrees': 2, 'sums': 2, 'import': 2, 'goods': 2, 'promoted': 2, 'tied': 2, 'shouting': 2, 'jones': 2, 'reviewed': 2, 'fixed': 2, 'investment': 2, 'tip': 2, 'wishes': 2, 'solidarity': 2, 'mail': 2, 'sykes': 2, 'bashing': 2, 'kicked': 2, 'league': 2, 'rise': 2, 'steps': 2, 'pro': 2, 'werent': 2, 'loretta': 2, 'lynch': 2, 'subbed': 2, 'teachers': 2, 'dems': 2, 'drudge': 2, 'everyday': 2, 'rosie': 2, 'laundering': 2, 'foreigners': 2, 'flight': 2, 'older': 2, 'usaa': 2, 'becoming': 2, 'berlin': 2, 'truck': 2, 'knowledge': 2, 'gas': 2, 'aggravated': 2, 'genius': 2, 'malik': 2, 'electors': 2, 'dominating': 2, 'breaks': 2, 'ramadan': 2, 'castro': 2, 'sean': 2, 'socially': 2, 'dan': 2, 'navy': 2, 'shall': 2, 'infowarscom': 2, 'encourages': 2, 'original': 2, 'sheet': 2, 'turned': 2, 'attempts': 2, 'aides': 2, 'handled': 2, 'potentially': 2, 'returns': 2, 'undone': 2, 'att': 2, 'joint': 2, 'courage': 2, 'stunning': 2, 'parks': 2, 'shitholes': 2, 'jr': 2, 'colleagues': 2, 'ambassador': 2, 'influence': 2, 'pathetic': 2, 'nowhere': 2, 'speaks': 2, 'difference': 2, 'politician': 2, 'ny': 2, 'pics': 2, 'offensive': 2, 'pictures': 2, 'window': 2, 'photoshop': 2, 'ii': 2, 'liberty': 2, 'butthurt': 2, 'youd': 2, 'pointed': 2, 'legislation': 2, 'accessing': 2, 'assistance': 2, 'seeking': 2, 'financially': 2, 'vp': 2, 'removes': 2, 'julian': 2, 'battle': 2, 'confirm': 2, 'album': 2, 'newest': 2, 'afraid': 2, 'cost': 2, 'crossing': 2, 'ending': 2, 'prepared': 2, 'weight': 2, 'levels': 2, 'fires': 2, 'compile': 2, 'enjoy': 2, 'tragedy': 2, 'tuesday': 2, 'immediate': 2, 'apology': 2, 'anonymous': 2, 'conscious': 2, 'star': 2, 'checkmate': 2, 'sounds': 2, 'vehicular': 2, 'stone': 2, 'suggest': 2, 'acted': 2, 'violated': 2, 'game': 2, 'sanctions': 2, 'jeff': 2, 'extremist': 2, 'kate': 2, 'steinle': 2, 'fundamentally': 2, 'identify': 2, 'hired': 2, 'confused': 2, 'tendies': 2, 'connection': 2, 'commitment': 2, 'cause': 2, 'patriotism': 2, 'cranston': 2, 'miley': 2, 'cyrus': 2, 'cher': 2, 'handler': 2, 'samuel': 2, 'jackson': 2, 'neve': 2, 'campbell': 2, 'lopez': 2, 'neyo': 2, 'al': 2, 'sharpton': 2, 'suppression': 2, 'problems': 2, 'table': 2, 'encourage': 2, 'loyal': 2, 'fighting': 2, 'punish': 2, 'dying': 2, 'manipulated': 2, 'addressed': 2, 'differently': 2, 'uspezs': 2, 'manipulation': 2, 'available': 2, 'behalf': 2, 'archive': 2, 'union': 2, 'cuckery': 2, 'related': 2, 'processing': 2, 'initially': 2, 'greater': 2, 'wonderful': 2, 'screwed': 2, 'challenge': 2, 'regardless': 2, 'legitimate': 2, 'bias': 2, 'jose': 2, 'appreciated': 2, 'cars': 2, 'bashed': 2, 'block': 2, 'ambulances': 2, 'bat': 2, 'listening': 2, 'held': 2, 'protestors': 2, 'rip': 2, 'items': 2, 'cry': 2, 'filming': 2, 'behavior': 2, 'main': 2, 'arrangements': 2, 'throw': 2, 'authority': 2, 'bypass': 2, 'amnesty': 2, 'defined': 2, 'terrifying': 2, 'chose': 2, 'individual': 2, 'vast': 2, 'argued': 2, 'falling': 2, 'standard': 2, 'entered': 2, 'overturn': 2, 'mitt': 2, 'opponent': 2, 'forth': 2, 'loved': 2, 'deport': 2, 'script': 2, 'holding': 2, 'pride': 2, 'billionaire': 2, 'defend': 2, 'sincerely': 2, 'whenever': 2, 'creator': 2, 'replace': 2, 'antonin': 2, 'scalia': 2, 'successfully': 2, 'seven': 2, 'concern': 2, 'defund': 2, 'crack': 2, 'harbor': 2, 'keystone': 2, 'pipeline': 2, 'dakota': 2, 'strive': 2, 'threatens': 2, 'laid': 2, 'undo': 2, 'taxpayers': 2, 'cutting': 2, 'increase': 2, 'innercities': 2, 'universities': 2, 'enact': 2, 'drug': 2, 'cartels': 2, 'coal': 2, 'bringing': 2, 'allies': 2, 'freeze': 2, 'mars': 2, 'unconstitutional': 2, 'replacement': 2, 'fault': 2, 'solely': 2, 'belongs': 2, 'ryan': 2, 'mandates': 2, 'rid': 2, 'participate': 2, 'technology': 2, 'quarterly': 2, 'opportunities': 2, 'seek': 2, 'accountability': 2, 'scroll': 2, 'defunding': 2, 'hyde': 2, 'index': 2, 'hour': 2, 'unbelievably': 2, 'safely': 2, 'remaining': 2, 'prioritize': 2, 'edition': 2, 'travelling': 2, 'instruct': 2, 'checks': 2, 'hed': 2, 'beholden': 2, 'treating': 2, 'none': 2, 'value': 2, 'channel': 2, 'highlighted': 2, 'shortly': 2, 'altleft': 2, 'responded': 2, 'gather': 2, 'although': 2, 'offers': 2, 'contact': 2, 'verbally': 2, 'referring': 2, 'embarrasment': 2, 'laptop': 2, 'communications': 2, 'location': 2, 'operative': 2, 'ingrisano': 2, 'andrew': 2, 'therriault': 2, 'abused': 2, 'personality': 2, 'scaremongering': 2, 'lead': 2, 'limit': 2, 'ethics': 2, 'lobbyism': 2, 'definition': 2, 'consultants': 2, 'luxury': 2, 'closing': 2, 'compare': 2, 'dishonest': 2, 'warner': 2, 'merger': 2, 'ron': 2, 'amounts': 2, 'unlike': 2, 'favors': 2, 'uses': 2, 'inequality': 2, 'gdp': 2, 'seemed': 2, 'appropriate': 2, 'ignoring': 2, 'amys': 2, 'applying': 2, 'advocate': 2, 'field': 2, 'blocked': 2, 'sticked': 2, 'often': 2, 'dozens': 2, 'regular': 2, 'raw': 2, 'unfair': 2, 'highenergy': 2, 'larger': 2, 'collect': 2, 'exchange': 2, 'fully': 2, 'specified': 2, 'oman': 2, 'uae': 2, 'beyond': 2, 'founded': 2, 'holdings': 2, 'guise': 2, 'branch': 2, 'stayed': 2, 'establish': 2, 'declan': 2, 'northern': 2, 'connections': 2, 'task': 2, 'importantly': 2, 'simultaneously': 2, 'deputy': 2, 'humas': 2, 'trial': 2, 'scrutiny': 2, 'applied': 2, 'enter': 2, 'maintain': 2, 'enrich': 2, 'discusses': 2, 'banking': 2, 'oddly': 2, 'corporation': 2, 'contribute': 2, 'tivo': 2, 'ag': 2, 'leaking': 2, 'bc': 2, 'management': 2, 'internal': 2, 'conducting': 2, 'separate': 2, 'publicize': 2, 'familiarize': 2, 'wishing': 2, 'tone': 2, 'lines': 2, 'educate': 2, 'disclosure': 2, 'vetted': 2, 'membership': 2, 'advance': 2, 'avoid': 2, 'providing': 2, 'retain': 2, 'thus': 2, 'advisory': 2, 'bankruptcy': 2, 'corzine': 2, 'lovely': 2, 'bari': 2, 'allegations': 2, 'harry': 2, 'represents': 2, 'speeches': 2, 'krinivic': 2, 'agent': 2, 'derogatory': 2, 'widely': 2, 'forgive': 2, 'ie': 2, 'bruce': 2, 'loses': 2, 'runs': 2, 'ton': 2, 'goldman': 2, 'wjcs': 2, 'sponsors': 2, 'lasry': 2, 'built': 2, 'chairman': 2, 'advising': 2, 'concept': 2, 'cvc': 2, 'bush': 2, 'lots': 2, 'reply': 2, 'hawaii': 2, 'renewables': 2, 'siemens': 2, 'initial': 2, 'economics': 2, 'grid': 2, 'design': 2, 'islands': 2, 'rd': 2, 'reference': 2, 'positive': 2, 'contest': 2, 'undp': 2, 'dock': 2, 'raised': 2, 'structure': 2, 'target': 2, 'waste': 2, 'turning': 2, 'launch': 2, 'lab': 2, 'organized': 2, 'nrel': 2, 'expressed': 2, 'websites': 2, 'gujarat': 2, 'stats': 2, 'dropping': 2, 'deeds': 2, 'hoping': 2, 'stops': 2, 'unseemly': 2, 'charge': 2, 'version': 2, 'consequences': 2, 'severe': 2, 'quickly': 2, 'feeds': 2, 'deep': 2, 'wide': 2, 'harassing': 2, 'flying': 2, 'planet': 2, 'connect': 2, 'cabinet': 2, 'controlled': 2, 'illegitimate': 2, 'journalists': 2, 'inspired': 2, 'antics': 2, 'doxxing': 2, 'unique': 2, 'organizing': 2, 'surveil': 2, 'anita': 2, 'divisive': 2, 'introduce': 2, 'rsorosforprison': 2, 'foia': 2, 'motion': 2, 'feb': 2, 'sentiment': 2, 'basically': 2, 'tons': 2, 'purposed': 2, 'regarded': 2, 'impartial': 2, 'neutral': 2, 'objective': 2, 'purposely': 2, 'frustration': 2, 'reflect': 2, '기자reporter': 2, 'chinese': 2, 'japanese': 2, 'troops': 2, '만력제': 2, 'abandoned': 2, 'soldiers': 2, 'theater': 2, 'strategic': 2, 'viewed': 2, 'web': 2, 'picked': 2, 'diplomatic': 2, 'explaining': 2, 'navigational': 2, 'contacts': 2, 'palmieri': 2, 'taa': 2, 'fast': 2, 'conversations': 2, 'pj': 2, 'urging': 2, 'kadzikmustresign': 2, 'firekadzik': 2, 'ca': 2, 'kadziks': 2, 'profile': 2, 'shown': 2, 'fcc': 2, 'andy': 2, 'gonring': 2, 'relations': 2, 'kendall': 2, 'covering': 2, 'gladly': 2, 'pagliano': 2, 'neera': 2, 'tanden': 2, 'bar': 2, 'retrieved': 2, 'sexual': 2, 'formatted': 2, 'maxed': 2, 'max': 2, 'debbie': 2, 'spreadsheet': 2, 'download': 2, 'advantage': 2, 'duplicate': 2, 'fec': 2, 'duplicates': 2, 'dncs': 2, 'sam': 2, 'brown': 2, 'raj': 2, 'fernando': 2, 'wikipedia': 2, 'fernandos': 2, 'lack': 2, 'area': 2, 'appointment': 2, 'balance': 2, 'backgrounds': 2, 'screenshot': 2, 'perhaps': 2, 'mob': 2, 'incorrect': 2, 'seem': 2, 'reshared': 2, 'diverse': 2, 'battles': 2, 'box': 2, 'fria': 2, 'sentencing': 2, 'perp': 2, 'nr': 2, 'graffiti': 2, 'claiming': 2, 'slurs': 2, 'holocaust': 2, 'bye': 2, 'copypasting': 2, 'section': 2, 'options': 2, 'submitted': 2, 'witnessed': 2, 'expression': 2, 'flailing': 2, 'onevoice': 2, 'compiled': 2, 'clintonnewsnetwork': 2, 'wed': 2, 'veritasvideos': 2, 'saturday': 2, 'linking': 2, 'invited': 2, 'hfa': 2, 'jews': 2, 'zeps': 2, 'odell': 2, 'allied': 2, 'barton': 2, 'seiu': 2, 'clip': 2, 'superiority': 2, 'clock': 2, 'oliver': 2, 'welfare': 2, 'panicking': 2, 'passing': 2, 'hippies': 2, 'alternative': 2, 'pointless': 2, 'bridge': 2, 'deceased': 2, 'ebba': 2, 'uncensored': 2, 'notable': 2, 'pure': 2, 'ideal': 2, 'ideological': 2, 'conformity': 2, 'answers': 2, 'httphumantraffickingcenterorgguestpostsrootcausescontradictionsdisplacedyouthalongusmexicoborder': 2, 'searching': 1, 'achievement': 1, 'imminent': 1, 'wifes': 1, 'boyfriends': 1, 'yeah': 1, 'fucky': 1, 'stump': 1, 'redit': 1, 'countless': 1, 'identified': 1, 'upvotednot': 1, 'hero': 1, 'droniest': 1, 'reposted': 1, 'recruiting': 1, 'zealand': 1, 'tongue': 1, 'chaffetz': 1, 'dir': 1, 'existence': 1, 'pertinent': 1, 'reopened': 1, 'salty': 1, 'withdrawal': 1, 'admincucks': 1, 'sinatra': 1, 'stumps': 1, 'toxic': 1, 'poorly': 1, 'behaving': 1, 'imposed': 1, 'discrimination': 1, 'demonic': 1, 'fuckup': 1, 'wills': 1, 'clintonget': 1, 'occupy': 1, 'adjust': 1, 'tread': 1, 'hager': 1, 'iraqi': 1, 'eo': 1, 'shameful': 1, 'chucked': 1, 'beef': 1, 'insults': 1, 'participants': 1, 'seedy': 1, 'outcry': 1, 'tower': 1, 'flowers': 1, 'slightly': 1, 'influx': 1, 'fuel': 1, 'rpics': 1, 'rtwoxchromosomes': 1, 'theme': 1, 'shoutout': 1, 'manager': 1, 'implicated': 1, 'panama': 1, 'sprint': 1, 'snl': 1, 'homeschool': 1, 'unconscious': 1, 'brutally': 1, 'receive': 1, 'trophylike': 1, 'supremacists': 1, 'separatists': 1, 'ethnonationalists': 1, 'racebaiters': 1, 'defaulting': 1, 'suffering': 1, 'resorted': 1, 'pd': 1, 'eliminated': 1, 'prodoma': 1, 'videos': 1, 'shred': 1, 'criticisms': 1, 'grace': 1, 'freezes': 1, 'parting': 1, 'biden': 1, 'chooses': 1, 'greatness': 1, 'shamelessly': 1, 'implementing': 1, 'billboards': 1, 'popping': 1, 'drove': 1, 'spaces': 1, 'cocoa': 1, 'dough': 1, 'ping': 1, 'pong': 1, 'pizza': 1, 'steel': 1, 'unveils': 1, 'celebs': 1, 'surpasses': 1, 'formally': 1, 'snapped': 1, 'prosecuted': 1, 'administrations': 1, 'selectively': 1, 'offend': 1, 'dictatorship': 1, 'attended': 1, 'dream': 1, 'afford': 1, 'smashes': 1, 'happeningaudio': 1, 'seymour': 1, 'hersh': 1, 'counter': 1, 'harvard': 1, 'ceremony': 1, 'somebody': 1, 'fuckery': 1, 'overall': 1, 'arminas': 1, 'pileckas': 1, 'protected': 1, 'neither': 1, 'pronouns': 1, 'dr': 1, 'jordan': 1, 'peterson': 1, 'rationality': 1, 'canadas': 1, 'bs': 1, 'ronald': 1, 'apologizes': 1, 'breath': 1, 'forever': 1, 'unable': 1, 'evacuated': 1, 'cbss': 1, 'swann': 1, 'cats': 1, 'pooooodddeessssstaaaaa': 1, 'utah': 1, 'defeating': 1, 'bakeries': 1, 'cake': 1, 'wedding': 1, 'wheres': 1, 'headlines': 1, 'americafirst': 1, 'samesex': 1, 'lebanon': 1, 'respects': 1, 'grand': 1, 'mufti': 1, 'stages': 1, 'grief': 1, 'devolved': 1, 'protested': 1, 'passion': 1, 'reinstates': 1, 'tortured': 1, 'economist': 1, 'rex': 1, 'tillerson': 1, 'publically': 1, 'dog': 1, 'mattis': 1, 'fry': 1, 'brains': 1, 'nevertrumps': 1, 'pediatrics': 1, 'reaches': 1, 'transgenderism': 1, 'shaming': 1, 'repeatedly': 1, 'instructed': 1, 'prohibition': 1, 'immigrantowned': 1, 'homosexual': 1, 'nprs': 1, 'traumatic': 1, 'shaq': 1, 'netherlands': 1, 'mohammad': 1, 'certificate': 1, 'forgery': 1, 'forensic': 1, 'continents': 1, 'hid': 1, 'omar': 1, 'swore': 1, 'allegiance': 1, 'learning': 1, 'uptrump': 1, 'haters': 1, 'cyberattack': 1, 'harm': 1, 'rbg': 1, 'recovery': 1, 'retirement': 1, 'partisan': 1, 'killers': 1, 'hiding': 1, 'trumpi': 1, 'flamboyant': 1, 'likes': 1, 'homophobe': 1, 'fights': 1, 'tears': 1, 'interferes': 1, 'obstructing': 1, 'apple': 1, 'godblesstrump': 1, 'wheelchair': 1, 'gangraped': 1, 'west': 1, 'endure': 1, 'rthedon': 1, 'unstoppable': 1, 'subscriber': 1, 'growth': 1, 'slowing': 1, 'trigglytards': 1, 'ssaaayyyyy': 1, 'iiiittttttt': 1, 'ahahahahahahahahaha': 1, 'resurrection': 1, 'finished': 1, 'inaccurate': 1, 'phenomena': 1, 'iii': 1, 'pretrial': 1, 'molested': 1, 'urinated': 1, 'summer': 1, 'idaho': 1, 'pushed': 1, 'rug': 1, 'forgotten': 1, 'mtv': 1, 'plotting': 1, 'schoolgirls': 1, 'kidnapped': 1, 'carolina': 1, 'bowlcut': 1, 'outperform': 1, 'aggressively': 1, 'permits': 1, 'hanging': 1, 'rtinder': 1, 'meets': 1, 'palestine': 1, 'silly': 1, 'martha': 1, 'mcdonalds': 1, 'affiliation': 1, 'comfort': 1, 'thug': 1, 'bragged': 1, 'postfeminist': 1, 'product': 1, 'choices': 1, 'resultsjpg': 1, 'nyt': 1, 'tedcruz': 1, 'awaythe': 1, 'smash': 1, 'rarest': 1, 'dankest': 1, 'postmortem': 1, 'berniacs': 1, 'revolution': 1, 'tim': 1, 'negrouncle': 1, 'tomrace': 1, 'traitor': 1, 'themthis': 1, 'ashamed': 1, 'spicier': 1, 'grabbing': 1, 'pussies': 1, 'ford': 1, 'canceling': 1, 'investing': 1, 'uncuckening': 1, 'hardcore': 1, 'pilling': 1, 'paedophile': 1, 'actors': 1, 'prey': 1, 'parcel': 1, 'manchester': 1, 'embracing': 1, 'despicablernews': 1, 'jackie': 1, 'evancho': 1, 'triple': 1, 'cu': 1, 'boulder': 1, 'ticket': 1, 'along': 1, 'ticketholders': 1, 'doctored': 1, 'findings': 1, 'aids': 1, 'failures': 1, 'install': 1, 'sourcing': 1, 'revenue': 1, 'trumpsupporting': 1, 'proving': 1, 'stripped': 1, 'delivers': 1, 'todays': 1, 'patriots': 1, 'sample': 1, 'benevolent': 1, 'montana': 1, 'cycle': 1, 'af': 1, 'singer': 1, 'grammys': 1, 'defectors': 1, 'defect': 1, 'dubs': 1, 'famits': 1, 'payroll': 1, 'referenced': 1, 'zulema': 1, 'rodriguez': 1, 'rioter': 1, 'phone': 1, 'shitlibs': 1, 'rhillaryclinton': 1, 'fuzzing': 1, 'einstein': 1, 'weather': 1, 'celebrate': 1, 'milestones': 1, 'creation': 1, 'lowest': 1, 'rascism': 1, 'tries': 1, 'jongun': 1, 'insult': 1, 'someday': 1, 'falsehood': 1, 'thugs': 1, 'masks': 1, 'pedophilia': 1, 'retains': 1, 'aggressive': 1, 'ongoing': 1, 'laptops': 1, 'void': 1, 'strip': 1, 'drag': 1, 'random': 1, 'rsweden': 1, 'pittsburgh': 1, 'paris': 1, 'leaker': 1, 'dncleaks': 1, 'civillians': 1, 'taste': 1, 'hahahahahahahahahahahahahahahahahahahhahahahahahahahahha': 1, 'liberallogic': 1, 'accidently': 1, 'annoy': 1, 'croatia': 1, 'shillary': 1, 'katie': 1, 'ok': 1, 'kiddies': 1, 'complicated': 1, 'brand': 1, 'cancel': 1, 'retreat': 1, 'hilldog': 1, 'tumblrites': 1, 'subscribe': 1, 'feed': 1, 'jokingly': 1, 'refers': 1, 'combat': 1, 'stereotypes': 1, 'decapitating': 1, 'effing': 1, 'buttons': 1, 'pravda': 1, 'admitting': 1, 'discovers': 1, 'operation': 1, 'institute': 1, 'accepts': 1, 'foriegn': 1, 'rothschilds': 1, 'rogue': 1, 'elector': 1, 'governor': 1, 'incite': 1, 'rallies': 1, 'hahahahahaha': 1, 'pledges': 1, 'congressional': 1, 'ethicsreform': 1, 'verify': 1, 'dopey': 1, 'panties': 1, 'merkels': 1, 'reasonable': 1, 'waite': 1, 'bestseller': 1, 'amazon': 1, 'xdddddd': 1, 'nude': 1, 'painting': 1, 'suitable': 1, 'ordnance': 1, 'blast': 1, 'nonnuclear': 1, 'ordinance': 1, 'inventory': 1, 'burial': 1, 'donna': 1, 'brazile': 1, 'authenticated': 1, 'dkim': 1, 'prosecute': 1, 'luis': 1, 'gutierrez': 1, 'monument': 1, 'stormed': 1, 'creeping': 1, 'emasculation': 1, 'rabid': 1, 'juan': 1, 'accuses': 1, 'yard': 1, 'trumphating': 1, 'defenseless': 1, 'earns': 1, 'trusted': 1, 'cable': 1, 'suit': 1, 'tossed': 1, 'assaulting': 1, 'credible': 1, 'rainvote': 1, 'saloncom': 1, 'vive': 1, 'motherfuckers': 1, 'chuck': 1, 'vladimir': 1, 'laughs': 1, 'wand': 1, 'policing': 1, 'receives': 1, 'poisoned': 1, 'prochild': 1, 'mafia': 1, 'awards': 1, 'katy': 1, 'perry': 1, 'unicefsnowflake': 1, 'ball': 1, 'dogs': 1, 'texans': 1, 'deserved': 1, 'harvey': 1, 'relieved': 1, 'hahahahaha': 1, 'testimony': 1, 'honest': 1, 'riveting': 1, 'strategy': 1, 'sham': 1, 'delay': 1, 'nothat': 1, 'sucks': 1, 'dearborn': 1, 'allegedly': 1, 'traffic': 1, 'faux': 1, 'migrant': 1, 'bowed': 1, 'confederate': 1, 'statues': 1, 'slavery': 1, 'planted': 1, 'audience': 1, 'goodbye': 1, 'zuckerberg': 1, 'noting': 1, 'zuck': 1, 'roll': 1, 'cbs': 1, 'downfall': 1, 'surfaces': 1, 'defending': 1, 'adults': 1, 'minors': 1, 'alexjones': 1, 'epic': 1, 'wh': 1, 'aclu': 1, 'discriminate': 1, 'assholes': 1, 'traitors': 1, 'eager': 1, 'familys': 1, 'oversight': 1, 'gaining': 1, 'herr': 1, 'retort': 1, 'masa': 1, 'emanuel': 1, 'kidega': 1, 'samson': 1, 'vanish': 1, 'fk': 1, 'em': 1, 'alumni': 1, 'animal': 1, 'undecided': 1, 'roman': 1, 'polanski': 1, 'drugged': 1, 'fleeing': 1, 'escape': 1, 'rallied': 1, 'janet': 1, 'reno': 1, 'attorneys': 1, 'shoots': 1, 'indian': 1, 'narratives': 1, 'atleast': 1, 'debates': 1, 'hosted': 1, 'hosting': 1, 'leonardo': 1, 'dicaprios': 1, 'yacht': 1, 'asshole': 1, 'lecturing': 1, 'carbon': 1, 'footprint': 1, 'terminated': 1, 'silence': 1, 'grew': 1, 'serve': 1, 'gratefulness': 1, 'aaron': 1, 'coordinator': 1, 'boasts': 1, 'borrow': 1, 'browns': 1, 'transgenders': 1, 'religions': 1, 'implore': 1, 'thursday': 1, 'limiting': 1, 'fascists': 1, 'funneled': 1, 'scheme': 1, 'sunrise': 1, 'medical': 1, 'las': 1, 'vegas': 1, 'bless': 1, 'tireless': 1, 'doctors': 1, 'nurses': 1, 'toon': 1, 'funniest': 1, 'fuckin': 1, 'baiters': 1, 'stepping': 1, 'amid': 1, 'thoughtful': 1, 'bribery': 1, 'kickbacks': 1, 'extortion': 1, 'atomic': 1, 'reeeeeeeeeeeeeeeeeeeeeeeeeeeeeeeeeeeeeeeeeeeeeeeeeeeeeeeeeeeeeeeeeeeeeeeeeeeeeeeeeeeeeeeeeeeeeeeeeeeeeeeeeeeeeeeeeeeeeeeeeeeeeeeeeeeeeeeeeeeeeeeeeeeeeeeeeeeeeeeeeeeeeeeeeeeeeeeeeeeeeeeeeeeeeeeeeeeeeeeeeeeeeeeeeeeeeeeeeeeeeeeeeeeeeeeeeeeeeeeeeeeeeeeeeeeeeeeeeeeeeeeeeeeeeeeeeeeeeeeeeeeeeeeeeeeeeee': 1, 'ohsnap': 1, 'semitruck': 1, 'patriotic': 1, 'veteran': 1, 'bradley': 1, 'faulkner': 1, 'shoulder': 1, 'cab': 1, 'funeral': 1, 'procession': 1, 'memba': 1, 'nye': 1, 'irredeemable': 1, 'prayer': 1, 'modmailed': 1, 'cheaters': 1, 'exclusive': 1, 'photos': 1, 'sane': 1, 'bend': 1, 'pastorweve': 1, 'hispanicamerican': 1, 'realise': 1, 'indict': 1, 'uniform': 1, 'tulsi': 1, 'gabbard': 1, 'aint': 1, 'headed': 1, 'quebec': 1, 'obstruction': 1, 'brexit': 1, 'greenlit': 1, 'brothers': 1, 'sisters': 1, 'pond': 1, 'globalism': 1, 'australia': 1, 'releases': 1, 'everyones': 1, 'nambla': 1, 'airport': 1, 'spotted': 1, 'gq': 1, 'employs': 1, 'banks': 1, 'dilemma': 1, 'stonetear': 1, 'erasing': 1, 'redacting': 1, 'bold': 1, 'drained': 1, 'cameramen': 1, 'espn': 1, 'trolled': 1, 'gameday': 1, 'poisonous': 1, 'hm': 1, 'rare': 1, 'attacker': 1, 'endorsing': 1, 'survived': 1, 'conducts': 1, 'colorized': 1, 'plantd': 1, 'glorifying': 1, 'enslaves': 1, 'lol': 1, 'slaughtered': 1, 'seddique': 1, 'vip': 1, 'seating': 1, 'steven': 1, 'crowder': 1, 'infiltrates': 1, 'garbage': 1, 'beverly': 1, 'nelson': 1, 'forged': 1, 'yearbook': 1, 'gloria': 1, 'allred': 1, 'roy': 1, 'lefties': 1, 'yale': 1, 'hunger': 1, 'barbecue': 1, 'percent': 1, 'hispanic': 1, 'googling': 1, 'portland': 1, 'editor': 1, 'barring': 1, 'skin': 1, 'masterful': 1, 'tucked': 1, 'accurately': 1, 'honorably': 1, 'dabbling': 1, 'shady': 1, 'ponzi': 1, 'tekei': 1, 'comparable': 1, 'milos': 1, 'props': 1, 'counterprotest': 1, 'justislamthings': 1, 'movent': 1, 'libexit': 1, 'thirsting': 1, 'crown': 1, 'twitters': 1, 'trended': 1, 'stopenslavingsaudiwomen': 1, 'dept': 1, 'martin': 1, 'shkreli': 1, 'clothed': 1, 'nyts': 1, 'donates': 1, 'coincidence': 1, 'stonetears': 1, 'redditgate': 1, 'celebration': 1, 'lindsey': 1, 'graham': 1, 'experiment': 1, 'therefore': 1, 'fraudulent': 1, 'classmates': 1, 'immigrantsyou': 1, 'subgot': 1, 'gilded': 1, 'troll': 1, 'christmasthis': 1, 'shirts': 1, 'mugging': 1, 'brooklyn': 1, 'intimidation': 1, 'shithole': 1, 'nailed': 1, 'fabulously': 1, 'fascist': 1, 'turkish': 1, 'dictator': 1, 'reeeeeeeeeeeeeeeeeeeeeee': 1, 'coz': 1, 'complained': 1, 'pressuring': 1, 'marry': 1, 'rnottheonion': 1, 'criticizing': 1, 'gripped': 1, 'jimmy': 1, 'savile': 1, 'paedophiles': 1, 'shielded': 1, 'organised': 1, 'appointments': 1, 'activismwatch': 1, 'lads': 1, 'limbaugh': 1, 'signals': 1, 'clintonera': 1, 'cronyism': 1, 'applause': 1, 'chris': 1, 'wallace': 1, 'loser': 1, 'colin': 1, 'kaepernick': 1, 'earned': 1, 'cap': 1, 'computers': 1, 'typed': 1, 'undermine': 1, 'successor': 1, 'generous': 1, 'retract': 1, 'proclaims': 1, 'incitementa': 1, 'mere': 1, 'incitement': 1, 'commit': 1, 'arson': 1, 'pressed': 1, 'vehemently': 1, 'ceasefire': 1, 'constructively': 1, 'haha': 1, 'fresh': 1, 'stronger': 1, 'laura': 1, 'ingraham': 1, 'denounce': 1, 'youth': 1, 'screamed': 1, 'ppl': 1, 'notmyceo': 1, 'road': 1, 'fortunate': 1, 'tovbe': 1, 'quietly': 1, 'uncovered': 1, 'banker': 1, 'french': 1, 'destroys': 1, 'homelands': 1, 'winston': 1, 'churchills': 1, 'contractor': 1, 'lumber': 1, 'super': 1, 'bowl': 1, 'houses': 1, 'apolitical': 1, 'probuild': 1, 'subpoenaed': 1, 'felony': 1, 'convicted': 1, 'toast': 1, 'lmao': 1, 'risked': 1, 'miss': 1, 'newt': 1, 'gingrich': 1, 'sucking': 1, 'basic': 1, 'iranian': 1, 'ripping': 1, 'slaughter': 1, 'armenians': 1, 'atrocities': 1, 'avenatti': 1, 'releasethememo': 1, 'legit': 1, 'influencepeddling': 1, 'skyrocket': 1, 'spicy': 1, 'cartoon': 1, 'shouldnt': 1, 'concentrating': 1, 'superreddit': 1, 'gradea': 1, 'relevant': 1, 'starbucks': 1, 'eeoc': 1, 'prohibits': 1, 'origin': 1, 'violation': 1, 'refusing': 1, 'fresno': 1, 'kori': 1, 'muhammad': 1, 'yelled': 1, 'allahu': 1, 'akbar': 1, 'collapse': 1, 'wiretapped': 1, 'nudes': 1, 'friendsand': 1, 'enemiesa': 1, 'merry': 1, 'vpelect': 1, 'indy': 1, 'exi': 1, 'infested': 1, 'spend': 1, 'iphones': 1, 'condition': 1, 'genocidal': 1, 'fanatics': 1, 'ultimate': 1, 'noble': 1, 'selfless': 1, 'pursuit': 1, 'incorrectly': 1, 'tabulation': 1, 'gates': 1, 'likens': 1, 'jfk': 1, 'canadian': 1, 'patrol': 1, 'print': 1, 'material': 1, 'whatsoever': 1, 'torture': 1, 'piss': 1, 'tactical': 1, 'store': 1, 'shrill': 1, 'estonian': 1, 'terrrorist': 1, 'en': 1, 'route': 1, 'retardation': 1, 'ahahhahahha': 1, 'sweetie': 1, 'dreaming': 1, 'footage': 1, 'officer': 1, 'alan': 1, 'horujko': 1, 'shocker': 1, 'missingdcgirls': 1, 'hamilton': 1, 'norway': 1, 'mosque': 1, 'treasury': 1, 'victor': 1, 'thorn': 1, 'researched': 1, 'scandals': 1, 'ruled': 1, 'nominate': 1, 'agents': 1, 'reportedly': 1, 'cali': 1, 'stayhomestaysafe': 1, 'huuuugggeee': 1, 'fans': 1, 'briefings': 1, 'podestaemail': 1, 'humaabedin': 1, 'orange': 1, 'symbol': 1, 'commanderinchief': 1, 'cherokee': 1, 'dna': 1, 'dishonoring': 1, 'undermining': 1, 'tribal': 1, 'nonswedish': 1, 'europe': 1, 'mogadishu': 1, 'ossoff': 1, 'handeled': 1, 'hereby': 1, 'infiltrated': 1, 'surveilled': 1, 'purposes': 1, 'incase': 1, 'funneling': 1, 'ass': 1, 'accurate': 1, 'map': 1, 'mini': 1, 'picks': 1, 'highs': 1, 'schedule': 1, 'enemies': 1, 'fought': 1, 'battlestations': 1, 'credits': 1, 'netflix': 1, 'starring': 1, 'travis': 1, 'county': 1, 'wears': 1, 'hearings': 1, 'prez': 1, 'competition': 1, 'rocket': 1, 'conquers': 1, 'spezcaustdenialist': 1, 'erased': 1, 'despotic': 1, 'perpetuating': 1, 'priority': 1, 'condemns': 1, 'marches': 1, 'shria': 1, 'dontstopupvoting': 1, 'nicole': 1, 'kidman': 1, 'proamerica': 1, 'aussie': 1, 'violently': 1, 'royally': 1, 'coulter': 1, 'subversion': 1, 'tag': 1, 'caps': 1, 'interesting': 1, 'theo': 1, 'gogh': 1, 'filmmaker': 1, 'criticized': 1, 'islams': 1, 'daylight': 1, 'mohammedan': 1, 'spezkillary': 1, 'association': 1, 'rapist': 1, 'withdraws': 1, 'pa': 1, 'cloud': 1, 'ballots': 1, 'population': 1, 'ids': 1, 'tariff': 1, 'daddy': 1, 'ama': 1, 'founding': 1, 'grandmother': 1, 'remind': 1, 'trashes': 1, 'mess': 1, 'comedy': 1, 'mrmcstevie': 1, 'classy': 1, 'daterapisttobe': 1, 'weaponized': 1, 'autistics': 1, 'clicked': 1, 'wikilinks': 1, 'wikileak': 1, 'arabian': 1, 'theyd': 1, 'protection': 1, 'intolerant': 1, 'mysterious': 1, 'powders': 1, 'crybullies': 1, 'wanda': 1, 'booed': 1, 'flipped': 1, 'emotional': 1, 'whining': 1, 'natural': 1, 'selection': 1, 'growing': 1, 'expose': 1, 'omghes': 1, 'virginia': 1, 'salon': 1, 'deletes': 1, 'study': 1, 'acosta': 1, 'irl': 1, 'slimy': 1, 'unethical': 1, 'incarceration': 1, 'stations': 1, 'unqualified': 1, 'accounting': 1, 'errors': 1, 'stink': 1, 'spotlighted': 1, 'sadick': 1, 'khan': 1, 'evan': 1, 'mcmullin': 1, 'odonnell': 1, 'precisely': 1, 'sixmillion': 1, 'fourteenthousand': 1, 'twohundred': 1, 'fortyeight': 1, 'hillaryobama': 1, 'payer': 1, 'fovals': 1, 'woodhouse': 1, 'pardons': 1, 'nickelodeon': 1, 'totalday': 1, 'viewership': 1, 'outtttt': 1, 'treasonous': 1, 'poverty': 1, 'pimp': 1, 'bread': 1, 'recieved': 1, 'shelia': 1, 'fredrick': 1, 'attendant': 1, 'terrified': 1, 'accompanied': 1, 'bathroom': 1, 'alerted': 1, 'trafficker': 1, 'species': 1, 'reinstate': 1, 'ads': 1, 'rumored': 1, 'plows': 1, 'alt': 1, 'equality': 1, 'highschool': 1, 'antifeminism': 1, 'hashtags': 1, 'exemplar': 1, 'rowe': 1, 'phx': 1, 'hahahaha': 1, 'dynamite': 1, 'ivanka': 1, 'halfbrother': 1, 'tradition': 1, 'declines': 1, 'doors': 1, 'boo': 1, 'hoo': 1, 'contain': 1, 'sampling': 1, 'altlefts': 1, 'valid': 1, 'feelthebern': 1, 'demexit': 1, 'commits': 1, 'european': 1, 'millenials': 1, 'migration': 1, 'mainly': 1, 'smh': 1, 'priebus': 1, 'automatic': 1, 'believer': 1, 'backlash': 1, 'trends': 1, 'grassroots': 1, 'lefty': 1, 'sleeping': 1, 'wakes': 1, 'hmmm': 1, 'jew': 1, 'teenage': 1, 'stomped': 1, 'shadowbanning': 1, 'replying': 1, 'cached': 1, 'grilos': 1, 'seals': 1, 'widow': 1, 'idiot': 1, 'notmypresident': 1, 'nsa': 1, 'shadowbanned': 1, 'invisible': 1, 'spree': 1, 'kremlin': 1, 'deciding': 1, 'dallas': 1, 'bump': 1, 'physician': 1, 'antonio': 1, 'jog': 1, 'rap': 1, 'deliver': 1, 'energized': 1, 'mommy': 1, 'muslimban': 1, 'arrived': 1, 'lax': 1, 'passport': 1, 'snowden': 1, 'assylum': 1, 'reopens': 1, 'shariaforamerica': 1, 'whyimarched': 1, 'watergate': 1, 'reset': 1, 'collectively': 1, 'bonus': 1, 'dictionary': 1, 'definitions': 1, 'jeanine': 1, 'britain': 1, 'session': 1, 'pewdiepie': 1, 'conform': 1, 'regressiveleft': 1, 'slander': 1, 'coordination': 1, 'timer': 1, 'rosa': 1, 'ustonetear': 1, 'underlings': 1, 'sir': 1, 'urged': 1, 'jim': 1, 'exploding': 1, 'envelope': 1, 'powder': 1, 'intended': 1, 'happend': 1, 'bus': 1, 'globalist': 1, 'scum': 1, 'shrieks': 1, 'participated': 1, 'heinous': 1, 'recording': 1, 'businessman': 1, 'deblasio': 1, 'possession': 1, 'pornography': 1, 'blackface': 1, 'disappear': 1, 'catching': 1, 'textbooks': 1, 'americathemed': 1, 'ditch': 1, 'scummy': 1, 'detail': 1, 'steak': 1, 'catch': 1, 'improving': 1, 'weekly': 1, 'introduces': 1, 'allows': 1, 'sue': 1, 'iraq': 1, 'uncovers': 1, 'trains': 1, 'fraudnewscnn': 1, 'fnn': 1, 'httpstcowyunhjjujg': 1, 'nail': 1, 'prediction': 1, 'praising': 1, 'siding': 1, 'boycottstarbucks': 1, 'fantasizes': 1, 'allahuakbar': 1, 'rental': 1, 'trucks': 1, 'cherry': 1, 'arming': 1, 'backed': 1, 'rebels': 1, 'transformation': 1, 'wednesday': 1, 'shareblue': 1, 'squirm': 1, 'hitting': 1, 'hornets': 1, 'nest': 1, 'douche': 1, 'bannon': 1, 'hill': 1, 'referencing': 1, 'entering': 1, 'cuckaroos': 1, 'rjontron': 1, 'commited': 1, 'marxismgive': 1, 'assassinated': 1, 'flee': 1, 'scene': 1, 'arlington': 1, 'highfives': 1, 'awww': 1, 'miamidade': 1, 'drops': 1, 'dominance': 1, 'permanent': 1, 'extensive': 1, 'sales': 1, 'explode': 1, 'dress': 1, 'navigate': 1, 'horrific': 1, 'practice': 1, 'magas': 1, 'babies': 1, 'lefts': 1, 'collection': 1, 'handed': 1, 'coaching': 1, 'panel': 1, 'berkley': 1, 'netneutrality': 1, 'georgia': 1, 'seal': 1, 'flies': 1, 'convoy': 1, 'bans': 1, 'ufc': 1, 'heavyweight': 1, 'derrick': 1, 'lewis': 1, 'knock': 1, 'mofo': 1, 'cuz': 1, 'makin': 1, 'flotus': 1, 'horror': 1, 'cleveland': 1, 'newly': 1, 'prosecutor': 1, 'buried': 1, 'slam': 1, 'dunk': 1, 'decisionto': 1, 'inactiveits': 1, 'outrageous': 1, 'prosecutors': 1, 'cleans': 1, 'fears': 1, 'familiar': 1, 'occurrence': 1, 'taibbi': 1, 'rolling': 1, 'merely': 1, 'arm': 1, 'nfl': 1, 'sally': 1, 'yates': 1, 'refusal': 1, 'maxine': 1, 'waters': 1, 'posing': 1, 'ukraine': 1, 'placements': 1, 'flynn': 1, 'investigated': 1, 'kayne': 1, 'smeared': 1, 'uncle': 1, 'tom': 1, 'comply': 1, 'forego': 1, 'ape': 1, 'africans': 1, 'mindboggling': 1, 'fedex': 1, 'allin': 1, 'uhrin': 1, 'arguments': 1, 'exec': 1, 'requiring': 1, 'regulation': 1, 'revoked': 1, 'commenced': 1, 'retweet': 1, 'gaga': 1, 'pepsihalftime': 1, 'performance': 1, 'superbowlsunday': 1, 'murderer': 1, 'rethink': 1, 'diplomats': 1, 'forces': 1, 'schemes': 1, 'bully': 1, 'employed': 1, 'planetgets': 1, 'guns': 1, 'thankful': 1, 'upholds': 1, 'tommy': 1, 'robinson': 1, 'relentlessly': 1, 'freeloading': 1, 'laggards': 1, 'accomplished': 1, 'disaster': 1, 'nov': 1, 'kavabrah': 1, 'rude': 1, 'elevator': 1, 'screamers': 1, 'professionals': 1, 'professionally': 1, 'identical': 1, 'basement': 1, 'troublemakers': 1, 'insurmountable': 1, 'crush': 1, 'machine': 1, 'toledo': 1, 'spotty': 1, 'et': 1, 'constant': 1, 'criticism': 1, 'elitist': 1, 'abandon': 1, 'shun': 1, 'milking': 1, 'posh': 1, 'lifestyles': 1, 'nay': 1, 'spoken': 1, 'brushed': 1, 'forgetting': 1, 'vapid': 1, 'mistakenly': 1, 'pridefully': 1, 'fame': 1, 'despicable': 1, 'dare': 1, 'unfunny': 1, 'barbra': 1, 'whoopi': 1, 'goldberg': 1, 'keeganmichael': 1, 'rev': 1, 'ravensymoné': 1, 'buhbye': 1, 'assured': 1, 'basket': 1, 'suck': 1, 'dissent': 1, 'facist': 1, 'damnit': 1, 'discourse': 1, 'differing': 1, 'dissapointed': 1, 'christ': 1, 'outraged': 1, 'foster': 1, 'ideologically': 1, 'aligned': 1, 'stipulations': 1, 'moderation': 1, 'bullied': 1, 'sidebar': 1, 'polices': 1, 'fervor': 1, 'heck': 1, 'transpired': 1, 'singled': 1, 'modteam': 1, 'compromise': 1, 'brings': 1, 'doublestandard': 1, 'perpetuates': 1, 'heels': 1, 'logs': 1, 'rooms': 1, 'echo': 1, 'elite': 1, 'represented': 1, 'shutdown': 1, 'rpizzagate': 1, 'havechanged': 1, 'mentionshttparchiveisteroc': 1, 'usernames': 1, 'slimg': 1, 'orignal': 1, 'bent': 1, 'barbara': 1, 'eddie': 1, 'griffin': 1, 'omari': 1, 'hardwick': 1, 'whoopie': 1, 'goldburg': 1, 'ravensymone': 1, 'lawrence': 1, 'barry': 1, 'diller': 1, 'jenny': 1, 'slate': 1, 'zosia': 1, 'mamet': 1, 'chloe': 1, 'sevigny': 1, 'natasha': 1, 'lyonne': 1, 'elisabeth': 1, 'moss': 1, 'spike': 1, 'lee': 1, 'kathryn': 1, 'hahn': 1, 'lily': 1, 'depp': 1, 'gabrielle': 1, 'damon': 1, 'ruth': 1, 'bader': 1, 'ginsburg': 1, 'keegan': 1, 'michaelkey': 1, 'bought': 1, 'nosedive': 1, 'begging': 1, 'cat': 1, 'commercials': 1, 'sincerly': 1, 'scratching': 1, 'hackers': 1, 'delays': 1, 'antagonistic': 1, 'attracted': 1, 'positioning': 1, 'sharply': 1, 'soooooooyeah': 1, 'triggering': 1, 'whateverwill': 1, 'tenacity': 1, 'intellectual': 1, 'scaffolding': 1, 'virtue': 1, 'populace': 1, 'express': 1, 'greatly': 1, 'quo': 1, 'lesson': 1, 'reinvigorated': 1, 'makeamericagreatagain': 1, 'effecthttpsenwikipediaorgwikistreisandeffect': 1, 'describe': 1, 'boosts': 1, 'resolve': 1, 'intimidate': 1, 'victimization': 1, 'censors': 1, 'preventing': 1, 'leftism': 1, 'topics': 1, 'blocking': 1, 'unacceptable': 1, 'reenabled': 1, 'unlikely': 1, 'morale': 1, 'boosted': 1, 'sympathy': 1, 'outsiders': 1, 'peak': 1, 'ahh': 1, 'wonders': 1, 'bullies': 1, 'label': 1, 'spitting': 1, 'freely': 1, 'praised': 1, 'highways': 1, 'hospitals': 1, 'monsters': 1, 'spit': 1, 'baseball': 1, 'collective': 1, 'willfully': 1, 'httpsyoutubethszxjlxhyw': 1, 'door': 1, 'bawling': 1, 'elementary': 1, 'httpsyoutubedmehracdlxs': 1, 'httpsyoutubetsizbucvoa': 1, 'smashing': 1, 'spewing': 1, 'pointing': 1, 'lays': 1, 'kicking': 1, 'exercising': 1, 'unverified': 1, 'highway': 1, 'deaf': 1, 'ears': 1, 'applauds': 1, 'httpsyoutubeemuxuhmpvc': 1, 'httpsyoutubeuhvygebbgom': 1, 'misogynist': 1, 'calmly': 1, 'logic': 1, 'ripped': 1, 'punch': 1, 'senseless': 1, 'steal': 1, 'undeserved': 1, 'defenses': 1, 'weak': 1, 'participating': 1, 'havoc': 1, 'crying': 1, 'tissues': 1, 'deemed': 1, 'labeled': 1, 'registered': 1, 'electionobama': 1, 'seeingfeeling': 1, 'editi': 1, 'opposing': 1, 'decieved': 1, 'stereotype': 1, 'bigots': 1, 'backfire': 1, 'sympathetic': 1, 'slowly': 1, 'deceived': 1, 'clintonsmsm': 1, 'politely': 1, 'reeducating': 1, 'rage': 1, 'celebspoliticians': 1, 'wew': 1, 'airplane': 1, 'refrained': 1, 'longwinded': 1, 'explanations': 1, 'frankly': 1, 'celebrating': 1, 'smiling': 1, 'moreliberal': 1, 'diagnoses': 1, 'blaming': 1, 'prudent': 1, 'cents': 1, 'minor': 1, 'compassionate': 1, 'pathway': 1, 'shifted': 1, 'dramatically': 1, 'paperwork': 1, 'fivetime': 1, 'deported': 1, 'potentialkillers': 1, 'roam': 1, 'pain': 1, 'plurality': 1, 'sensible': 1, 'season': 1, 'eliminate': 1, 'bear': 1, 'heller': 1, 'affirmed': 1, 'categories': 1, 'weapons': 1, 'lethality': 1, 'attachments': 1, 'revamping': 1, 'affordable': 1, 'jammed': 1, 'throats': 1, 'parliamentary': 1, 'maneuver': 1, 'architects': 1, 'aca': 1, 'faced': 1, 'premiums': 1, 'skyrocketing': 1, 'insurance': 1, 'apart': 1, 'celebrated': 1, 'wto': 1, 'negotiate': 1, 'companion': 1, 'adjustment': 1, 'setaside': 1, 'retrain': 1, 'roughly': 1, 'judges': 1, 'measure': 1, 'terrifies': 1, 'significantly': 1, 'premature': 1, 'viability': 1, 'contrary': 1, 'nightly': 1, 'filled': 1, 'neighborhoods': 1, 'gunned': 1, 'congressmen': 1, 'disgruntled': 1, 'savagely': 1, 'devoid': 1, 'specifics': 1, 'issuebased': 1, 'isolated': 1, 'ship': 1, 'salivating': 1, 'prospect': 1, 'rolls': 1, 'massacre': 1, 'extremism': 1, 'antigay': 1, 'thanking': 1, 'delegates': 1, 'applauding': 1, 'lgbt': 1, 'spell': 1, 'defeat': 1, 'maverick': 1, 'dust': 1, 'settled': 1, 'prevalent': 1, 'ism': 1, 'repeated': 1, 'pundits': 1, 'melting': 1, 'napoleonic': 1, 'interrupt': 1, 'proverb': 1, 'countryman': 1, 'pleasantly': 1, 'surprised': 1, 'conspiracy': 1, 'swallowing': 1, 'updating': 1, 'staying': 1, 'uptodate': 1, 'dilbert': 1, 'urge': 1, 'cognitive': 1, 'dissonance': 1, 'incredible': 1, 'preceded': 1, 'asterisk': 1, 'httpswwwdonaldjtrumpcompressreleasesdonaldjtrumpaddstolistofpotentialsupremecourtjusticepicks': 1, 'replaced': 1, 'qualified': 1, 'constitutionabiding': 1, 'suspend': 1, 'terrorprone': 1, 'constitutional': 1, 'outlined': 1, 'messing': 1, 'revive': 1, 'revival': 1, 'xl': 1, 'pipelines': 1, 'detrimental': 1, 'disastrous': 1, 'loves': 1, 'httpswwwcnetcomnewstrumpwomeninstemtechlaws': 1, 'stem': 1, 'dance': 1, 'therapy': 1, 'launched': 1, 'council': 1, 'empowering': 1, 'entrepreneurs': 1, 'tweaking': 1, 'regards': 1, 'agency': 1, 'twoforone': 1, 'rollback': 1, 'impossible': 1, 'httpswwwamericanactionforumorginsightfiscalbenefitscraregulatoryreform': 1, 'deeply': 1, 'rebuilding': 1, 'httpwwwpbsorgnewshourrundowntrumpsignsexecutiveorderblackcolleges': 1, 'historically': 1, 'colleges': 1, 'immensely': 1, 'policemen': 1, 'protecting': 1, 'build': 1, 'bolster': 1, 'depleted': 1, 'httpswwwdonaldjtrumpcompressreleasesdonaldjtrumpaddressesthedrugepidemicintheunitedstates': 1, 'drugs': 1, 'cracking': 1, 'revitalize': 1, 'resolution': 1, 'miners': 1, 'httpwwwpbsorgnewshourmakingsensetrumpsayshellbringjobsbacktoamericaeconomistsareskeptical': 1, 'ceos': 1, 'february': 1, 'alone': 1, 'fiscal': 1, 'shovel': 1, 'fulfilled': 1, 'kroger': 1, 'era': 1, 'yielded': 1, 'estimated': 1, 'handful': 1, 'relieving': 1, 'dependence': 1, 'opec': 1, 'overbloated': 1, 'bureaucracy': 1, 'nasa': 1, 'exploration': 1, 'rescinding': 1, 'transgender': 1, 'bathrooms': 1, 'fallout': 1, 'ahca': 1, 'capitalize': 1, 'crash': 1, 'idiotic': 1, 'penalty': 1, 'fines': 1, 'militants': 1, 'damage': 1, 'underground': 1, 'qari': 1, 'yasin': 1, 'pakistani': 1, 'alqaeda': 1, 'vets': 1, 'httpwwwmilitarytimescomarticlestrumpvaofficeaccountabilityexecutiveorder': 1, 'oust': 1, 'incompetent': 1, 'httpsassetsdonaldjtrumpcomtrumptaxreformpdf': 1, 'concise': 1, 'effective': 1, 'inheritance': 1, 'rates': 1, 'choice': 1, 'authorities': 1, 'clinics': 1, 'prochoiceprolife': 1, 'httpsenwikipediaorgwikihydeamendment': 1, 'spikes': 1, 'nasdaq': 1, 'httpmoneycnncomdatamarketsdow': 1, 'tested': 1, 'ballistic': 1, 'missiles': 1, 'withtalked': 1, 'lasted': 1, 'believable': 1, 'egypt': 1, 'humanitarian': 1, 'aya': 1, 'hijazi': 1, 'returned': 1, 'magaing': 1, 'voat': 1, 'seriousness': 1, 'cheap': 1, 'labor': 1, 'manufacture': 1, 'overseas': 1, 'stockholders': 1, 'paragraph': 1, 'trans': 1, 'latest': 1, 'memoir': 1, 'diametrically': 1, 'opposed': 1, 'nonsecure': 1, 'blackberry': 1, 'opennet': 1, 'abroad': 1, 'assets': 1, 'briefing': 1, 'lacked': 1, 'indictment': 1, 'delivering': 1, 'acknowledging': 1, 'shitty': 1, 'contributing': 1, 'counterintuitive': 1, 'strange': 1, 'gilding': 1, 'suspects': 1, 'uninterested': 1, 'stonewalled': 1, 'inquiries': 1, 'cash': 1, 'emerged': 1, 'indicating': 1, 'communication': 1, 'intermediary': 1, 'confirmation': 1, 'joined': 1, 'graciously': 1, 'pastorum': 1, 'pertain': 1, 'megathread': 1, 'valuable': 1, 'relating': 1, 'conrad': 1, 'hospitalhttparchiveisfgwoo': 1, 'newsweek': 1, 'attempted': 1, 'himhttparchiveisewast': 1, 'endorses': 1, 'spanning': 1, 'spokesperson': 1, 'maintained': 1, 'surrounding': 1, 'risks': 1, 'commentators': 1, 'imply': 1, 'fmr': 1, 'homicide': 1, 'detective': 1, 'eye': 1, 'fud': 1, 'democratallied': 1, 'sends': 1, 'memory': 1, 'employer': 1, 'promptly': 1, 'publishes': 1, 'printing': 1, 'notify': 1, 'zerohedge': 1, 'posthumously': 1, 'ghoulish': 1, 'archivehttparchiveisecubi': 1, 'unconfirmed': 1, 'alleged': 1, 'dotcom': 1, 'entrepreneur': 1, 'near': 1, 'sethrich': 1, 'concentrated': 1, 'httpswwwdonaldjtrumpcom': 1, 'seasons': 1, 'convince': 1, 'vested': 1, 'drowned': 1, 'sea': 1, 'sensationalist': 1, 'treaty': 1, 'hegemony': 1, 'orthodoxy': 1, 'noninterventionist': 1, 'militarydefense': 1, 'contractors': 1, 'sounded': 1, 'dismal': 1, 'expanding': 1, 'lobbyist': 1, 'labeling': 1, 'advisorshttpswwwdonaldjtrumpcompressreleasesdonaldjtrumpsfivepointplanforethicsreform': 1, 'resistant': 1, 'reluctant': 1, 'lived': 1, 'downgrade': 1, 'owns': 1, 'custom': 1, 'bankers': 1, 'calculator': 1, 'hillaryhttpwwwclarkcomtaxcalculatorclintontrump': 1, 'firsthand': 1, 'atttime': 1, 'comcastnbc': 1, 'fed': 1, 'earliest': 1, 'endorsement': 1, 'nra': 1, 'perfectly': 1, 'anti': 1, 'illegalimmigration': 1, 'americanshttpswwwdonaldjtrumpcompoliciesimmigration': 1, 'costing': 1, 'yearhttpwwwfairusorgissuespublicationsstatecoststudies': 1, 'flood': 1, 'worlders': 1, 'grant': 1, 'citizenships': 1, 'pronuclear': 1, 'gained': 1, 'stranglehold': 1, 'neoprogressivism': 1, 'vogue': 1, 'wage': 1, 'gap': 1, 'promedical': 1, 'legalize': 1, 'antiglobalist': 1, 'financiers': 1, 'precedence': 1, 'profits': 1, 'inversion': 1, 'discourage': 1, 'offshoring': 1, 'understands': 1, 'regressive': 1, 'defends': 1, 'authoritarian': 1, 'proclaiming': 1, 'maternal': 1, 'stopping': 1, 'jihadis': 1, 'adversaries': 1, 'rejiggered': 1, 'cold': 1, 'bombing': 1, 'monopolies': 1, 'competitive': 1, 'bidding': 1, 'hoopla': 1, 'grab': 1, 'senior': 1, 'succeed': 1, 'incompetence': 1, 'knowingly': 1, 'antiestablishment': 1, 'danger': 1, 'crossfire': 1, 'transphobic': 1, 'buzzwords': 1, 'peer': 1, 'candidates': 1, 'pacified': 1, 'inaction': 1, 'increases': 1, 'satisfied': 1, 'direction': 1, 'gallup': 1, 'workforce': 1, 'savings': 1, 'struggle': 1, 'slipping': 1, 'indicators': 1, 'graph': 1, 'percentage': 1, 'skyrockets': 1, 'slides': 1, 'enriched': 1, 'mcaullife': 1, 'raskthedonald': 1, 'harasssment': 1, 'prosecution': 1, 'radicalized': 1, 'destruction': 1, 'property': 1, 'criminals': 1, 'erosion': 1, 'anarchists': 1, 'overthrow': 1, 'buzzfeeds': 1, 'penalizing': 1, 'offshore': 1, 'inbox': 1, 'tickets': 1, 'standup': 1, 'tour': 1, 'greeted': 1, 'geniuslevel': 1, 'piecehttpimagaimgnetimgytdpng': 1, 'amas': 1, 'oldfashioned': 1, 'younot': 1, 'adminsdecide': 1, 'httpsshopdonaldjtrumpcom': 1, 'outvirtuesignal': 1, 'professing': 1, 'reddithttpimagaimgnetimgyuipng': 1, 'alldatamatters': 1, 'admin': 1, 'practicing': 1, 'preach': 1, 'guessed': 1, 'apartheid': 1, 'eternally': 1, 'firmly': 1, 'pinnacle': 1, 'unequally': 1, 'massas': 1, 'ornery': 1, 'selfthinking': 1, 'appearing': 1, 'reprisal': 1, 'frequently': 1, 'brigades': 1, 'blatantly': 1, 'ithttpimagaimgnetimgyuqpng': 1, 'blanket': 1, 'distribution': 1, 'scripts': 1, 'advertised': 1, 'tagging': 1, 'ghetto': 1, 'tos': 1, 'dealt': 1, 'penalize': 1, 'louder': 1, 'continued': 1, 'grow': 1, 'remain': 1, 'unequal': 1, 'mlk': 1, 'thepersistence': 1, 'summary': 1, 'explored': 1, 'cinton': 1, 'purpose': 1, 'sniff': 1, 'annoyed': 1, 'duped': 1, 'complicit': 1, 'acts': 1, 'restructured': 1, 'wrongdoings': 1, 'method': 1, 'discover': 1, 'colluded': 1, 'programme': 1, 'energyrelated': 1, 'acronyms': 1, 'corp': 1, 'players': 1, 'besides': 1, 'retained': 1, 'advisor': 1, 'httpsenwikipediaorgwikidougband': 1, 'rewarded': 1, 'envoy': 1, 'blogs': 1, 'enterprise': 1, 'economical': 1, 'httpsenwikipediaorgwikideclankellybusinessperson': 1, 'nongovernment': 1, 'dismissed': 1, 'serves': 1, 'httpsenwikipediaorgwikiiramagaziner': 1, 'arrangement': 1, 'impeachment': 1, 'tenure': 1, 'httpsenwikipediaorgwikicherylmills': 1, 'aspis': 1, 'inquiry': 1, 'misplaced': 1, 'simpson': 1, 'thacher': 1, 'bartlett': 1, 'audited': 1, 'conflictsofinterest': 1, 'described': 1, 'counsel': 1, 'spearheaded': 1, 'instituting': 1, 'subsidized': 1, 'institutes': 1, 'cocacola': 1, 'chemical': 1, 'aif': 1, 'allstate': 1, 'barclays': 1, 'indo': 1, 'gems': 1, 'rockefeller': 1, 'laureate': 1, 'diamond': 1, 'firebird': 1, 'mutual': 1, 'frank': 1, 'stronach': 1, 'mylan': 1, 'attempting': 1, 'proposed': 1, 'lease': 1, 'obligation': 1, 'landlord': 1, 'personnel': 1, 'harlem': 1, 'gsa': 1, 'squarefeet': 1, 'option': 1, 'landlords': 1, 'operations': 1, 'envision': 1, 'auditors': 1, 'recommending': 1, 'shouldnot': 1, 'operate': 1, 'sublease': 1, 'advantages': 1, 'obvious': 1, 'continuity': 1, 'conflictofinterest': 1, 'applicable': 1, 'directors': 1, 'longstanding': 1, 'supervisor': 1, 'sole': 1, 'discretion': 1, 'consultation': 1, 'compliance': 1, 'norm': 1, 'pathways': 1, 'situations': 1, 'proper': 1, 'timely': 1, 'provisions': 1, 'arise': 1, 'adopt': 1, 'acceptance': 1, 'proposes': 1, 'drafted': 1, 'outlines': 1, 'compensates': 1, 'scope': 1, 'mission': 1, 'billed': 1, 'reminded': 1, 'multi': 1, 'switch': 1, 'formalize': 1, 'perception': 1, 'smelled': 1, 'fishy': 1, 'collecting': 1, 'per': 1, 'brokerage': 1, 'careened': 1, 'halloween': 1, 'filing': 1, 'chapter': 1, 'improve': 1, 'enhance': 1, 'withheld': 1, 'feared': 1, 'retribution': 1, 'borrowing': 1, 'reeks': 1, 'httpsenwikipediaorgwikimfglobal': 1, 'eg': 1, 'liveris': 1, 'inelegantly': 1, 'ineffectually': 1, 'precipitating': 1, 'comparisons': 1, 'blairs': 1, 'motivations': 1, 'outline': 1, 'scheduler': 1, 'physically': 1, 'sawcaught': 1, 'bberry': 1, 'loading': 1, 'spyware': 1, 'loaded': 1, 'baris': 1, 'marc': 1, 'absurdity': 1, 'anecdote': 1, 'offline': 1, 'ways': 1, 'oscar': 1, 'reads': 1, 'receiving': 1, 'memberships': 1, 'hustling': 1, 'davidson': 1, 'town': 1, 'hannah': 1, 'downplay': 1, 'collude': 1, 'solve': 1, 'interact': 1, 'victoria': 1, 'privilege': 1, 'recommended': 1, 'speculation': 1, 'exchanges': 1, 'complaining': 1, 'external': 1, 'employersinfluence': 1, 'advisors': 1, 'connectivity': 1, 'bob': 1, 'harrison': 1, 'decisions': 1, 'engagementrole': 1, 'valerie': 1, 'boards': 1, 'nexus': 1, 'conflict': 1, 'designs': 1, 'bags': 1, 'timeand': 1, 'expensive': 1, 'gifts': 1, 'offense': 1, 'crutch': 1, 'regret': 1, 'dj': 1, 'khaled': 1, 'worry': 1, 'dk': 1, 'wives': 1, 'husbands': 1, 'depend': 1, 'bhp': 1, 'advice': 1, 'comm': 1, 'dep': 1, 'bloomberg': 1, 'stanley': 1, 'asia': 1, 'latin': 1, 'hurt': 1, 'adv': 1, 'bd': 1, 'reorg': 1, 'privately': 1, 'chatter': 1, 'perfecting': 1, 'skills': 1, 'understatement': 1, 'feeling': 1, 'blank': 1, 'programs': 1, 'facilitate': 1, 'installation': 1, 'systems': 1, 'drawn': 1, 'approached': 1, 'jointly': 1, 'developing': 1, 'highrenewable': 1, 'pilot': 1, 'figure': 1, 'select': 1, 'caribbean': 1, 'bankifc': 1, 'notice': 1, 'brief': 1, 'driven': 1, 'manage': 1, 'grenada': 1, 'maldives': 1, 'samoa': 1, 'earlystage': 1, 'walking': 1, 'utility': 1, 'financing': 1, 'rfp': 1, 'technical': 1, 'perspective': 1, 'resource': 1, 'assessment': 1, 'modelling': 1, 'integration': 1, 'flagship': 1, 'devote': 1, 'engineering': 1, 'ecomagination': 1, 'labs': 1, 'ability': 1, 'floating': 1, 'apec': 1, 'midnovember': 1, 'representatives': 1, 'present': 1, 'indicated': 1, 'copenhagen': 1, 'approach': 1, 'challenging': 1, 'sector': 1, 'vestas': 1, 'innovative': 1, 'islandwide': 1, 'wind': 1, 'hydro': 1, 'financed': 1, 'quotes': 1, 'insinuated': 1, 'nine': 1, 'lottery': 1, 'aflciopension': 1, 'retrofit': 1, 'dig': 1, 'longterm': 1, 'develop': 1, 'sustainable': 1, 'payback': 1, 'sustain': 1, 'participation': 1, 'associated': 1, 'partnerships': 1, 'outset': 1, 'considerable': 1, 'nefarious': 1, 'begun': 1, 'closely': 1, 'natl': 1, 'background': 1, 'infrastructure': 1, 'furthermore': 1, 'interestingly': 1, 'gujurat': 1, 'asian': 1, 'partnering': 1, 'keenly': 1, 'diesel': 1, 'industrial': 1, 'acknowledge': 1, 'reactions': 1, 'whiff': 1, 'foul': 1, 'sensitive': 1, 'listing': 1, 'accomplishment': 1, 'grants': 1, 'hivaids': 1, 'healthy': 1, 'chais': 1, 'deflect': 1, 'robby': 1, 'mook': 1, 'angst': 1, 'convo': 1, 'beefing': 1, 'accomplishments': 1, 'thin': 1, 'anxious': 1, 'tabs': 1, 'implicate': 1, 'braverman': 1, 'virtually': 1, 'supportedfunded': 1, 'disbursements': 1, 'tweetemailpost': 1, 'pdf': 1, 'kneebending': 1, 'conditioner': 1, 'manufacturer': 1, 'httprsbntvwatchpresidentelectdonaldtrumpholdsrallyincincinnatioh': 1, 'uzbuster': 1, 'adminshttpslimgeaefdp': 1, 'enforced': 1, 'moderator': 1, 'messaged': 1, 'nonmoderator': 1, 'harshly': 1, 'confront': 1, 'checked': 1, 'traditional': 1, 'popularity': 1, 'untouched': 1, 'countered': 1, 'enormous': 1, 'manipulating': 1, 'handle': 1, 'bogged': 1, 'megyn': 1, 'hahahahahaaha': 1, 'newshttpwwwlivenewsoncomamericanfoxnewschannelfnchtml': 1, 'oanhttpwwwstreamgaroocomlivetelevisionunitedstatesoanlivestream': 1, 'maps': 1, 'maphttpwwwnytimescomelectionsresultspresident': 1, 'strongest': 1, 'targeting': 1, 'civilians': 1, 'abhorrent': 1, 'cowardly': 1, 'instilling': 1, 'supremacy': 1, 'foxs': 1, 'bureau': 1, 'logging': 1, 'sitewide': 1, 'cool': 1, 'jeopardy': 1, 'apples': 1, 'genuinely': 1, 'nicest': 1, 'series': 1, 'atlanta': 1, 'headquarters': 1, 'cnnleakscom': 1, 'portions': 1, 'helpful': 1, 'partners': 1, 'dots': 1, 'targets': 1, 'hhes': 1, 'draining': 1, 'drumpfkins': 1, 'bruh': 1, 'walltowall': 1, 'delegitimatize': 1, 'gtfo': 1, 'alright': 1, 'worded': 1, 'itd': 1, 'reformist': 1, 'endured': 1, 'unfathomable': 1, 'sneers': 1, 'smears': 1, 'washingtons': 1, 'dwellers': 1, 'hordes': 1, 'glorified': 1, 'bloggers': 1, 'wounded': 1, 'bodies': 1, 'maimed': 1, 'mangled': 1, 'middleaged': 1, 'affiliations': 1, 'shitlib': 1, 'leadership': 1, 'legitimizing': 1, 'equate': 1, 'hitler': 1, 'accuse': 1, 'accusing': 1, 'treason': 1, 'execution': 1, 'leftists': 1, 'inspiring': 1, 'escalating': 1, 'crybully': 1, 'abundantly': 1, 'alphas': 1, 'shitposters': 1, 'alpha': 1, 'exceptions': 1, 'alphapede': 1, 'spew': 1, 'alter': 1, 'slandering': 1, 'arrive': 1, 'closes': 1, 'tiny': 1, 'bobama': 1, 'humble': 1, 'announce': 1, 'purty': 1, 'scribd': 1, 'imgur': 1, 'albumhttpsimgurcomajbcxw': 1, 'reacts': 1, 'washex': 1, 'disputed': 1, 'origins': 1, 'caller': 1, 'sought': 1, 'campaignhttpswwwhannitycommediaroomthesmokinggunmemoshowsrussiadossierusedtosurveiltrumpcampaign': 1, 'streams': 1, 'rsbnhttpswwwyoutubecomwatchvuxzyazvlew': 1, 'recognized': 1, 'endorsed': 1, 'occurring': 1, 'fatal': 1, 'error': 1, 'mayors': 1, 'chiefs': 1, 'encouraged': 1, 'announcing': 1, 'lace': 1, 'gen': 1, 'pop': 1, 'sorosorgs': 1, 'mainip': 1, 'usengage': 1, 'hashtag': 1, 'makehimfamous': 1, 'umeloprime': 1, 'seconded': 1, 'commence': 1, 'udogsnameischarlie': 1, 'ustereoblind': 1, 'useless': 1, 'uunclepravada': 1, 'uswansonbreakfast': 1, 'httpwwwdiscoverthenetworksorg': 1, 'oranizations': 1, 'killings': 1, 'deeeeep': 1, 'lid': 1, 'peedes': 1, 'subbing': 1, 'httphumanglobalincidentmapcom': 1, 'volta': 1, 'lake': 1, 'httparchiveisozkls': 1, 'realized': 1, 'native': 1, 'approvalis': 1, 'opposite': 1, 'veto': 1, 'academy': 1, 'hence': 1, 'grasp': 1, 'weird': 1, 'introducing': 1, 'attributes': 1, 'sk': 1, 'unreliable': 1, 'anglosphere': 1, 'globaldiplomatic': 1, 'peninsulas': 1, 'experts': 1, 'northsouth': 1, 'affairsexcept': 1, 'east': 1, 'relationproblems': 1, 'socalled': 1, 'usbbc': 1, 'depicted': 1, 'maniac': 1, 'psychopath': 1, 'immoral': 1, 'demonized': 1, 'reckless': 1, 'bombards': 1, 'economicsocialcultural': 1, 'ignoredmaybe': 1, 'skepticism': 1, 'witnessing': 1, 'campaigns': 1, 'analyze': 1, 'explained': 1, 'fury': 1, 'felt': 1, 'habit': 1, 'demonizing': 1, 'expresident': 1, '박근혜park': 1, 'geunhye': 1, 'felonies': 1, 'engagement': 1, 'staterun': 1, 'watchdog': 1, 'truthseeking': 1, 'nowadays': 1, 'functioned': 1, 'realizing': 1, 'intrinsically': 1, 'maneuvering': 1, 'distortion': 1, 'vocation': 1, 'strife': 1, 'democratization': 1, 'despised': 1, '기레기': 1, '쓰레기trash': 1, 'evaluate': 1, 'ally': 1, 'heshe': 1, 'virtual': 1, 'reputationimage': 1, 'plotted': 1, 'individuals': 1, 'appreciations': 1, 'typical': 1, 'contemporarily': 1, '트력제트': 1, '트럼프trump': 1, '력제': 1, '만력제萬曆帝': 1, 'medieval': 1, 'ming': 1, 'invasion': 1, '조선joseon': 1, 'preceding': 1, 'republic': 1, 'sacred': 1, 'miraculously': 1, 'regiments': 1, 'payed': 1, 'treasures': 1, 'purchase': 1, 'foodssupplies': 1, 'heroic': 1, 'victories': 1, '이순신yi': 1, 'sunsin': 1, 'samurais': 1, 'shrine': 1, 'worshipping': 1, 'kings': 1, 'nobles': 1, 'enthusiastic': 1, 'hilarious': 1, 'ministerssecretary': 1, 'lawmakerscongressmen': 1, 'ruling': 1, 'consensus': 1, 'guarantee': 1, 'solved': 1, 'empirical': 1, 'peacehuman': 1, 'awarded': 1, 'powers': 1, 'dealing': 1, 'justifieddecorated': 1, 'attitude': 1, 'endurance': 1, 'proofs': 1, 'ranked': 1, 'randomly': 1, '오바마obama': 1, 'keyword': 1, 'withdraw': 1, 'communized': 1, 'controversial': 1, 'lecture': 1, 'unification': 1, 'unchanged': 1, 'anger': 1, 'wordings': 1, 'henry': 1, 'kissinger': 1, 'bark': 1, 'phenomenon': 1, 'achievements': 1, 'humanity': 1, 'verge': 1, 'bombshell': 1, 'dojfbihuma': 1, 'fbidojhuma': 1, 'assigns': 1, 'separately': 1, 'contains': 1, 'unreleased': 1, 'importance': 1, 'unilaterally': 1, 'weiners': 1, 'haz': 1, 'mat': 1, 'suits': 1, 'savehuma': 1, 'senator': 1, 'wydenhttpsenwikipediaorgwikironwyden': 1, 'apr': 1, 'readout': 1, 'describes': 1, 'gang': 1, 'postpone': 1, 'calculation': 1, 'referendum': 1, 'secrecy': 1, 'largely': 1, 'operating': 1, 'stacked': 1, 'forms': 1, 'legislative': 1, 'affairs': 1, 'schake': 1, 'letters': 1, 'solicits': 1, 'monetary': 1, 'reception': 1, 'megan': 1, 'rouse': 1, 'dublin': 1, 'candidacy': 1, 'modest': 1, 'guest': 1, 'informing': 1, 'ups': 1, 'markey': 1, 'chartertime': 1, 'anticipate': 1, 'loop': 1, 'mole': 1, 'transmit': 1, 'associates': 1, 'specializes': 1, 'advocacy': 1, 'partner': 1, 'containing': 1, 'panicked': 1, 'aug': 1, 'topic': 1, 'ap': 1, 'steered': 1, 'ferocious': 1, 'unyielding': 1, 'steer': 1, 'misinformed': 1, 'terrabyte': 1, 'presumed': 1, 'stolen': 1, 'searchable': 1, 'suboptimal': 1, 'mistaking': 1, 'meaning': 1, 'representation': 1, 'slew': 1, 'intersting': 1, 'avoiding': 1, 'testifying': 1, 'pally': 1, 'associate': 1, 'touch': 1, 'jd': 1, 'interim': 1, 'clintonhaiti': 1, 'joel': 1, 'benenson': 1, 'somalians': 1, 'assaults': 1, 'vaginal': 1, 'penetration': 1, 'discovery': 1, 'ubananawhom': 1, 'expanded': 1, 'kristin': 1, 'bennett': 1, 'murphy': 1, 'nfc': 1, 'poking': 1, 'aroundupdating': 1, 'daniel': 1, 'parrish': 1, 'lindsay': 1, 'rachelefsky': 1, 'owes': 1, 'retroactively': 1, 'frees': 1, 'depending': 1, 'tens': 1, 'ex': 1, 'chairwoman': 1, 'schultzs': 1, 'excel': 1, 'file': 1, 'tab': 1, 'columns': 1, 'covers': 1, 'assume': 1, 'rnc': 1, 'distribute': 1, 'hosts': 1, 'unnamed': 1, 'ken': 1, 'lerer': 1, 'huffpo': 1, 'ostensibly': 1, 'contributor': 1, 'specialty': 1, 'marked': 1, 'transfer': 1, 'committees': 1, 'hfv': 1, 'speed': 1, 'erase': 1, 'mile': 1, 'bit': 1, 'periods': 1, 'datahygiene': 1, 'ngp': 1, 'delete': 1, 'transaction': 1, 'typos': 1, 'keen': 1, 'patrick': 1, 'hallahan': 1, 'buys': 1, 'sells': 1, 'bonds': 1, 'commodities': 1, 'automation': 1, 'useful': 1, 'toss': 1, 'kaplan': 1, 'affiliated': 1, 'types': 1, 'additional': 1, 'prepare': 1, 'eventual': 1, 'september': 1, 'spot': 1, 'departments': 1, 'resigned': 1, 'citing': 1, 'unexpected': 1, 'excessive': 1, 'volatility': 1, 'markets': 1, 'speculated': 1, 'quidproquo': 1, 'expertise': 1, 'relation': 1, 'revisited': 1, 'terms': 1, 'experience': 1, 'charter': 1, 'demographic': 1, 'diversity': 1, 'variety': 1, 'scientific': 1, 'boese': 1, 'gg': 1, 'dwsforprison': 1, 'tldr': 1, 'discussed': 1, 'gods': 1, 'formatting': 1, 'grammar': 1, 'sentences': 1, 'climbing': 1, 'rustled': 1, 'jimmies': 1, 'supress': 1, 'crosspost': 1, 'rhillaryforprison': 1, 'convinced': 1, 'autofill': 1, 'shout': 1, 'philip': 1, 'defranco': 1, 'regretted': 1, 'antidiversity': 1, 'screed': 1, 'prompted': 1, 'pmd': 1, 'remembering': 1, 'badge': 1, 'damore': 1, 'nonetheless': 1, 'repercussions': 1, 'untouchable': 1, 'lucky': 1, 'afar': 1, 'gangster': 1, 'unleash': 1, 'rational': 1, 'calm': 1, 'wellthought': 1, 'discriminating': 1, 'wrongthink': 1, 'litup': 1, 'flamed': 1, 'advancing': 1, 'engage': 1, 'scary': 1, 'mythical': 1, 'magical': 1, 'wrongthinking': 1, 'conservatives': 1, 'unicorns': 1, 'silicon': 1, 'valley': 1, 'itwhere': 1, 'amongst': 1, 'ended': 1, 'agreeing': 1, 'inpart': 1, 'infull': 1, 'grimace': 1, 'blend': 1, 'shamed': 1, 'eviscerated': 1, 'empathy': 1, 'martyrs': 1, 'invested': 1, 'appreciate': 1, 'hahahhahahhahaha': 1, 'los': 1, 'angeles': 1, 'fetid': 1, 'horrors': 1, 'resisting': 1, 'cert': 1, 'rubbing': 1, 'glee': 1, 'dental': 1, 'lone': 1, 'solitary': 1, 'plug': 1, 'overweight': 1, 'lesbian': 1, 'dumb': 1, 'bricks': 1, 'mohammed': 1, 'restroom': 1, 'vaginally': 1, 'sentenced': 1, 'translate': 1, 'tider': 1, 'impressively': 1, 'translation': 1, 'aftonbladet': 1, 'tabloid': 1, 'consdered': 1, 'rundown': 1, 'normal': 1, 'normally': 1, 'math': 1, 'outrage': 1, 'escapes': 1, 'reduce': 1, 'uncertain': 1, 'dates': 1, 'dangerous': 1, 'eek': 1, 'baba': 1, 'durkle': 1, 'justifies': 1, 'oblivion': 1, 'op': 1, 'genuine': 1, 'radio': 1, 'institution': 1, 'avoided': 1, 'articlehttpwwwinfowarscommuslimmigrantanallyrapesteenagergetsonlytwomonthsjail': 1, 'motorcycle': 1, 'spraypainted': 1, 'lover': 1, 'hoaxed': 1, 'infamous': 1, 'burneddown': 1, 'philly': 1, 'httpwwwphillycomphillyblogsrealtimesjerseymanarrestedinpostelectionvandalisminsouthphillyhtmlmobitrue': 1, 'fabricating': 1, 'nyc': 1, 'subway': 1, 'arbor': 1, 'tale': 1, 'httpwwwclickondetroitcomnewsannarborpolicewomansstoryaboutbeingforcetoremovehijabdidnotoccur': 1, 'louisiana': 1, 'lafayette': 1, 'hats': 1, 'knocked': 1, 'headscarf': 1, 'swastikas': 1, 'nassau': 1, 'httppatchcomnewyorkgardencitymanwhodrewswastikasacrossnassaucommunitycollegearrestedpolice': 1, 'bowling': 1, 'falsely': 1, 'racial': 1, 'magagear': 1, 'bgsu': 1, 'slur': 1, 'malden': 1, 'lynching': 1, 'chased': 1, 'hung': 1, 'sf': 1, 'incidentally': 1, 'neighbors': 1, 'courageous': 1, 'throatpunching': 1, 'raciststomping': 1, 'fash': 1, 'inexplicably': 1, 'handcuffed': 1, 'incident': 1, 'williams': 1, 'students': 1, 'dumped': 1, 'effects': 1, 'bisexual': 1, 'latinos': 1, 'hasta': 1, 'vista': 1, 'satirical': 1, 'commentary': 1, 'wellesley': 1, 'cleared': 1, 'determined': 1, 'station': 1, 'accusation': 1, 'httpwwwphillyvoicecompolicenoofficialreportuglyracialincidentdelgasstation': 1, 'pittsburg': 1, 'hang': 1, 'tree': 1, 'mistreatment': 1, 'probate': 1, 'constitutes': 1, 'catchall': 1, 'flags': 1, 'misattribution': 1, 'satire': 1, 'incidents': 1, 'politicallymotivated': 1, 'electionyear': 1, 'paste': 1, 'psychological': 1, 'impact': 1, 'impressive': 1, 'length': 1, 'harder': 1, 'markdown': 1, 'ease': 1, 'reddithttpspasteeepwpziu': 1, 'mobile': 1, 'copypaste': 1, 'fleshed': 1, 'uevilhillary': 1, 'transformed': 1, 'wellorganized': 1, 'videohttpswwwyoutubecomwatchvgokdgkmbvmg': 1, 'wellwritten': 1, 'blackpilled': 1, 'udalisu': 1, 'featured': 1, 'gateway': 1, 'accompanying': 1, 'excited': 1, 'isishere': 1, 'preface': 1, 'altright': 1, 'lurked': 1, 'revelation': 1, 'msms': 1, 'myriad': 1, 'accusations': 1, 'flung': 1, 'unfairly': 1, 'violations': 1, 'unfortunate': 1, 'manning': 1, 'quarantines': 1, 'misconception': 1, 'farthest': 1, 'mentioning': 1, 'describing': 1, 'talker': 1, 'remembe': 1, 'medias': 1, 'watched': 1, 'spin': 1, 'type': 1, 'exact': 1, 'obviously': 1, 'physical': 1, 'mental': 1, 'mocks': 1, 'hadnt': 1, 'crossed': 1, 'ultimately': 1, 'commen': 1, 'developments': 1, 'camps': 1, 'sharebluebrock': 1, 'interventionmoney': 1, 'httparchiveisitpsi': 1, 'httparchiveistvtim': 1, 'httparchiveiszobqp': 1, 'httparchiveisqblll': 1, 'httparchiveishoqno': 1, 'wwwfacebookcomdonaldtrump': 1, 'streaming': 1, 'pre': 1, 'bigleaguetruth': 1, 'wwwdonaldjtrumpcomthedonald': 1, 'directing': 1, 'interviewing': 1, 'tues': 1, 'cancelled': 1, 'ct': 1, 'tj': 1, 'connects': 1, 'brady': 1, 'everytown': 1, 'upcoming': 1, 'byokeefe': 1, 'waterbury': 1, 'birddogging': 1, 'upside': 1, 'eliminating': 1, 'doe': 1, 'ave': 1, 'remark': 1, 'pls': 1, 'author': 1, 'topicalinteresting': 1, 'fiorina': 1, 'primaries': 1, 'juarez': 1, 'hillaryclintoncom': 1, 'messaging': 1, 'app': 1, 'teams': 1, 'teamwork': 1, 'simpler': 1, 'pleasant': 1, 'productive': 1, 'obscure': 1, 'rand': 1, 'advisers': 1, 'exploit': 1, 'simes': 1, 'prorussia': 1, 'putinweak': 1, 'context': 1, 'hrtsleeve': 1, 'ordering': 1, 'yom': 1, 'hashoah': 1, 'curiously': 1, 'moniker': 1, 'banfill': 1, 'traps': 1, 'pushback': 1, 'jewish': 1, 'holidays': 1, 'optional': 1, 'remembrance': 1, 'darfur': 1, 'bosnia': 1, 'constituency': 1, 'holiday': 1, 'memorial': 1, 'spewed': 1, 'insisting': 1, 'enlightening': 1, 'assemble': 1, 'backwards': 1, 'nearing': 1, 'homepage': 1, 'ah': 1, 'frisco': 1, 'tx': 1, 'janitorial': 1, 'remembered': 1, 'focuses': 1, 'enrolling': 1, 'janitors': 1, 'seiusoros': 1, 'httpwwwconservapediacomserviceemployeesinternationalunion': 1, 'faggots': 1, 'invading': 1, 'ets': 1, 'wfaa': 1, 'tonights': 1, 'dvr': 1, 'replay': 1, 'dominique': 1, 'alexander': 1, 'httpmimgurcomqfjgdgj': 1, 'disturbing': 1, 'unsettling': 1, 'eyeopening': 1, 'affects': 1, 'recap': 1, 'operates': 1, 'shaken': 1, 'confidence': 1, 'scenes': 1, 'zuckerburg': 1, 'vent': 1, 'egregious': 1, 'unprofessional': 1, 'suspicions': 1, 'mod': 1, 'default': 1, 'liked': 1, 'influential': 1, 'circulate': 1, 'whistleblower': 1, 'proceeded': 1, 'rsports': 1, 'peopleevents': 1, 'readily': 1, 'accessible': 1, 'irrevocably': 1, 'damaged': 1, 'trust': 1, 'paltry': 1, 'prominent': 1, 'cnethttpswwwcnetcomnewsredditceoadmitstoeditingusercommentsamidpizzagatemalarkey': 1, 'tech': 1, 'digital': 1, 'trendshttpwwwdigitaltrendscomsocialmediareddithuffmanapology': 1, 'wiredhttpwwwwiredcoukarticleredditeditpost': 1, 'exploiting': 1, 'satisfy': 1, 'clique': 1, 'unite': 1, 'particular': 1, 'scored': 1, 'stumbled': 1, 'panic': 1, 'hammerlock': 1, 'progressivism': 1, 'enlightenment': 1, 'modern': 1, 'primetime': 1, 'griffith': 1, 'reinforcing': 1, 'lessons': 1, 'inclusion': 1, 'antiracism': 1, 'scifi': 1, 'heroine': 1, 'evil': 1, 'satisfying': 1, 'wayne': 1, 'westerns': 1, 'controls': 1, 'churchgoer': 1, 'preachers': 1, 'quiet': 1, 'grandma': 1, 'reinforced': 1, 'dopamine': 1, 'angels': 1, 'whispering': 1, 'award': 1, 'talent': 1, 'skits': 1, 'jokes': 1, 'conservativism': 1, 'appeal': 1, 'morality': 1, 'sometimes': 1, 'appeals': 1, 'hollow': 1, 'planes': 1, 'buildings': 1, 'mattered': 1, 'medicare': 1, 'faithful': 1, 'contract': 1, 'theyve': 1, 'christian': 1, 'cliches': 1, 'rejection': 1, 'explicitly': 1, 'defying': 1, 'indoctrination': 1, 'warnings': 1, 'trained': 1, 'obey': 1, 'flyover': 1, 'younger': 1, 'grown': 1, 'questioned': 1, 'anonymously': 1, 'bolder': 1, 'crude': 1, 'dirty': 1, 'taught': 1, 'oldschool': 1, 'wicked': 1, 'laughed': 1, 'classrooms': 1, 'administrator': 1, 'desks': 1, 'eight': 1, 'adult': 1, 'swim': 1, 'prototype': 1, 'magazine': 1, 'filters': 1, 'inquisitors': 1, 'fluttering': 1, 'housewives': 1, 'resolutions': 1, 'platitudes': 1, 'turf': 1, 'pope': 1, 'progressive': 1, 'shifts': 1, 'christians': 1, 'dominant': 1, 'souls': 1, 'churches': 1, 'levalloisperret': 1, 'seineetmarne': 1, 'pizzeria': 1, 'barcelona': 1, 'vehicle': 1, 'champsélysées': 1, 'ramming': 1, 'attackhttpsguardianngnewsworldcarploughsintopolicevaninparischampselyseesattack': 1, 'finsbury': 1, 'circulated': 1, 'casualtiesinjuries': 1, 'stockholm': 1, 'åkerlund': 1, 'scrubbed': 1, 'outlet': 1, 'region': 1, 'boil': 1, 'westminster': 1, 'jerusalem': 1, 'december': 1, 'bastille': 1, 'extent': 1, 'caring': 1, 'avatar': 1, 'prayforinsertcity': 1, 'unbiased': 1, 'objectivity': 1, 'bastion': 1, 'rail': 1, 'dishonor': 1, 'loathe': 1, 'oppose': 1, 'embodying': 1, 'onesidedness': 1, 'cheer': 1, 'beg': 1, 'plays': 1, 'spreading': 1, 'smug': 1, 'frog': 1, 'napoleon': 1, 'drawing': 1, 'truest': 1, 'fairly': 1, 'portraits': 1, 'thinkers': 1, 'fits': 1, 'demographics': 1, 'somewhat': 1, 'similarities': 1, 'ideologies': 1, 'warring': 1, 'factions': 1, 'hivemind': 1, 'expresses': 1, 'dynamics': 1, 'compartmentalized': 1, 'desperate': 1, 'purported': 1, 'opposition': 1, 'pissing': 1, 'wander': 1, 'commonly': 1, 'realities': 1, 'cuckold': 1, 'alienated': 1, 'encouraging': 1, 'easily': 1, 'ousting': 1, 'dares': 1, 'pissed': 1, 'forcedculture': 1, 'alien': 1, 'deeper': 1, 'defaults': 1, 'sided': 1, 'goddamn': 1, 'berniebot': 1, 'trumpthemed': 1, 'throwaway': 1, 'harsh': 1, 'passionately': 1, 'carrying': 1, 'scapegoating': 1, 'dylanw': 1, 'understanding': 1, 'critical': 1, 'dealings': 1, 'compilation': 1, 'peoples': 1, 'heading': 1, 'helpinvestigate': 1, 'youll': 1, 'httpimgurcomakneuc': 1, 'hint': 1, 'dark': 1, 'unsure': 1, 'monicas': 1, 'httpimgurcomayzkqt': 1})\n"
     ]
    }
   ],
   "source": [
    "# create a dictionary to study vocabulary\n",
    "\n",
    "vocab_list = []\n",
    "\n",
    "for sentence in docs:\n",
    "    \n",
    "    for word in sentence:\n",
    "        \n",
    "        vocab_list.append(word)\n",
    "\n",
    "counts = Counter(vocab_list)\n",
    "\n",
    "print(counts)"
   ]
  },
  {
   "cell_type": "code",
   "execution_count": 311,
   "metadata": {},
   "outputs": [
    {
     "data": {
      "text/html": [
       "<div>\n",
       "<style scoped>\n",
       "    .dataframe tbody tr th:only-of-type {\n",
       "        vertical-align: middle;\n",
       "    }\n",
       "\n",
       "    .dataframe tbody tr th {\n",
       "        vertical-align: top;\n",
       "    }\n",
       "\n",
       "    .dataframe thead th {\n",
       "        text-align: right;\n",
       "    }\n",
       "</style>\n",
       "<table border=\"1\" class=\"dataframe\">\n",
       "  <thead>\n",
       "    <tr style=\"text-align: right;\">\n",
       "      <th></th>\n",
       "      <th>0</th>\n",
       "    </tr>\n",
       "  </thead>\n",
       "  <tbody>\n",
       "    <tr>\n",
       "      <th>donald</th>\n",
       "      <td>78</td>\n",
       "    </tr>\n",
       "    <tr>\n",
       "      <th>trump</th>\n",
       "      <td>342</td>\n",
       "    </tr>\n",
       "    <tr>\n",
       "      <th>declared</th>\n",
       "      <td>4</td>\n",
       "    </tr>\n",
       "    <tr>\n",
       "      <th>winner</th>\n",
       "      <td>5</td>\n",
       "    </tr>\n",
       "    <tr>\n",
       "      <th>im</th>\n",
       "      <td>47</td>\n",
       "    </tr>\n",
       "    <tr>\n",
       "      <th>next</th>\n",
       "      <td>18</td>\n",
       "    </tr>\n",
       "    <tr>\n",
       "      <th>president</th>\n",
       "      <td>123</td>\n",
       "    </tr>\n",
       "    <tr>\n",
       "      <th>united</th>\n",
       "      <td>17</td>\n",
       "    </tr>\n",
       "    <tr>\n",
       "      <th>states</th>\n",
       "      <td>23</td>\n",
       "    </tr>\n",
       "    <tr>\n",
       "      <th>new</th>\n",
       "      <td>59</td>\n",
       "    </tr>\n",
       "    <tr>\n",
       "      <th>algorithm</th>\n",
       "      <td>9</td>\n",
       "    </tr>\n",
       "    <tr>\n",
       "      <th>designed</th>\n",
       "      <td>6</td>\n",
       "    </tr>\n",
       "    <tr>\n",
       "      <th>keep</th>\n",
       "      <td>31</td>\n",
       "    </tr>\n",
       "    <tr>\n",
       "      <th>front</th>\n",
       "      <td>28</td>\n",
       "    </tr>\n",
       "    <tr>\n",
       "      <th>page</th>\n",
       "      <td>30</td>\n",
       "    </tr>\n",
       "    <tr>\n",
       "      <th>sadly</th>\n",
       "      <td>4</td>\n",
       "    </tr>\n",
       "    <tr>\n",
       "      <th>wont</th>\n",
       "      <td>14</td>\n",
       "    </tr>\n",
       "    <tr>\n",
       "      <th>happen</th>\n",
       "      <td>6</td>\n",
       "    </tr>\n",
       "    <tr>\n",
       "      <th>cnn</th>\n",
       "      <td>48</td>\n",
       "    </tr>\n",
       "    <tr>\n",
       "      <th>soon</th>\n",
       "      <td>8</td>\n",
       "    </tr>\n",
       "    <tr>\n",
       "      <th>searching</th>\n",
       "      <td>1</td>\n",
       "    </tr>\n",
       "    <tr>\n",
       "      <th>term</th>\n",
       "      <td>8</td>\n",
       "    </tr>\n",
       "    <tr>\n",
       "      <th>fake</th>\n",
       "      <td>32</td>\n",
       "    </tr>\n",
       "    <tr>\n",
       "      <th>news</th>\n",
       "      <td>57</td>\n",
       "    </tr>\n",
       "    <tr>\n",
       "      <th>congratulations</th>\n",
       "      <td>3</td>\n",
       "    </tr>\n",
       "    <tr>\n",
       "      <th>major</th>\n",
       "      <td>11</td>\n",
       "    </tr>\n",
       "    <tr>\n",
       "      <th>achievement</th>\n",
       "      <td>1</td>\n",
       "    </tr>\n",
       "    <tr>\n",
       "      <th>celebrities</th>\n",
       "      <td>2</td>\n",
       "    </tr>\n",
       "    <tr>\n",
       "      <th>vowed</th>\n",
       "      <td>2</td>\n",
       "    </tr>\n",
       "    <tr>\n",
       "      <th>leave</th>\n",
       "      <td>15</td>\n",
       "    </tr>\n",
       "    <tr>\n",
       "      <th>...</th>\n",
       "      <td>...</td>\n",
       "    </tr>\n",
       "    <tr>\n",
       "      <th>sided</th>\n",
       "      <td>1</td>\n",
       "    </tr>\n",
       "    <tr>\n",
       "      <th>goddamn</th>\n",
       "      <td>1</td>\n",
       "    </tr>\n",
       "    <tr>\n",
       "      <th>berniebot</th>\n",
       "      <td>1</td>\n",
       "    </tr>\n",
       "    <tr>\n",
       "      <th>trumpthemed</th>\n",
       "      <td>1</td>\n",
       "    </tr>\n",
       "    <tr>\n",
       "      <th>throwaway</th>\n",
       "      <td>1</td>\n",
       "    </tr>\n",
       "    <tr>\n",
       "      <th>harsh</th>\n",
       "      <td>1</td>\n",
       "    </tr>\n",
       "    <tr>\n",
       "      <th>passionately</th>\n",
       "      <td>1</td>\n",
       "    </tr>\n",
       "    <tr>\n",
       "      <th>carrying</th>\n",
       "      <td>1</td>\n",
       "    </tr>\n",
       "    <tr>\n",
       "      <th>scapegoating</th>\n",
       "      <td>1</td>\n",
       "    </tr>\n",
       "    <tr>\n",
       "      <th>dylanw</th>\n",
       "      <td>1</td>\n",
       "    </tr>\n",
       "    <tr>\n",
       "      <th>monica</th>\n",
       "      <td>13</td>\n",
       "    </tr>\n",
       "    <tr>\n",
       "      <th>petersen</th>\n",
       "      <td>3</td>\n",
       "    </tr>\n",
       "    <tr>\n",
       "      <th>answers</th>\n",
       "      <td>2</td>\n",
       "    </tr>\n",
       "    <tr>\n",
       "      <th>fb</th>\n",
       "      <td>4</td>\n",
       "    </tr>\n",
       "    <tr>\n",
       "      <th>understanding</th>\n",
       "      <td>1</td>\n",
       "    </tr>\n",
       "    <tr>\n",
       "      <th>critical</th>\n",
       "      <td>1</td>\n",
       "    </tr>\n",
       "    <tr>\n",
       "      <th>dealings</th>\n",
       "      <td>1</td>\n",
       "    </tr>\n",
       "    <tr>\n",
       "      <th>compilation</th>\n",
       "      <td>1</td>\n",
       "    </tr>\n",
       "    <tr>\n",
       "      <th>peoples</th>\n",
       "      <td>1</td>\n",
       "    </tr>\n",
       "    <tr>\n",
       "      <th>heading</th>\n",
       "      <td>1</td>\n",
       "    </tr>\n",
       "    <tr>\n",
       "      <th>helpinvestigate</th>\n",
       "      <td>1</td>\n",
       "    </tr>\n",
       "    <tr>\n",
       "      <th>httphumantraffickingcenterorgguestpostsrootcausescontradictionsdisplacedyouthalongusmexicoborder</th>\n",
       "      <td>2</td>\n",
       "    </tr>\n",
       "    <tr>\n",
       "      <th>youll</th>\n",
       "      <td>1</td>\n",
       "    </tr>\n",
       "    <tr>\n",
       "      <th>bella</th>\n",
       "      <td>4</td>\n",
       "    </tr>\n",
       "    <tr>\n",
       "      <th>httpimgurcomakneuc</th>\n",
       "      <td>1</td>\n",
       "    </tr>\n",
       "    <tr>\n",
       "      <th>hint</th>\n",
       "      <td>1</td>\n",
       "    </tr>\n",
       "    <tr>\n",
       "      <th>dark</th>\n",
       "      <td>1</td>\n",
       "    </tr>\n",
       "    <tr>\n",
       "      <th>unsure</th>\n",
       "      <td>1</td>\n",
       "    </tr>\n",
       "    <tr>\n",
       "      <th>monicas</th>\n",
       "      <td>1</td>\n",
       "    </tr>\n",
       "    <tr>\n",
       "      <th>httpimgurcomayzkqt</th>\n",
       "      <td>1</td>\n",
       "    </tr>\n",
       "  </tbody>\n",
       "</table>\n",
       "<p>6481 rows × 1 columns</p>\n",
       "</div>"
      ],
      "text/plain": [
       "                                                      0\n",
       "donald                                               78\n",
       "trump                                               342\n",
       "declared                                              4\n",
       "winner                                                5\n",
       "im                                                   47\n",
       "next                                                 18\n",
       "president                                           123\n",
       "united                                               17\n",
       "states                                               23\n",
       "new                                                  59\n",
       "algorithm                                             9\n",
       "designed                                              6\n",
       "keep                                                 31\n",
       "front                                                28\n",
       "page                                                 30\n",
       "sadly                                                 4\n",
       "wont                                                 14\n",
       "happen                                                6\n",
       "cnn                                                  48\n",
       "soon                                                  8\n",
       "searching                                             1\n",
       "term                                                  8\n",
       "fake                                                 32\n",
       "news                                                 57\n",
       "congratulations                                       3\n",
       "major                                                11\n",
       "achievement                                           1\n",
       "celebrities                                           2\n",
       "vowed                                                 2\n",
       "leave                                                15\n",
       "...                                                 ...\n",
       "sided                                                 1\n",
       "goddamn                                               1\n",
       "berniebot                                             1\n",
       "trumpthemed                                           1\n",
       "throwaway                                             1\n",
       "harsh                                                 1\n",
       "passionately                                          1\n",
       "carrying                                              1\n",
       "scapegoating                                          1\n",
       "dylanw                                                1\n",
       "monica                                               13\n",
       "petersen                                              3\n",
       "answers                                               2\n",
       "fb                                                    4\n",
       "understanding                                         1\n",
       "critical                                              1\n",
       "dealings                                              1\n",
       "compilation                                           1\n",
       "peoples                                               1\n",
       "heading                                               1\n",
       "helpinvestigate                                       1\n",
       "httphumantraffickingcenterorgguestpostsrootcaus...    2\n",
       "youll                                                 1\n",
       "bella                                                 4\n",
       "httpimgurcomakneuc                                    1\n",
       "hint                                                  1\n",
       "dark                                                  1\n",
       "unsure                                                1\n",
       "monicas                                               1\n",
       "httpimgurcomayzkqt                                    1\n",
       "\n",
       "[6481 rows x 1 columns]"
      ]
     },
     "execution_count": 311,
     "metadata": {},
     "output_type": "execute_result"
    }
   ],
   "source": [
    "counts_df = pd.DataFrame.from_dict(counts, orient='index')\n",
    "\n",
    "counts_df"
   ]
  },
  {
   "cell_type": "code",
   "execution_count": 312,
   "metadata": {},
   "outputs": [
    {
     "name": "stdout",
     "output_type": "stream",
     "text": [
      "23418\n"
     ]
    }
   ],
   "source": [
    "tokens_count = 0\n",
    "\n",
    "for sentence in docs:\n",
    "    \n",
    "    for word in sentence:\n",
    "        \n",
    "        tokens_count += 1\n",
    "        \n",
    "print(tokens_count)"
   ]
  },
  {
   "cell_type": "markdown",
   "metadata": {},
   "source": [
    "there are __23,418 total tokens__ and __6,481 unique words__ in this corpus.\n",
    "\n",
    "not all of these are words--there are a fair amount of slang words, colloquialisms and misspellings included."
   ]
  },
  {
   "cell_type": "code",
   "execution_count": 313,
   "metadata": {},
   "outputs": [],
   "source": [
    "# get vocabulary sorted by frequency\n",
    "# compare words with similar frequencies\n",
    "# dataframe is counts_df\n",
    "\n",
    "sorted_docs = counts_df.sort_values(by=[0], ascending=False)\n",
    "\n",
    "# index\n",
    "\n",
    "vocab_df = sorted_docs.reset_index()"
   ]
  },
  {
   "cell_type": "code",
   "execution_count": 314,
   "metadata": {},
   "outputs": [
    {
     "data": {
      "text/html": [
       "<div>\n",
       "<style scoped>\n",
       "    .dataframe tbody tr th:only-of-type {\n",
       "        vertical-align: middle;\n",
       "    }\n",
       "\n",
       "    .dataframe tbody tr th {\n",
       "        vertical-align: top;\n",
       "    }\n",
       "\n",
       "    .dataframe thead th {\n",
       "        text-align: right;\n",
       "    }\n",
       "</style>\n",
       "<table border=\"1\" class=\"dataframe\">\n",
       "  <thead>\n",
       "    <tr style=\"text-align: right;\">\n",
       "      <th></th>\n",
       "      <th>index</th>\n",
       "      <th>0</th>\n",
       "    </tr>\n",
       "  </thead>\n",
       "  <tbody>\n",
       "    <tr>\n",
       "      <th>0</th>\n",
       "      <td>trump</td>\n",
       "      <td>342</td>\n",
       "    </tr>\n",
       "    <tr>\n",
       "      <th>1</th>\n",
       "      <td>us</td>\n",
       "      <td>154</td>\n",
       "    </tr>\n",
       "    <tr>\n",
       "      <th>2</th>\n",
       "      <td>president</td>\n",
       "      <td>123</td>\n",
       "    </tr>\n",
       "    <tr>\n",
       "      <th>3</th>\n",
       "      <td>clinton</td>\n",
       "      <td>121</td>\n",
       "    </tr>\n",
       "    <tr>\n",
       "      <th>4</th>\n",
       "      <td>people</td>\n",
       "      <td>118</td>\n",
       "    </tr>\n",
       "    <tr>\n",
       "      <th>5</th>\n",
       "      <td>reddit</td>\n",
       "      <td>114</td>\n",
       "    </tr>\n",
       "    <tr>\n",
       "      <th>6</th>\n",
       "      <td>like</td>\n",
       "      <td>102</td>\n",
       "    </tr>\n",
       "    <tr>\n",
       "      <th>7</th>\n",
       "      <td>would</td>\n",
       "      <td>95</td>\n",
       "    </tr>\n",
       "    <tr>\n",
       "      <th>8</th>\n",
       "      <td>hillary</td>\n",
       "      <td>90</td>\n",
       "    </tr>\n",
       "    <tr>\n",
       "      <th>9</th>\n",
       "      <td>one</td>\n",
       "      <td>80</td>\n",
       "    </tr>\n",
       "    <tr>\n",
       "      <th>10</th>\n",
       "      <td>donald</td>\n",
       "      <td>78</td>\n",
       "    </tr>\n",
       "    <tr>\n",
       "      <th>11</th>\n",
       "      <td>get</td>\n",
       "      <td>77</td>\n",
       "    </tr>\n",
       "    <tr>\n",
       "      <th>12</th>\n",
       "      <td>media</td>\n",
       "      <td>66</td>\n",
       "    </tr>\n",
       "    <tr>\n",
       "      <th>13</th>\n",
       "      <td>post</td>\n",
       "      <td>66</td>\n",
       "    </tr>\n",
       "    <tr>\n",
       "      <th>14</th>\n",
       "      <td>make</td>\n",
       "      <td>66</td>\n",
       "    </tr>\n",
       "    <tr>\n",
       "      <th>15</th>\n",
       "      <td>campaign</td>\n",
       "      <td>65</td>\n",
       "    </tr>\n",
       "    <tr>\n",
       "      <th>16</th>\n",
       "      <td>going</td>\n",
       "      <td>61</td>\n",
       "    </tr>\n",
       "    <tr>\n",
       "      <th>17</th>\n",
       "      <td>even</td>\n",
       "      <td>61</td>\n",
       "    </tr>\n",
       "    <tr>\n",
       "      <th>18</th>\n",
       "      <td>new</td>\n",
       "      <td>59</td>\n",
       "    </tr>\n",
       "    <tr>\n",
       "      <th>19</th>\n",
       "      <td>time</td>\n",
       "      <td>59</td>\n",
       "    </tr>\n",
       "    <tr>\n",
       "      <th>20</th>\n",
       "      <td>foundation</td>\n",
       "      <td>58</td>\n",
       "    </tr>\n",
       "    <tr>\n",
       "      <th>21</th>\n",
       "      <td>news</td>\n",
       "      <td>57</td>\n",
       "    </tr>\n",
       "    <tr>\n",
       "      <th>22</th>\n",
       "      <td>dont</td>\n",
       "      <td>57</td>\n",
       "    </tr>\n",
       "    <tr>\n",
       "      <th>23</th>\n",
       "      <td>email</td>\n",
       "      <td>57</td>\n",
       "    </tr>\n",
       "    <tr>\n",
       "      <th>24</th>\n",
       "      <td>hate</td>\n",
       "      <td>56</td>\n",
       "    </tr>\n",
       "  </tbody>\n",
       "</table>\n",
       "</div>"
      ],
      "text/plain": [
       "         index    0\n",
       "0        trump  342\n",
       "1           us  154\n",
       "2    president  123\n",
       "3      clinton  121\n",
       "4       people  118\n",
       "5       reddit  114\n",
       "6         like  102\n",
       "7        would   95\n",
       "8      hillary   90\n",
       "9          one   80\n",
       "10      donald   78\n",
       "11         get   77\n",
       "12       media   66\n",
       "13        post   66\n",
       "14        make   66\n",
       "15    campaign   65\n",
       "16       going   61\n",
       "17        even   61\n",
       "18         new   59\n",
       "19        time   59\n",
       "20  foundation   58\n",
       "21        news   57\n",
       "22        dont   57\n",
       "23       email   57\n",
       "24        hate   56"
      ]
     },
     "execution_count": 314,
     "metadata": {},
     "output_type": "execute_result"
    }
   ],
   "source": [
    "vocab_df.head(25)"
   ]
  },
  {
   "cell_type": "code",
   "execution_count": 315,
   "metadata": {},
   "outputs": [],
   "source": [
    "# train word2vec model\n",
    "\n",
    "w2v_model = Word2Vec(docs, min_count=1)\n"
   ]
  },
  {
   "cell_type": "code",
   "execution_count": 316,
   "metadata": {},
   "outputs": [
    {
     "name": "stderr",
     "output_type": "stream",
     "text": [
      "/opt/conda/lib/python3.6/site-packages/ipykernel_launcher.py:3: DeprecationWarning: Call to deprecated `__getitem__` (Method will be removed in 4.0.0, use self.wv.__getitem__() instead).\n",
      "  This is separate from the ipykernel package so we can avoid doing imports until\n"
     ]
    },
    {
     "data": {
      "image/png": "[encoded data removed]",
      "text/plain": [
       "<Figure size 432x288 with 1 Axes>"
      ]
     },
     "metadata": {
      "needs_background": "light"
     },
     "output_type": "display_data"
    }
   ],
   "source": [
    "# fit PCA 2d projection to vectors\n",
    "\n",
    "vector_vocab = w2v_model[w2v_model.wv.vocab]\n",
    "\n",
    "pca_model = PCA(n_components=2)\n",
    "\n",
    "pca2d_projection = pca_model.fit_transform(vector_vocab)\n",
    "\n",
    "# scatterplot the projection\n",
    "\n",
    "pyplot.scatter(pca2d_projection[:, 0], pca2d_projection[:, 1])\n",
    "\n",
    "vocab = list(w2v_model.wv.vocab)\n",
    "\n",
    "#for i, word in enumerate(vocab):\n",
    "    \n",
    "    #pyplot.annotate(word, xy=(pca2d_projection[i, 0], pca2d_projection[i, 1]))"
   ]
  },
  {
   "cell_type": "code",
   "execution_count": 317,
   "metadata": {},
   "outputs": [
    {
     "name": "stdout",
     "output_type": "stream",
     "text": [
      "-0.032839616153229306\n"
     ]
    }
   ],
   "source": [
    "# model name: w2v_model\n",
    "\n",
    "sim = w2v_model.wv.similarity('donald', 'monica')\n",
    "\n",
    "print(sim)"
   ]
  },
  {
   "cell_type": "code",
   "execution_count": 318,
   "metadata": {},
   "outputs": [
    {
     "name": "stdout",
     "output_type": "stream",
     "text": [
      "distance between trump/people:  0.5875919552899074\n",
      "distance between clinton/people:  0.5889439523135688\n"
     ]
    }
   ],
   "source": [
    "sim_1a = w2v_model.wv.similarity('trump', 'people')\n",
    "\n",
    "sim_1b = w2v_model.wv.similarity('clinton', 'people')\n",
    "\n",
    "print('distance between trump/people: ', sim_1a)\n",
    "print('distance between clinton/people: ', sim_1b)"
   ]
  },
  {
   "cell_type": "code",
   "execution_count": 319,
   "metadata": {},
   "outputs": [
    {
     "name": "stdout",
     "output_type": "stream",
     "text": [
      "distance between man/president:  0.2888294228069471\n",
      "distance between woman/president:  0.15286756552174438\n"
     ]
    }
   ],
   "source": [
    "sim_2a = w2v_model.wv.similarity('man', 'president')\n",
    "\n",
    "sim_2b = w2v_model.wv.similarity('woman', 'president')\n",
    "\n",
    "print('distance between man/president: ', sim_2a)\n",
    "print('distance between woman/president: ', sim_2b)"
   ]
  },
  {
   "cell_type": "markdown",
   "metadata": {},
   "source": [
    "#### but what about her emails?\n",
    "\n",
    "*email* is in the top 25 words in this vocabulary.\n",
    "\n",
    "how does the word *email* relate to each candidate? how does it relate to words with strong sentiment?"
   ]
  },
  {
   "cell_type": "code",
   "execution_count": 320,
   "metadata": {},
   "outputs": [
    {
     "name": "stdout",
     "output_type": "stream",
     "text": [
      "email/clinton:  0.4087012535159936\n",
      "email/trump:  0.30931197313540715\n",
      "\n",
      "\n",
      "email/president:  0.3558152846234112\n",
      "email/scandal:  0.014792070171004666\n",
      "email/evil:  -0.08652820186652159\n"
     ]
    }
   ],
   "source": [
    "sim_3a = w2v_model.wv.similarity('email', 'clinton')\n",
    "\n",
    "sim_3b = w2v_model.wv.similarity('email', 'trump')\n",
    "\n",
    "sim_3c = w2v_model.wv.similarity('email', 'president')\n",
    "\n",
    "sim_3d = w2v_model.wv.similarity('email', 'scandal')\n",
    "\n",
    "sim_3e = w2v_model.wv.similarity('email', 'evil')\n",
    "\n",
    "print('email/clinton: ', sim_3a)\n",
    "print('email/trump: ', sim_3b)\n",
    "print('\\n')\n",
    "print('email/president: ', sim_3c)\n",
    "print('email/scandal: ', sim_3d)\n",
    "print('email/evil: ', sim_3e)"
   ]
  },
  {
   "cell_type": "code",
   "execution_count": 330,
   "metadata": {},
   "outputs": [],
   "source": [
    "def get_cos_sim(model, word_1, word_2):\n",
    "    '''\n",
    "    pass in 2 words as strings.\n",
    "    returns cosine similarity of\n",
    "    the words.\n",
    "    \n",
    "    '''\n",
    "    \n",
    "    sim = model.wv.similarity(word_1, word_2)\n",
    "    \n",
    "    return sim"
   ]
  },
  {
   "cell_type": "code",
   "execution_count": 332,
   "metadata": {},
   "outputs": [
    {
     "data": {
      "text/plain": [
       "0.5974369505557943"
      ]
     },
     "execution_count": 332,
     "metadata": {},
     "output_type": "execute_result"
    }
   ],
   "source": [
    "# test\n",
    "\n",
    "get_cos_sim(w2v_model, 'trump', 'clinton')"
   ]
  },
  {
   "cell_type": "markdown",
   "metadata": {},
   "source": [
    "using this method, it's possible to guage attitudes toward each candidate across a number of sentiments.\n",
    "\n",
    "just to demonstrate, we can choose words that we would expect to have strong associations for this subculture (either positive or negative), *regardless of how frequently they appear in the corpus relative to one another*, without adjusting either the training or vocabulary.\n",
    "\n",
    "let's use the positive term *qualified* and the negative term *corrupt* from the corpus. we can predict how we would expect this subculture to relate these words to then-candidates trump and clinton. __note__: neither of these words appears very frequently in the corpus."
   ]
  },
  {
   "cell_type": "code",
   "execution_count": 333,
   "metadata": {},
   "outputs": [
    {
     "name": "stdout",
     "output_type": "stream",
     "text": [
      "     index    0\n",
      "3  clinton  121 \n",
      "\n",
      "   index    0\n",
      "0  trump  342 \n",
      "\n",
      "          index  0\n",
      "5619  qualified  1 \n",
      "\n",
      "       index  0\n",
      "564  corrupt  8\n"
     ]
    }
   ],
   "source": [
    "# get number of occurences for each token from dataframe\n",
    "\n",
    "clinton = vocab_df[vocab_df['index'] == 'clinton']\n",
    "\n",
    "trump = vocab_df[vocab_df['index'] == 'trump']\n",
    "\n",
    "qualified = vocab_df[vocab_df['index'] == 'qualified']\n",
    "\n",
    "corrupt = vocab_df[vocab_df['index'] == 'corrupt']\n",
    "\n",
    "print(clinton, '\\n')\n",
    "print(trump, '\\n')\n",
    "print(qualified, '\\n')\n",
    "print(corrupt)"
   ]
  },
  {
   "cell_type": "code",
   "execution_count": 334,
   "metadata": {},
   "outputs": [
    {
     "name": "stdout",
     "output_type": "stream",
     "text": [
      "clinton/qualified:  0.04463682576387507\n",
      "trump/qualified:  0.12479093068188585\n",
      "clinton/corrupt:  0.13343989039069057\n",
      "trump/corrupt 0.12338232021240415\n"
     ]
    }
   ],
   "source": [
    "# positive associations \n",
    "\n",
    "clinton_qualified = get_cos_sim(w2v_model, 'clinton', 'qualified')\n",
    "\n",
    "trump_qualified = get_cos_sim(w2v_model, 'trump', 'qualified')\n",
    "\n",
    "# negative associations\n",
    "\n",
    "clinton_corrupt = get_cos_sim(w2v_model, 'clinton', 'corrupt')\n",
    "\n",
    "trump_corrupt = get_cos_sim(w2v_model, 'trump', 'corrupt')\n",
    "\n",
    "print('clinton/qualified: ', clinton_qualified)\n",
    "print('trump/qualified: ', trump_qualified)\n",
    "print('clinton/corrupt: ', clinton_corrupt)\n",
    "print('trump/corrupt', trump_corrupt)"
   ]
  },
  {
   "cell_type": "markdown",
   "metadata": {},
   "source": [
    "of course, the results above should not surprise anyone familiar with the 2016 US presidential election: it is assumed that this particular subculture would view clinton as less qualified (and more corrupt) than trump. what is remarkable is that even on this small (~23,400 total tokens, ~6,400 unique words) corpus, the model was able to pick up on specific semantic relationships like these.\n",
    "\n",
    "of particular note here is that this shallow model was able to identify sentiment through associations between word pairs where one of the paired words has a few as one occurence.\n",
    "\n",
    "this is by no means an academically rigorous exercise. however, these preliminary results suggest promise for the potential of shallow word embeddings and cosine similarity measures to probe sociolinguistic relationships among populaces both historic and contemporary--even with relatively small available corpora.\n"
   ]
  },
  {
   "cell_type": "markdown",
   "metadata": {},
   "source": [
    "### 'r/esist' subreddit corpus"
   ]
  },
  {
   "cell_type": "code",
   "execution_count": 335,
   "metadata": {},
   "outputs": [],
   "source": [
    "# get reddit oath credentials for second app\n",
    "\n",
    "with open('reddit_oa_script_2.txt') as f:\n",
    "    \n",
    "    reddit_script_2 = f.read().strip()\n",
    "\n",
    "with open('reddit_oa_secret_2.txt') as f:\n",
    "    \n",
    "    reddit_secret_2 = f.read().strip()"
   ]
  },
  {
   "cell_type": "code",
   "execution_count": 336,
   "metadata": {},
   "outputs": [],
   "source": [
    "resist_reddit = praw.Reddit(client_id=reddit_script_2,\n",
    "                           client_secret=reddit_secret_2,\n",
    "                           user_agent='reddit_corpus_2',\n",
    "                           username='neurodivergent_ai',\n",
    "                           password=pw)"
   ]
  },
  {
   "cell_type": "code",
   "execution_count": 349,
   "metadata": {},
   "outputs": [],
   "source": [
    "# get the subreddit\n",
    "\n",
    "resist_subreddit = resist_reddit.subreddit('esist')\n",
    "\n",
    "resist_subreddit_top = resist_subreddit.top(limit=1000)"
   ]
  },
  {
   "cell_type": "code",
   "execution_count": 350,
   "metadata": {},
   "outputs": [],
   "source": [
    "texts_dict = {'title': [],\n",
    "              'id': [],\n",
    "              'url': [],\n",
    "              'date': [],\n",
    "              'score': [],\n",
    "              'body': []}\n",
    "\n",
    "for post in resist_subreddit_top:\n",
    "    \n",
    "    texts_dict['title'].append(post.title)\n",
    "    \n",
    "    texts_dict['id'].append(post.id)\n",
    "    \n",
    "    texts_dict['url'].append(post.url)\n",
    "    \n",
    "    texts_dict['date'].append(post.created)\n",
    "    \n",
    "    texts_dict['score'].append(post.score)\n",
    "    \n",
    "    texts_dict['body'].append(post.selftext)\n",
    "    \n",
    "    #df = pd.DataFrame(texts_dict)\n",
    "  "
   ]
  },
  {
   "cell_type": "code",
   "execution_count": 353,
   "metadata": {},
   "outputs": [
    {
     "name": "stdout",
     "output_type": "stream",
     "text": [
      "                                               title      id  \\\n",
      "0  BREAKING NEWS: Supreme Court finds North Carol...  6cnuag   \n",
      "1  Trump reveals classified information to Russia...  6bd7e9   \n",
      "2  In the latest AHCA proposal, Republican lawmak...  67nkkz   \n",
      "3  Trump says: \"We have to start winning wars aga...  5whgbc   \n",
      "4  Presidential sources: US President Trump calls...  65y04u   \n",
      "\n",
      "                                                 url          date  score body  \n",
      "0  https://www.yahoo.com/news/u-supreme-court-tos...  1.495495e+09  47341       \n",
      "1  https://www.washingtonpost.com/world/national-...  1.494912e+09  44752       \n",
      "2  https://twitter.com/sarahkliff/status/85706221...  1.493236e+09  43652       \n",
      "3  http://www.cnn.com/videos/politics/2017/02/27/...  1.488240e+09  43184       \n",
      "4  https://twitter.com/CNNTURK_ENG/status/8540599...  1.492489e+09  41994       \n"
     ]
    }
   ],
   "source": [
    "subreddit_2_df = pd.DataFrame(texts_dict)\n",
    "\n",
    "print(subreddit_2_df.head())"
   ]
  },
  {
   "cell_type": "code",
   "execution_count": 354,
   "metadata": {},
   "outputs": [],
   "source": [
    "# make a copy to work with\n",
    "\n",
    "reddit_df_2 = subreddit_2_df.copy()"
   ]
  },
  {
   "cell_type": "code",
   "execution_count": 355,
   "metadata": {},
   "outputs": [],
   "source": [
    "titles_df_2 = reddit_df_2['title']\n",
    "\n",
    "posts_df_2 = reddit_df_2['body']"
   ]
  },
  {
   "cell_type": "code",
   "execution_count": 356,
   "metadata": {},
   "outputs": [
    {
     "name": "stdout",
     "output_type": "stream",
     "text": [
      "0    BREAKING NEWS: Supreme Court finds North Carol...\n",
      "1    Trump reveals classified information to Russia...\n",
      "2    In the latest AHCA proposal, Republican lawmak...\n",
      "3    Trump says: \"We have to start winning wars aga...\n",
      "4    Presidential sources: US President Trump calls...\n",
      "Name: title, dtype: object\n"
     ]
    }
   ],
   "source": [
    "print(titles_df_2.head())"
   ]
  },
  {
   "cell_type": "code",
   "execution_count": 357,
   "metadata": {},
   "outputs": [
    {
     "name": "stdout",
     "output_type": "stream",
     "text": [
      "0                                                     \n",
      "1                                                     \n",
      "2                                                     \n",
      "3                                                     \n",
      "4                                                     \n",
      "5                                                     \n",
      "6    Shaun King never fails to nail it. Props to hi...\n",
      "7                                                     \n",
      "8                                                     \n",
      "9                                                     \n",
      "Name: body, dtype: object\n"
     ]
    }
   ],
   "source": [
    "print(posts_df_2.head(10))"
   ]
  },
  {
   "cell_type": "code",
   "execution_count": 358,
   "metadata": {},
   "outputs": [],
   "source": [
    "# produce 'clean' texts using identical procedure\n",
    "# reddit r/The_Donald section above\n",
    "\n",
    "clean_titles_2 = clean_all_texts(titles_df_2)\n",
    "\n",
    "clean_posts_2 = clean_all_texts(posts_df_2)"
   ]
  },
  {
   "cell_type": "code",
   "execution_count": 359,
   "metadata": {},
   "outputs": [
    {
     "name": "stdout",
     "output_type": "stream",
     "text": [
      "['shaun', 'king', 'never', 'fails', 'nail', 'props', 'posting', 'fb'] \n",
      "\n",
      "['clear', 'admins', 'website', 'plans', 'anything', 'around', 'issue', 'long', 'continue', 'make', 'money', 'td', 'violation', 'many', 'reddit', 'policies', 'time', 'time', 'admins', 'take', 'control', 'situation', 'admins', 'reddit', 'close', 'td', 'subreddits', 'users', 'blatantly', 'violating', 'reddit', 'policy', 'please', 'buy', 'reddit', 'gold'] \n",
      "\n",
      "['call', 'ahca', 'trumpcare', 'give', 'gop', 'perfect', 'scapegoat', 'trump', 'presidency', 'implodes', 'cowards', 'party', 'like', 'ryan', 'rubio', 'simply', 'allow', 'absorb', 'damage', 'millions', 'people', 'going', 'lose', 'healthcare', 'die', 'bill', 'needs', 'killed', 'kills', 'anyone', 'gop', 'needs', 'pay', 'modest', 'proposalhttpsenwikipediaorgwikiamodestproposal'] \n",
      "\n",
      "['trump', 'invited', 'leader', 'philippines', 'dc', 'supported', 'murdering', 'journalists', 'bragged', 'personally', 'murdering', 'drug', 'addicts', 'edit', 'clear', 'yes', 'although', 'murdering', 'fucking', 'maniac', 'duterte', 'leader', 'major', 'nation', 'trump', 'definitely', 'keep', 'open', 'line', 'communication', 'however', 'doesnt', 'mean', 'invite', 'murderer', 'damn', 'white', 'house'] \n",
      "\n",
      "['httptheralphretortcomralphretortstatementlanedavis', 'td', 'user', 'became', 'extremely', 'well', 'known', 'labeling', 'anybody', 'dont', 'like', 'leftist', 'pedo', 'includes', 'father', 'murdered', 'td', 'upvoted', 'shit', 'urged', 'radical', 'territory', 'take', 'something', 'admins'] \n",
      "\n"
     ]
    }
   ],
   "source": [
    "# check to see if missing rows are gone in posts\n",
    "\n",
    "count = 0\n",
    "\n",
    "for post in clean_posts_2:\n",
    "    \n",
    "    if count < 5:\n",
    "        \n",
    "        print(post, '\\n')\n",
    "        \n",
    "        count += 1"
   ]
  },
  {
   "cell_type": "code",
   "execution_count": 360,
   "metadata": {},
   "outputs": [],
   "source": [
    "# combine all sentences\n",
    "\n",
    "docs_2 = clean_titles_2 + clean_posts_2"
   ]
  },
  {
   "cell_type": "code",
   "execution_count": 361,
   "metadata": {},
   "outputs": [
    {
     "name": "stdout",
     "output_type": "stream",
     "text": [
      "18130\n"
     ]
    }
   ],
   "source": [
    "# number of words in cleaned corpus\n",
    "\n",
    "word_count_2 = 0\n",
    "\n",
    "for sentence in docs_2:\n",
    "    \n",
    "    for word in sentence:\n",
    "        \n",
    "        word_count_2 += 1\n",
    "\n",
    "print(word_count_2)"
   ]
  },
  {
   "cell_type": "code",
   "execution_count": 362,
   "metadata": {},
   "outputs": [
    {
     "name": "stdout",
     "output_type": "stream",
     "text": [
      "1013\n"
     ]
    }
   ],
   "source": [
    "# number of sentences\n",
    "\n",
    "print(len(docs_2))"
   ]
  },
  {
   "cell_type": "code",
   "execution_count": 364,
   "metadata": {},
   "outputs": [
    {
     "name": "stdout",
     "output_type": "stream",
     "text": [
      "Counter({'trump': 610, 'us': 100, 'people': 94, 'president': 91, 'white': 81, 'tax': 75, 'donald': 75, 'trumps': 74, 'russian': 69, 'would': 69, 'house': 68, 'million': 65, 'gop': 62, 'news': 60, 'republican': 56, 'campaign': 55, 'new': 55, 'republicans': 51, 'election': 49, 'says': 48, 'get': 48, 'know': 44, 'one': 43, 'said': 43, 'russia': 42, 'like': 42, 'fox': 41, 'day': 39, 'america': 37, 'even': 35, 'years': 35, 'dont': 34, 'fbi': 34, 'times': 33, 'make': 33, 'vote': 32, 'time': 31, 'money': 31, 'first': 30, 'party': 29, 'right': 29, 'administration': 28, 'obama': 28, 'guy': 28, 'also': 28, 'bill': 28, 'media': 28, 'congress': 27, 'paul': 27, 'office': 27, 'every': 27, 'cnn': 27, 'call': 26, 'american': 26, 'property': 26, 'want': 25, 'post': 25, 'americans': 25, 'political': 25, 'court': 24, 'putin': 24, 'states': 24, 'state': 24, 'mueller': 24, 'investigation': 24, 'much': 24, 'history': 24, 'former': 23, 'children': 23, 'national': 23, 'nothing': 22, 'hes': 22, 'anything': 22, 'going': 22, 'still': 22, 'law': 22, 'year': 22, 'use': 22, 'two': 21, 'take': 21, 'wants': 21, 'health': 21, 'reddit': 21, 'today': 21, 'senate': 21, 'told': 21, 'real': 21, 'never': 21, 'support': 21, 'kavanaugh': 21, 'could': 21, 'fake': 21, 'crime': 21, 'power': 20, 'manafort': 20, 'russians': 20, 'days': 20, 'way': 20, 'stop': 20, 'government': 20, 'let': 20, 'twitter': 20, 'family': 19, 'used': 19, 'public': 19, 'man': 19, 'world': 19, 'got': 19, 'racist': 19, 'black': 19, 'go': 19, 'called': 19, 'cant': 19, 'fucking': 19, 'country': 19, 'think': 19, 'building': 19, 'tell': 18, 'another': 18, 'change': 18, 'business': 18, 'special': 18, 'michael': 18, 'say': 18, 'thing': 18, 'washington': 18, 'taxes': 18, 'military': 18, 'moore': 18, 'back': 18, 'clear': 17, 'plan': 17, 'shooting': 17, 'climate': 17, 'security': 17, 'email': 17, 'income': 17, 'jr': 17, 'women': 17, 'press': 17, 'taxpayer': 17, 'roy': 17, 'emails': 17, 'war': 16, 'fact': 16, 'need': 16, 'united': 16, 'top': 16, 'personal': 16, 'lied': 16, 'comey': 16, 'help': 16, 'propaganda': 16, 'assault': 16, 'story': 16, 'federal': 16, 'justice': 16, 'give': 16, 'democrats': 16, 'made': 15, 'without': 15, 'healthcare': 15, 'accused': 15, 'star': 15, 'james': 15, 'lying': 15, 'clinton': 15, 'keep': 15, 'things': 15, 'lets': 15, 'hannity': 15, 'john': 15, 'ny': 15, 'meeting': 15, 'supporters': 15, 'name': 15, 'information': 14, 'democracy': 14, 'hours': 14, 'job': 14, 'must': 14, 'great': 14, 'youre': 14, 'win': 14, 'sexual': 14, 'actually': 14, 'really': 14, 'last': 14, 'claim': 14, 'person': 14, 'tweet': 14, 'cohen': 14, 'texas': 14, 'problem': 14, 'doesnt': 14, 'school': 14, 'voted': 13, 'good': 13, 'believe': 13, 'kushner': 13, 'director': 13, 'rate': 13, 'please': 13, 'enough': 13, 'ever': 13, 'didnt': 13, 'show': 13, 'months': 13, 'child': 13, 'judge': 13, 'fraud': 13, 'free': 13, 'lawyer': 13, 'cuts': 13, 'official': 13, 'cut': 13, 'nra': 13, 'secretary': 13, 'david': 13, 'congressman': 13, 'wrote': 13, 'section': 13, 'calls': 12, 'past': 12, 'entire': 12, 'anyone': 12, 'run': 12, 'life': 12, 'since': 12, 'done': 12, 'rally': 12, 'team': 12, 'lies': 12, 'buy': 12, 'report': 12, 'thats': 12, 'votes': 12, 'reminder': 12, 'end': 12, 'fuck': 12, 'put': 12, 'paid': 12, 'ryan': 12, 'company': 12, 'claims': 12, 'care': 12, 'policy': 12, 'im': 12, 'attack': 12, 'high': 12, 'well': 12, 'basis': 12, 'gain': 12, 'start': 11, 'happened': 11, 'muslim': 11, 'killed': 11, 'pay': 11, 'victims': 11, 'may': 11, 'millions': 11, 'voter': 11, 'pence': 11, 'secret': 11, 'asked': 11, 'head': 11, 'speech': 11, 'later': 11, 'nazis': 11, 'list': 11, 'ago': 11, 'stand': 11, 'porn': 11, 'daughter': 11, 'gun': 11, 'many': 11, 'next': 11, 'constitution': 11, 'true': 11, 'major': 11, 'remember': 11, 'attorney': 11, 'friends': 11, 'immigrants': 11, 'running': 11, 'already': 11, 'hillary': 11, 'set': 11, 'estate': 11, 'depreciation': 11, 'supreme': 10, 'interference': 10, 'serve': 10, 'ban': 10, 'senator': 10, 'mass': 10, 'find': 10, 'robert': 10, 'fired': 10, 'came': 10, 'district': 10, 'elections': 10, 'live': 10, 'saying': 10, 'five': 10, 'ivanka': 10, 'flynn': 10, 'democratic': 10, 'wanted': 10, 'calling': 10, 'coverage': 10, 'someone': 10, 'using': 10, 'lie': 10, 'nazi': 10, 'threat': 10, 'presidency': 10, 'death': 10, 'social': 10, 'sanders': 10, 'net': 10, 'source': 10, 'poll': 10, 'department': 10, 'visit': 10, 'goes': 10, 'numbers': 10, 'journalists': 10, 'something': 10, 'evidence': 10, 'thedonald': 10, 'hate': 10, 'workers': 10, 'corrupt': 10, 'capital': 10, 'duke': 10, 'breaking': 9, 'north': 9, 'staff': 9, 'insurance': 9, 'presidential': 9, 'attacks': 9, 'conspiracy': 9, 'talking': 9, 'three': 9, 'men': 9, 'officials': 9, 'host': 9, 'reason': 9, 'account': 9, 'tweeted': 9, 'everyone': 9, 'gets': 9, 'service': 9, 'claiming': 9, 'mcconnell': 9, 'order': 9, 'price': 9, 'joe': 9, 'daily': 9, 'took': 9, 'see': 9, 'leader': 9, 'forget': 9, 'shit': 9, 'steve': 9, 'investigate': 9, 'dems': 9, 'case': 9, 'yet': 9, 'guns': 9, 'found': 9, 'spent': 9, 'leaders': 9, 'long': 9, 'false': 9, 'trillion': 9, 'rich': 9, 'police': 9, 'comes': 9, 'part': 9, 'resigned': 9, 'makes': 9, 'trying': 9, 'scott': 9, 'intelligence': 9, 'within': 9, 'approval': 9, 'dollars': 9, 'total': 9, 'taking': 9, 'comments': 9, 'far': 9, 'son': 9, 'york': 9, 'morning': 9, 'florida': 9, 'work': 9, 'question': 9, 'longer': 9, 'tower': 9, 'needs': 9, 'away': 9, 'rape': 9, 'recapture': 9, 'liability': 9, 'sanctions': 8, 'instead': 8, 'jeff': 8, 'example': 8, 'member': 8, 'tells': 8, 'system': 8, 'billion': 8, 'mike': 8, 'counsel': 8, 'held': 8, 'companies': 8, 'collusion': 8, 'violence': 8, 'trumpcare': 8, 'might': 8, 'turned': 8, 'boy': 8, 'billionaire': 8, 'video': 8, 'invited': 8, 'voters': 8, 'voting': 8, 'funds': 8, 'mr': 8, 'plans': 8, 'control': 8, 'probably': 8, 'protest': 8, 'kids': 8, 'shows': 8, 'hurricane': 8, 'less': 8, 'caught': 8, 'immigration': 8, 'conservative': 8, 'general': 8, 'democrat': 8, 'anthem': 8, 'attacking': 8, 'admits': 8, 'mccain': 8, 'single': 8, 'obamacare': 8, 'worse': 8, 'threats': 8, 'become': 8, 'literally': 8, 'released': 8, 'ted': 8, 'almost': 8, 'users': 8, 'little': 8, 'rights': 8, 'admitted': 8, 'met': 8, 'alabama': 8, 'possible': 8, 'bad': 8, 'march': 8, 'minutes': 8, 'quote': 8, 'latest': 7, 'amendment': 7, 'sources': 7, 'result': 7, 'wont': 7, 'giving': 7, 'manager': 7, 'jail': 7, 'gave': 7, 'blame': 7, 'lost': 7, 'jared': 7, 'private': 7, 'governor': 7, 'meet': 7, 'step': 7, 'word': 7, 'td': 7, 'rep': 7, 'jones': 7, 'repeatedly': 7, 'kills': 7, 'seat': 7, 'went': 7, 'greatest': 7, 'mitch': 7, 'isnt': 7, 'flag': 7, 'foreign': 7, 'read': 7, 'murdering': 7, 'energy': 7, 'massacre': 7, 'release': 7, 'returns': 7, 'thousands': 7, 'sean': 7, 'immigrant': 7, 'crimes': 7, 'obstruction': 7, 'allegations': 7, 'summit': 7, 'enforcement': 7, 'small': 7, 'knew': 7, 'conservatives': 7, 'actual': 7, 'lives': 7, 'protrump': 7, 'murder': 7, 'chris': 7, 'education': 7, 'spy': 7, 'elected': 7, 'home': 7, 'debt': 7, 'whose': 7, 'lower': 7, 'continues': 7, 'full': 7, 'nation': 7, 'college': 7, 'hell': 7, 'event': 7, 'group': 7, 'rating': 7, 'rather': 7, 'contact': 7, 'big': 7, 'truth': 7, 'senators': 7, 'nunes': 7, 'best': 7, 'california': 7, 'look': 7, 'reports': 7, 'weeks': 7, 'understand': 7, 'tv': 7, 'brought': 7, 'woman': 7, 'undocumented': 7, 'demand': 7, 'come': 7, 'matter': 7, 'protesters': 7, 'defend': 7, 'moscow': 7, 'candidate': 7, 'brett': 7, 'criminal': 7, 'totally': 7, 'book': 7, 'amount': 7, 'ordinary': 7, 'blacks': 7, 'ambassador': 6, 'lawmakers': 6, 'representative': 6, 'congressional': 6, 'sell': 6, 'scandal': 6, 'holding': 6, 'everything': 6, 'agenda': 6, 'talk': 6, 'page': 6, 'thinks': 6, 'hacked': 6, 'named': 6, 'became': 6, 'able': 6, 'force': 6, 'spread': 6, 'threatened': 6, 'warren': 6, 'sure': 6, 'citizens': 6, 'cruz': 6, 'worked': 6, 'inauguration': 6, 'resign': 6, 'documents': 6, 'pentagon': 6, 'sense': 6, 'father': 6, 'idea': 6, 'takes': 6, 'kill': 6, 'program': 6, 'king': 6, 'always': 6, 'dear': 6, 'taken': 6, 'personally': 6, 'msnbc': 6, 'supremacists': 6, 'paying': 6, 'mark': 6, 'wouldnt': 6, 'economic': 6, 'defense': 6, 'maralago': 6, 'links': 6, 'multiple': 6, 'nuclear': 6, 'massive': 6, 'signed': 6, 'serious': 6, 'record': 6, 'protect': 6, 'altright': 6, 'prevent': 6, 'facebook': 6, 'working': 6, 'koch': 6, 'stuff': 6, 'epa': 6, 'received': 6, 'financial': 6, 'allow': 6, 'openly': 6, 'orders': 6, 'transgender': 6, 'along': 6, 'fire': 6, 'including': 6, 'acting': 6, 'wrong': 6, 'betsy': 6, 'devos': 6, 'university': 6, 'students': 6, 'stormy': 6, 'daniels': 6, 'affair': 6, 'travel': 6, 'trumprussia': 6, 'rallies': 6, 'angry': 6, 'decisions': 6, 'due': 6, 'victory': 6, 'making': 6, 'wall': 6, 'counting': 6, 'presidents': 6, 'sign': 6, 'laws': 6, 'likely': 6, 'try': 6, 'second': 6, 'old': 6, 'dangerous': 6, 'reality': 6, 'thrown': 6, 'georgia': 6, 'stories': 6, 'admins': 6, 'simple': 6, 'probe': 6, 'nbc': 6, 'showing': 6, 'losing': 6, 'ones': 6, 'devin': 6, 'reporters': 6, 'committee': 6, 'interview': 6, 'left': 6, 'beyond': 6, 'proposed': 6, 'agents': 6, 'collins': 6, 'wikileaks': 6, 'jesus': 6, 'recent': 6, 'supporting': 6, 'prove': 6, 'week': 6, 'anonymous': 6, 'medicare': 6, 'sarah': 6, 'retweeted': 6, 'girls': 6, 'purchase': 6, 'longterm': 6, 'applicable': 6, 'exclusion': 6, 'posts': 6, 'classified': 5, 'ahca': 5, 'changes': 5, 'ask': 5, 'ignoring': 5, 'agreement': 5, 'none': 5, 'resistance': 5, 'ethics': 5, 'telling': 5, 'twice': 5, 'confirmed': 5, 'spend': 5, 'rest': 5, 'following': 5, 'wasnt': 5, 'vice': 5, 'sued': 5, 'decision': 5, 'failed': 5, 'meetings': 5, 'dc': 5, 'montana': 5, 'golf': 5, 'nobody': 5, 'seek': 5, 'jon': 5, 'ossoff': 5, 'gold': 5, 'die': 5, 'elizabeth': 5, 'leaving': 5, 'else': 5, 'response': 5, 'benefit': 5, 'percent': 5, 'donors': 5, 'appear': 5, 'replace': 5, 'tom': 5, 'born': 5, 'fine': 5, 'decades': 5, 'abortion': 5, 'kkk': 5, 'george': 5, 'hollywood': 5, 'supremacy': 5, 'puerto': 5, 'site': 5, 'others': 5, 'advertising': 5, 'boycott': 5, 'appears': 5, 'often': 5, 'pulled': 5, 'sessions': 5, 'details': 5, 'hold': 5, 'stupid': 5, 'economy': 5, 'deficit': 5, 'tries': 5, 'lot': 5, 'heres': 5, 'donated': 5, 'hired': 5, 'target': 5, 'endorsement': 5, 'needed': 5, 'facts': 5, 'refusing': 5, 'polls': 5, 'passed': 5, 'inside': 5, 'sen': 5, 'consider': 5, 'mean': 5, 'face': 5, 'dark': 5, 'pass': 5, 'endorsed': 5, 'wealthy': 5, 'nearly': 5, 'turns': 5, 'funded': 5, 'illegally': 5, 'seats': 5, 'troops': 5, 'oligarchs': 5, 'fund': 5, 'hard': 5, 'neutrality': 5, 'fcc': 5, 'internet': 5, 'places': 5, 'businesses': 5, 'crazy': 5, 'repeal': 5, 'infest': 5, 'cia': 5, 'four': 5, 'tweeting': 5, 'ap': 5, 'thought': 5, 'china': 5, 'speak': 5, 'global': 5, 'standing': 5, 'andrew': 5, 'comment': 5, 'allies': 5, 'online': 5, 'scam': 5, 'planned': 5, 'families': 5, 'separated': 5, 'border': 5, 'directly': 5, 'bannon': 5, 'stephen': 5, 'memo': 5, 'hacking': 5, 'knows': 5, 'executive': 5, 'corruption': 5, 'prayers': 5, 'completely': 5, 'hearing': 5, 'possibly': 5, 'effort': 5, 'ordered': 5, 'watching': 5, 'base': 5, 'tweets': 5, 'willing': 5, 'worst': 5, 'city': 5, 'mayor': 5, 'agency': 5, 'simply': 5, 'loser': 5, 'kremlin': 5, 'mostly': 5, 'build': 5, 'process': 5, 'oath': 5, 'senior': 5, 'liar': 5, 'enemy': 5, 'jobs': 5, 'uses': 5, 'journalist': 5, 'photo': 5, 'bots': 5, 'direct': 5, 'theyre': 5, 'steel': 5, 'saudi': 5, 'arabia': 5, 'stopped': 5, 'coming': 5, 'feel': 5, 'drug': 5, 'services': 5, 'age': 5, 'atlantic': 5, 'legal': 5, 'respect': 5, 'cannot': 5, 'nominee': 5, 'advisor': 5, 'floor': 5, 'members': 5, 'ties': 5, 'seen': 5, 'cover': 5, 'commit': 5, 'claimed': 5, 'action': 5, 'hundreds': 5, 'according': 5, 'available': 5, 'posted': 5, 'user': 5, 'stage': 5, 'asking': 5, 'adjusted': 5, 'data': 5, 'finds': 4, 'reveals': 4, 'proposal': 4, 'added': 4, 'exempt': 4, 'love': 4, 'conditions': 4, 'winning': 4, 'seems': 4, 'terrorist': 4, 'fear': 4, 'hire': 4, 'vegas': 4, 'illegal': 4, 'comeys': 4, 'colluded': 4, 'means': 4, 'tried': 4, 'shootings': 4, 'maybe': 4, 'bernie': 4, 'commission': 4, 'proof': 4, 'aclu': 4, 'generals': 4, 'loans': 4, 'rob': 4, 'send': 4, 'reporter': 4, 'click': 4, 'polling': 4, 'indiana': 4, 'matters': 4, 'homeland': 4, 'banks': 4, 'issue': 4, 'platform': 4, 'planning': 4, 'registration': 4, 'buying': 4, 'doug': 4, 'either': 4, 'paris': 4, 'defeat': 4, 'crowd': 4, 'around': 4, 'breitbart': 4, 'advertisers': 4, 'corporate': 4, 'cash': 4, 'friend': 4, 'progressive': 4, 'link': 4, 'park': 4, 'mexicans': 4, 'rapists': 4, 'fair': 4, 'acts': 4, 'arrested': 4, 'somehow': 4, 'popular': 4, 'explicitly': 4, 'nfl': 4, 'players': 4, 'rico': 4, 'criticized': 4, 'americas': 4, 'soon': 4, 'conway': 4, 'involved': 4, 'magazine': 4, 'access': 4, 'credit': 4, 'zero': 4, 'nationalists': 4, 'charlottesville': 4, 'folks': 4, 'brown': 4, 'bush': 4, 'investigating': 4, 'speaking': 4, 'heart': 4, 'schools': 4, 'accusers': 4, 'given': 4, 'supremacist': 4, 'domestic': 4, 'idiot': 4, 'arsenal': 4, 'color': 4, 'remove': 4, 'fighting': 4, 'platforms': 4, 'broke': 4, 'troll': 4, 'info': 4, 'playing': 4, 'late': 4, 'muslims': 4, 'debate': 4, 'letter': 4, 'mortgage': 4, 'low': 4, 'soldiers': 4, 'returned': 4, 'benefits': 4, 'highest': 4, 'mind': 4, 'promised': 4, 'course': 4, 'position': 4, 'testimony': 4, 'admit': 4, 'cost': 4, 'statement': 4, 'fraudulent': 4, 'shut': 4, 'basta': 4, 'getting': 4, 'worlds': 4, 'six': 4, 'nyc': 4, 'saturday': 4, 'night': 4, 'abc': 4, 'least': 4, 'papadopoulos': 4, 'situation': 4, 'toward': 4, 'appointed': 4, 'view': 4, 'specifically': 4, 'numerous': 4, 'violations': 4, 'huge': 4, 'message': 4, 'jews': 4, 'eyes': 4, 'place': 4, 'wife': 4, 'lead': 4, 'stands': 4, 'convicted': 4, 'parkland': 4, 'survivor': 4, 'fill': 4, 'seven': 4, 'died': 4, 'strike': 4, 'richer': 4, 'important': 4, 'moment': 4, 'tonight': 4, 'lawyers': 4, 'billions': 4, 'communications': 4, 'chief': 4, 'point': 4, 'liberal': 4, 'half': 4, 'thank': 4, 'ignorance': 4, 'hoax': 4, 'scientists': 4, 'majority': 4, 'thoughts': 4, 'starting': 4, 'calm': 4, 'remind': 4, 'commentator': 4, 'dirt': 4, 'subreddit': 4, 'game': 4, 'partisan': 4, 'west': 4, 'hey': 4, 'fast': 4, 'biased': 4, 'started': 4, 'blames': 4, 'push': 4, 'rand': 4, 'adam': 4, 'leads': 4, 'san': 4, 'honor': 4, 'rules': 4, 'fun': 4, 'bully': 4, 'danger': 4, 'guard': 4, 'ad': 4, 'air': 4, 'records': 4, 'promise': 4, 'values': 4, 'ignored': 4, 'announces': 4, 'brian': 4, 'shot': 4, 'provides': 4, 'young': 4, 'rnc': 4, 'abrams': 4, 'adviser': 4, 'degree': 4, 'looking': 4, 'moores': 4, 'forced': 4, 'reveal': 4, 'politifact': 4, 'statements': 4, 'murdered': 4, 'fight': 4, 'doj': 4, 'saved': 4, 'turn': 4, 'freedom': 4, 'groups': 4, 'investigated': 4, 'susan': 4, 'policies': 4, 'outside': 4, 'individuals': 4, 'worth': 4, 'putting': 4, 'tape': 4, 'grows': 4, 'politicians': 4, 'theyve': 4, 'murray': 4, 'hide': 4, 'pruitt': 4, 'ive': 4, 'whats': 4, 'june': 4, 'hasnt': 4, 'screaming': 4, 'kind': 4, 'experts': 4, 'finance': 4, 'obviously': 4, 'quickly': 4, 'employees': 4, 'camp': 4, 'raping': 4, 'hayes': 4, 'booker': 4, 'several': 4, 'subject': 4, 'civil': 4, 'note': 4, 'open': 4, 'nato': 4, 'censoring': 4, 'living': 4, 'market': 4, 'denied': 4, 'surprised': 4, 'forward': 4, 'sides': 4, 'unfit': 4, 'block': 4, 'harassment': 4, 'teenage': 4, 'evil': 4, 'whether': 4, 'certain': 4, 'useful': 4, 'apparently': 4, 'favor': 4, 'trolls': 4, 'heavily': 4, 'short': 4, 'inflation': 4, 'assume': 4, 'placed': 4, 'approximately': 4, 'figures': 4, 'guys': 4, 'sending': 4, 'based': 3, 'preexisting': 3, 'eliminate': 3, 'interests': 3, 'works': 3, 'green': 3, 'nomination': 3, 'rule': 3, 'lobbyists': 3, 'swamp': 3, 'enjoy': 3, 'las': 3, 'campaigns': 3, 'medical': 3, 'payments': 3, 'ukrainian': 3, 'id': 3, 'suggests': 3, 'illegitimate': 3, 'currently': 3, 'raised': 3, 'shoes': 3, 'aide': 3, 'carter': 3, 'biggest': 3, 'integrity': 3, 'suppression': 3, 'shitty': 3, 'shameful': 3, 'defending': 3, 'save': 3, 'bunch': 3, 'assaulted': 3, 'routinely': 3, 'conduct': 3, 'discussing': 3, 'issues': 3, 'picture': 3, 'moving': 3, 'worry': 3, 'elect': 3, 'shutdown': 3, 'joke': 3, 'pageant': 3, 'permission': 3, 'seeing': 3, 'weinstein': 3, 'testified': 3, 'lifetime': 3, 'wait': 3, 'ice': 3, 'website': 3, 'firing': 3, 'pressure': 3, 'kansas': 3, 'sent': 3, 'turnout': 3, 'republicare': 3, 'watched': 3, 'pres': 3, 'scouts': 3, 'uh': 3, 'ended': 3, 'secretly': 3, 'putins': 3, 'donations': 3, 'addresses': 3, 'franken': 3, 'share': 3, 'central': 3, 'guilty': 3, 'criminals': 3, 'mexican': 3, 'disrespecting': 3, 'proudly': 3, 'confederate': 3, 'warned': 3, 'believing': 3, 'bragged': 3, 'prior': 3, 'sold': 3, 'laughable': 3, 'kim': 3, 'sex': 3, 'dad': 3, 'lectured': 3, 'growing': 3, 'clause': 3, 'lose': 3, 'gonna': 3, 'kellyanne': 3, 'laundering': 3, 'guess': 3, 'birth': 3, 'hypocrisy': 3, 'corker': 3, 'native': 3, 'kelly': 3, 'nasa': 3, 'deserve': 3, 'tens': 3, 'bans': 3, 'rubio': 3, 'town': 3, 'hall': 3, 'adding': 3, 'drop': 3, 'married': 3, 'scarborough': 3, 'allowing': 3, 'ugly': 3, 'vacation': 3, 'rightwing': 3, 'synagogue': 3, 'cabinet': 3, 'exemption': 3, 'pardon': 3, 'division': 3, 'speaks': 3, 'lincoln': 3, 'memorial': 3, 'review': 3, 'intention': 3, 'trans': 3, 'bills': 3, 'check': 3, 'powers': 3, 'fascism': 3, 'retired': 3, 'army': 3, 'apparent': 3, 'journalism': 3, 'fascists': 3, 'jim': 3, 'selling': 3, 'accepted': 3, 'previously': 3, 'principle': 3, 'led': 3, 'protests': 3, 'fossil': 3, 'fuel': 3, 'reich': 3, 'patriotic': 3, 'korean': 3, 'peoples': 3, 'cops': 3, 'supporter': 3, 'ongoing': 3, 'remains': 3, 'golfing': 3, 'entities': 3, 'daca': 3, 'conference': 3, 'happy': 3, 'walker': 3, 'finally': 3, 'bought': 3, 'contradicts': 3, 'contacted': 3, 'bullshit': 3, 'la': 3, 'failure': 3, 'join': 3, 'battle': 3, 'destroy': 3, 'deputy': 3, 'rosenstein': 3, 'evangelical': 3, 'sad': 3, 'profit': 3, 'sons': 3, 'original': 3, 'citing': 3, 'revealing': 3, 'whitaker': 3, 'room': 3, 'sue': 3, 'traitor': 3, 'tired': 3, 'korea': 3, 'slams': 3, 'forprofit': 3, 'reached': 3, 'unit': 3, 'lindsey': 3, 'boston': 3, 'tillerson': 3, 'grand': 3, 'defended': 3, 'institutions': 3, 'rates': 3, 'cause': 3, 'canceled': 3, 'impeach': 3, 'hotel': 3, 'labor': 3, 'reelection': 3, 'writes': 3, 'ya': 3, 'asks': 3, 'ruled': 3, 'maddow': 3, 'jake': 3, 'tapper': 3, 'bring': 3, 'images': 3, 'accounts': 3, 'ass': 3, 'anthony': 3, 'books': 3, 'necessary': 3, 'roughly': 3, 'responsible': 3, 'fires': 3, 'ignore': 3, 'relief': 3, 'century': 3, 'solution': 3, 'score': 3, 'pfizer': 3, 'exactly': 3, 'considering': 3, 'interest': 3, 'outraged': 3, 'declined': 3, 'enact': 3, 'evangelicals': 3, 'words': 3, 'joy': 3, 'reid': 3, 'separate': 3, 'dead': 3, 'obstruct': 3, 'earth': 3, 'yates': 3, 'imagine': 3, 'red': 3, 'candidates': 3, 'confused': 3, 'believed': 3, 'treasonous': 3, 'chairman': 3, 'ajit': 3, 'pai': 3, 'farright': 3, 'local': 3, 'remain': 3, 'better': 3, 'ceremony': 3, 'trade': 3, 'center': 3, 'street': 3, 'removing': 3, 'attempt': 3, 'combat': 3, 'virginia': 3, 'dragged': 3, 'capitol': 3, 'friday': 3, 'lawsuit': 3, 'violating': 3, 'continuing': 3, 'warming': 3, 'eagles': 3, 'countless': 3, 'nasty': 3, 'raise': 3, 'confirm': 3, 'supposed': 3, 'character': 3, 'wh': 3, 'reported': 3, 'tied': 3, 'perfectly': 3, 'represented': 3, 'blocks': 3, 'lands': 3, 'yes': 3, 'dossier': 3, 'regarding': 3, 'courts': 3, 'society': 3, 'treatment': 3, 'programs': 3, 'homeless': 3, 'negative': 3, 'actor': 3, 'breaks': 3, 'powerful': 3, 'stood': 3, 'touch': 3, 'beginning': 3, 'unhinged': 3, 'however': 3, 'hires': 3, 'mnuchin': 3, 'brothers': 3, 'plotting': 3, 'alex': 3, 'christian': 3, 'ga': 3, 'persons': 3, 'grow': 3, 'biden': 3, 'privilege': 3, 'politics': 3, 'qualified': 3, 'yale': 3, 'cry': 3, 'yorker': 3, 'vast': 3, 'front': 3, 'briefing': 3, 'blue': 3, 'gains': 3, 'alleged': 3, 'jewish': 3, 'pittsburgh': 3, 'demanded': 3, 'described': 3, 'tool': 3, 'actors': 3, 'community': 3, 'insists': 3, 'oppose': 3, 'arizona': 3, 'phone': 3, 'damn': 3, 'deal': 3, 'newspaper': 3, 'editor': 3, 'played': 3, 'nonsense': 3, 'regulations': 3, 'cbs': 3, 'industry': 3, 'legislation': 3, 'follow': 3, 'text': 3, 'invite': 3, 'camera': 3, 'banned': 3, 'parade': 3, 'officer': 3, 'july': 3, 'aides': 3, 'graham': 3, 'marriage': 3, 'suddenly': 3, 'treat': 3, 'drunk': 3, 'primary': 3, 'felt': 3, 'levels': 3, 'silence': 3, 'eldest': 3, 'hurt': 3, 'machine': 3, 'conspired': 3, 'seem': 3, 'witch': 3, 'hunt': 3, 'related': 3, 'contacts': 3, 'whole': 3, 'statistics': 3, 'ran': 3, 'puts': 3, 'written': 3, 'looks': 3, 'flatly': 3, 'forgotten': 3, 'assaulting': 3, 'attempting': 3, 'accusations': 3, 'footage': 3, 'missing': 3, 'cory': 3, 'mounting': 3, 'wake': 3, 'poor': 3, 'republic': 3, 'agent': 3, 'actively': 3, 'innocence': 3, 'uk': 3, 'hand': 3, 'adults': 3, 'holdings': 3, 'across': 3, 'beto': 3, 'return': 3, 'attention': 3, 'human': 3, 'considered': 3, 'hated': 3, 'hit': 3, 'dying': 3, 'complaining': 3, 'detention': 3, 'helped': 3, 'write': 3, 'gif': 3, 'shocked': 3, 'hope': 3, 'chinese': 3, 'steal': 3, 'teen': 3, 'girl': 3, 'damaging': 3, 'helsinki': 3, 'publicly': 3, 'payment': 3, 'leaked': 3, 'continue': 3, 'modern': 3, 'ready': 3, 'damage': 3, 'relationships': 3, 'built': 3, 'break': 3, 'teenagers': 3, 'per': 3, 'final': 3, 'kennedy': 3, 'shooter': 3, 'plea': 3, 'prominent': 3, 'ideology': 3, 'supports': 3, 'gay': 3, 'though': 3, 'treated': 3, 'thinking': 3, 'moron': 3, 'truly': 3, 'letting': 3, 'ads': 3, 'filed': 3, 'higher': 3, 'bank': 3, 'okay': 3, 'approve': 3, 'utterly': 3, 'network': 3, 'hannitys': 3, 'politely': 3, 'fully': 3, 'quite': 3, 'known': 3, 'loaned': 3, 'although': 3, 'extremely': 3, 'sale': 3, 'current': 3, 'equity': 3, 'code': 3, 'transaction': 3, 'rental': 3, 'lazy': 3, 'trait': 3, 'eventually': 3, 'bringing': 3, 'anglin': 3, 'homicides': 3, 'image': 3, 'casino': 3, 'race': 2, 'protections': 2, 'covered': 2, 'wars': 2, 'somewhere': 2, 'turkish': 2, 'congratulate': 2, 'turkey': 2, 'congratulating': 2, 'install': 2, 'dictatorship': 2, 'interfering': 2, 'different': 2, 'thirteen': 2, 'unelected': 2, 'population': 2, 'ocasiocortez': 2, 'pick': 2, 'waitress': 2, 'deny': 2, 'cell': 2, 'walk': 2, 'revelation': 2, 'pause': 2, 'occupying': 2, 'unseat': 2, 'bomber': 2, 'blow': 2, 'sandy': 2, 'hook': 2, 'scientist': 2, 'radio': 2, 'marching': 2, 'project': 2, 'passes': 2, 'raid': 2, 'coward': 2, 'disclose': 2, 'dozens': 2, 'clearance': 2, 'forms': 2, 'backed': 2, 'location': 2, 'sensitive': 2, 'eric': 2, 'rely': 2, 'funding': 2, 'pro': 2, 'passthrough': 2, 'type': 2, 'entity': 2, 'asshole': 2, 'cares': 2, 'horrible': 2, 'reopened': 2, 'absentee': 2, 'ballots': 2, 'chaffetz': 2, 'wins': 2, 'miss': 2, 'utah': 2, 'mouth': 2, 'reminded': 2, 'brushed': 2, 'buzzfeed': 2, 'reps': 2, 'tomorrow': 2, 'feed': 2, 'protection': 2, 'fronts': 2, 'mysterious': 2, 'buildings': 2, 'spends': 2, 'georgias': 2, 'register': 2, 'chance': 2, 'rent': 2, 'kenya': 2, 'aids': 2, 'covering': 2, 'heinous': 2, 'arpaio': 2, 'vile': 2, 'newly': 2, 'outlet': 2, 'anderson': 2, 'cooper': 2, 'authoritarian': 2, 'unbelievable': 2, 'murderer': 2, 'racists': 2, 'falsely': 2, 'conclusions': 2, 'clooney': 2, 'grew': 2, 'eight': 2, 'gross': 2, 'unamerican': 2, 'wanda': 2, 'sykes': 2, 'kneel': 2, 'focusing': 2, 'google': 2, 'allows': 2, 'organize': 2, 'cheated': 2, 'baby': 2, 'beauty': 2, 'drill': 2, 'mandate': 2, 'aca': 2, 'hear': 2, 'spreading': 2, 'dismissed': 2, 'master': 2, 'class': 2, 'tough': 2, 'simultaneously': 2, 'bob': 2, 'athletes': 2, 'vladimir': 2, 'especially': 2, 'deaths': 2, 'moral': 2, 'marco': 2, 'europe': 2, 'unable': 2, 'responds': 2, 'underestimate': 2, 'leaves': 2, 'surplus': 2, 'saves': 2, 'reduction': 2, 'attorneys': 2, 'shep': 2, 'smith': 2, 'denying': 2, 'obstructing': 2, 'accusing': 2, 'colluding': 2, 'arrests': 2, 'appreciate': 2, 'liars': 2, 'streets': 2, 'misconduct': 2, 'taste': 2, 'taxpayers': 2, 'weekend': 2, 'spies': 2, 'bombs': 2, 'terrorists': 2, 'tooth': 2, 'orange': 2, 'increase': 2, 'representing': 2, 'xi': 2, 'sums': 2, 'recently': 2, 'acted': 2, 'opposite': 2, 'resisting': 2, 'reminding': 2, 'nail': 2, 'lee': 2, 'frankly': 2, 'consulted': 2, 'cite': 2, 'fewer': 2, 'threatening': 2, 'legislative': 2, 'concluded': 2, 'terrible': 2, 'opponent': 2, 'key': 2, 'merely': 2, 'ideas': 2, 'stock': 2, 'mitt': 2, 'romney': 2, 'disabled': 2, 'dollar': 2, 'super': 2, 'huffpo': 2, 'officially': 2, 'emoluments': 2, 'peaceful': 2, 'brainwashing': 2, 'arent': 2, 'side': 2, 'pull': 2, 'mission': 2, 'weve': 2, 'straight': 2, 'salute': 2, 'whos': 2, 'murders': 2, 'aims': 2, 'brutality': 2, 'veterans': 2, 'budget': 2, 'shithole': 2, 'visiting': 2, 'costs': 2, 'cancer': 2, 'bankruptcy': 2, 'apartment': 2, 'targeting': 2, 'settled': 2, 'parties': 2, 'ambushed': 2, 'benghazi': 2, 'hood': 2, 'add': 2, 'enjoys': 2, 'peace': 2, 'pension': 2, 'career': 2, 'melania': 2, 'feared': 2, 'denier': 2, 'tapes': 2, 'witness': 2, 'vacant': 2, 'representation': 2, 'rated': 2, 'launched': 2, 'justify': 2, 'demanding': 2, 'mattis': 2, 'learn': 2, 'funneling': 2, 'strange': 2, 'comfortable': 2, 'jrs': 2, 'include': 2, 'risk': 2, 'matthew': 2, 'council': 2, 'greater': 2, 'resigning': 2, 'wapo': 2, 'sharply': 2, 'erik': 2, 'seychelles': 2, 'prince': 2, 'retweeting': 2, 'unnamed': 2, 'matt': 2, 'judges': 2, 'constitutional': 2, 'disaster': 2, 'posttrump': 2, 'language': 2, 'subvert': 2, 'normal': 2, 'channels': 2, 'waited': 2, 'reform': 2, 'lowest': 2, 'south': 2, 'mexico': 2, 'requests': 2, 'condolences': 2, 'settlement': 2, 'light': 2, 'thursday': 2, 'globe': 2, 'scared': 2, 'dictator': 2, 'rex': 2, 'jury': 2, 'confederacy': 2, 'felon': 2, 'ovation': 2, 'immediately': 2, 'delta': 2, 'prosecutor': 2, 'trading': 2, 'preventing': 2, 'demonstrations': 2, 'pelosi': 2, 'player': 2, 'colin': 2, 'kaepernick': 2, 'knee': 2, 'sit': 2, 'accidentally': 2, 'flies': 2, 'expense': 2, 'female': 2, 'kamala': 2, 'harris': 2, 'adds': 2, 'polygraphs': 2, 'hiring': 2, 'hamill': 2, 'havent': 2, 'exposed': 2, 'founder': 2, 'trumpputin': 2, 'channel': 2, 'difficult': 2, 'parents': 2, 'hiding': 2, 'reaction': 2, 'overnight': 2, 'treasury': 2, 'administrations': 2, 'scaramucci': 2, 'reince': 2, 'priebus': 2, 'congratulations': 2, 'dignified': 2, 'perfect': 2, 'counter': 2, 'internment': 2, 'inappropriate': 2, 'mcraven': 2, 'tears': 2, 'actions': 2, 'premiums': 2, 'nationwide': 2, 'pathetic': 2, 'welfare': 2, 'level': 2, 'waste': 2, 'impossible': 2, 'complete': 2, 'piece': 2, 'parts': 2, 'require': 2, 'beat': 2, 'prepared': 2, 'decided': 2, 'research': 2, 'stocks': 2, 'manhattan': 2, 'potential': 2, 'act': 2, 'dinner': 2, 'trumpers': 2, 'mishandling': 2, 'roll': 2, 'vetoproof': 2, 'houses': 2, 'commits': 2, 'penalty': 2, 'disgusting': 2, 'christians': 2, 'pedophilia': 2, 'snakes': 2, 'sorry': 2, 'choice': 2, 'teachers': 2, 'dummy': 2, 'sally': 2, 'contradict': 2, 'brand': 2, 'charities': 2, 'associated': 2, 'earlier': 2, 'snopes': 2, 'quit': 2, 'dept': 2, 'reject': 2, 'theorist': 2, 'receive': 2, 'frum': 2, 'france': 2, 'significant': 2, 'anniversary': 2, 'piss': 2, 'mods': 2, 'dozen': 2, 'rips': 2, 'jokes': 2, 'hatred': 2, 'depressing': 2, 'disturbing': 2, 'number': 2, 'upset': 2, 'survey': 2, 'bias': 2, 'mom': 2, 'gallup': 2, 'deniers': 2, 'grown': 2, 'positions': 2, 'culture': 2, 'donate': 2, 'fellow': 2, 'flat': 2, 'schiff': 2, 'intel': 2, 'questions': 2, 'priority': 2, 'juan': 2, 'unite': 2, 'birthday': 2, 'greeting': 2, 'april': 2, 'coal': 2, 'partisanship': 2, 'line': 2, 'balloon': 2, 'kid': 2, 'homes': 2, 'maxine': 2, 'waters': 2, 'klan': 2, 'amendments': 2, 'licenses': 2, 'knowing': 2, 'demands': 2, 'height': 2, 'toadies': 2, 'caesar': 2, 'outrage': 2, 'warns': 2, 'usmexico': 2, 'choose': 2, 'liberty': 2, 'seeks': 2, 'spending': 2, 'revenue': 2, 'waging': 2, 'fool': 2, 'ranked': 2, 'charity': 2, 'distract': 2, 'trumpappointed': 2, 'ed': 2, 'keith': 2, 'movie': 2, 'ignores': 2, 'scene': 2, 'laura': 2, 'ingraham': 2, 'kemp': 2, 'aspiring': 2, 'relatively': 2, 'seth': 2, 'removes': 2, 'attacked': 2, 'economists': 2, 'physical': 2, 'mentally': 2, 'challenged': 2, 'stacey': 2, 'experience': 2, 'throwing': 2, 'condemn': 2, 'nationalism': 2, 'trial': 2, 'third': 2, 'client': 2, 'entirely': 2, 'trips': 2, 'enjoyed': 2, 'blocking': 2, 'habitual': 2, 'genius': 2, 'bankruptcies': 2, 'upcoming': 2, 'shock': 2, 'compared': 2, 'mob': 2, 'boss': 2, 'training': 2, 'reiner': 2, 'womp': 2, 'deduction': 2, 'expression': 2, 'picked': 2, 'lock': 2, 'manaforts': 2, 'exist': 2, 'convention': 2, 'nationalist': 2, 'cities': 2, 'trumpism': 2, 'oliver': 2, 'equated': 2, 'survivors': 2, 'violation': 2, 'conversations': 2, 'pushed': 2, 'capacity': 2, 'moved': 2, 'essentially': 2, 'snl': 2, 'advisers': 2, 'bag': 2, 'photoshopped': 2, 'emma': 2, 'gonzales': 2, 'closing': 2, 'revealed': 2, 'consultants': 2, 'shoot': 2, 'oh': 2, 'god': 2, 'unconstitutional': 2, 'argument': 2, 'decide': 2, 'christ': 2, 'fought': 2, 'op': 2, 'obvious': 2, 'deserves': 2, 'connections': 2, 'upvotes': 2, 'scotus': 2, 'kennedys': 2, 'sam': 2, 'ceo': 2, 'pac': 2, 'rolled': 2, 'exclusive': 2, 'renting': 2, 'properties': 2, 'giuliani': 2, 'cybersecurity': 2, 'hanassholesolo': 2, 'charles': 2, 'wsj': 2, 'august': 2, 'apartments': 2, 'together': 2, 'forcing': 2, 'hearings': 2, 'church': 2, 'facing': 2, 'potentially': 2, 'insider': 2, 'direction': 2, 'purpose': 2, 'historian': 2, 'unusually': 2, 'rush': 2, 'irma': 2, 'crowded': 2, 'talks': 2, 'dealers': 2, 'mercy': 2, 'created': 2, 'awoken': 2, 'thinktank': 2, 'insane': 2, 'assets': 2, 'burns': 2, 'science': 2, 'comparison': 2, 'neonazi': 2, 'homicide': 2, 'nsa': 2, 'visas': 2, 'responding': 2, 'influence': 2, 'approach': 2, 'michelle': 2, 'wolf': 2, 'funny': 2, 'student': 2, 'classmate': 2, 'klaas': 2, 'reasons': 2, 'audience': 2, 'kanye': 2, 'rant': 2, 'additional': 2, 'loyalty': 2, 'confirmation': 2, 'aggressive': 2, 'respond': 2, 'mutual': 2, 'scientific': 2, 'poses': 2, 'praised': 2, 'likeminded': 2, 'steele': 2, 'noticed': 2, 'attempts': 2, 'midterm': 2, 'extent': 2, 'tariffs': 2, 'dean': 2, 'busted': 2, 'leak': 2, 'commerce': 2, 'wilbur': 2, 'ross': 2, 'davidson': 2, 'exact': 2, 'indicts': 2, 'bloomberg': 2, 'tolerance': 2, 'cages': 2, 'radical': 2, 'alexander': 2, 'stone': 2, 'dana': 2, 'rohrabacher': 2, 'publishing': 2, 'widespread': 2, 'practice': 2, 'recording': 2, 'locked': 2, 'indicted': 2, 'doubt': 2, 'harvard': 2, 'declares': 2, 'sensanders': 2, 'gianforte': 2, 'darkest': 2, 'watergate': 2, 'connection': 2, 'djt': 2, 'tenure': 2, 'offer': 2, 'ultimate': 2, 'raising': 2, 'leaks': 2, 'huckabee': 2, 'pretending': 2, 'vermont': 2, 'club': 2, 'impulse': 2, 'wave': 2, 'subs': 2, 'absolute': 2, 'usa': 2, 'innocent': 2, 'proved': 2, 'shelved': 2, 'believes': 2, 'consequences': 2, 'refused': 2, 'providing': 2, 'display': 2, 'slaughter': 2, 'paper': 2, 'firm': 2, 'smear': 2, 'spoke': 2, 'raises': 2, 'savings': 2, 'carson': 2, 'housing': 2, 'panel': 2, 'shady': 2, 'near': 2, 'unanimous': 2, 'mother': 2, 'serving': 2, 'davis': 2, 'denies': 2, 'ahead': 2, 'overwhelmingly': 2, 'diaper': 2, 'cummings': 2, 'obamas': 2, 'vacations': 2, 'cancelled': 2, 'congressmen': 2, 'barack': 2, 'officers': 2, 'luck': 2, 'boys': 2, 'demonstrates': 2, 'boards': 2, 'pregnant': 2, 'conversation': 2, 'presumption': 2, 'luxury': 2, 'soul': 2, 'meanwhile': 2, 'tank': 2, 'killing': 2, 'abuses': 2, 'colleges': 2, 'investigations': 2, 'refugees': 2, 'coconspirator': 2, 'stopping': 2, 'disagree': 2, 'armed': 2, 'harassed': 2, 'hawaii': 2, 'meddling': 2, 'explain': 2, 'violate': 2, 'decline': 2, 'subpoena': 2, 'invoke': 2, 'testify': 2, 'suicide': 2, 'todays': 2, 'fabricated': 2, 'manipulated': 2, 'transcript': 2, 'admin': 2, 'obamaera': 2, 'cerberus': 2, 'threaten': 2, 'joint': 2, 'de': 2, 'tony': 2, 'declaring': 2, 'bases': 2, 'oped': 2, 'saving': 2, 'unrelated': 2, 'ukraine': 2, 'hostile': 2, 'conroy': 2, 'morally': 2, 'strip': 2, 'terrifying': 2, 'em': 2, 'focus': 2, 'average': 2, 'torture': 2, 'beating': 2, 'memos': 2, 'clearly': 2, 'sounds': 2, 'familiar': 2, 'vowed': 2, 'picks': 2, 'couldnt': 2, 'watch': 2, 'briefings': 2, 'execute': 2, 'muellers': 2, 'miller': 2, 'convincing': 2, 'applies': 2, 'disgrace': 2, 'bet': 2, 'hour': 2, 'starts': 2, 'shithead': 2, 'standard': 2, 'round': 2, 'colleagues': 2, 'offices': 2, 'station': 2, 'sales': 2, 'afraid': 2, 'proud': 2, 'medicaid': 2, 'falls': 2, 'peanuts': 2, 'attended': 2, 'anyway': 2, 'expected': 2, 'trauma': 2, 'survive': 2, 'pretrial': 2, 'mental': 2, 'declare': 2, 'germany': 2, 'alone': 2, 'significantly': 2, 'whine': 2, 'infiltrate': 2, 'successfully': 2, 'prosecuted': 2, 'murderers': 2, 'era': 2, 'equal': 2, 'slashing': 2, 'decides': 2, 'marijuana': 2, 'period': 2, 'prison': 2, 'deposition': 2, 'abortions': 2, 'sinks': 2, 'wing': 2, 'followers': 2, 'diploma': 2, 'marketing': 2, 'counts': 2, 'coordinated': 2, 'ridiculous': 2, 'assistant': 2, 'includes': 2, 'movement': 2, 'ashamed': 2, 'behavior': 2, 'removed': 2, 'protesting': 2, 'outlaw': 2, 'immediate': 2, 'weapon': 2, 'disapprove': 2, 'parenthood': 2, 'impeachment': 2, 'anybody': 2, 'article': 2, 'tantalizing': 2, 'shipping': 2, 'bosses': 2, 'tokhtakhounov': 2, 'among': 2, 'cool': 2, 'arnold': 2, 'testifying': 2, 'continued': 2, 'extreme': 2, 'regard': 2, 'thread': 2, 'trolling': 2, 'guide': 2, 'constantly': 2, 'purposes': 2, 'enrollment': 2, 'communication': 2, 'assistance': 2, 'loved': 2, 'routine': 2, 'involving': 2, 'closest': 2, 'thus': 2, 'targeted': 2, 'inner': 2, 'circle': 2, 'barred': 2, 'listen': 2, 'schmidt': 2, 'form': 2, 'term': 2, 'operate': 2, 'employee': 2, 'pretty': 2, 'worker': 2, 'version': 2, 'crooked': 2, 'traitorous': 2, 'honestly': 2, 'supported': 2, 'edit': 2, 'upvoted': 2, 'rats': 2, 'unilaterally': 2, 'appreciated': 2, 'purchased': 2, 'profile': 2, 'suspiciously': 2, 'repayment': 2, 'happens': 2, 'dig': 2, 'buys': 2, 'appreciates': 2, 'value': 2, 'depreciates': 2, 'borrows': 2, 'taxable': 2, 'generally': 2, 'deductions': 2, 'assuming': 2, 'maximum': 2, 'realized': 2, 'straightline': 2, 'chain': 2, 'existing': 2, 'appreciation': 2, 'ultimately': 2, 'commercial': 2, 'cutting': 2, 'networks': 2, 'speaker': 2, 'randomly': 2, 'pulling': 2, 'causes': 2, 'broadcast': 2, 'realise': 2, 'oppressive': 2, 'regimes': 2, 'ill': 2, 'africa': 2, 'theory': 2, 'meaning': 2, 'mainstream': 2, 'subscribers': 2, 'martyrs': 2, 'downvoted': 2, 'polite': 2, 'propagandist': 2, 'eta': 2, 'product': 2, 'lack': 2, 'gillette': 2, 'elorncauserhometogocom': 2, 'usaa': 2, 'detailed': 2, 'script': 2, 'wear': 2, 'yarmulkes': 2, 'fault': 2, 'laziness': 2, 'playboy': 2, 'conceded': 2, 'odonnell': 2, 'lousy': 2, 'problems': 2, 'studies': 2, 'nativeborn': 2, 'criticize': 2, 'racism': 2, 'explained': 2, 'references': 2, 'table': 2, 'contrasts': 2, 'discrimination': 2, 'testers': 2, 'quoted': 2, 'accountant': 2, 'confirming': 2, 'releasing': 2, 'carolina': 1, 'gerrymandering': 1, 'districts': 1, 'obamacares': 1, 'ramping': 1, 'erdoğan': 1, 'referendum': 1, 'measure': 1, 'effectively': 1, 'nearunanimous': 1, 'imposing': 1, 'acknowledge': 1, 'stoke': 1, 'bowling': 1, 'atl': 1, 'sweden': 1, 'historic': 1, 'proportions': 1, 'wild': 1, 'preposterous': 1, 'badass': 1, 'filibuster': 1, 'gorsuch': 1, 'merkley': 1, 'overrode': 1, 'anytime': 1, 'draining': 1, 'onboarding': 1, 'frustrating': 1, 'congressmembers': 1, 'affordability': 1, 'medicareforall': 1, 'gofundme': 1, 'expenses': 1, 'ukrainians': 1, 'laundered': 1, 'proputin': 1, 'unless': 1, 'sipping': 1, 'polonium': 1, 'tea': 1, 'suggest': 1, 'singing': 1, 'bombshell': 1, 'associates': 1, 'shoe': 1, 'plane': 1, 'usdas': 1, 'iowa': 1, 'skeptic': 1, 'colbert': 1, 'renamed': 1, 'kris': 1, 'kobach': 1, 'chair': 1, 'yemen': 1, 'suckers': 1, 'ownership': 1, 'stake': 1, 'startup': 1, 'guarantees': 1, 'dialed': 1, 'swampiness': 1, 'quist': 1, 'psycho': 1, 'packing': 1, 'writer': 1, 'schumer': 1, 'donuts': 1, 'goalpost': 1, 'flows': 1, 'marginal': 1, 'selfenrichment': 1, 'residents': 1, 'request': 1, 'iphones': 1, 'temple': 1, 'taggart': 1, 'contestant': 1, 'kissed': 1, 'appointments': 1, 'erdogans': 1, 'thugs': 1, 'alert': 1, 'affects': 1, 'employers': 1, 'reckoning': 1, 'eased': 1, 'elon': 1, 'musk': 1, 'departing': 1, 'councils': 1, 'pompeos': 1, 'points': 1, 'worries': 1, 'swampy': 1, 'psa': 1, 'ryancare': 1, 'dianne': 1, 'gallagher': 1, 'oligarch': 1, 'oleg': 1, 'deripaska': 1, 'entered': 1, 'reactivated': 1, 'files': 1, 'millionyear': 1, 'bulldozed': 1, 'strips': 1, 'molester': 1, 'atlanta': 1, 'curiel': 1, 'haitians': 1, 'nigerians': 1, 'huts': 1, 'phoenix': 1, 'sheriff': 1, 'pardoned': 1, 'ally': 1, 'unloaded': 1, 'dizzying': 1, 'documented': 1, 'deputies': 1, 'kos': 1, 'takeaknee': 1, 'waving': 1, 'rewarded': 1, 'unclassified': 1, 'kremlinbacked': 1, 'stonewalling': 1, 'dictators': 1, 'rulers': 1, 'truest': 1, 'spot': 1, 'difference': 1, 'dcand': 1, 'silent': 1, 'bitch': 1, 'tolerating': 1, 'eligible': 1, 'blocs': 1, 'deregistered': 1, 'qualms': 1, 'jumping': 1, 'doortodoor': 1, 'understanding': 1, 'elite': 1, 'toilet': 1, 'combats': 1, 'jumped': 1, 'headfirst': 1, 'endorsing': 1, 'sitting': 1, 'weaver': 1, 'evasion': 1, 'misuse': 1, 'charitable': 1, 'trick': 1, 'godaddy': 1, 'recap': 1, 'committing': 1, 'date': 1, 'morality': 1, 'heck': 1, 'contestants': 1, 'reclassifying': 1, 'conception': 1, 'oil': 1, 'arctic': 1, 'wildlife': 1, 'preserve': 1, 'honorable': 1, 'abruptly': 1, 'veselnitskaya': 1, 'awfully': 1, 'comply': 1, 'standards': 1, 'feuding': 1, 'flake': 1, 'feud': 1, 'predict': 1, 'ret': 1, 'astronaut': 1, 'dot': 1, 'faa': 1, 'airline': 1, 'responsibility': 1, 'football': 1, 'peacefully': 1, 'marched': 1, 'truck': 1, 'constituents': 1, 'rude': 1, 'hannitynewtgingrich': 1, 'pm': 1, 'aug': 1, 'reagan': 1, 'explodes': 1, 'deficits': 1, 'reverses': 1, 'collapse': 1, 'reduces': 1, 'fastest': 1, 'rinse': 1, 'repeat': 1, 'jaws': 1, 'handpick': 1, 'charge': 1, 'wives': 1, 'staffers': 1, 'plead': 1, 'resorts': 1, 'upside': 1, 'cooties': 1, 'investigators': 1, 'plank': 1, 'wish': 1, 'weasels': 1, 'field': 1, 'mccarthy': 1, 'wikipedia': 1, 'outlines': 1, 'donation': 1, 'british': 1, 'teams': 1, 'africanamericans': 1, 'store': 1, 'extremist': 1, 'mailing': 1, 'antisemite': 1, 'radicalized': 1, 'fairy': 1, 'trumpsamerica': 1, 'fat': 1, 'ten': 1, 'prompted': 1, 'unqualified': 1, 'daughterinchief': 1, 'merkel': 1, 'announced': 1, 'venezuela': 1, 'citgo': 1, 'sixfigure': 1, 'lobby': 1, 'beast': 1, 'arpaiotrump': 1, 'chosen': 1, 'lawlessness': 1, 'unityhurt': 1, 'healinghe': 1, 'illegalfailed': 1, 'practices': 1, 'struck': 1, 'courtsit': 1, 'racismaclu': 1, 'teddy': 1, 'roosevelt': 1, 'quipped': 1, 'loudly': 1, 'carries': 1, 'stick': 1, 'porter': 1, 'eo': 1, 'parks': 1, 'statues': 1, 'banished': 1, 'meaningful': 1, 'stripped': 1, 'voice': 1, 'square': 1, 'tweetannounced': 1, 'discounts': 1, 'fourstar': 1, 'barry': 1, 'mccaffrey': 1, 'reluctantly': 1, 'vital': 1, 'active': 1, 'unknown': 1, 'sway': 1, 'helps': 1, 'inevitability': 1, 'admittedly': 1, 'livable': 1, 'wage': 1, 'calltextemail': 1, 'autocrats': 1, 'geniuses': 1, 'chess': 1, 'remake': 1, 'fit': 1, 'simplistic': 1, 'empowers': 1, 'dwell': 1, 'simplicity': 1, 'grassroots': 1, 'carrey': 1, 'tuesday': 1, 'deleting': 1, 'profited': 1, 'devoid': 1, 'contributions': 1, 'arrest': 1, 'inhofe': 1, 'rok': 1, 'ought': 1, 'cretin': 1, 'miracle': 1, 'blowing': 1, 'whistle': 1, 'involuntary': 1, 'reassignment': 1, 'cited': 1, 'talent': 1, 'development': 1, 'reassigned': 1, 'accounting': 1, 'collects': 1, 'royalty': 1, 'checks': 1, 'cantwell': 1, 'brutal': 1, 'dictatorial': 1, 'regime': 1, 'missiles': 1, 'delivered': 1, 'chilling': 1, 'encouraging': 1, 'attempted': 1, 'aging': 1, 'severely': 1, 'er': 1, 'sentence': 1, 'unaware': 1, 'owned': 1, 'propublica': 1, 'patterns': 1, 'neglect': 1, 'renters': 1, 'lawsuits': 1, 'debts': 1, 'redhanded': 1, 'feds': 1, 'nras': 1, 'schneiderman': 1, 'conyers': 1, 'niger': 1, 'reverse': 1, 'robin': 1, 'robbing': 1, 'distributing': 1, 'households': 1, 'definedbenefits': 1, 'annually': 1, 'privatize': 1, 'status': 1, 'kick': 1, 'morons': 1, 'nominates': 1, 'usda': 1, 'refute': 1, 'handing': 1, 'intimidating': 1, 'refuses': 1, 'fortune': 1, 'cast': 1, 'reenlist': 1, 'cultists': 1, 'chant': 1, 'drain': 1, 'att': 1, 'novartis': 1, 'payoff': 1, 'slush': 1, 'filing': 1, 'awkward': 1, 'democracies': 1, 'feels': 1, 'despots': 1, 'liarinchief': 1, 'document': 1, 'adoption': 1, 'sr': 1, 'unmasked': 1, 'landlord': 1, 'investing': 1, 'communities': 1, 'badly': 1, 'investment': 1, 'checked': 1, 'neighborhoods': 1, 'jacked': 1, 'rents': 1, 'spectacular': 1, 'expands': 1, 'welcomed': 1, 'chants': 1, 'dowd': 1, 'learned': 1, 'compass': 1, 'plunging': 1, 'interviews': 1, 'exteacher': 1, 'premium': 1, 'dropped': 1, 'credits': 1, 'stat': 1, 'schemed': 1, 'web': 1, 'patriot': 1, 'unconstitutionally': 1, 'biblical': 1, 'testament': 1, 'secular': 1, 'concerned': 1, 'becomes': 1, 'suite': 1, 'shrug': 1, 'contains': 1, 'paragraph': 1, 'copypastad': 1, 'exxon': 1, 'scrambles': 1, 'pour': 1, 'trust': 1, 'collude': 1, 'seated': 1, 'dakota': 1, 'discuss': 1, 'taxed': 1, 'baloney': 1, 'chile': 1, 'ranking': 1, 'firms': 1, 'represent': 1, 'julian': 1, 'schmoke': 1, 'devry': 1, 'misled': 1, 'investigates': 1, 'detectors': 1, 'disco': 1, 'skiing': 1, 'vonn': 1, 'postwinter': 1, 'olympics': 1, 'reception': 1, 'aligning': 1, 'protested': 1, 'combined': 1, 'entrance': 1, 'astead': 1, 'herndon': 1, 'sports': 1, 'dealing': 1, 'monarchy': 1, 'confrontation': 1, 'strongest': 1, 'play': 1, 'favorite': 1, 'guest': 1, 'dennis': 1, 'rodman': 1, 'delegation': 1, 'entrepreneurship': 1, 'india': 1, 'impaneled': 1, 'interfered': 1, 'furthermore': 1, 'conclude': 1, 'fundraising': 1, 'mccabe': 1, 'shining': 1, 'drafted': 1, 'valentines': 1, 'coincidence': 1, 'clapper': 1, 'externally': 1, 'internally': 1, 'airlines': 1, 'reaching': 1, 'ending': 1, 'contract': 1, 'discounted': 1, 'requesting': 1, 'queen': 1, 'britain': 1, 'cameron': 1, 'kasky': 1, 'irs': 1, 'condemns': 1, 'wisconsinites': 1, 'nonpartisan': 1, 'oversight': 1, 'fathers': 1, 'sailors': 1, 'plummets': 1, 'beret': 1, 'nate': 1, 'boyer': 1, 'convinced': 1, 'releases': 1, 'undisclosed': 1, 'mayflower': 1, 'privately': 1, 'unmasking': 1, 'protester': 1, 'burn': 1, 'core': 1, 'institution': 1, 'authoritarians': 1, 'exercise': 1, 'fundraiser': 1, 'knowat': 1, 'submitted': 1, 'polygraph': 1, 'unreliable': 1, 'permissible': 1, 'abovethelawcom': 1, 'satisfaction': 1, 'russianbacked': 1, 'wout': 1, 'paranoid': 1, 'panic': 1, 'et': 1, 'blackwater': 1, 'establish': 1, 'accident': 1, 'firsthand': 1, 'loot': 1, 'unilateral': 1, 'screenwriter': 1, 'managed': 1, 'miraculously': 1, 'produced': 1, 'movies': 1, 'licking': 1, 'stupidass': 1, 'screenplays': 1, 'hill': 1, 'sir': 1, 'statesmanlike': 1, 'narrative': 1, 'impulsive': 1, 'childish': 1, 'dimwit': 1, 'removal': 1, 'wwii': 1, 'speach': 1, 'jamboree': 1, 'scout': 1, 'aggravating': 1, 'criticism': 1, 'spurious': 1, 'draft': 1, 'chickenshit': 1, 'sucker': 1, 'study': 1, 'rising': 1, 'pledge': 1, 'cherrypicked': 1, 'assumed': 1, 'direst': 1, 'yawnfest': 1, 'train': 1, 'liked': 1, 'masturbate': 1, 'toys': 1, 'gather': 1, 'jackass': 1, 'cornyn': 1, 'achievement': 1, 'unlocked': 1, 'gavin': 1, 'newsom': 1, 'begging': 1, 'swiss': 1, 'cheese': 1, 'insurmountable': 1, 'barrier': 1, 'cancels': 1, 'roseanne': 1, 'barrs': 1, 'sitcom': 1, 'valerie': 1, 'jarrett': 1, 'giagantic': 1, 'hollow': 1, 'bile': 1, 'dog': 1, 'whistles': 1, 'narcissism': 1, 'governing': 1, 'drum': 1, 'grievance': 1, 'rile': 1, 'discord': 1, 'chicago': 1, 'tribune': 1, 'faulted': 1, 'ricans': 1, 'reliefbecause': 1, 'murikkka': 1, 'pocketing': 1, 'alzheimers': 1, 'parkinsons': 1, 'predicted': 1, 'gillibrand': 1, 'deeply': 1, 'troubled': 1, 'interviewed': 1, 'geoffrey': 1, 'berman': 1, 'permanently': 1, 'disqualifying': 1, 'conflicts': 1, 'affect': 1, 'correspondents': 1, 'guilt': 1, 'sheep': 1, 'dare': 1, 'tragedy': 1, 'violent': 1, 'superb': 1, 'reputation': 1, 'impeccable': 1, 'honesty': 1, 'crumbling': 1, 'branch': 1, 'presumably': 1, 'counterintelligence': 1, 'divisions': 1, 'odd': 1, 'unlucky': 1, 'cocktail': 1, 'cheesy': 1, 'apparatchiks': 1, 'concourse': 1, 'ag': 1, 'reportedly': 1, 'flynns': 1, 'misleading': 1, 'vulnerable': 1, 'compromised': 1, 'invested': 1, 'theme': 1, 'lift': 1, 'hats': 1, 'swallow': 1, 'events': 1, 'ministry': 1, 'maga': 1, 'closely': 1, 'racistnazi': 1, 'sentiments': 1, 'certainly': 1, 'midterms': 1, 'felons': 1, 'pimp': 1, 'katrina': 1, 'wiretapping': 1, 'agreed': 1, 'furtherance': 1, 'yep': 1, 'sinclair': 1, 'television': 1, 'stations': 1, 'incredible': 1, 'respects': 1, 'gained': 1, 'dumb': 1, 'carnage': 1, 'bump': 1, 'express': 1, 'anger': 1, 'disappointment': 1, 'admitting': 1, 'banning': 1, 'meant': 1, 'tallest': 1, 'downtown': 1, 'forum': 1, 'extremism': 1, 'opinion': 1, 'embodies': 1, 'dumbing': 1, 'greed': 1, 'safety': 1, 'thirst': 1, 'incredibly': 1, 'perilous': 1, 'opposing': 1, 'excusing': 1, 'reading': 1, 'extraordinary': 1, 'worrying': 1, 'highlevel': 1, 'lowerlevel': 1, 'handled': 1, 'controlled': 1, 'approaching': 1, 'dreamer': 1, 'remembers': 1, 'measuring': 1, 'gang': 1, 'keeps': 1, 'picking': 1, 'sun': 1, 'disinformation': 1, 'twin': 1, 'towers': 1, 'outrageous': 1, 'unacceptable': 1, 'krugman': 1, 'spin': 1, 'unanswered': 1, 'unexplored': 1, 'witnesses': 1, 'uncalled': 1, 'subpoenas': 1, 'unissued': 1, 'leverage': 1, 'crisis': 1, 'complimentary': 1, 'easy': 1, 'smart': 1, 'greenwood': 1, 'petition': 1, 'lebron': 1, 'normally': 1, 'dirtier': 1, 'lobbyist': 1, 'wheeler': 1, 'command': 1, 'poison': 1, 'environment': 1, 'proclaim': 1, 'voices': 1, 'propriety': 1, 'evening': 1, 'float': 1, 'selfmade': 1, 'titan': 1, 'trustfund': 1, 'con': 1, 'artist': 1, 'proworker': 1, 'proboss': 1, 'flooding': 1, 'raw': 1, 'sewage': 1, 'nymagcom': 1, 'protecting': 1, 'elderly': 1, 'patients': 1, 'nursing': 1, 'gorka': 1, 'series': 1, 'repair': 1, 'harm': 1, 'norms': 1, 'cites': 1, 'expert': 1, 'furious': 1, 'rattles': 1, 'bullys': 1, 'taught': 1, 'bullies': 1, 'repugnant': 1, 'probes': 1, 'centipede': 1, 'flashback': 1, 'productions': 1, 'shakespeares': 1, 'julius': 1, 'malignant': 1, 'pattern': 1, 'woos': 1, 'abandons': 1, 'infested': 1, 'grave': 1, 'nations': 1, 'revoked': 1, 'except': 1, 'waiting': 1, 'tribe': 1, 'cranky': 1, 'obsessive': 1, 'distracted': 1, 'aspects': 1, 'corroborated': 1, 'fisa': 1, 'independent': 1, 'distant': 1, 'enrich': 1, 'empower': 1, 'everywhere': 1, 'accountable': 1, 'co': 1, 'mj': 1, 'renovations': 1, 'scholarships': 1, 'airs': 1, 'primetime': 1, 'disseminated': 1, 'wil': 1, 'wheaton': 1, 'alive': 1, 'worthless': 1, 'sack': 1, 'deductibles': 1, 'renovate': 1, 'modernize': 1, 'stronger': 1, 'disinvited': 1, 'schwarzenegger': 1, 'funneled': 1, 'cleese': 1, 'judeochristian': 1, 'embodying': 1, 'bearing': 1, 'rants': 1, 'meltdowns': 1, 'focused': 1, 'reckless': 1, 'unmanageable': 1, 'confronted': 1, 'comically': 1, 'publish': 1, 'frail': 1, 'sore': 1, 'gillespie': 1, 'wednesday': 1, 'delegates': 1, 'coordinating': 1, 'boykincnna': 1, 'model': 1, 'producer': 1, 'omarosa': 1, 'singer': 1, 'aubrey': 1, 'oday': 1, 'tapped': 1, 'vindicated': 1, 'arguing': 1, 'legally': 1, 'takeover': 1, 'judicial': 1, 'fields': 1, 'pastor': 1, 'inform': 1, 'authorities': 1, 'radicalization': 1, 'embattled': 1, 'engagement': 1, 'egotist': 1, 'familiesaccording': 1, 'sucking': 1, 'praise': 1, 'slumlording': 1, 'empire': 1, 'insulting': 1, 'schooler': 1, 'dumping': 1, 'trend': 1, 'processing': 1, 'registrations': 1, 'georgians': 1, 'scumbag': 1, 'jinping': 1, 'dumbest': 1, 'refer': 1, 'rogan': 1, 'boycotts': 1, 'siriusxm': 1, 'role': 1, 'misread': 1, 'activism': 1, 'threatens': 1, 'vp': 1, 'describing': 1, 'weak': 1, 'physically': 1, 'kumail': 1, 'nanjiani': 1, 'austin': 1, 'referred': 1, 'serial': 1, 'prosecutors': 1, 'resumes': 1, 'helping': 1, 'gov': 1, 'purses': 1, 'bucks': 1, 'pussy': 1, 'grabber': 1, 'itll': 1, 'laughing': 1, 'winery': 1, 'rallying': 1, 'apply': 1, 'vineyard': 1, 'resist': 1, 'wine': 1, 'loses': 1, 'pulpit': 1, 'disorienting': 1, 'habit': 1, 'evident': 1, 'shame': 1, 'counted': 1, 'aircraft': 1, 'executives': 1, 'totaling': 1, 'cruel': 1, 'expanded': 1, 'protected': 1, 'wetland': 1, 'violates': 1, 'eff': 1, 'endless': 1, 'divisiveness': 1, 'mailed': 1, 'pipe': 1, 'eleven': 1, 'seniors': 1, 'pig': 1, 'index': 1, 'businessman': 1, 'stiffing': 1, 'regularguy': 1, 'contractors': 1, 'stunned': 1, 'surreal': 1, 'answered': 1, 'wonders': 1, 'launches': 1, 'dismantled': 1, 'informant': 1, 'screams': 1, 'slippery': 1, 'slope': 1, 'heading': 1, 'abyss': 1, 'pushing': 1, 'harleydavidson': 1, 'promote': 1, 'myth': 1, 'lowtax': 1, 'subsidizing': 1, 'hightax': 1, 'subsidize': 1, 'cisco': 1, 'cocacola': 1, 'shareholders': 1, 'wages': 1, 'citizen': 1, 'headlined': 1, 'cheering': 1, 'fanatically': 1, 'custody': 1, 'alarm': 1, 'cherishes': 1, 'lobbying': 1, 'immunity': 1, 'lesbian': 1, 'cop': 1, 'antilgbt': 1, 'pedophile': 1, 'sabotaging': 1, 'welcome': 1, 'denounces': 1, 'al': 1, 'impropriety': 1, 'exposing': 1, 'monumental': 1, 'sets': 1, 'firstyear': 1, 'fewest': 1, 'caravans': 1, 'antitrump': 1, 'shooters': 1, 'repealing': 1, 'opening': 1, 'hatch': 1, 'weighed': 1, 'uncovered': 1, 'watergatelevel': 1, 'governed': 1, 'kindergartenlevel': 1, 'intellectual': 1, 'parroting': 1, 'constructing': 1, 'priorities': 1, 'baldwin': 1, 'mock': 1, 'violently': 1, 'saudis': 1, 'weapons': 1, 'dumber': 1, 'hammers': 1, 'kathy': 1, 'griffin': 1, 'ketchup': 1, 'mask': 1, 'resembling': 1, 'permanent': 1, 'resident': 1, 'consulate': 1, 'soil': 1, 'duh': 1, 'delusional': 1, 'faked': 1, 'soninlaw': 1, 'compromising': 1, 'siberian': 1, 'bullets': 1, 'circulating': 1, 'tearing': 1, 'awesome': 1, 'harness': 1, 'deploy': 1, 'guarantee': 1, 'demise': 1, 'filmed': 1, 'bribes': 1, 'entrap': 1, 'younger': 1, 'supervision': 1, 'ok': 1, 'emotional': 1, 'circuit': 1, 'appeals': 1, 'served': 1, 'car': 1, 'demonstrate': 1, 'competency': 1, 'similar': 1, 'firearms': 1, 'boils': 1, 'complain': 1, 'suing': 1, 'forgot': 1, 'nda': 1, 'drew': 1, 'alias': 1, 'describes': 1, 'bourbon': 1, 'haiti': 1, 'withstood': 1, 'injustice': 1, 'busy': 1, 'overseas': 1, 'gathers': 1, 'minority': 1, 'justifies': 1, 'resources': 1, 'solely': 1, 'qualifications': 1, 'registered': 1, 'reelected': 1, 'journals': 1, 'dolnick': 1, 'emily': 1, 'pulitzer': 1, 'prize': 1, 'bullying': 1, 'uncovering': 1, 'listing': 1, 'kicked': 1, 'holiday': 1, 'ballot': 1, 'rejection': 1, 'reeks': 1, 'count': 1, 'rudy': 1, 'invaded': 1, 'antipresident': 1, 'skeptics': 1, 'anywhere': 1, 'scare': 1, 'climatechange': 1, 'thirtyseven': 1, 'jimmy': 1, 'bypasses': 1, 'wealth': 1, 'perks': 1, 'flow': 1, 'freely': 1, 'pervert': 1, 'demolishes': 1, 'rebecca': 1, 'ballhaus': 1, 'deals': 1, 'expect': 1, 'attorneyclient': 1, 'tremendously': 1, 'cbo': 1, 'uprising': 1, 'relocate': 1, 'spygate': 1, 'sutherland': 1, 'springs': 1, 'baitandswitch': 1, 'pensions': 1, 'ruin': 1, 'mick': 1, 'mulvaney': 1, 'bribery': 1, 'transparent': 1, 'aid': 1, 'symptom': 1, 'bigger': 1, 'betray': 1, 'pursuit': 1, 'advantage': 1, 'branches': 1, 'limbaughs': 1, 'denunciation': 1, 'equivalent': 1, 'shouting': 1, 'theatre': 1, 'notice': 1, 'fudged': 1, 'lester': 1, 'holt': 1, 'influenced': 1, 'monitors': 1, 'executing': 1, 'vouched': 1, 'smuggling': 1, 'cocaine': 1, 'middle': 1, 'deemed': 1, 'llc': 1, 'questioning': 1, 'apologize': 1, 'insanity': 1, 'delusion': 1, 'bat': 1, 'defends': 1, 'wildfire': 1, 'newsweek': 1, 'zinke': 1, 'racebaiter': 1, 'foxnews': 1, 'weekends': 1, 'vs': 1, 'summer': 1, 'unveiled': 1, 'providers': 1, 'broad': 1, 'determine': 1, 'websites': 1, 'customers': 1, 'highschool': 1, 'developed': 1, 'answer': 1, 'insultingly': 1, 'virtue': 1, 'disrupt': 1, 'cyberattacks': 1, 'seasonal': 1, 'floridians': 1, 'soviet': 1, 'listening': 1, 'approved': 1, 'offering': 1, 'uninformed': 1, 'bail': 1, 'incarcerated': 1, 'yr': 1, 'petitionswhitehousegov': 1, 'peddle': 1, 'pissed': 1, 'storm': 1, 'elementary': 1, 'mistakes': 1, 'franklin': 1, 'fuckwad': 1, 'sanctity': 1, 'demonizes': 1, 'gays': 1, 'fucks': 1, 'waver': 1, 'lawyerspy': 1, 'targets': 1, 'deportation': 1, 'exaggeration': 1, 'western': 1, 'instruct': 1, 'shield': 1, 'prosecution': 1, 'boos': 1, 'magabombers': 1, 'van': 1, 'academy': 1, 'cadets': 1, 'incident': 1, 'dignity': 1, 'visual': 1, 'activists': 1, 'wheelchairs': 1, 'rachel': 1, 'truthful': 1, 'road': 1, 'nominees': 1, 'minor': 1, 'varsity': 1, 'basketball': 1, 'belligerent': 1, 'witnessed': 1, 'semihostile': 1, 'remark': 1, 'beer': 1, 'macfarlane': 1, 'accelerating': 1, 'survival': 1, 'future': 1, 'generations': 1, 'clueless': 1, 'nat': 1, 'bolton': 1, 'protorture': 1, 'missouri': 1, 'powell': 1, 'dismayed': 1, 'orwellian': 1, 'doublespeak': 1, 'acolytes': 1, 'games': 1, 'reallife': 1, 'effects': 1, 'observed': 1, 'nancy': 1, 'advocating': 1, 'longest': 1, 'continuous': 1, 'kickback': 1, 'bribe': 1, 'topsecret': 1, 'increasingly': 1, 'labeled': 1, 'trumpets': 1, 'listens': 1, 'roads': 1, 'christopher': 1, 'desperate': 1, 'effective': 1, 'cheats': 1, 'pornstars': 1, 'insatiable': 1, 'lust': 1, 'keeping': 1, 'quitting': 1, 'professional': 1, 'rings': 1, 'challengers': 1, 'caucus': 1, 'tuned': 1, 'goprnc': 1, 'participate': 1, 'indications': 1, 'sweeping': 1, 'consumers': 1, 'alienate': 1, 'partners': 1, 'allegedly': 1, 'worried': 1, 'charged': 1, 'payoffs': 1, 'spring': 1, 'eye': 1, 'slogan': 1, 'sub': 1, 'lucas': 1, 'mollie': 1, 'smallminded': 1, 'generalize': 1, 'snake': 1, 'cousins': 1, 'caravan': 1, 'hysteria': 1, 'citizenship': 1, 'slow': 1, 'implicating': 1, 'trumpsupporters': 1, 'disprove': 1, 'protrumpantiobama': 1, 'conclusion': 1, 'enable': 1, 'whitecollar': 1, 'metaphor': 1, 'crook': 1, 'restore': 1, 'acostas': 1, 'cheers': 1, 'whoever': 1, 'farce': 1, 'nationals': 1, 'pew': 1, 'dishonesty': 1, 'dishonest': 1, 'chorus': 1, 'enablers': 1, 'cnns': 1, 'lemon': 1, 'answers': 1, 'classrooms': 1, 'cowed': 1, 'bets': 1, 'peter': 1, 'jukes': 1, 'julianassange': 1, 'avatar': 1, 'transparency': 1, 'nix': 1, 'roger': 1, 'nigel': 1, 'farage': 1, 'alt': 1, 'crew': 1, 'betrayed': 1, 'misdeeds': 1, 'authors': 1, 'concentrate': 1, 'motel': 1, 'ratted': 1, 'guests': 1, 'hispanic': 1, 'surnames': 1, 'coddling': 1, 'enemies': 1, 'offending': 1, 'heights': 1, 'corroding': 1, 'transatlantic': 1, 'alliance': 1, 'happier': 1, 'gives': 1, 'rod': 1, 'prediction': 1, 'ratingsbeats': 1, 'nyu': 1, 'universities': 1, 'considerably': 1, 'dan': 1, 'credentials': 1, 'solidarity': 1, 'skinny': 1, 'katie': 1, 'hobbs': 1, 'gaynor': 1, 'brothersfunded': 1, 'trash': 1, 'expenditures': 1, 'greg': 1, 'operative': 1, 'tinfoil': 1, 'hat': 1, 'rigging': 1, 'antivoter': 1, 'antidemocracy': 1, 'exwife': 1, 'associate': 1, 'reminds': 1, 'tier': 1, 'confidential': 1, 'kavanaughs': 1, 'despite': 1, 'pages': 1, 'amid': 1, 'notable': 1, 'london': 1, 'indictments': 1, 'perhaps': 1, 'endofyear': 1, 'flurry': 1, 'activity': 1, 'concocting': 1, 'woes': 1, 'cautionary': 1, 'tale': 1, 'trickledown': 1, 'reforms': 1, 'outlook': 1, 'grim': 1, 'heresy': 1, 'union': 1, 'contradictory': 1, 'gaslights': 1, 'uncover': 1, 'fan': 1, 'depend': 1, 'millennials': 1, 'becoming': 1, 'motivated': 1, 'scammed': 1, 'criminally': 1, 'russpublican': 1, 'brigade': 1, 'impunity': 1, 'kremlingop': 1, 'censorship': 1, 'track': 1, 'zuckerberg': 1, 'engineering': 1, 'iti': 1, 'traitors': 1, 'fix': 1, 'levar': 1, 'burton': 1, 'lavar': 1, 'ball': 1, 'josh': 1, 'campbell': 1, 'encountered': 1, 'queens': 1, 'pulls': 1, 'nytimes': 1, 'urging': 1, 'towards': 1, 'nominated': 1, 'prosecutioninvestigation': 1, 'defeated': 1, 'collaborate': 1, 'papaw': 1, 'devastated': 1, 'schedule': 1, 'wasted': 1, 'constituent': 1, 'broken': 1, 'brain': 1, 'wayne': 1, 'dupree': 1, 'yearolds': 1, 'atrocious': 1, 'decency': 1, 'talked': 1, 'recorded': 1, 'syrian': 1, 'drone': 1, 'favorably': 1, 'receiving': 1, 'bonuses': 1, 'workingclass': 1, 'middleclass': 1, 'linked': 1, 'shell': 1, 'hosted': 1, 'discussion': 1, 'hud': 1, 'privatization': 1, 'guardian': 1, 'leguizamo': 1, 'confesses': 1, 'donating': 1, 'el': 1, 'paso': 1, 'disenfranchising': 1, 'republicanism': 1, 'christine': 1, 'todd': 1, 'whitman': 1, 'steven': 1, 'window': 1, 'advisory': 1, 'insufficient': 1, 'iran': 1, 'redirects': 1, 'antiabortion': 1, 'salon': 1, 'implemented': 1, 'holocaust': 1, 'museum': 1, 'messed': 1, 'kneeling': 1, 'migrant': 1, 'separation': 1, 'ep': 1, 'crashed': 1, 'hadnt': 1, 'podium': 1, 'belonged': 1, 'ribboncutting': 1, 'nursery': 1, 'julie': 1, 'sight': 1, 'nashville': 1, 'probly': 1, 'pointing': 1, 'iphone': 1, 'snapping': 1, 'pix': 1, 'mocked': 1, 'peak': 1, 'racial': 1, 'condemnation': 1, 'allowed': 1, 'obamacarein': 1, 'wondering': 1, 'stumbling': 1, 'blackout': 1, 'bart': 1, 'okavanaugh': 1, 'hilariously': 1, 'mocks': 1, 'twitterstorm': 1, 'carolinas': 1, 'sloppy': 1, 'shop': 1, 'elijah': 1, 'booed': 1, 'homepage': 1, 'payer': 1, 'counterprotesters': 1, 'outnumber': 1, 'runs': 1, 'centers': 1, 'donor': 1, 'culberson': 1, 'henry': 1, 'cuellar': 1, 'assholes': 1, 'profiting': 1, 'caging': 1, 'paychecks': 1, 'lackeys': 1, 'slandered': 1, 'holy': 1, 'accomplices': 1, 'struggling': 1, 'edge': 1, 'limbaugh': 1, 'evacuating': 1, 'hyping': 1, 'progress': 1, 'vindicates': 1, 'trey': 1, 'gowdy': 1, 'sunday': 1, 'everybody': 1, 'cambridge': 1, 'analytica': 1, 'redditor': 1, 'screenshots': 1, 'incriminating': 1, 'healthcaregov': 1, 'meets': 1, 'excongressman': 1, 'myeshia': 1, 'johnson': 1, 'widow': 1, 'soldier': 1, 'amnesia': 1, 'complicity': 1, 'dnj': 1, 'marks': 1, 'detained': 1, 'rikers': 1, 'urge': 1, 'kalief': 1, 'browder': 1, 'extended': 1, 'gates': 1, 'hiv': 1, 'regulatory': 1, 'rollback': 1, 'pharma': 1, 'industries': 1, 'thirds': 1, 'departments': 1, 'lobbied': 1, 'ensure': 1, 'appointee': 1, 'lu': 1, 'frm': 1, 'intern': 1, 'classes': 1, 'interns': 1, 'african': 1, 'nonwhite': 1, 'roaring': 1, 'unwelcome': 1, 'wrecking': 1, 'meltdown': 1, 'rid': 1, 'fasttrack': 1, 'ruling': 1, 'pinknews': 1, 'examining': 1, 'marginalized': 1, 'activities': 1, 'antimuslim': 1, 'militia': 1, 'somali': 1, 'southwest': 1, 'adopted': 1, 'strategy': 1, 'leadup': 1, 'beliefs': 1, 'als': 1, 'confront': 1, 'denial': 1, 'sickened': 1, 'contaminated': 1, 'romaine': 1, 'food': 1, 'farm': 1, 'watertesting': 1, 'crafted': 1, 'fda': 1, 'beats': 1, 'mostwatched': 1, 'cable': 1, 'thehill': 1, 'kendzior': 1, 'longstanding': 1, 'rick': 1, 'perry': 1, 'lanny': 1, 'directed': 1, 'extrump': 1, 'jailed': 1, 'indictment': 1, 'failures': 1, 'casting': 1, 'duckworth': 1, 'swore': 1, 'cadet': 1, 'bone': 1, 'spurs': 1, 'iranian': 1, 'dna': 1, 'douche': 1, 'authority': 1, 'dispatch': 1, 'alarming': 1, 'possibility': 1, 'patrolling': 1, 'brother': 1, 'wichita': 1, 'pleasantly': 1, 'ryans': 1, 'sexually': 1, 'mazie': 1, 'hirono': 1, 'unindicted': 1, 'courtesy': 1, 'selected': 1, 'okole': 1, 'iowans': 1, 'dumbbell': 1, 'agencies': 1, 'financing': 1, 'trumplinked': 1, 'intercept': 1, 'tourism': 1, 'costing': 1, 'retiring': 1, 'impeaching': 1, 'afford': 1, 'eugene': 1, 'doubling': 1, 'yo': 1, 'seriously': 1, 'puzder': 1, 'withdrawn': 1, 'linda': 1, 'mcmahon': 1, 'deplorable': 1, 'primaries': 1, 'administrator': 1, 'doctored': 1, 'undo': 1, 'udnthecorner': 1, 'exposes': 1, 'contractor': 1, 'overseeing': 1, 'connected': 1, 'trafficking': 1, 'prostitution': 1, 'abuse': 1, 'kleptocrats': 1, 'intent': 1, 'stenographer': 1, 'admiral': 1, 'william': 1, 'undermine': 1, 'inconsolable': 1, 'smoking': 1, 'laughed': 1, 'harwood': 1, 'russias': 1, 'operated': 1, 'organized': 1, 'escalated': 1, 'pretends': 1, 'niro': 1, 'rapturous': 1, 'awards': 1, 'fck': 1, 'coast': 1, 'ship': 1, 'natural': 1, 'gas': 1, 'safe': 1, 'export': 1, 'facility': 1, 'inslee': 1, 'rashida': 1, 'tlaib': 1, 'collected': 1, 'prorussian': 1, 'pompeo': 1, 'nonstate': 1, 'outlining': 1, 'analysis': 1, 'geographic': 1, 'overlap': 1, 'opioid': 1, 'chaplain': 1, 'patrick': 1, 'politically': 1, 'inept': 1, 'barren': 1, 'temperamentally': 1, 'efforts': 1, 'tampering': 1, 'mich': 1, 'pundit': 1, 'tomi': 1, 'lahren': 1, 'drink': 1, 'restaurant': 1, 'minneapolis': 1, 'underqualified': 1, 'appointment': 1, 'affords': 1, 'ms': 1, 'clothing': 1, 'products': 1, 'monday': 1, 'devastating': 1, 'representatives': 1, 'shoutout': 1, 'attending': 1, 'emblem': 1, 'burned': 1, 'chanting': 1, 'burning': 1, 'insecure': 1, 'demographic': 1, 'drastically': 1, 'muslimson': 1, 'bypassing': 1, 'grant': 1, 'mainly': 1, 'invites': 1, 'horror': 1, 'inundated': 1, 'grateful': 1, 'refugee': 1, 'participating': 1, 'resettlement': 1, 'canada': 1, 'rename': 1, 'edward': 1, 'snowden': 1, 'gina': 1, 'haspel': 1, 'participated': 1, 'womans': 1, 'stomach': 1, 'anally': 1, 'meals': 1, 'refuse': 1, 'freezing': 1, 'shackled': 1, 'prisoner': 1, 'sensible': 1, 'wow': 1, 'pure': 1, 'passports': 1, 'woke': 1, 'steamrollering': 1, 'minds': 1, 'highranking': 1, 'monitor': 1, 'reasoning': 1, 'baffling': 1, 'renominates': 1, 'jackie': 1, 'calmes': 1, 'ky': 1, 'throng': 1, 'packed': 1, 'screens': 1, 'bot': 1, 'closed': 1, 'understandable': 1, 'slavery': 1, 'dealings': 1, 'grotesque': 1, 'deepest': 1, 'terrified': 1, 'changers': 1, 'undermines': 1, 'antiscientific': 1, 'environmental': 1, 'prescientific': 1, 'royal': 1, 'wedding': 1, 'prosecuting': 1, 'entering': 1, 'obstacle': 1, 'rage': 1, 'tear': 1, 'toss': 1, 'rubble': 1, 'recovered': 1, 'yesterday': 1, 'indonesia': 1, 'sew': 1, 'garments': 1, 'pennies': 1, 'deported': 1, 'deep': 1, 'paranoia': 1, 'lashing': 1, 'justifying': 1, 'madison': 1, 'wi': 1, 'howard': 1, 'avoid': 1, 'conceive': 1, 'nuremberg': 1, 'considers': 1, 'mobilizing': 1, 'unauthorized': 1, 'youve': 1, 'clip': 1, 'wearing': 1, 'wire': 1, 'bugged': 1, 'tucker': 1, 'carlson': 1, 'antidiversity': 1, 'segment': 1, 'operationalized': 1, 'dixie': 1, 'chicks': 1, 'iraq': 1, 'brock': 1, 'turner': 1, 'brutally': 1, 'gianfortes': 1, 'paths': 1, 'meddle': 1, 'lastminute': 1, 'devoslinked': 1, 'navy': 1, 'seal': 1, 'taylor': 1, 'cheap': 1, 'hotels': 1, 'sinclairowned': 1, 'chooses': 1, 'promo': 1, 'solar': 1, 'jobcreator': 1, 'fomenting': 1, 'casualties': 1, 'lord': 1, 'goons': 1, 'organization': 1, 'penthouse': 1, 'zerotolerance': 1, 'reunited': 1, 'tantamount': 1, 'ransom': 1, 'cards': 1, 'humanity': 1, 'land': 1, 'timeconsuming': 1, 'expensive': 1, 'jason': 1, 'reagans': 1, 'virtually': 1, 'joined': 1, 'justices': 1, 'brennan': 1, 'challenger': 1, 'rational': 1, 'marionettes': 1, 'drills': 1, 'presume': 1, 'reinstate': 1, 'giant': 1, 'steps': 1, 'liberties': 1, 'ferocious': 1, 'pushback': 1, 'oldest': 1, 'forces': 1, 'nike': 1, 'jump': 1, 'camerawoman': 1, 'animal': 1, 'clara': 1, 'jeffery': 1, 'pneumonia': 1, 'fainted': 1, 'bonkers': 1, 'rain': 1, 'wwi': 1, 'astonishing': 1, 'retaliation': 1, 'spiro': 1, 'agnew': 1, 'reaches': 1, 'enter': 1, 'coupled': 1, 'trumpspecial': 1, 'unpatriotic': 1, 'rebuked': 1, 'cruelty': 1, 'incompetence': 1, 'psychotic': 1, 'deranged': 1, 'uturning': 1, 'schwartz': 1, 'nightmares': 1, 'unleashed': 1, 'planet': 1, 'poverty': 1, 'yglesias': 1, 'harsh': 1, 'moms': 1, 'dads': 1, 'camps': 1, 'asylumseeker': 1, 'arrives': 1, 'server': 1, 'gubernatorial': 1, 'deleted': 1, 'copies': 1, 'paypal': 1, 'gab': 1, 'bakers': 1, 'exacting': 1, 'vengeance': 1, 'establishment': 1, 'civilian': 1, 'somebody': 1, 'lethargic': 1, 'signs': 1, 'duped': 1, 'screw': 1, 'knowingly': 1, 'dramatically': 1, 'changed': 1, 'sometime': 1, 'december': 1, 'railing': 1, 'populist': 1, 'theories': 1, 'insisted': 1, 'arming': 1, 'dimes': 1, 'polio': 1, 'usually': 1, 'trumpshutdown': 1, 'extra': 1, 'cowboypoet': 1, 'suspends': 1, 'nears': 1, 'der': 1, 'spiegel': 1, 'respected': 1, 'publications': 1, 'weaker': 1, 'warn': 1, 'donothing': 1, 'alabamas': 1, 'prefer': 1, 'predator': 1, 'killers': 1, 'yall': 1, 'throwback': 1, 'inconceivable': 1, 'attitude': 1, 'yrs': 1, 'misogynist': 1, 'shouldnt': 1, 'lib': 1, 'handcuffs': 1, 'regressive': 1, 'scale': 1, 'compiling': 1, 'database': 1, 'influencers': 1, 'mourning': 1, 'neither': 1, 'boast': 1, 'millionth': 1, 'blasio': 1, 'preparing': 1, 'legalization': 1, 'instructs': 1, 'nypd': 1, 'halt': 1, 'adoptions': 1, 'stooped': 1, 'taxi': 1, 'shoplifts': 1, 'sits': 1, 'rapes': 1, 'kelli': 1, 'stargel': 1, 'kissing': 1, 'feet': 1, 'jfk': 1, 'racked': 1, 'marital': 1, 'loan': 1, 'forgiveness': 1, 'courage': 1, 'lloyd': 1, 'teens': 1, 'airport': 1, 'orourke': 1, 'cooler': 1, 'warfare': 1, 'sonia': 1, 'board': 1, 'conceal': 1, 'popularity': 1, 'hits': 1, 'attribute': 1, 'enabling': 1, 'blogger': 1, 'jenna': 1, 'congressmans': 1, 'siblings': 1, 'denouncing': 1, 'heather': 1, 'heyer': 1, 'kristol': 1, 'disclosure': 1, 'producedas': 1, 'obliged': 1, 'dothe': 1, 'upon': 1, 'joining': 1, 'tore': 1, 'speakerryan': 1, 'scripture': 1, 'imbecile': 1, 'earned': 1, 'chimes': 1, 'freezes': 1, 'overstate': 1, 'legitimately': 1, 'scary': 1, 'presser': 1, 'felonies': 1, 'cultural': 1, 'mania': 1, 'eu': 1, 'shuts': 1, 'forums': 1, 'silently': 1, 'duration': 1, 'douglas': 1, 'magically': 1, 'arms': 1, 'craven': 1, 'promising': 1, 'certificate': 1, 'onbrand': 1, 'hates': 1, 'lapdog': 1, 'autocrat': 1, 'declining': 1, 'diminishing': 1, 'vocal': 1, 'displays': 1, 'screen': 1, 'browsing': 1, 'terror': 1, 'charlotteville': 1, 'spots': 1, 'rall': 1, 'neil': 1, 'degrasse': 1, 'tyson': 1, 'offended': 1, 'parliament': 1, 'protip': 1, 'nerve': 1, 'promptly': 1, 'dangerously': 1, 'spez': 1, 'inaction': 1, 'caused': 1, 'crucial': 1, 'filings': 1, 'sentencing': 1, 'strength': 1, 'accomplishments': 1, 'laughably': 1, 'slew': 1, 'grabs': 1, 'ford': 1, 'purges': 1, 'civilrights': 1, 'encounter': 1, 'pocahontas': 1, 'pissedoff': 1, 'punish': 1, 'releasethememo': 1, 'ana': 1, 'navarro': 1, 'terrorism': 1, 'spine': 1, 'transition': 1, 'complaint': 1, 'relations': 1, 'stunt': 1, 'rejects': 1, 'organ': 1, 'transplant': 1, 'lesley': 1, 'stahl': 1, 'discredit': 1, 'sees': 1, 'soar': 1, 'shariah': 1, 'mullahs': 1, 'marriages': 1, 'minimum': 1, 'paradise': 1, 'papers': 1, 'concealed': 1, 'diego': 1, 'uniontribune': 1, 'duncan': 1, 'hunter': 1, 'caricature': 1, 'jeopardy': 1, 'hypocrite': 1, 'uncle': 1, 'wiped': 1, 'politico': 1, 'lieu': 1, 'handling': 1, 'disapproval': 1, 'polled': 1, 'bc': 1, 'packages': 1, 'mail': 1, 'tolerate': 1, 'fascist': 1, 'megalomaniac': 1, 'performance': 1, 'draws': 1, 'epic': 1, 'backlash': 1, 'garry': 1, 'kasparov': 1, 'distressing': 1, 'realities': 1, 'sharper': 1, 'thumb': 1, 'phrase': 1, 'reprehensible': 1, 'mow': 1, 'ripped': 1, 'childrens': 1, 'destroying': 1, 'declared': 1, 'frustrated': 1, 'basic': 1, 'concepts': 1, 'transitioned': 1, 'absurd': 1, 'golly': 1, 'gee': 1, 'accuser': 1, 'beverly': 1, 'nelson': 1, 'solid': 1, 'defamation': 1, 'adult': 1, 'foundation': 1, 'trashing': 1, 'treaty': 1, 'invoked': 1, 'asset': 1, 'abandoned': 1, 'serwer': 1, 'saw': 1, 'ferguson': 1, 'crushing': 1, 'updated': 1, 'fliers': 1, 'utter': 1, 'madness': 1, 'muzzled': 1, 'complications': 1, 'chances': 1, 'disavow': 1, 'waiver': 1, 'insulin': 1, 'hospitals': 1, 'excuse': 1, 'pendejo': 1, 'notorious': 1, 'mafia': 1, 'alimzhan': 1, 'moneylaundering': 1, 'appeared': 1, 'vip': 1, 'universe': 1, 'chaos': 1, 'stir': 1, 'stay': 1, 'hysterics': 1, 'apprentice': 1, 'supposedly': 1, 'conspiring': 1, 'silencing': 1, 'xpost': 1, 'renoughtrumpspam': 1, 'rpolitics': 1, 'hicks': 1, 'occasionally': 1, 'imposes': 1, 'opposed': 1, 'fifthlargest': 1, 'faster': 1, 'outperforming': 1, 'growth': 1, 'manufacturing': 1, 'profits': 1, 'bonds': 1, 'karen': 1, 'handel': 1, 'accuses': 1, 'gw': 1, 'bushappointed': 1, 'temporarily': 1, 'sixth': 1, 'palins': 1, 'crosshairs': 1, 'gabrielle': 1, 'giffords': 1, 'pointblank': 1, 'attacker': 1, 'wounded': 1, 'crap': 1, 'supine': 1, 'ashley': 1, 'parker': 1, 'periodic': 1, 'helpful': 1, 'flipped': 1, 'mcmaster': 1, 'gone': 1, 'otherwise': 1, 'bar': 1, 'whistleblower': 1, 'antichoice': 1, 'dominates': 1, 'search': 1, 'results': 1, 'chelsea': 1, 'handler': 1, 'nauseating': 1, 'babies': 1, 'holds': 1, 'sabotages': 1, 'usual': 1, 'aimed': 1, 'leadership': 1, 'radicalizing': 1, 'losers': 1, 'isis': 1, 'concern': 1, 'histrumps': 1, 'remarks': 1, 'easier': 1, 'anticipated': 1, 'nifty': 1, 'presence': 1, 'enabler': 1, 'assertions': 1, 'chemical': 1, 'loosening': 1, 'sector': 1, 'lazarus': 1, 'creators': 1, 'fell': 1, 'recession': 1, 'teacher': 1, 'wears': 1, 'badges': 1, 'wyoming': 1, 'portraits': 1, 'communicated': 1, 'complains': 1, 'videos': 1, 'tacitly': 1, 'concept': 1, 'loud': 1, 'failing': 1, 'flights': 1, 'shortened': 1, 'vicious': 1, 'invention': 1, 'dt': 1, 'summon': 1, 'smile': 1, 'columbine': 1, 'charges': 1, 'creator': 1, 'anticnn': 1, 'stabbing': 1, 'torturing': 1, 'cats': 1, 'spanish': 1, 'wiretaps': 1, 'torshin': 1, 'banker': 1, 'suspected': 1, 'mcfaul': 1, 'wanting': 1, 'imagined': 1, 'delivering': 1, 'hoped': 1, 'clown': 1, 'coworkers': 1, 'downfall': 1, 'niggers': 1, 'abraham': 1, 'antifbi': 1, 'answering': 1, 'raided': 1, 'interesting': 1, 'takei': 1, 'rebuild': 1, 'conflict': 1, 'altrighterneonazi': 1, 'storythats': 1, 'storiesbut': 1, 'refrained': 1, 'heinously': 1, 'sixmonth': 1, 'verdict': 1, 'endorses': 1, 'debtfree': 1, 'reddits': 1, 'largest': 1, 'davos': 1, 'solemn': 1, 'russiagate': 1, 'wider': 1, 'hanging': 1, 'ku': 1, 'klux': 1, 'initiate': 1, 'allegation': 1, 'improperly': 1, 'purged': 1, 'painfully': 1, 'yea': 1, 'dwight': 1, 'eisenhower': 1, 'visited': 1, 'nook': 1, 'cranny': 1, 'concentration': 1, 'duty': 1, 'iin': 1, 'belief': 1, 'assumption': 1, 'khashoggi': 1, 'outings': 1, 'parttime': 1, 'interfere': 1, 'profiteering': 1, 'judiciary': 1, 'lasts': 1, 'published': 1, 'thwart': 1, 'inclinations': 1, 'hysterical': 1, 'disgraced': 1, 'slovenly': 1, 'appearance': 1, 'unpreparedness': 1, 'arrogance': 1, 'beclowned': 1, 'cyber': 1, 'biographer': 1, 'timothy': 1, 'damages': 1, 'depends': 1, 'feelings': 1, 'daytoday': 1, 'impeding': 1, 'triggering': 1, 'academics': 1, 'casual': 1, 'mack': 1, 'buzzfeedabcnews': 1, 'mocking': 1, 'regulation': 1, 'trucks': 1, 'cars': 1, 'regulated': 1, 'exfox': 1, 'reporting': 1, 'ahole': 1, 'objections': 1, 'sens': 1, 'strikesenate': 1, 'projects': 1, 'deutsche': 1, 'markets': 1, 'describe': 1, 'disastrous': 1, 'wakes': 1, 'receives': 1, 'behalf': 1, 'dies': 1, 'grahamcassidy': 1, 'mccartney': 1, 'scampaign': 1, 'conflicted': 1, 'rigged': 1, 'celebration': 1, 'curious': 1, 'backs': 1, 'body': 1, 'bond': 1, 'villain': 1, 'nowrevealed': 1, 'arab': 1, 'emirates': 1, 'israel': 1, 'impeachometer': 1, 'suspicious': 1, 'neverbeforeused': 1, 'agreeing': 1, 'kremlinconnected': 1, 'briefed': 1, 'knowledge': 1, 'appease': 1, 'elited': 1, 'month': 1, 'whitney': 1, 'castigated': 1, 'compounds': 1, 'harder': 1, 'csections': 1, 'postpartum': 1, 'depression': 1, 'surviving': 1, 'kt': 1, 'mcfarland': 1, 'captured': 1, 'contempt': 1, 'uniform': 1, 'shaun': 1, 'fails': 1, 'props': 1, 'posting': 1, 'fb': 1, 'close': 1, 'subreddits': 1, 'blatantly': 1, 'scapegoat': 1, 'implodes': 1, 'cowards': 1, 'absorb': 1, 'modest': 1, 'proposalhttpsenwikipediaorgwikiamodestproposal': 1, 'philippines': 1, 'addicts': 1, 'maniac': 1, 'duterte': 1, 'definitely': 1, 'httptheralphretortcomralphretortstatementlanedavis': 1, 'labeling': 1, 'leftist': 1, 'pedo': 1, 'urged': 1, 'territory': 1, 'terminology': 1, 'address': 1, 'beforeduring': 1, 'possesses': 1, 'antisemitic': 1, 'connotation': 1, 'hearkens': 1, 'vermin': 1, 'slipped': 1, 'shadows': 1, 'stream': 1, 'firehose': 1, 'taxation': 1, 'relates': 1, 'mindboggling': 1, 'ends': 1, 'happening': 1, 'adjusting': 1, 'owns': 1, 'insolvent': 1, 'threw': 1, 'hypothesis': 1, 'divest': 1, 'explanation': 1, 'liquidate': 1, 'finding': 1, 'hole': 1, 'ludicrous': 1, 'particular': 1, 'liquid': 1, 'hed': 1, 'properly': 1, 'allocated': 1, 'depreciable': 1, 'accelerated': 1, 'method': 1, 'allowable': 1, 'follows': 1, 'recognized': 1, 'bracket': 1, 'compare': 1, 'owning': 1, 'sake': 1, 'eliminated': 1, 'blended': 1, 'bit': 1, 'foregoing': 1, 'egregious': 1, 'calculated': 1, 'provision': 1, 'exceptions': 1, 'allowance': 1, 'disposed': 1, 'disposition': 1, 'shall': 1, 'excess': 1, 'recaptured': 1, 'required': 1, 'residential': 1, 'nonresidential': 1, 'typically': 1, 'unrecaptured': 1, 'lesser': 1, 'losses': 1, 'adjustment': 1, 'recordkeeping': 1, 'sort': 1, 'indeterminate': 1, 'benefited': 1, 'taxfree': 1, 'remortgaging': 1, 'plot': 1, 'twist': 1, 'indexed': 1, 'deduct': 1, 'correctly': 1, 'wipe': 1, 'pockets': 1, 'proceeds': 1, 'summary': 1, 'fits': 1, 'loss': 1, 'reduced': 1, 'realize': 1, 'purchases': 1, 'autocratic': 1, 'test': 1, 'complicit': 1, 'flipping': 1, 'trained': 1, 'throughout': 1, 'shots': 1, 'ground': 1, 'operators': 1, 'surveyed': 1, 'thinner': 1, 'boundaries': 1, 'mlk': 1, 'granddaughter': 1, 'mention': 1, 'commercials': 1, 'provided': 1, 'solitary': 1, 'editorialized': 1, 'digested': 1, 'bull': 1, 'horn': 1, 'puppet': 1, 'zeroed': 1, 'vehicular': 1, 'kept': 1, 'perpetually': 1, 'nc': 1, 'antifascists': 1, 'statue': 1, 'profound': 1, 'whenever': 1, 'shamelessness': 1, 'double': 1, 'censor': 1, 'ridicule': 1, 'conceptualize': 1, 'discomfort': 1, 'foxs': 1, 'headquarters': 1, 'fortress': 1, 'aired': 1, 'fourth': 1, 'spectators': 1, 'windows': 1, 'studio': 1, 'aspect': 1, 'handle': 1, 'farther': 1, 'broadcasting': 1, 'capable': 1, 'forthcoming': 1, 'enormous': 1, 'sustained': 1, 'gotten': 1, 'addressed': 1, 'acceptable': 1, 'linkhttpswwwcbsnewscomnewsmarijuanacoloradosaleshelpsendstudentstocollege': 1, 'scholarship': 1, 'fiscal': 1, 'supportive': 1, 'professionals': 1, 'jails': 1, 'experiencing': 1, 'roofs': 1, 'anti': 1, 'bulling': 1, 'outs': 1, 'weed': 1, 'donnie': 1, 'consultation': 1, 'advised': 1, 'accept': 1, 'partly': 1, 'perspective': 1, 'understood': 1, 'chastised': 1, 'groupthink': 1, 'extensively': 1, 'frightening': 1, 'socialists': 1, 'transsexual': 1, 'consistently': 1, 'iq': 1, 'transsexuals': 1, 'discovery': 1, 'proves': 1, 'potus': 1, 'incidents': 1, 'dnc': 1, 'skew': 1, 'strict': 1, 'slightly': 1, 'ridiculed': 1, 'adhering': 1, 'gestapo': 1, 'manipulate': 1, 'mod': 1, 'teased': 1, 'yeh': 1, 'happen': 1, 'thedonalds': 1, 'goal': 1, 'moderation': 1, 'convince': 1, 'punished': 1, 'unjust': 1, 'censored': 1, 'walking': 1, 'path': 1, 'feeding': 1, 'disagrees': 1, 'apologise': 1, 'cesspool': 1, 'educate': 1, 'topics': 1, 'automatically': 1, 'clickfarmed': 1, 'threshold': 1, 'queue': 1, 'visibility': 1, 'treason': 1, 'illegality': 1, 'resulting': 1, 'illegitimacy': 1, 'appointees': 1, 'discussions': 1, 'expounded': 1, 'lectures': 1, 'professors': 1, 'international': 1, 'diplomats': 1, 'worldrenowned': 1, 'etc': 1, 'glass': 1, 'fringe': 1, 'deliver': 1, 'ip': 1, 'iplimited': 1, 'addition': 1, 'directing': 1, 'oops': 1, 'regular': 1, 'contributors': 1, 'disagreed': 1, 'perpetuity': 1, 'uninterrupted': 1, 'platformsas': 1, 'systems': 1, 'large': 1, 'swaths': 1, 'dystopian': 1, 'dominate': 1, 'harbinger': 1, 'concrete': 1, 'voterigging': 1, 'contacthttpswwwsenategovgeneralcontactinformationsenatorscfmcfm': 1, 'herehttpswwwsocialseercomresourcesussenatortwitteraccounts': 1, 'parades': 1, 'arguements': 1, 'dreamers': 1, 'screed': 1, 'apology': 1, 'included': 1, 'hello': 1, 'programming': 1, 'advertisements': 1, 'broadcasts': 1, 'outwardly': 1, 'excuses': 1, 'statutory': 1, 'minimizes': 1, 'purchasing': 1, 'youll': 1, 'cease': 1, 'unpopular': 1, 'gopcare': 1, 'republicancare': 1, 'catchy': 1, 'sound': 1, 'silly': 1, 'isolated': 1, 'theyll': 1, 'quicker': 1, 'absolutely': 1, 'rconservative': 1, 'husband': 1, 'consists': 1, 'catholics': 1, 'disgusted': 1, 'thereof': 1, 'peruse': 1, 'customer': 1, 'adopt': 1, 'socially': 1, 'creeped': 1, 'nowmom': 1, 'proactively': 1, 'venus': 1, 'razors': 1, 'razor': 1, 'apologies': 1, 'requested': 1, 'australian': 1, 'dream': 1, 'httpswwwaustraliandreamcomcontact': 1, 'bayer': 1, 'httpswwwbayercomencontactaspx': 1, 'beaches': 1, 'httpwwwbeachescomcontact': 1, 'bookingcom': 1, 'ca': 1, 'technologies': 1, 'cainfocacom': 1, 'clearchoice': 1, 'infoclearchoicecom': 1, 'directv': 1, 'feature': 1, 'chat': 1, 'shave': 1, 'httpshelpdollarshaveclubcomhcenusrequestsnew': 1, 'entyvio': 1, 'uscorporatecommunicationstakedacom': 1, 'httpsgillettecomenuscontactus': 1, 'glaxosmithkline': 1, 'httpswwwcontactusgskcomcallbackhcphtmlrefgsksource': 1, 'partnershipshomeadvisorcom': 1, 'hometogocom': 1, 'lending': 1, 'tree': 1, 'httpswwwlendingtreecomaboutcontactus': 1, 'askliberty': 1, 'matchcom': 1, 'httpswwwmatchcomhelpcontactusaspx': 1, 'mitsubishi': 1, 'httpswwwmitsubishicarscomcontactusform': 1, 'pillow': 1, 'ordersmypillowcom': 1, 'nutrisystem': 1, 'gettingstartednutrisystemcom': 1, 'weight': 1, 'popup': 1, 'pg': 1, 'mediateamimpgcom': 1, 'httpswwwpfizercomcontactemail': 1, 'httpswwwprogressivecomcontactus': 1, 'logging': 1, 'publishers': 1, 'clearing': 1, 'mediacontactpchcom': 1, 'sandals': 1, 'httpwwwsandalscomcontact': 1, 'southern': 1, 'hampshire': 1, 'httpswwwsnhueduaboutusconnectwithus': 1, 'viking': 1, 'cruises': 1, 'httpswwwvikingcruisescomcontactcontactushtmlmodaltrue': 1, 'angels': 1, 'httpswwwvisitingangelscomcontactus': 1, 'wikihttpswwwredditcomresistwikiindex': 1, 'twitterhttpstwittercomredditresist': 1, 'moderators': 1, 'practical': 1, 'httpswwwindivisibleguidecom': 1, 'claire': 1, 'mccaskill': 1, 'whistleblowersmccaskillsenategov': 1, 'alerts': 1, 'httpsdailyactionorg': 1, 'tweaked': 1, 'elsewhere': 1, 'voicing': 1, 'opposition': 1, 'httpwwwnrdcactionfundorgcallyoursenatorsandaskthemtoopposescottpruittsconfirmation': 1, 'httpswwwrunforofficeorg': 1, 'httpswwwrunforsomethingnet': 1, 'specific': 1, 'wellstone': 1, 'httpwwwwellstoneorg': 1, 'librariesresist': 1, 'resource': 1, 'weekly': 1, 'httpswwwwallofusorgweeklyactsofresistance': 1, 'flip': 1, 'httpswwwflippableorg': 1, 'ways': 1, 'playbook': 1, 'retweet': 1, 'mrpresident': 1, 'limit': 1, 'rapist': 1, 'druggies': 1, 'sends': 1, 'lots': 1, 'drugs': 1, 'simpler': 1, 'accurately': 1, 'stated': 1, 'unwanted': 1, 'cases': 1, 'incomplete': 1, 'range': 1, 'firstgeneration': 1, 'predisposed': 1, 'advocates': 1, 'restrictive': 1, 'shortfalls': 1, 'inverse': 1, 'trajectories': 1, 'increased': 1, 'decreased': 1, 'influx': 1, 'contributed': 1, 'decrease': 1, 'increasing': 1, 'denominator': 1, 'numerator': 1, 'distance': 1, 'wizard': 1, 'learning': 1, 'memory': 1, 'seemed': 1, 'feb': 1, 'endorse': 1, 'outright': 1, 'denounce': 1, 'cycle': 1, 'pants': 1, 'whatever': 1, 'blogs': 1, 'organizationsif': 1, 'initial': 1, 'endorsers': 1, 'founded': 1, 'stormer': 1, 'gathering': 1, 'antisemites': 1, 'sections': 1, 'devoted': 1, 'disagreements': 1, 'deport': 1, 'pieces': 1, 'fall': 1, 'graphic': 1, 'fictitious': 1, 'statistic': 1, 'figure': 1, 'fbiimage': 1, 'blackonwhite': 1, 'whiteonwhite': 1, 'wildly': 1, 'inaccurate': 1, 'organizations': 1, 'noted': 1, 'bureau': 1, 'looked': 1, 'francisco': 1, 'cleanup': 1, 'interracial': 1, 'oneshttpiimgurcomxxvgbmmpng': 1, 'namessaid': 1, 'discriminated': 1, 'amassed': 1, 'overwhelming': 1, 'discriminating': 1, 'dispatched': 1, 'inquire': 1, 'vacancies': 1, 'tester': 1, 'shown': 1, 'superintendent': 1, 'application': 1, 'colored': 1, 'discouraged': 1, 'furiously': 1, 'suit': 1, 'terms': 1, 'widely': 1, 'regarded': 1, 'discriminate': 1, 'convulsed': 1, 'latino': 1, 'stepped': 1, 'denounced': 1, 'fullpage': 1, 'exonerated': 1, 'retrospect': 1, 'suffered': 1, 'lynching': 1, 'whipping': 1, 'crowds': 1, 'casinos': 1, 'followed': 1, 'kip': 1, 'ivana': 1, 'plaza': 1, 'criticizing': 1, 'afterward': 1, 'pressed': 1, 'accord': 1, 'concerns': 1, 'legitimacy': 1, 'snapshot': 1, 'editsthey': 1, 'lgbt': 1, 'grownass': 1, 'tennessee': 1, 'finished': 1, 'doctorate': 1, 'httpsiimgurcomgxkilkujpg': 1, 'maryland': 1, 'blackmail': 1, 'protects': 1, 'bigotry': 1, 'views': 1, 'doxxing': 1, 'names': 1, 'careless': 1, 'newsworthy': 1, 'doxx': 1, 'nationallyrelevant': 1, 'semianonymously': 1, 'writing': 1, 'cnncant': 1, 'finger': 1, 'stats': 1, 'robbery': 1, 'dancing': 1, 'conform': 1, 'eradicate': 1, 'integrate': 1, 'httpswwwadlorgbloganalysisofreddituserclaimingresponsibilityforpresidenttrumpscnnvideo': 1})\n"
     ]
    }
   ],
   "source": [
    "# vocab dictionary with counts\n",
    "\n",
    "vocab_list_2 = []\n",
    "\n",
    "for sentence in docs_2:\n",
    "    \n",
    "    for word in sentence:\n",
    "        \n",
    "        vocab_list_2.append(word)\n",
    "        \n",
    "counts_2 = Counter(vocab_list_2)\n",
    "\n",
    "print(counts_2)\n"
   ]
  },
  {
   "cell_type": "code",
   "execution_count": 365,
   "metadata": {},
   "outputs": [
    {
     "data": {
      "text/html": [
       "<div>\n",
       "<style scoped>\n",
       "    .dataframe tbody tr th:only-of-type {\n",
       "        vertical-align: middle;\n",
       "    }\n",
       "\n",
       "    .dataframe tbody tr th {\n",
       "        vertical-align: top;\n",
       "    }\n",
       "\n",
       "    .dataframe thead th {\n",
       "        text-align: right;\n",
       "    }\n",
       "</style>\n",
       "<table border=\"1\" class=\"dataframe\">\n",
       "  <thead>\n",
       "    <tr style=\"text-align: right;\">\n",
       "      <th></th>\n",
       "      <th>index</th>\n",
       "      <th>0</th>\n",
       "    </tr>\n",
       "  </thead>\n",
       "  <tbody>\n",
       "    <tr>\n",
       "      <th>0</th>\n",
       "      <td>trump</td>\n",
       "      <td>610</td>\n",
       "    </tr>\n",
       "    <tr>\n",
       "      <th>1</th>\n",
       "      <td>us</td>\n",
       "      <td>100</td>\n",
       "    </tr>\n",
       "    <tr>\n",
       "      <th>2</th>\n",
       "      <td>people</td>\n",
       "      <td>94</td>\n",
       "    </tr>\n",
       "    <tr>\n",
       "      <th>3</th>\n",
       "      <td>president</td>\n",
       "      <td>91</td>\n",
       "    </tr>\n",
       "    <tr>\n",
       "      <th>4</th>\n",
       "      <td>white</td>\n",
       "      <td>81</td>\n",
       "    </tr>\n",
       "    <tr>\n",
       "      <th>5</th>\n",
       "      <td>donald</td>\n",
       "      <td>75</td>\n",
       "    </tr>\n",
       "    <tr>\n",
       "      <th>6</th>\n",
       "      <td>tax</td>\n",
       "      <td>75</td>\n",
       "    </tr>\n",
       "    <tr>\n",
       "      <th>7</th>\n",
       "      <td>trumps</td>\n",
       "      <td>74</td>\n",
       "    </tr>\n",
       "    <tr>\n",
       "      <th>8</th>\n",
       "      <td>russian</td>\n",
       "      <td>69</td>\n",
       "    </tr>\n",
       "    <tr>\n",
       "      <th>9</th>\n",
       "      <td>would</td>\n",
       "      <td>69</td>\n",
       "    </tr>\n",
       "    <tr>\n",
       "      <th>10</th>\n",
       "      <td>house</td>\n",
       "      <td>68</td>\n",
       "    </tr>\n",
       "    <tr>\n",
       "      <th>11</th>\n",
       "      <td>million</td>\n",
       "      <td>65</td>\n",
       "    </tr>\n",
       "    <tr>\n",
       "      <th>12</th>\n",
       "      <td>gop</td>\n",
       "      <td>62</td>\n",
       "    </tr>\n",
       "    <tr>\n",
       "      <th>13</th>\n",
       "      <td>news</td>\n",
       "      <td>60</td>\n",
       "    </tr>\n",
       "    <tr>\n",
       "      <th>14</th>\n",
       "      <td>republican</td>\n",
       "      <td>56</td>\n",
       "    </tr>\n",
       "    <tr>\n",
       "      <th>15</th>\n",
       "      <td>new</td>\n",
       "      <td>55</td>\n",
       "    </tr>\n",
       "    <tr>\n",
       "      <th>16</th>\n",
       "      <td>campaign</td>\n",
       "      <td>55</td>\n",
       "    </tr>\n",
       "    <tr>\n",
       "      <th>17</th>\n",
       "      <td>republicans</td>\n",
       "      <td>51</td>\n",
       "    </tr>\n",
       "    <tr>\n",
       "      <th>18</th>\n",
       "      <td>election</td>\n",
       "      <td>49</td>\n",
       "    </tr>\n",
       "    <tr>\n",
       "      <th>19</th>\n",
       "      <td>says</td>\n",
       "      <td>48</td>\n",
       "    </tr>\n",
       "    <tr>\n",
       "      <th>20</th>\n",
       "      <td>get</td>\n",
       "      <td>48</td>\n",
       "    </tr>\n",
       "    <tr>\n",
       "      <th>21</th>\n",
       "      <td>know</td>\n",
       "      <td>44</td>\n",
       "    </tr>\n",
       "    <tr>\n",
       "      <th>22</th>\n",
       "      <td>said</td>\n",
       "      <td>43</td>\n",
       "    </tr>\n",
       "    <tr>\n",
       "      <th>23</th>\n",
       "      <td>one</td>\n",
       "      <td>43</td>\n",
       "    </tr>\n",
       "    <tr>\n",
       "      <th>24</th>\n",
       "      <td>like</td>\n",
       "      <td>42</td>\n",
       "    </tr>\n",
       "  </tbody>\n",
       "</table>\n",
       "</div>"
      ],
      "text/plain": [
       "          index    0\n",
       "0         trump  610\n",
       "1            us  100\n",
       "2        people   94\n",
       "3     president   91\n",
       "4         white   81\n",
       "5        donald   75\n",
       "6           tax   75\n",
       "7        trumps   74\n",
       "8       russian   69\n",
       "9         would   69\n",
       "10        house   68\n",
       "11      million   65\n",
       "12          gop   62\n",
       "13         news   60\n",
       "14   republican   56\n",
       "15          new   55\n",
       "16     campaign   55\n",
       "17  republicans   51\n",
       "18     election   49\n",
       "19         says   48\n",
       "20          get   48\n",
       "21         know   44\n",
       "22         said   43\n",
       "23          one   43\n",
       "24         like   42"
      ]
     },
     "execution_count": 365,
     "metadata": {},
     "output_type": "execute_result"
    }
   ],
   "source": [
    "# vocab dataframe\n",
    "\n",
    "counts_df_2 = pd.DataFrame.from_dict(counts_2, orient='index')\n",
    "\n",
    "sorted_docs_2 = counts_df_2.sort_values(by=[0], ascending=False)\n",
    "\n",
    "vocab_df_2 = sorted_docs_2.reset_index()\n",
    "\n",
    "vocab_df_2.head(25)"
   ]
  },
  {
   "cell_type": "markdown",
   "metadata": {},
   "source": [
    "here once again we have two objects to work with: \n",
    "\n",
    "* a set of *sentences* from the 'r/esist' subreddit top 1000 posts: `docs_2`\n",
    "* a dataframe containing the (trimmed) vocabulary, with occurrences: `vocab_df_2`"
   ]
  },
  {
   "cell_type": "code",
   "execution_count": 366,
   "metadata": {},
   "outputs": [],
   "source": [
    "# train word2vec model\n",
    "\n",
    "w2v_model_2 = Word2Vec(docs_2, min_count=1)"
   ]
  },
  {
   "cell_type": "code",
   "execution_count": 367,
   "metadata": {},
   "outputs": [
    {
     "name": "stderr",
     "output_type": "stream",
     "text": [
      "/opt/conda/lib/python3.6/site-packages/ipykernel_launcher.py:3: DeprecationWarning: Call to deprecated `__getitem__` (Method will be removed in 4.0.0, use self.wv.__getitem__() instead).\n",
      "  This is separate from the ipykernel package so we can avoid doing imports until\n"
     ]
    },
    {
     "data": {
      "text/plain": [
       "<matplotlib.collections.PathCollection at 0x7f9dd1131b38>"
      ]
     },
     "execution_count": 367,
     "metadata": {},
     "output_type": "execute_result"
    },
    {
     "data": {
      "image/png": "[encoded data removed]",
      "text/plain": [
       "<Figure size 432x288 with 1 Axes>"
      ]
     },
     "metadata": {
      "needs_background": "light"
     },
     "output_type": "display_data"
    }
   ],
   "source": [
    "# PCA model\n",
    "\n",
    "vector_vocab_2 = w2v_model_2[w2v_model_2.wv.vocab]\n",
    "\n",
    "pca_model_2 = PCA(n_components=2)\n",
    "\n",
    "pca2d_projection_2 = pca_model_2.fit_transform(vector_vocab_2)\n",
    "\n",
    "# plot\n",
    "\n",
    "pyplot.scatter(pca2d_projection_2[:, 0], pca2d_projection_2[:, 1])"
   ]
  },
  {
   "cell_type": "code",
   "execution_count": 368,
   "metadata": {},
   "outputs": [],
   "source": [
    "# TODO\n",
    "\n",
    "# grab outliers (specific words)\n",
    "\n",
    "# both graphs"
   ]
  },
  {
   "cell_type": "code",
   "execution_count": 369,
   "metadata": {},
   "outputs": [
    {
     "name": "stdout",
     "output_type": "stream",
     "text": [
      "       index   0\n",
      "169  clinton  15 \n",
      "\n",
      "   index    0\n",
      "0  trump  610 \n",
      "\n",
      "          index  0\n",
      "1172  qualified  3 \n",
      "\n",
      "       index   0\n",
      "334  corrupt  10\n"
     ]
    }
   ],
   "source": [
    "# grab frequencies for words tested on w2v_model_1\n",
    "\n",
    "corrupt_2 = vocab_df_2[vocab_df_2['index'] == 'corrupt']\n",
    "\n",
    "clinton_2 = vocab_df_2[vocab_df_2['index'] == 'clinton']\n",
    "\n",
    "trump_2 = vocab_df_2[vocab_df_2['index'] == 'trump']\n",
    "\n",
    "qualified_2 = vocab_df_2[vocab_df_2['index'] == 'qualified']\n",
    "\n",
    "print(clinton_2, '\\n')\n",
    "print(trump_2, '\\n')\n",
    "print(qualified_2, '\\n')\n",
    "print(corrupt_2)"
   ]
  },
  {
   "cell_type": "code",
   "execution_count": 371,
   "metadata": {},
   "outputs": [
    {
     "name": "stdout",
     "output_type": "stream",
     "text": [
      "clinton/qualified:  0.04872754364434699\n",
      "trump/qualified:  0.14960230610741754\n",
      "clinton/corrupt:  0.14745500351954605\n",
      "trump/corrupt:  0.23179113354216466\n"
     ]
    }
   ],
   "source": [
    "clinton_qualified_2 = get_cos_sim(w2v_model_2, 'clinton', 'qualified')\n",
    "\n",
    "trump_qualified_2 = get_cos_sim(w2v_model_2, 'trump', 'qualified')\n",
    "\n",
    "clinton_corrupt_2 = get_cos_sim(w2v_model_2, 'clinton', 'corrupt')\n",
    "\n",
    "trump_corrupt_2 = get_cos_sim(w2v_model_2, 'trump', 'corrupt')\n",
    "\n",
    "print('clinton/qualified: ', clinton_qualified_2)\n",
    "print('trump/qualified: ', trump_qualified_2)\n",
    "print('clinton/corrupt: ', clinton_corrupt_2)\n",
    "print('trump/corrupt: ', trump_corrupt_2)\n"
   ]
  },
  {
   "cell_type": "code",
   "execution_count": 372,
   "metadata": {},
   "outputs": [
    {
     "name": "stdout",
     "output_type": "stream",
     "text": [
      "0.32327930945652383 0.6975644384734749\n"
     ]
    }
   ],
   "source": [
    "clinton_people_2 = get_cos_sim(w2v_model_2, 'clinton', 'people')\n",
    "\n",
    "trump_people_2 = get_cos_sim(w2v_model_2, 'trump', 'people')\n",
    "\n",
    "print(clinton_people_2, trump_people_2)"
   ]
  },
  {
   "cell_type": "code",
   "execution_count": 382,
   "metadata": {},
   "outputs": [
    {
     "name": "stdout",
     "output_type": "stream",
     "text": [
      "0.146874127566671 0.14135292368843208\n",
      "0.09640593193430641 0.18479357039705024\n"
     ]
    }
   ],
   "source": [
    "trump_good = get_cos_sim(w2v_model_2, 'trump', 'good')\n",
    "\n",
    "trump_evil = get_cos_sim(w2v_model_2, 'trump', 'evil')\n",
    "\n",
    "clinton_good = get_cos_sim(w2v_model_2, 'clinton', 'good')\n",
    "\n",
    "clinton_evil = get_cos_sim(w2v_model_2, 'clinton', 'evil')\n",
    "\n",
    "\n",
    "print(trump_good, trump_evil)\n",
    "print(clinton_good, clinton_evil)"
   ]
  },
  {
   "cell_type": "code",
   "execution_count": 374,
   "metadata": {},
   "outputs": [
    {
     "name": "stdout",
     "output_type": "stream",
     "text": [
      "0.14324914861553117 0.05352054677093945 0.08645523250889825\n"
     ]
    }
   ],
   "source": [
    "white_good = get_cos_sim(w2v_model_2, 'white', 'good')\n",
    "\n",
    "white_bad = get_cos_sim(w2v_model_2, 'white', 'bad')\n",
    "\n",
    "white_evil = get_cos_sim(w2v_model_2, 'white', 'evil')\n",
    "\n",
    "print(white_good, white_bad, white_evil)"
   ]
  },
  {
   "cell_type": "code",
   "execution_count": 379,
   "metadata": {},
   "outputs": [
    {
     "name": "stdout",
     "output_type": "stream",
     "text": [
      "0.23455754262348627\n",
      "0.11695715956767916\n",
      "0.24667814126165113\n"
     ]
    }
   ],
   "source": [
    "trump_racist = get_cos_sim(w2v_model_2, 'trump', 'racist')\n",
    "\n",
    "clinton_racist = get_cos_sim(w2v_model_2, 'clinton', 'racist')\n",
    "\n",
    "white_racist = get_cos_sim(w2v_model_2, 'white', 'racist')\n",
    "\n",
    "print(trump_racist)\n",
    "print(clinton_racist)\n",
    "print(white_racist)"
   ]
  },
  {
   "cell_type": "code",
   "execution_count": 381,
   "metadata": {},
   "outputs": [
    {
     "name": "stdout",
     "output_type": "stream",
     "text": [
      "0.45221955284150434\n",
      "0.4623689454102031\n",
      "0.1655967198447354\n"
     ]
    }
   ],
   "source": [
    "russia_gop = get_cos_sim(w2v_model_2, 'russia', 'gop')\n",
    "\n",
    "russia_trump = get_cos_sim(w2v_model_2, 'russia', 'trump')\n",
    "\n",
    "russia_clinton = get_cos_sim(w2v_model_2, 'russia', 'clinton')\n",
    "\n",
    "print(russia_gop)\n",
    "print(russia_trump)\n",
    "print(russia_clinton)"
   ]
  },
  {
   "cell_type": "code",
   "execution_count": null,
   "metadata": {},
   "outputs": [],
   "source": []
  }
 ],
 "metadata": {
  "kernelspec": {
   "display_name": "Python 3",
   "language": "python",
   "name": "python3"
  },
  "language_info": {
   "codemirror_mode": {
    "name": "ipython",
    "version": 3
   },
   "file_extension": ".py",
   "mimetype": "text/x-python",
   "name": "python",
   "nbconvert_exporter": "python",
   "pygments_lexer": "ipython3",
   "version": "3.6.3"
  }
 },
 "nbformat": 4,
 "nbformat_minor": 2
}
