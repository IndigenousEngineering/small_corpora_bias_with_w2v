{
 "cells": [
  {
   "cell_type": "code",
   "execution_count": 180,
   "metadata": {},
   "outputs": [],
   "source": [
    "import praw\n",
    "import pandas as pd\n",
    "import re\n",
    "import string\n",
    "import nltk\n",
    "from collections import Counter\n",
    "from gensim.models import Word2Vec\n",
    "from nltk.corpus import stopwords\n",
    "from sklearn.feature_extraction.text import CountVectorizer\n",
    "from sklearn.decomposition import PCA\n",
    "from matplotlib import pyplot\n",
    "%matplotlib inline"
   ]
  },
  {
   "cell_type": "code",
   "execution_count": 181,
   "metadata": {},
   "outputs": [
    {
     "name": "stdout",
     "output_type": "stream",
     "text": [
      "[nltk_data] Downloading package stopwords to /home/keras/nltk_data...\n",
      "[nltk_data]   Package stopwords is already up-to-date!\n"
     ]
    },
    {
     "data": {
      "text/plain": [
       "True"
      ]
     },
     "execution_count": 181,
     "metadata": {},
     "output_type": "execute_result"
    }
   ],
   "source": [
    "nltk.download('stopwords')"
   ]
  },
  {
   "cell_type": "code",
   "execution_count": 184,
   "metadata": {},
   "outputs": [],
   "source": [
    "def get_subreddit(subreddit_name, app_name, oa_script, oa_secret, pwd):\n",
    "    '''\n",
    "    returns subreddit object with top 1000 subreddit posts\n",
    "    \n",
    "    '''\n",
    "\n",
    "    with open(oa_script) as f:\n",
    "    \n",
    "        script = f.read().strip()\n",
    "\n",
    "    with open(oa_secret) as f:\n",
    "    \n",
    "        secret = f.read().strip()\n",
    "\n",
    "    with open(pwd) as f:\n",
    "    \n",
    "        pw = f.read().strip()\n",
    "    \n",
    "# get reddit object\n",
    "    \n",
    "    reddit = praw.Reddit(client_id=script,\n",
    "                        client_secret=secret,\n",
    "                        user_agent=app_name,\n",
    "                        username='neurodivergent_ai',\n",
    "                        password=pw)\n",
    "\n",
    "    # get subreddit\n",
    "\n",
    "    subreddit = reddit.subreddit(subreddit_name)\n",
    "\n",
    "    # get top posts\n",
    "\n",
    "    top = subreddit.top(limit=1000)\n",
    "\n",
    "    for post in subreddit.top(limit=5):\n",
    "    \n",
    "        print(post.title, '\\n')\n",
    "        \n",
    "    return top\n"
   ]
  },
  {
   "cell_type": "code",
   "execution_count": 185,
   "metadata": {},
   "outputs": [
    {
     "name": "stdout",
     "output_type": "stream",
     "text": [
      "DONALD J. TRUMP DECLARED THE WINNER! \n",
      "\n",
      "I’m Donald J. Trump and I'm Your Next President of the United States. \n",
      "\n",
      "The New Algorithm Was Designed To Keep President Trump From The Front Page... But Sadly, That Won't Happen. \n",
      "\n",
      "CNN will soon be #1...when searching for the term \"Fake News\". Congratulations to CNN on this major achievement. \n",
      "\n",
      "ALL CELEBRITIES THAT VOWED TO LEAVE THE U.S.A. IF TRUMP WINS, WE NOW DEMAND YOU TO FOLLOW THROUGH!!!! OUT! OUT! OUT! \n",
      "\n"
     ]
    }
   ],
   "source": [
    "#get_subreddit(subreddit_name, app_name, oa_script, oa_secret, pwd):\n",
    "\n",
    "\n",
    "donald_subreddit = get_subreddit('The_Donald', 'get_corpora', \n",
    "                                     'reddit_oa_script.txt', 'reddit_oa_secret.txt',\n",
    "                                    'reddit_id.txt')"
   ]
  },
  {
   "cell_type": "code",
   "execution_count": 175,
   "metadata": {},
   "outputs": [],
   "source": [
    "# iterate through reddit object, build dictionary, return dataframes\n",
    "# return titles&posts df, plus whole df\n",
    "\n",
    "def make_subreddit_df(subreddit_object):\n",
    "    '''\n",
    "    takes subreddit api object,\n",
    "    returns as dataframe:\n",
    "    \n",
    "    * entire subreddit, all columns\n",
    "    \n",
    "    '''\n",
    "    \n",
    "    columns_dict = {'title': [],\n",
    "                   'url': [],\n",
    "                   'date': [],\n",
    "                   'score': [],\n",
    "                   'n_comments': [],\n",
    "                   'body': []}\n",
    "    \n",
    "    # build dictionary\n",
    "    \n",
    "    for post in subreddit_object:\n",
    "        \n",
    "        columns_dict['title'].append(post.title)\n",
    "        \n",
    "        columns_dict['url'].append(post.url)\n",
    "        \n",
    "        columns_dict['date'].append(post.created)\n",
    "        \n",
    "        columns_dict['score'].append(post.score)\n",
    "        \n",
    "        columns_dict['n_comments'].append(post.num_comments)\n",
    "        \n",
    "        columns_dict['body'].append(post.selftext)\n",
    "    \n",
    "    # convert to dataframe\n",
    "    \n",
    "    subreddit_df = pd.DataFrame(columns_dict)\n",
    "    \n",
    "    # split off text for df\n",
    "    \n",
    "    #corpus_df = subreddit_df['title'] + subreddit_df['body']\n",
    "    \n",
    "    #titles = subreddit_df['title']\n",
    "    #txt_bodies = subreddit_df['body']\n",
    "    #corpus_ls = titles + txt_bodies\n",
    "    \n",
    "    return subreddit_df\n",
    "        "
   ]
  },
  {
   "cell_type": "code",
   "execution_count": 186,
   "metadata": {},
   "outputs": [],
   "source": [
    "donald_subreddit_df = make_subreddit_df(donald_subreddit)"
   ]
  },
  {
   "cell_type": "code",
   "execution_count": 187,
   "metadata": {},
   "outputs": [
    {
     "data": {
      "text/html": [
       "<div>\n",
       "<style scoped>\n",
       "    .dataframe tbody tr th:only-of-type {\n",
       "        vertical-align: middle;\n",
       "    }\n",
       "\n",
       "    .dataframe tbody tr th {\n",
       "        vertical-align: top;\n",
       "    }\n",
       "\n",
       "    .dataframe thead th {\n",
       "        text-align: right;\n",
       "    }\n",
       "</style>\n",
       "<table border=\"1\" class=\"dataframe\">\n",
       "  <thead>\n",
       "    <tr style=\"text-align: right;\">\n",
       "      <th></th>\n",
       "      <th>title</th>\n",
       "      <th>url</th>\n",
       "      <th>date</th>\n",
       "      <th>score</th>\n",
       "      <th>n_comments</th>\n",
       "      <th>body</th>\n",
       "    </tr>\n",
       "  </thead>\n",
       "  <tbody>\n",
       "    <tr>\n",
       "      <th>0</th>\n",
       "      <td>DONALD J. TRUMP DECLARED THE WINNER!</td>\n",
       "      <td>https://www.reddit.com/r/The_Donald/comments/5...</td>\n",
       "      <td>1.478706e+09</td>\n",
       "      <td>66710</td>\n",
       "      <td>12087</td>\n",
       "      <td>#Meme Magic is REAL.\\n\\n#Donald J. Trump is th...</td>\n",
       "    </tr>\n",
       "    <tr>\n",
       "      <th>1</th>\n",
       "      <td>I’m Donald J. Trump and I'm Your Next Presiden...</td>\n",
       "      <td>https://www.reddit.com/r/The_Donald/comments/4...</td>\n",
       "      <td>1.469687e+09</td>\n",
       "      <td>42126</td>\n",
       "      <td>20790</td>\n",
       "      <td>Hello The_Donald readers and the entire Reddit...</td>\n",
       "    </tr>\n",
       "    <tr>\n",
       "      <th>2</th>\n",
       "      <td>The New Algorithm Was Designed To Keep Preside...</td>\n",
       "      <td>https://i.sli.mg/gu0oHA.png</td>\n",
       "      <td>1.481092e+09</td>\n",
       "      <td>40978</td>\n",
       "      <td>832</td>\n",
       "      <td></td>\n",
       "    </tr>\n",
       "    <tr>\n",
       "      <th>3</th>\n",
       "      <td>CNN will soon be #1...when searching for the t...</td>\n",
       "      <td>https://i.redd.it/7jeyhzgku65y.png</td>\n",
       "      <td>1.482472e+09</td>\n",
       "      <td>37279</td>\n",
       "      <td>724</td>\n",
       "      <td></td>\n",
       "    </tr>\n",
       "    <tr>\n",
       "      <th>4</th>\n",
       "      <td>ALL CELEBRITIES THAT VOWED TO LEAVE THE U.S.A....</td>\n",
       "      <td>https://www.reddit.com/r/The_Donald/comments/5...</td>\n",
       "      <td>1.478702e+09</td>\n",
       "      <td>36614</td>\n",
       "      <td>1685</td>\n",
       "      <td>Now that we have proven our commitment to the ...</td>\n",
       "    </tr>\n",
       "  </tbody>\n",
       "</table>\n",
       "</div>"
      ],
      "text/plain": [
       "                                               title  \\\n",
       "0               DONALD J. TRUMP DECLARED THE WINNER!   \n",
       "1  I’m Donald J. Trump and I'm Your Next Presiden...   \n",
       "2  The New Algorithm Was Designed To Keep Preside...   \n",
       "3  CNN will soon be #1...when searching for the t...   \n",
       "4  ALL CELEBRITIES THAT VOWED TO LEAVE THE U.S.A....   \n",
       "\n",
       "                                                 url          date  score  \\\n",
       "0  https://www.reddit.com/r/The_Donald/comments/5...  1.478706e+09  66710   \n",
       "1  https://www.reddit.com/r/The_Donald/comments/4...  1.469687e+09  42126   \n",
       "2                        https://i.sli.mg/gu0oHA.png  1.481092e+09  40978   \n",
       "3                 https://i.redd.it/7jeyhzgku65y.png  1.482472e+09  37279   \n",
       "4  https://www.reddit.com/r/The_Donald/comments/5...  1.478702e+09  36614   \n",
       "\n",
       "   n_comments                                               body  \n",
       "0       12087  #Meme Magic is REAL.\\n\\n#Donald J. Trump is th...  \n",
       "1       20790  Hello The_Donald readers and the entire Reddit...  \n",
       "2         832                                                     \n",
       "3         724                                                     \n",
       "4        1685  Now that we have proven our commitment to the ...  "
      ]
     },
     "execution_count": 187,
     "metadata": {},
     "output_type": "execute_result"
    }
   ],
   "source": [
    "donald_subreddit_df.head()"
   ]
  },
  {
   "cell_type": "code",
   "execution_count": 190,
   "metadata": {},
   "outputs": [],
   "source": [
    "# text cleaning: 2 different versions\n",
    "# light clean for model training, heavy clean for vocab work\n",
    "\n",
    "def light_clean(doc):\n",
    "    '''\n",
    "    lightly cleans input doc for\n",
    "    word embedding training:\n",
    "    \n",
    "    * tokenizes\n",
    "    * lowercase\n",
    "    * removes punctuation & non-alpha characters\n",
    "    \n",
    "    returns clean document.\n",
    "    \n",
    "    '''\n",
    "    \n",
    "    # tokenize\n",
    "    \n",
    "    split_tokens = doc.split()\n",
    "    \n",
    "    # punctuation list\n",
    "    \n",
    "    punctuation = string.punctuation\n",
    "    \n",
    "    # set up regex filter\n",
    "    \n",
    "    rgx_punct_filter = re.compile('[%s]' % re.escape(punctuation))\n",
    "    \n",
    "    # apply filter\n",
    "    \n",
    "    no_punct_tokens = [rgx_punct_filter.sub('', char) for char in split_tokens]\n",
    "    \n",
    "    # alpha tokens only\n",
    "    \n",
    "    alpha_tokens = [t for t in no_punct_tokens if t.isalpha()]\n",
    "    \n",
    "    # lowercase\n",
    "    \n",
    "    lower_tokens = [t.lower() for t in alpha_tokens]\n",
    "    \n",
    "    return lower_tokens\n",
    "\n",
    "def super_clean(doc):\n",
    "    '''\n",
    "    cleans a single input document.\n",
    "    applies more processing than\n",
    "    light_clean():\n",
    "    \n",
    "    * tokenizes\n",
    "    * lowercase\n",
    "    * removes punctuation & numbers\n",
    "    * removes stopwords\n",
    "    \n",
    "    returns clean document.\n",
    "    \n",
    "    '''\n",
    "    \n",
    "    # tokenize\n",
    "    \n",
    "    split_tokens = doc.split()\n",
    "    \n",
    "    # grab punctuation list\n",
    "    \n",
    "    punctuation = string.punctuation\n",
    "    \n",
    "    # setup re filter\n",
    "    \n",
    "    rgx_punct_filter = re.compile('[%s]' % re.escape(punctuation))\n",
    "    \n",
    "    # apply filter\n",
    "    \n",
    "    no_punct_tokens = [rgx_punct_filter.sub('', char) for char in split_tokens]\n",
    "    \n",
    "    # take out numbers & any other non-alpha characters\n",
    "    \n",
    "    alpha_tokens = [i for i in no_punct_tokens if i.isalpha()]\n",
    "    \n",
    "    # lowercase\n",
    "    \n",
    "    lower_tokens = [t.lower() for t in alpha_tokens]\n",
    "    \n",
    "    # get stop words\n",
    "    \n",
    "    stop_words = set(stopwords.words('english'))\n",
    "    \n",
    "    # filter out stopwords\n",
    "    \n",
    "    go_tokens = [t for t in lower_tokens if not t in stop_words]\n",
    "    \n",
    "    # remove very short tokens\n",
    "    \n",
    "    clean_tokens = [word for word in go_tokens if len(word) > 1]\n",
    "    \n",
    "    return clean_tokens"
   ]
  },
  {
   "cell_type": "code",
   "execution_count": 199,
   "metadata": {},
   "outputs": [],
   "source": [
    "\n",
    "def clean_all_docs(docs):\n",
    "    \n",
    "    clean_docs = []\n",
    "    \n",
    "    for doc in docs:\n",
    "        \n",
    "        doc = super_clean(doc)\n",
    "        \n",
    "        if doc:\n",
    "            \n",
    "            clean_docs.append(doc)\n",
    "        \n",
    "       \n",
    "    # get vocabulary\n",
    "    '''\n",
    "    \n",
    "    for doc in light_clean_docs:\n",
    "        \n",
    "        for word in doc:\n",
    "            \n",
    "            light_clean_vocab.append(word)\n",
    "            \n",
    "    for doc in super_clean_docs:\n",
    "        \n",
    "        for word in doc:\n",
    "            \n",
    "            super_clean_vocab.append(word)\n",
    "    \n",
    "    # get word counts\n",
    "    \n",
    "    light_clean_counts = Counter(light_clean_vocab)\n",
    "    \n",
    "    super_clean_counts = Counter(super_clean_vocab)\n",
    "    \n",
    "    # get light clean text vocab to dataframe\n",
    "    \n",
    "    lc_vocab_df = pd.DataFrame.from_dict(light_clean_counts, orient='index')\n",
    "    \n",
    "    # sort by most frequent words\n",
    "    \n",
    "    lc_vocab_df = lc_vocab_df.sort_values(by=[0], ascending=False)\n",
    "    \n",
    "    # index\n",
    "    \n",
    "    light_clean_vocab = lc_vocab_df.reset_index()\n",
    "    \n",
    "    # get super clean text vocab\n",
    "    \n",
    "    sc_vocab_df = pd.DataFrame.from_dict(super_clean_counts, orient='index')\n",
    "    \n",
    "    sc_vocab_df = sc_vocab_df.sort_values(by=0, ascending=False)\n",
    "    \n",
    "    super_clean_vocab = sc_vocab_df.reset_index()\n",
    "    \n",
    "    '''\n",
    "     \n",
    "            \n",
    "    return clean_docs\n"
   ]
  },
  {
   "cell_type": "code",
   "execution_count": 202,
   "metadata": {},
   "outputs": [],
   "source": [
    "titles_df = donald_subreddit_df['title']\n",
    "\n",
    "posts_df = donald_subreddit_df['body']\n",
    "\n",
    "donald_clean_titles = clean_all_docs(titles_df)\n",
    "\n",
    "donald_clean_posts = clean_all_docs(posts_df)"
   ]
  },
  {
   "cell_type": "code",
   "execution_count": 203,
   "metadata": {},
   "outputs": [
    {
     "name": "stdout",
     "output_type": "stream",
     "text": [
      "['celebrities', 'vowed', 'leave', 'usa', 'trump', 'wins', 'demand', 'follow']\n",
      "['proven', 'commitment', 'cause', 'voiced', 'acted', 'patriotism', 'odds', 'constant', 'criticism', 'world', 'us', 'call', 'elitist', 'hollywood', 'celebrities', 'vowed', 'betray', 'country', 'leave', 'abandon', 'shun', 'spent', 'careers', 'milking', 'posh', 'lifestyles', 'ask', 'nay', 'demand', 'follow', 'claims', 'leave', 'country', 'americans', 'spoken', 'brushed', 'us', 'movement', 'somehow', 'us', 'forgetting', 'us', 'made', 'fuck', 'think', 'good', 'us', 'well', 'good', 'follow', 'vapid', 'empty', 'threat', 'mistakenly', 'pridefully', 'consider', 'get', 'fuck', 'fame', 'celebrity', 'status', 'despicable', 'shall', 'say', 'deplorable', 'better', 'us', 'important', 'us', 'would', 'nothing', 'without', 'us', 'dare', 'pretend', 'us', 'list', 'demand', 'leave', 'asap', 'amy', 'unfunny', 'schumer', 'lena', 'dunham', 'barbra', 'streisand', 'bryan', 'cranston', 'miley', 'cyrus', 'amy', 'schumer', 'jon', 'stewart', 'cher', 'chelsea', 'handler', 'samuel', 'jackson', 'whoopi', 'goldberg', 'neve', 'campbell', 'keeganmichael', 'key', 'george', 'lopez', 'neyo', 'rev', 'al', 'sharpton', 'ravensymoné', 'buhbye', 'assured', 'missed', 'love', 'basket', 'deplorables']\n"
     ]
    }
   ],
   "source": [
    "print(donald_clean_titles[4])\n",
    "print(donald_clean_posts[2])"
   ]
  },
  {
   "cell_type": "code",
   "execution_count": 207,
   "metadata": {},
   "outputs": [],
   "source": [
    "# TODO:\n",
    "# find a way to automate combining clean\n",
    "# titles & texts (lists) into doc\n",
    "\n",
    "donald_clean_corpus = donald_clean_titles + donald_clean_posts"
   ]
  },
  {
   "cell_type": "code",
   "execution_count": 208,
   "metadata": {},
   "outputs": [],
   "source": [
    "def train_w2v_model(docs):\n",
    "    '''\n",
    "    trains word2vec model on input set of docs.\n",
    "    fits PCA projection to 2d space.\n",
    "    prints 2d visualization of words in vector space.\n",
    "    returns trained model.\n",
    "    \n",
    "    '''\n",
    "    \n",
    "    # train w2v model \n",
    "    \n",
    "    w2v_model = Word2Vec(docs, min_count=1)\n",
    "    \n",
    "    # get vocab\n",
    "    \n",
    "    vector_vocab = w2v_model[w2v_model.wv.vocab]\n",
    "    \n",
    "    # fit PCA model / 2d projection\n",
    "    \n",
    "    pca_model = PCA(n_components=2)\n",
    "    \n",
    "    pca_projection = pca_model.fit_transform(vector_vocab)\n",
    "    \n",
    "    # plot\n",
    "    \n",
    "    pyplot.scatter(pca_projection[:, 0], pca_projection[:, 1])\n",
    "    \n",
    "    # plot with words\n",
    "    \n",
    "    vocab_list = list(w2v_model.wv.vocab)\n",
    "    \n",
    "    for i, word in enumerate(vocab_list):\n",
    "        \n",
    "        pyplot.annotate(word, xy=(pca_projection[i, 0], pca_projection[i, 1]))  \n",
    "    \n",
    "    return w2v_model\n",
    "    "
   ]
  },
  {
   "cell_type": "code",
   "execution_count": 209,
   "metadata": {},
   "outputs": [
    {
     "name": "stderr",
     "output_type": "stream",
     "text": [
      "/opt/conda/lib/python3.6/site-packages/ipykernel_launcher.py:16: DeprecationWarning: Call to deprecated `__getitem__` (Method will be removed in 4.0.0, use self.wv.__getitem__() instead).\n",
      "  app.launch_new_instance()\n"
     ]
    },
    {
     "data": {
      "image/png": "[encoded data removed]",
      "text/plain": [
       "<Figure size 432x288 with 1 Axes>"
      ]
     },
     "metadata": {
      "needs_background": "light"
     },
     "output_type": "display_data"
    }
   ],
   "source": [
    "donald_model = train_w2v_model(donald_clean_corpus)"
   ]
  },
  {
   "cell_type": "code",
   "execution_count": 212,
   "metadata": {},
   "outputs": [],
   "source": [
    "def get_cos_sim(model, word_1, word_2):\n",
    "    \n",
    "    return model.wv.similarity(word_1, word_2)\n",
    "\n",
    "\n",
    "def compare_cos_sim(model, word_list, comp_word):\n",
    "    \n",
    "    cos_sim_list = []\n",
    "    \n",
    "    for word in word_list:\n",
    "        \n",
    "        cos_sim = get_cos_sim(model, word, comp_word)\n",
    "        \n",
    "        in_list = []\n",
    "        \n",
    "        in_list.append(comp_word)\n",
    "        \n",
    "        in_list.append(word)\n",
    "        \n",
    "        in_list.append(cos_sim)\n",
    "        \n",
    "        cos_sim_list.append(in_list)\n",
    "    \n",
    "    return cos_sim_list    \n",
    "            "
   ]
  },
  {
   "cell_type": "code",
   "execution_count": 213,
   "metadata": {},
   "outputs": [],
   "source": [
    "# make contrived list\n",
    "\n",
    "list_A = ['president', 'qualified', 'girls', 'rights', 'abortion', 'children']\n",
    "\n",
    "word_1 = 'women'\n",
    "\n",
    "word_2 = 'men'\n"
   ]
  },
  {
   "cell_type": "code",
   "execution_count": 214,
   "metadata": {},
   "outputs": [],
   "source": [
    "# compare_cos_sim(model, word_list, comp_word)\n",
    "\n",
    "cos_sims_list_1 = compare_cos_sim(donald_model, list_A, word_1)\n",
    "\n",
    "cos_sims_list_2 = compare_cos_sim(donald_model, list_A, word_2)"
   ]
  },
  {
   "cell_type": "code",
   "execution_count": 215,
   "metadata": {},
   "outputs": [
    {
     "name": "stdout",
     "output_type": "stream",
     "text": [
      "[['women', 'president', 0.27411670437195534], ['women', 'qualified', 0.21916707785291678], ['women', 'girls', -0.07361601003673725], ['women', 'rights', 0.10200344319404742], ['women', 'abortion', -0.01916155517427852], ['women', 'children', 0.1024316077309901]] \n",
      "\n",
      "[['men', 'president', 0.1374632015535055], ['men', 'qualified', 0.22249292040195082], ['men', 'girls', -0.016517068115383577], ['men', 'rights', 0.06873884769749228], ['men', 'abortion', -0.12139775033484614], ['men', 'children', -0.012414883985308336]]\n"
     ]
    }
   ],
   "source": [
    "print(cos_sims_list_1, '\\n')\n",
    "print(cos_sims_list_2)"
   ]
  },
  {
   "cell_type": "code",
   "execution_count": 157,
   "metadata": {},
   "outputs": [],
   "source": [
    "# functions to autogenerate lists\n",
    "# based on word frequency\n",
    "\n",
    "def get_top_50(df):\n",
    "    \n",
    "    '''\n",
    "    grabs top 50 vocab words from \n",
    "    dataframe. returns as list.\n",
    "    \n",
    "    NOTE: works best when\n",
    "    stopwords are removed.\n",
    "    \n",
    "    use here with super clean vocabs.\n",
    "    \n",
    "    '''\n",
    "    \n",
    "    top_50_list = list(df[:50]['index'])\n",
    "    \n",
    "    return top_50_list\n",
    "\n",
    "def get_bottom_50(df):\n",
    "    '''\n",
    "    same as get_top_50()\n",
    "    except it gets the bottom 50\n",
    "    \n",
    "    '''\n",
    "    \n",
    "    bottom_50_list = list(df[-50:]['index'])\n",
    "    \n",
    "    return bottom_50_list\n"
   ]
  },
  {
   "cell_type": "code",
   "execution_count": 158,
   "metadata": {},
   "outputs": [],
   "source": [
    "feminism_top_50 = get_top_50(feminism_sc_vocab)"
   ]
  },
  {
   "cell_type": "code",
   "execution_count": 159,
   "metadata": {},
   "outputs": [],
   "source": [
    "feminism_bottom_50 = get_bottom_50(feminism_sc_vocab)"
   ]
  },
  {
   "cell_type": "code",
   "execution_count": 160,
   "metadata": {},
   "outputs": [],
   "source": [
    "def comp_cos_sim_lists(model, list_1, list_2):\n",
    "    \n",
    "    cos_sim_list = []\n",
    "    \n",
    "    for word in list_1:\n",
    "        \n",
    "        if word not in list_2:\n",
    "            \n",
    "            sim_line = compare_cos_sim(model, list_2, word)\n",
    "            \n",
    "            cos_sim_list.append(sim_line)\n",
    "    \n",
    "    return cos_sim_list\n",
    "            "
   ]
  },
  {
   "cell_type": "code",
   "execution_count": 161,
   "metadata": {},
   "outputs": [
    {
     "name": "stdout",
     "output_type": "stream",
     "text": [
      "[[['president', 'women', 0.9966836446172203], ['president', 'men', 0.9967631632765119], ['president', 'woman', 0.9967097281517575], ['president', 'rape', 0.996850530220292], ['president', 'sexual', 0.9966440427843102], ['president', 'feminist', 0.996555517946486], ['president', 'like', 0.9964598376114205], ['president', 'people', 0.9965444741746303], ['president', 'female', 0.9966883171528427], ['president', 'feminism', 0.996711287759589], ['president', 'man', 0.9967385432457078], ['president', 'male', 0.9965998316425457], ['president', 'first', 0.9968689370543296], ['president', 'time', 0.9966179679917831], ['president', 'one', 0.9969180600790768], ['president', 'get', 0.9966665087446138], ['president', 'im', 0.9964760698915813], ['president', 'sex', 0.996622090359969], ['president', 'dont', 0.9965399489493251], ['president', 'us', 0.9964862112153261], ['president', 'would', 0.9965217733623787], ['president', 'never', 0.9967235514448921], ['president', 'know', 0.9965464068492463], ['president', 'even', 0.9964176139130191], ['president', 'girls', 0.9966107448587914], ['president', 'womens', 0.9966184770021245], ['president', 'rights', 0.9963859547379446], ['president', 'think', 0.9968186265658109], ['president', 'abortion', 0.9966405563684706], ['president', 'say', 0.9963621636944278], ['president', 'girl', 0.9965427063143694], ['president', 'every', 0.996626388891973], ['president', 'make', 0.9966249832809497], ['president', 'many', 0.996422586224222], ['president', 'want', 0.9963653831053443], ['president', 'stop', 0.9961928302862506], ['president', 'also', 0.9964813305577667], ['president', 'need', 0.9964265740927502], ['president', 'really', 0.9963357618397282], ['president', 'assault', 0.9963547130649957], ['president', 'right', 0.9960828236134286], ['president', 'years', 0.9965733394272741], ['president', 'xpost', 0.9966542436107337], ['president', 'love', 0.9961708236289903], ['president', 'way', 0.9966761704494994], ['president', 'work', 0.9966354374436894], ['president', 'go', 0.9962716661282272], ['president', 'raped', 0.9963788371596567], ['president', 'reddit', 0.996664612527022], ['president', 'feel', 0.9962452268033763]], [['qualified', 'women', 0.8013058828636822], ['qualified', 'men', 0.8020270377254718], ['qualified', 'woman', 0.8009025247754015], ['qualified', 'rape', 0.8005460437248205], ['qualified', 'sexual', 0.8002617375164242], ['qualified', 'feminist', 0.800508253904453], ['qualified', 'like', 0.8005075577699096], ['qualified', 'people', 0.8002545863023454], ['qualified', 'female', 0.8010164603109158], ['qualified', 'feminism', 0.8012886942581463], ['qualified', 'man', 0.7991334736191362], ['qualified', 'male', 0.8009937024909232], ['qualified', 'first', 0.8000777962167954], ['qualified', 'time', 0.8010349484779341], ['qualified', 'one', 0.7983358340462172], ['qualified', 'get', 0.800163549604116], ['qualified', 'im', 0.7988833908092617], ['qualified', 'sex', 0.7995298035845606], ['qualified', 'dont', 0.8013061470871121], ['qualified', 'us', 0.7999987916334834], ['qualified', 'would', 0.8006913259485733], ['qualified', 'never', 0.8006326688308633], ['qualified', 'know', 0.7994481036101241], ['qualified', 'even', 0.8000072970881402], ['qualified', 'girls', 0.7989401181709155], ['qualified', 'womens', 0.799481988689078], ['qualified', 'rights', 0.8011243012052602], ['qualified', 'think', 0.8014290087601013], ['qualified', 'abortion', 0.7994008714271007], ['qualified', 'say', 0.7978222687215957], ['qualified', 'girl', 0.8001528185506851], ['qualified', 'every', 0.8023657592321078], ['qualified', 'make', 0.7970116386529003], ['qualified', 'many', 0.7969241793741634], ['qualified', 'want', 0.8016293547869109], ['qualified', 'stop', 0.7988531158356524], ['qualified', 'also', 0.8007009799436695], ['qualified', 'need', 0.7999128354724366], ['qualified', 'really', 0.800525071218947], ['qualified', 'assault', 0.7990441827205123], ['qualified', 'right', 0.7993192768195023], ['qualified', 'years', 0.8023928664012691], ['qualified', 'xpost', 0.8010107177527985], ['qualified', 'love', 0.7990652488774503], ['qualified', 'way', 0.80046688561935], ['qualified', 'work', 0.7985406392974884], ['qualified', 'go', 0.797539796113757], ['qualified', 'raped', 0.801530598842418], ['qualified', 'reddit', 0.7998443610941679], ['qualified', 'feel', 0.8026349551628748]], [['children', 'women', 0.9993402348607328], ['children', 'men', 0.9992357193177568], ['children', 'woman', 0.9992814605357636], ['children', 'rape', 0.9991683218380515], ['children', 'sexual', 0.9992179961889213], ['children', 'feminist', 0.9992974588636061], ['children', 'like', 0.9991566388088726], ['children', 'people', 0.9993423376169995], ['children', 'female', 0.9992154665687127], ['children', 'feminism', 0.9992101119058453], ['children', 'man', 0.9991194805190821], ['children', 'male', 0.9992783807698404], ['children', 'first', 0.9992118742406062], ['children', 'time', 0.9991221489227095], ['children', 'one', 0.9991207081687985], ['children', 'get', 0.9992970195294966], ['children', 'im', 0.9991272431280339], ['children', 'sex', 0.9992922641096623], ['children', 'dont', 0.9991306797872868], ['children', 'us', 0.9992662801754411], ['children', 'would', 0.9993051002261619], ['children', 'never', 0.9992075211852811], ['children', 'know', 0.999153078213456], ['children', 'even', 0.9992916825719484], ['children', 'girls', 0.9991042087429375], ['children', 'womens', 0.9992917100234824], ['children', 'rights', 0.9990301728607524], ['children', 'think', 0.9990124342355483], ['children', 'abortion', 0.9990713163943774], ['children', 'say', 0.9992104435390217], ['children', 'girl', 0.9991184650275065], ['children', 'every', 0.9990350512714026], ['children', 'make', 0.9991764038225859], ['children', 'many', 0.9991819986096807], ['children', 'want', 0.99893720595997], ['children', 'stop', 0.9990138918926067], ['children', 'also', 0.9992416551635829], ['children', 'need', 0.9990602331983149], ['children', 'really', 0.999077297872134], ['children', 'assault', 0.9991350010349197], ['children', 'right', 0.999025909585054], ['children', 'years', 0.9991117619386412], ['children', 'xpost', 0.9989880851998211], ['children', 'love', 0.9984027423342426], ['children', 'way', 0.9988032316909998], ['children', 'work', 0.9988808598556557], ['children', 'go', 0.9989093094990374], ['children', 'raped', 0.9992195421242211], ['children', 'reddit', 0.9989690891743607], ['children', 'feel', 0.9989494245869607]]]\n"
     ]
    }
   ],
   "source": [
    "cos_sim_lists = comp_cos_sim_lists(feminism_model_lc, list_A, feminism_top_50)\n",
    "\n",
    "print(cos_sim_lists)"
   ]
  },
  {
   "cell_type": "code",
   "execution_count": 167,
   "metadata": {},
   "outputs": [],
   "source": [
    "# gonna start off with just testing\n",
    "\n",
    "def WEAT_pipeline(subreddit_name, app_name, oa_script, oa_secret, pwd):\n",
    "    \n",
    "    subreddit = get_subreddit(subreddit_name, app_name, oa_script, oa_secret, pwd)\n",
    "    \n",
    "    subreddit, corpus = make_corpus(subreddit)\n",
    "    \n",
    "    # light_clean_docs, light_clean_vocab, super_clean_docs, super_clean_vocab\n",
    "    \n",
    "    lc_corpus, lc_vocab, sc_corpus, sc_vocab = clean_all_docs(corpus)\n",
    "    \n",
    "    # use both lightly & super cleaned corpora to train model\n",
    "    \n",
    "    lc_model = train_w2v_model(lc_corpus)\n",
    "    \n",
    "    sc_model = train_w2v_model(sc_corpus)\n",
    "    \n",
    "    #compare_cos_sim(model, word_list, comp_word):\n",
    "    \n",
    "    words = ['president', 'child', 'qualified', 'smart', 'good', 'evil']\n",
    "    \n",
    "    sim_list_man = compare_cos_sim(lc_model, words, 'man')\n",
    "    \n",
    "    sim_list_woman = compare_cos_sim(lc_model, words, 'woman')\n",
    "    \n",
    "    return lc_model, sim_list_man, sim_list_woman\n"
   ]
  },
  {
   "cell_type": "code",
   "execution_count": 168,
   "metadata": {},
   "outputs": [
    {
     "name": "stdout",
     "output_type": "stream",
     "text": [
      "DONALD J. TRUMP DECLARED THE WINNER! \n",
      "\n",
      "I’m Donald J. Trump and I'm Your Next President of the United States. \n",
      "\n",
      "The New Algorithm Was Designed To Keep President Trump From The Front Page... But Sadly, That Won't Happen. \n",
      "\n",
      "CNN will soon be #1...when searching for the term \"Fake News\". Congratulations to CNN on this major achievement. \n",
      "\n",
      "ALL CELEBRITIES THAT VOWED TO LEAVE THE U.S.A. IF TRUMP WINS, WE NOW DEMAND YOU TO FOLLOW THROUGH!!!! OUT! OUT! OUT! \n",
      "\n"
     ]
    },
    {
     "name": "stderr",
     "output_type": "stream",
     "text": [
      "/opt/conda/lib/python3.6/site-packages/ipykernel_launcher.py:16: DeprecationWarning: Call to deprecated `__getitem__` (Method will be removed in 4.0.0, use self.wv.__getitem__() instead).\n",
      "  app.launch_new_instance()\n",
      "/opt/conda/lib/python3.6/site-packages/ipykernel_launcher.py:16: DeprecationWarning: Call to deprecated `__getitem__` (Method will be removed in 4.0.0, use self.wv.__getitem__() instead).\n",
      "  app.launch_new_instance()\n"
     ]
    },
    {
     "data": {
      "image/png": "[encoded data removed]",
      "text/plain": [
       "<Figure size 432x288 with 1 Axes>"
      ]
     },
     "metadata": {
      "needs_background": "light"
     },
     "output_type": "display_data"
    }
   ],
   "source": [
    "#WEAT_pipeline(subreddit_name, app_name, oa_script, oa_secret, pwd\n",
    "'''\n",
    "user_agent='get_corpora',\n",
    "username='neurodivergent_ai',\n",
    "password=pw)\n",
    "\n",
    "'reddit_oa_script.txt'\n",
    "'reddit_oa_secret.txt'\n",
    "'reddit_id.txt'\n",
    "'''\n",
    "\n",
    "model1, man_list, woman_list = WEAT_pipeline('The_Donald', 'get_corpora', \n",
    "                                     'reddit_oa_script.txt', 'reddit_oa_secret.txt',\n",
    "                                    'reddit_id.txt')"
   ]
  },
  {
   "cell_type": "code",
   "execution_count": 169,
   "metadata": {},
   "outputs": [
    {
     "name": "stdout",
     "output_type": "stream",
     "text": [
      "[['man', 'president', 0.9995972414660116], ['man', 'child', 0.9987432751457547], ['man', 'qualified', 0.8706532733826551], ['man', 'smart', 0.9958553614752533], ['man', 'good', 0.9993748855567396], ['man', 'evil', 0.9235109493410409]] [['woman', 'president', 0.9992906435242022], ['woman', 'child', 0.9984589154959734], ['woman', 'qualified', 0.8735135680076231], ['woman', 'smart', 0.995711994987023], ['woman', 'good', 0.9989793030762185], ['woman', 'evil', 0.9223876631610801]]\n"
     ]
    }
   ],
   "source": [
    "print(man_list, woman_list)"
   ]
  },
  {
   "cell_type": "code",
   "execution_count": 166,
   "metadata": {},
   "outputs": [
    {
     "name": "stdout",
     "output_type": "stream",
     "text": [
      "0.9995601548824246 0.9995024586723307\n"
     ]
    }
   ],
   "source": [
    "#get_cos_sim(model, word_1, word_2)\n",
    "\n",
    "#compare_cos_sim(model, word_list, comp_word)\n",
    "\n",
    "cos1 = get_cos_sim(model1, 'man', 'president')\n",
    "cos2 = get_cos_sim(model1, 'woman', 'president')\n",
    "\n",
    "print(cos1, cos2)"
   ]
  },
  {
   "cell_type": "code",
   "execution_count": null,
   "metadata": {},
   "outputs": [],
   "source": []
  }
 ],
 "metadata": {
  "kernelspec": {
   "display_name": "Python 3",
   "language": "python",
   "name": "python3"
  },
  "language_info": {
   "codemirror_mode": {
    "name": "ipython",
    "version": 3
   },
   "file_extension": ".py",
   "mimetype": "text/x-python",
   "name": "python",
   "nbconvert_exporter": "python",
   "pygments_lexer": "ipython3",
   "version": "3.6.3"
  }
 },
 "nbformat": 4,
 "nbformat_minor": 2
}
