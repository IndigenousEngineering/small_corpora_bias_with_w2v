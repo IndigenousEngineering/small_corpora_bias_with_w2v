{
 "cells": [
  {
   "cell_type": "code",
   "execution_count": 180,
   "metadata": {},
   "outputs": [],
   "source": [
    "import praw\n",
    "import pandas as pd\n",
    "import re\n",
    "import string\n",
    "import nltk\n",
    "from collections import Counter\n",
    "from gensim.models import Word2Vec\n",
    "from nltk.corpus import stopwords\n",
    "from sklearn.feature_extraction.text import CountVectorizer\n",
    "from sklearn.decomposition import PCA\n",
    "from matplotlib import pyplot\n",
    "%matplotlib inline"
   ]
  },
  {
   "cell_type": "code",
   "execution_count": 181,
   "metadata": {},
   "outputs": [
    {
     "name": "stdout",
     "output_type": "stream",
     "text": [
      "[nltk_data] Downloading package stopwords to /home/keras/nltk_data...\n",
      "[nltk_data]   Package stopwords is already up-to-date!\n"
     ]
    },
    {
     "data": {
      "text/plain": [
       "True"
      ]
     },
     "execution_count": 181,
     "metadata": {},
     "output_type": "execute_result"
    }
   ],
   "source": [
    "nltk.download('stopwords')"
   ]
  },
  {
   "cell_type": "code",
   "execution_count": 184,
   "metadata": {},
   "outputs": [],
   "source": [
    "def get_subreddit(subreddit_name, app_name, oa_script, oa_secret, pwd):\n",
    "    '''\n",
    "    returns subreddit object with top 1000 subreddit posts\n",
    "    \n",
    "    '''\n",
    "\n",
    "    with open(oa_script) as f:\n",
    "    \n",
    "        script = f.read().strip()\n",
    "\n",
    "    with open(oa_secret) as f:\n",
    "    \n",
    "        secret = f.read().strip()\n",
    "\n",
    "    with open(pwd) as f:\n",
    "    \n",
    "        pw = f.read().strip()\n",
    "    \n",
    "# get reddit object\n",
    "    \n",
    "    reddit = praw.Reddit(client_id=script,\n",
    "                        client_secret=secret,\n",
    "                        user_agent=app_name,\n",
    "                        username='neurodivergent_ai',\n",
    "                        password=pw)\n",
    "\n",
    "    # get subreddit\n",
    "\n",
    "    subreddit = reddit.subreddit(subreddit_name)\n",
    "\n",
    "    # get top posts\n",
    "\n",
    "    top = subreddit.top(limit=1000)\n",
    "\n",
    "    for post in subreddit.top(limit=5):\n",
    "    \n",
    "        print(post.title, '\\n')\n",
    "        \n",
    "    return top\n"
   ]
  },
  {
   "cell_type": "code",
   "execution_count": 185,
   "metadata": {},
   "outputs": [
    {
     "name": "stdout",
     "output_type": "stream",
     "text": [
      "DONALD J. TRUMP DECLARED THE WINNER! \n",
      "\n",
      "I’m Donald J. Trump and I'm Your Next President of the United States. \n",
      "\n",
      "The New Algorithm Was Designed To Keep President Trump From The Front Page... But Sadly, That Won't Happen. \n",
      "\n",
      "CNN will soon be #1...when searching for the term \"Fake News\". Congratulations to CNN on this major achievement. \n",
      "\n",
      "ALL CELEBRITIES THAT VOWED TO LEAVE THE U.S.A. IF TRUMP WINS, WE NOW DEMAND YOU TO FOLLOW THROUGH!!!! OUT! OUT! OUT! \n",
      "\n"
     ]
    }
   ],
   "source": [
    "#get_subreddit(subreddit_name, app_name, oa_script, oa_secret, pwd):\n",
    "\n",
    "\n",
    "donald_subreddit = get_subreddit('The_Donald', 'get_corpora', \n",
    "                                     'reddit_oa_script.txt', 'reddit_oa_secret.txt',\n",
    "                                    'reddit_id.txt')"
   ]
  },
  {
   "cell_type": "code",
   "execution_count": 175,
   "metadata": {},
   "outputs": [],
   "source": [
    "# iterate through reddit object, build dictionary, return dataframes\n",
    "# return titles&posts df, plus whole df\n",
    "\n",
    "def make_subreddit_df(subreddit_object):\n",
    "    '''\n",
    "    takes subreddit api object,\n",
    "    returns as dataframe:\n",
    "    \n",
    "    * entire subreddit, all columns\n",
    "    \n",
    "    '''\n",
    "    \n",
    "    columns_dict = {'title': [],\n",
    "                   'url': [],\n",
    "                   'date': [],\n",
    "                   'score': [],\n",
    "                   'n_comments': [],\n",
    "                   'body': []}\n",
    "    \n",
    "    # build dictionary\n",
    "    \n",
    "    for post in subreddit_object:\n",
    "        \n",
    "        columns_dict['title'].append(post.title)\n",
    "        \n",
    "        columns_dict['url'].append(post.url)\n",
    "        \n",
    "        columns_dict['date'].append(post.created)\n",
    "        \n",
    "        columns_dict['score'].append(post.score)\n",
    "        \n",
    "        columns_dict['n_comments'].append(post.num_comments)\n",
    "        \n",
    "        columns_dict['body'].append(post.selftext)\n",
    "    \n",
    "    # convert to dataframe\n",
    "    \n",
    "    subreddit_df = pd.DataFrame(columns_dict)\n",
    "    \n",
    "    return subreddit_df\n",
    "        "
   ]
  },
  {
   "cell_type": "code",
   "execution_count": 186,
   "metadata": {},
   "outputs": [],
   "source": [
    "donald_subreddit_df = make_subreddit_df(donald_subreddit)"
   ]
  },
  {
   "cell_type": "code",
   "execution_count": 187,
   "metadata": {},
   "outputs": [
    {
     "data": {
      "text/html": [
       "<div>\n",
       "<style scoped>\n",
       "    .dataframe tbody tr th:only-of-type {\n",
       "        vertical-align: middle;\n",
       "    }\n",
       "\n",
       "    .dataframe tbody tr th {\n",
       "        vertical-align: top;\n",
       "    }\n",
       "\n",
       "    .dataframe thead th {\n",
       "        text-align: right;\n",
       "    }\n",
       "</style>\n",
       "<table border=\"1\" class=\"dataframe\">\n",
       "  <thead>\n",
       "    <tr style=\"text-align: right;\">\n",
       "      <th></th>\n",
       "      <th>title</th>\n",
       "      <th>url</th>\n",
       "      <th>date</th>\n",
       "      <th>score</th>\n",
       "      <th>n_comments</th>\n",
       "      <th>body</th>\n",
       "    </tr>\n",
       "  </thead>\n",
       "  <tbody>\n",
       "    <tr>\n",
       "      <th>0</th>\n",
       "      <td>DONALD J. TRUMP DECLARED THE WINNER!</td>\n",
       "      <td>https://www.reddit.com/r/The_Donald/comments/5...</td>\n",
       "      <td>1.478706e+09</td>\n",
       "      <td>66710</td>\n",
       "      <td>12087</td>\n",
       "      <td>#Meme Magic is REAL.\\n\\n#Donald J. Trump is th...</td>\n",
       "    </tr>\n",
       "    <tr>\n",
       "      <th>1</th>\n",
       "      <td>I’m Donald J. Trump and I'm Your Next Presiden...</td>\n",
       "      <td>https://www.reddit.com/r/The_Donald/comments/4...</td>\n",
       "      <td>1.469687e+09</td>\n",
       "      <td>42126</td>\n",
       "      <td>20790</td>\n",
       "      <td>Hello The_Donald readers and the entire Reddit...</td>\n",
       "    </tr>\n",
       "    <tr>\n",
       "      <th>2</th>\n",
       "      <td>The New Algorithm Was Designed To Keep Preside...</td>\n",
       "      <td>https://i.sli.mg/gu0oHA.png</td>\n",
       "      <td>1.481092e+09</td>\n",
       "      <td>40978</td>\n",
       "      <td>832</td>\n",
       "      <td></td>\n",
       "    </tr>\n",
       "    <tr>\n",
       "      <th>3</th>\n",
       "      <td>CNN will soon be #1...when searching for the t...</td>\n",
       "      <td>https://i.redd.it/7jeyhzgku65y.png</td>\n",
       "      <td>1.482472e+09</td>\n",
       "      <td>37279</td>\n",
       "      <td>724</td>\n",
       "      <td></td>\n",
       "    </tr>\n",
       "    <tr>\n",
       "      <th>4</th>\n",
       "      <td>ALL CELEBRITIES THAT VOWED TO LEAVE THE U.S.A....</td>\n",
       "      <td>https://www.reddit.com/r/The_Donald/comments/5...</td>\n",
       "      <td>1.478702e+09</td>\n",
       "      <td>36614</td>\n",
       "      <td>1685</td>\n",
       "      <td>Now that we have proven our commitment to the ...</td>\n",
       "    </tr>\n",
       "  </tbody>\n",
       "</table>\n",
       "</div>"
      ],
      "text/plain": [
       "                                               title  \\\n",
       "0               DONALD J. TRUMP DECLARED THE WINNER!   \n",
       "1  I’m Donald J. Trump and I'm Your Next Presiden...   \n",
       "2  The New Algorithm Was Designed To Keep Preside...   \n",
       "3  CNN will soon be #1...when searching for the t...   \n",
       "4  ALL CELEBRITIES THAT VOWED TO LEAVE THE U.S.A....   \n",
       "\n",
       "                                                 url          date  score  \\\n",
       "0  https://www.reddit.com/r/The_Donald/comments/5...  1.478706e+09  66710   \n",
       "1  https://www.reddit.com/r/The_Donald/comments/4...  1.469687e+09  42126   \n",
       "2                        https://i.sli.mg/gu0oHA.png  1.481092e+09  40978   \n",
       "3                 https://i.redd.it/7jeyhzgku65y.png  1.482472e+09  37279   \n",
       "4  https://www.reddit.com/r/The_Donald/comments/5...  1.478702e+09  36614   \n",
       "\n",
       "   n_comments                                               body  \n",
       "0       12087  #Meme Magic is REAL.\\n\\n#Donald J. Trump is th...  \n",
       "1       20790  Hello The_Donald readers and the entire Reddit...  \n",
       "2         832                                                     \n",
       "3         724                                                     \n",
       "4        1685  Now that we have proven our commitment to the ...  "
      ]
     },
     "execution_count": 187,
     "metadata": {},
     "output_type": "execute_result"
    }
   ],
   "source": [
    "donald_subreddit_df.head()"
   ]
  },
  {
   "cell_type": "code",
   "execution_count": 190,
   "metadata": {},
   "outputs": [],
   "source": [
    "# text cleaning: 2 different versions\n",
    "# light clean for model training, heavy clean for vocab work\n",
    "\n",
    "def light_clean(doc):\n",
    "    '''\n",
    "    lightly cleans input doc for\n",
    "    word embedding training:\n",
    "    \n",
    "    * tokenizes\n",
    "    * lowercase\n",
    "    * removes punctuation & non-alpha characters\n",
    "    \n",
    "    returns clean document.\n",
    "    \n",
    "    '''\n",
    "    \n",
    "    # tokenize\n",
    "    \n",
    "    split_tokens = doc.split()\n",
    "    \n",
    "    # punctuation list\n",
    "    \n",
    "    punctuation = string.punctuation\n",
    "    \n",
    "    # set up regex filter\n",
    "    \n",
    "    rgx_punct_filter = re.compile('[%s]' % re.escape(punctuation))\n",
    "    \n",
    "    # apply filter\n",
    "    \n",
    "    no_punct_tokens = [rgx_punct_filter.sub('', char) for char in split_tokens]\n",
    "    \n",
    "    # alpha tokens only\n",
    "    \n",
    "    alpha_tokens = [t for t in no_punct_tokens if t.isalpha()]\n",
    "    \n",
    "    # lowercase\n",
    "    \n",
    "    lower_tokens = [t.lower() for t in alpha_tokens]\n",
    "    \n",
    "    return lower_tokens\n",
    "\n",
    "def super_clean(doc):\n",
    "    '''\n",
    "    cleans a single input document.\n",
    "    applies more processing than\n",
    "    light_clean():\n",
    "    \n",
    "    * tokenizes\n",
    "    * lowercase\n",
    "    * removes punctuation & numbers\n",
    "    * removes stopwords\n",
    "    \n",
    "    returns clean document.\n",
    "    \n",
    "    '''\n",
    "    \n",
    "    # tokenize\n",
    "    \n",
    "    split_tokens = doc.split()\n",
    "    \n",
    "    # grab punctuation list\n",
    "    \n",
    "    punctuation = string.punctuation\n",
    "    \n",
    "    # setup re filter\n",
    "    \n",
    "    rgx_punct_filter = re.compile('[%s]' % re.escape(punctuation))\n",
    "    \n",
    "    # apply filter\n",
    "    \n",
    "    no_punct_tokens = [rgx_punct_filter.sub('', char) for char in split_tokens]\n",
    "    \n",
    "    # take out numbers & any other non-alpha characters\n",
    "    \n",
    "    alpha_tokens = [i for i in no_punct_tokens if i.isalpha()]\n",
    "    \n",
    "    # lowercase\n",
    "    \n",
    "    lower_tokens = [t.lower() for t in alpha_tokens]\n",
    "    \n",
    "    # get stop words\n",
    "    \n",
    "    stop_words = set(stopwords.words('english'))\n",
    "    \n",
    "    # filter out stopwords\n",
    "    \n",
    "    go_tokens = [t for t in lower_tokens if not t in stop_words]\n",
    "    \n",
    "    # remove very short tokens\n",
    "    \n",
    "    clean_tokens = [word for word in go_tokens if len(word) > 1]\n",
    "    \n",
    "    return clean_tokens"
   ]
  },
  {
   "cell_type": "code",
   "execution_count": 229,
   "metadata": {},
   "outputs": [],
   "source": [
    "\n",
    "def clean_all_docs(docs):\n",
    "    \n",
    "    clean_docs = []\n",
    "    \n",
    "    for doc in docs:\n",
    "        \n",
    "        doc = super_clean(doc)\n",
    "        \n",
    "        if doc:\n",
    "            \n",
    "            clean_docs.append(doc)\n",
    "    \n",
    "    return clean_docs\n",
    "        \n",
    "\n",
    "    \n",
    "\n",
    "    \n",
    "    \n",
    "    '''\n",
    "    \n",
    "    for doc in light_clean_docs:\n",
    "        \n",
    "        for word in doc:\n",
    "            \n",
    "            light_clean_vocab.append(word)\n",
    "            \n",
    "    for doc in super_clean_docs:\n",
    "        \n",
    "        for word in doc:\n",
    "            \n",
    "            super_clean_vocab.append(word)\n",
    "    \n",
    "    # get word counts\n",
    "    \n",
    "    light_clean_counts = Counter(light_clean_vocab)\n",
    "    \n",
    "    super_clean_counts = Counter(super_clean_vocab)\n",
    "    \n",
    "    # get light clean text vocab to dataframe\n",
    "    \n",
    "    lc_vocab_df = pd.DataFrame.from_dict(light_clean_counts, orient='index')\n",
    "    \n",
    "    # sort by most frequent words\n",
    "    \n",
    "    lc_vocab_df = lc_vocab_df.sort_values(by=[0], ascending=False)\n",
    "    \n",
    "    # index\n",
    "    \n",
    "    light_clean_vocab = lc_vocab_df.reset_index()\n",
    "    \n",
    "    # get super clean text vocab\n",
    "    \n",
    "    sc_vocab_df = pd.DataFrame.from_dict(super_clean_counts, orient='index')\n",
    "    \n",
    "    sc_vocab_df = sc_vocab_df.sort_values(by=0, ascending=False)\n",
    "    \n",
    "    super_clean_vocab = sc_vocab_df.reset_index()\n",
    "    \n",
    "    '''\n",
    "     \n",
    "            \n",
    "    \n"
   ]
  },
  {
   "cell_type": "code",
   "execution_count": 236,
   "metadata": {},
   "outputs": [],
   "source": [
    "titles_df = donald_subreddit_df['title']\n",
    "\n",
    "posts_df = donald_subreddit_df['body']\n",
    "\n",
    "donald_clean_titles = clean_all_docs(titles_df)\n",
    "\n",
    "donald_clean_posts = clean_all_docs(posts_df)\n"
   ]
  },
  {
   "cell_type": "code",
   "execution_count": 203,
   "metadata": {},
   "outputs": [
    {
     "name": "stdout",
     "output_type": "stream",
     "text": [
      "['celebrities', 'vowed', 'leave', 'usa', 'trump', 'wins', 'demand', 'follow']\n",
      "['proven', 'commitment', 'cause', 'voiced', 'acted', 'patriotism', 'odds', 'constant', 'criticism', 'world', 'us', 'call', 'elitist', 'hollywood', 'celebrities', 'vowed', 'betray', 'country', 'leave', 'abandon', 'shun', 'spent', 'careers', 'milking', 'posh', 'lifestyles', 'ask', 'nay', 'demand', 'follow', 'claims', 'leave', 'country', 'americans', 'spoken', 'brushed', 'us', 'movement', 'somehow', 'us', 'forgetting', 'us', 'made', 'fuck', 'think', 'good', 'us', 'well', 'good', 'follow', 'vapid', 'empty', 'threat', 'mistakenly', 'pridefully', 'consider', 'get', 'fuck', 'fame', 'celebrity', 'status', 'despicable', 'shall', 'say', 'deplorable', 'better', 'us', 'important', 'us', 'would', 'nothing', 'without', 'us', 'dare', 'pretend', 'us', 'list', 'demand', 'leave', 'asap', 'amy', 'unfunny', 'schumer', 'lena', 'dunham', 'barbra', 'streisand', 'bryan', 'cranston', 'miley', 'cyrus', 'amy', 'schumer', 'jon', 'stewart', 'cher', 'chelsea', 'handler', 'samuel', 'jackson', 'whoopi', 'goldberg', 'neve', 'campbell', 'keeganmichael', 'key', 'george', 'lopez', 'neyo', 'rev', 'al', 'sharpton', 'ravensymoné', 'buhbye', 'assured', 'missed', 'love', 'basket', 'deplorables']\n"
     ]
    }
   ],
   "source": [
    "print(donald_clean_titles[4])\n",
    "print(donald_clean_posts[2])"
   ]
  },
  {
   "cell_type": "code",
   "execution_count": 207,
   "metadata": {},
   "outputs": [],
   "source": [
    "# TODO:\n",
    "# find a way to automate combining clean\n",
    "# titles & texts (lists) into doc\n",
    "\n",
    "donald_clean_corpus = donald_clean_titles + donald_clean_posts"
   ]
  },
  {
   "cell_type": "code",
   "execution_count": 208,
   "metadata": {},
   "outputs": [],
   "source": [
    "def train_w2v_model(docs):\n",
    "    '''\n",
    "    trains word2vec model on input set of docs.\n",
    "    fits PCA projection to 2d space.\n",
    "    prints 2d visualization of words in vector space.\n",
    "    returns trained model.\n",
    "    \n",
    "    '''\n",
    "    \n",
    "    # train w2v model \n",
    "    \n",
    "    w2v_model = Word2Vec(docs, min_count=1)\n",
    "    \n",
    "    # get vocab\n",
    "    \n",
    "    vector_vocab = w2v_model[w2v_model.wv.vocab]\n",
    "    \n",
    "    # fit PCA model / 2d projection\n",
    "    \n",
    "    pca_model = PCA(n_components=2)\n",
    "    \n",
    "    pca_projection = pca_model.fit_transform(vector_vocab)\n",
    "    \n",
    "    # plot\n",
    "    \n",
    "    pyplot.scatter(pca_projection[:, 0], pca_projection[:, 1])\n",
    "    \n",
    "    # plot with words\n",
    "    \n",
    "    vocab_list = list(w2v_model.wv.vocab)\n",
    "    \n",
    "    for i, word in enumerate(vocab_list):\n",
    "        \n",
    "        pyplot.annotate(word, xy=(pca_projection[i, 0], pca_projection[i, 1]))  \n",
    "    \n",
    "    return w2v_model\n",
    "    "
   ]
  },
  {
   "cell_type": "code",
   "execution_count": 209,
   "metadata": {},
   "outputs": [
    {
     "name": "stderr",
     "output_type": "stream",
     "text": [
      "/opt/conda/lib/python3.6/site-packages/ipykernel_launcher.py:16: DeprecationWarning: Call to deprecated `__getitem__` (Method will be removed in 4.0.0, use self.wv.__getitem__() instead).\n",
      "  app.launch_new_instance()\n"
     ]
    },
    {
     "data": {
      "image/png": "[encoded data removed]",
      "text/plain": [
       "<Figure size 432x288 with 1 Axes>"
      ]
     },
     "metadata": {
      "needs_background": "light"
     },
     "output_type": "display_data"
    }
   ],
   "source": [
    "donald_model = train_w2v_model(donald_clean_corpus)"
   ]
  },
  {
   "cell_type": "code",
   "execution_count": 212,
   "metadata": {},
   "outputs": [],
   "source": [
    "def get_cos_sim(model, word_1, word_2):\n",
    "    \n",
    "    return model.wv.similarity(word_1, word_2)\n",
    "\n",
    "\n",
    "def compare_cos_sim(model, word_list, comp_word):\n",
    "    \n",
    "    cos_sim_list = []\n",
    "    \n",
    "    for word in word_list:\n",
    "        \n",
    "        cos_sim = get_cos_sim(model, word, comp_word)\n",
    "        \n",
    "        in_list = []\n",
    "        \n",
    "        in_list.append(comp_word)\n",
    "        \n",
    "        in_list.append(word)\n",
    "        \n",
    "        in_list.append(cos_sim)\n",
    "        \n",
    "        cos_sim_list.append(in_list)\n",
    "    \n",
    "    return cos_sim_list    \n",
    "            "
   ]
  },
  {
   "cell_type": "code",
   "execution_count": 223,
   "metadata": {},
   "outputs": [],
   "source": [
    "# make contrived list\n",
    "\n",
    "list_A = ['president', 'qualified', 'people', 'email', 'prison', 'crooked']\n",
    "\n",
    "word_1 = 'trump'\n",
    "\n",
    "word_2 = 'clinton'\n"
   ]
  },
  {
   "cell_type": "code",
   "execution_count": 224,
   "metadata": {},
   "outputs": [],
   "source": [
    "# compare_cos_sim(model, word_list, comp_word)\n",
    "\n",
    "cos_sims_list_1 = compare_cos_sim(donald_model, list_A, word_1)\n",
    "\n",
    "cos_sims_list_2 = compare_cos_sim(donald_model, list_A, word_2)"
   ]
  },
  {
   "cell_type": "code",
   "execution_count": 225,
   "metadata": {},
   "outputs": [
    {
     "name": "stdout",
     "output_type": "stream",
     "text": [
      "[['trump', 'president', 0.6437116323233487], ['trump', 'qualified', 0.016517045750558453], ['trump', 'people', 0.6575355789812684], ['trump', 'email', 0.5199953341420535], ['trump', 'prison', 0.08070563753409733], ['trump', 'crooked', 0.15875857307517885]] \n",
      "\n",
      "[['clinton', 'president', 0.5937849527280563], ['clinton', 'qualified', -0.031306804942539644], ['clinton', 'people', 0.6359931049952696], ['clinton', 'email', 0.543810485270158], ['clinton', 'prison', 0.1451578162503217], ['clinton', 'crooked', 0.06423235526010126]]\n"
     ]
    }
   ],
   "source": [
    "print(cos_sims_list_1, '\\n')\n",
    "print(cos_sims_list_2)"
   ]
  },
  {
   "cell_type": "code",
   "execution_count": 226,
   "metadata": {},
   "outputs": [],
   "source": [
    "def comp_cos_sim_lists(model, list_1, list_2):\n",
    "    \n",
    "    cos_sim_list = []\n",
    "    \n",
    "    for word in list_1:\n",
    "        \n",
    "        if word not in list_2:\n",
    "            \n",
    "            sim_line = compare_cos_sim(model, list_2, word)\n",
    "            \n",
    "            cos_sim_list.append(sim_line)\n",
    "    \n",
    "    return cos_sim_list\n",
    "            "
   ]
  },
  {
   "cell_type": "code",
   "execution_count": 227,
   "metadata": {},
   "outputs": [
    {
     "name": "stdout",
     "output_type": "stream",
     "text": [
      "[[['president', 'donald', 0.4253502350796358], ['president', 'trump', 0.6437116323233487], ['president', 'hillary', 0.504059205062843], ['president', 'clinton', 0.5937849527280563]], [['qualified', 'donald', 0.005270225743883399], ['qualified', 'trump', 0.016517045750558453], ['qualified', 'hillary', 0.14810712360137543], ['qualified', 'clinton', -0.031306804942539644]], [['people', 'donald', 0.5852895787194283], ['people', 'trump', 0.6575355789812684], ['people', 'hillary', 0.6112779011272428], ['people', 'clinton', 0.6359931049952696]], [['email', 'donald', 0.2881382393257101], ['email', 'trump', 0.5199953341420535], ['email', 'hillary', 0.4054012103563048], ['email', 'clinton', 0.543810485270158]], [['prison', 'donald', 0.16316250574594812], ['prison', 'trump', 0.08070563753409733], ['prison', 'hillary', 0.12900912858620756], ['prison', 'clinton', 0.1451578162503217]], [['crooked', 'donald', 0.1519629446522846], ['crooked', 'trump', 0.15875857307517885], ['crooked', 'hillary', 0.07375405836368132], ['crooked', 'clinton', 0.06423235526010126]]]\n"
     ]
    }
   ],
   "source": [
    "list_B = ['donald', 'trump', 'hillary', 'clinton']\n",
    "\n",
    "cos_sim_lists = comp_cos_sim_lists(donald_model, list_A, list_B)\n",
    "\n",
    "print(cos_sim_lists)"
   ]
  },
  {
   "cell_type": "code",
   "execution_count": 241,
   "metadata": {},
   "outputs": [],
   "source": [
    "def join_corpus(df):\n",
    "    \n",
    "    corpus = list(df['title']) + list(df['body'])\n",
    "    \n",
    "    return corpus"
   ]
  },
  {
   "cell_type": "code",
   "execution_count": 242,
   "metadata": {},
   "outputs": [
    {
     "name": "stdout",
     "output_type": "stream",
     "text": [
      "1996\n"
     ]
    }
   ],
   "source": [
    "donald_corpus = join_corpus(donald_subreddit_df)\n",
    "\n",
    "print(len(donald_corpus))"
   ]
  },
  {
   "cell_type": "code",
   "execution_count": 243,
   "metadata": {},
   "outputs": [
    {
     "name": "stdout",
     "output_type": "stream",
     "text": [
      "['hey', 'admins', 'found', 'picture', 'wifes', 'boyfriends', 'president']\n"
     ]
    }
   ],
   "source": [
    "donald_clean_corpus_test = clean_all_docs(donald_corpus)\n",
    "\n",
    "print(donald_clean_corpus_test[6])"
   ]
  },
  {
   "cell_type": "code",
   "execution_count": 244,
   "metadata": {},
   "outputs": [
    {
     "name": "stderr",
     "output_type": "stream",
     "text": [
      "/opt/conda/lib/python3.6/site-packages/ipykernel_launcher.py:16: DeprecationWarning: Call to deprecated `__getitem__` (Method will be removed in 4.0.0, use self.wv.__getitem__() instead).\n",
      "  app.launch_new_instance()\n"
     ]
    },
    {
     "data": {
      "image/png": "[encoded data removed]",
      "text/plain": [
       "<Figure size 432x288 with 1 Axes>"
      ]
     },
     "metadata": {
      "needs_background": "light"
     },
     "output_type": "display_data"
    }
   ],
   "source": [
    "donald_model_test = train_w2v_model(donald_clean_corpus_test)"
   ]
  },
  {
   "cell_type": "code",
   "execution_count": 245,
   "metadata": {},
   "outputs": [
    {
     "name": "stdout",
     "output_type": "stream",
     "text": [
      "[[['president', 'donald', 0.41455337118201996], ['president', 'trump', 0.6355606990334444], ['president', 'hillary', 0.4914439467343301], ['president', 'clinton', 0.5666152362185881]], [['qualified', 'donald', -0.0008163028051628995], ['qualified', 'trump', 0.019144379178387953], ['qualified', 'hillary', 0.1495474711068858], ['qualified', 'clinton', -0.04061095000207812]], [['people', 'donald', 0.5621708519888343], ['people', 'trump', 0.656525562012981], ['people', 'hillary', 0.6015504624283076], ['people', 'clinton', 0.6174236217207607]], [['email', 'donald', 0.24544201743430474], ['email', 'trump', 0.4826150336957016], ['email', 'hillary', 0.3718579122250961], ['email', 'clinton', 0.5145453198599479]], [['prison', 'donald', 0.15686588488233605], ['prison', 'trump', 0.08462507127824795], ['prison', 'hillary', 0.1314446111931134], ['prison', 'clinton', 0.1519961556050803]], [['crooked', 'donald', 0.14722588163090009], ['crooked', 'trump', 0.15105087253448274], ['crooked', 'hillary', 0.06522423508199782], ['crooked', 'clinton', 0.04760778246298544]]]\n"
     ]
    }
   ],
   "source": [
    "cos_sim_lists_test = comp_cos_sim_lists(donald_model_test, list_A, list_B)\n",
    "\n",
    "print(cos_sim_lists_test)"
   ]
  },
  {
   "cell_type": "code",
   "execution_count": 259,
   "metadata": {},
   "outputs": [],
   "source": [
    "def get_vocab(docs):\n",
    "    \n",
    "    words = []\n",
    "    \n",
    "    for doc in docs:\n",
    "        \n",
    "        # super_clean() removes stopwords\n",
    "        # returns a more useful vocabulary for analysis\n",
    "        \n",
    "        doc = super_clean(doc)\n",
    "        \n",
    "        for word in doc:\n",
    "            \n",
    "            words.append(word)\n",
    "    \n",
    "    word_counts = Counter(words)\n",
    "    \n",
    "    return pd.DataFrame.from_dict(word_counts, orient='index')"
   ]
  },
  {
   "cell_type": "code",
   "execution_count": 260,
   "metadata": {},
   "outputs": [
    {
     "name": "stdout",
     "output_type": "stream",
     "text": [
      "                                                      0\n",
      "donald                                               78\n",
      "trump                                               342\n",
      "declared                                              4\n",
      "winner                                                5\n",
      "im                                                   47\n",
      "next                                                 18\n",
      "president                                           123\n",
      "united                                               17\n",
      "states                                               23\n",
      "new                                                  59\n",
      "algorithm                                             9\n",
      "designed                                              6\n",
      "keep                                                 31\n",
      "front                                                28\n",
      "page                                                 30\n",
      "sadly                                                 4\n",
      "wont                                                 14\n",
      "happen                                                6\n",
      "cnn                                                  48\n",
      "soon                                                  8\n",
      "searching                                             1\n",
      "term                                                  8\n",
      "fake                                                 32\n",
      "news                                                 57\n",
      "congratulations                                       3\n",
      "major                                                11\n",
      "achievement                                           1\n",
      "celebrities                                           2\n",
      "vowed                                                 2\n",
      "leave                                                15\n",
      "...                                                 ...\n",
      "sided                                                 1\n",
      "goddamn                                               1\n",
      "berniebot                                             1\n",
      "trumpthemed                                           1\n",
      "throwaway                                             1\n",
      "harsh                                                 1\n",
      "passionately                                          1\n",
      "carrying                                              1\n",
      "scapegoating                                          1\n",
      "dylanw                                                1\n",
      "monica                                               13\n",
      "petersen                                              3\n",
      "answers                                               2\n",
      "fb                                                    4\n",
      "understanding                                         1\n",
      "critical                                              1\n",
      "dealings                                              1\n",
      "compilation                                           1\n",
      "peoples                                               1\n",
      "heading                                               1\n",
      "helpinvestigate                                       1\n",
      "httphumantraffickingcenterorgguestpostsrootcaus...    2\n",
      "youll                                                 1\n",
      "bella                                                 4\n",
      "httpimgurcomakneuc                                    1\n",
      "hint                                                  1\n",
      "dark                                                  1\n",
      "unsure                                                1\n",
      "monicas                                               1\n",
      "httpimgurcomayzkqt                                    1\n",
      "\n",
      "[6481 rows x 1 columns]\n"
     ]
    }
   ],
   "source": [
    "vocab_test_1 = get_vocab(donald_corpus)\n",
    "\n",
    "print(vocab_test_1)\n",
    "#print(vocab_test_2)"
   ]
  },
  {
   "cell_type": "code",
   "execution_count": null,
   "metadata": {},
   "outputs": [],
   "source": []
  }
 ],
 "metadata": {
  "kernelspec": {
   "display_name": "Python 3",
   "language": "python",
   "name": "python3"
  },
  "language_info": {
   "codemirror_mode": {
    "name": "ipython",
    "version": 3
   },
   "file_extension": ".py",
   "mimetype": "text/x-python",
   "name": "python",
   "nbconvert_exporter": "python",
   "pygments_lexer": "ipython3",
   "version": "3.6.3"
  }
 },
 "nbformat": 4,
 "nbformat_minor": 2
}
