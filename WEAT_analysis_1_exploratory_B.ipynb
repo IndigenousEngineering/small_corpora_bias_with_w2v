{
 "cells": [
  {
   "cell_type": "code",
   "execution_count": 180,
   "metadata": {},
   "outputs": [],
   "source": [
    "import praw\n",
    "import pandas as pd\n",
    "import re\n",
    "import string\n",
    "import nltk\n",
    "from collections import Counter\n",
    "from gensim.models import Word2Vec\n",
    "from nltk.corpus import stopwords\n",
    "from sklearn.feature_extraction.text import CountVectorizer\n",
    "from sklearn.decomposition import PCA\n",
    "from matplotlib import pyplot\n",
    "%matplotlib inline"
   ]
  },
  {
   "cell_type": "code",
   "execution_count": 181,
   "metadata": {},
   "outputs": [
    {
     "name": "stdout",
     "output_type": "stream",
     "text": [
      "[nltk_data] Downloading package stopwords to /home/keras/nltk_data...\n",
      "[nltk_data]   Package stopwords is already up-to-date!\n"
     ]
    },
    {
     "data": {
      "text/plain": [
       "True"
      ]
     },
     "execution_count": 181,
     "metadata": {},
     "output_type": "execute_result"
    }
   ],
   "source": [
    "nltk.download('stopwords')"
   ]
  },
  {
   "cell_type": "code",
   "execution_count": 184,
   "metadata": {},
   "outputs": [],
   "source": [
    "def get_subreddit(subreddit_name, app_name, oa_script, oa_secret, pwd):\n",
    "    '''\n",
    "    returns subreddit object with top 1000 subreddit posts\n",
    "    \n",
    "    '''\n",
    "\n",
    "    with open(oa_script) as f:\n",
    "    \n",
    "        script = f.read().strip()\n",
    "\n",
    "    with open(oa_secret) as f:\n",
    "    \n",
    "        secret = f.read().strip()\n",
    "\n",
    "    with open(pwd) as f:\n",
    "    \n",
    "        pw = f.read().strip()\n",
    "    \n",
    "# get reddit object\n",
    "    \n",
    "    reddit = praw.Reddit(client_id=script,\n",
    "                        client_secret=secret,\n",
    "                        user_agent=app_name,\n",
    "                        username='neurodivergent_ai',\n",
    "                        password=pw)\n",
    "\n",
    "    # get subreddit\n",
    "\n",
    "    subreddit = reddit.subreddit(subreddit_name)\n",
    "\n",
    "    # get top posts\n",
    "\n",
    "    top = subreddit.top(limit=1000)\n",
    "\n",
    "    for post in subreddit.top(limit=5):\n",
    "    \n",
    "        print(post.title, '\\n')\n",
    "        \n",
    "    return top\n"
   ]
  },
  {
   "cell_type": "code",
   "execution_count": 185,
   "metadata": {},
   "outputs": [
    {
     "name": "stdout",
     "output_type": "stream",
     "text": [
      "DONALD J. TRUMP DECLARED THE WINNER! \n",
      "\n",
      "I’m Donald J. Trump and I'm Your Next President of the United States. \n",
      "\n",
      "The New Algorithm Was Designed To Keep President Trump From The Front Page... But Sadly, That Won't Happen. \n",
      "\n",
      "CNN will soon be #1...when searching for the term \"Fake News\". Congratulations to CNN on this major achievement. \n",
      "\n",
      "ALL CELEBRITIES THAT VOWED TO LEAVE THE U.S.A. IF TRUMP WINS, WE NOW DEMAND YOU TO FOLLOW THROUGH!!!! OUT! OUT! OUT! \n",
      "\n"
     ]
    }
   ],
   "source": [
    "#get_subreddit(subreddit_name, app_name, oa_script, oa_secret, pwd):\n",
    "\n",
    "\n",
    "donald_subreddit = get_subreddit('The_Donald', 'get_corpora', \n",
    "                                     'reddit_oa_script.txt', 'reddit_oa_secret.txt',\n",
    "                                    'reddit_id.txt')"
   ]
  },
  {
   "cell_type": "code",
   "execution_count": 175,
   "metadata": {},
   "outputs": [],
   "source": [
    "# iterate through reddit object, build dictionary, return dataframes\n",
    "# return titles&posts df, plus whole df\n",
    "\n",
    "def make_subreddit_df(subreddit_object):\n",
    "    '''\n",
    "    takes subreddit api object,\n",
    "    returns as dataframe:\n",
    "    \n",
    "    * entire subreddit, all columns\n",
    "    \n",
    "    '''\n",
    "    \n",
    "    columns_dict = {'title': [],\n",
    "                   'url': [],\n",
    "                   'date': [],\n",
    "                   'score': [],\n",
    "                   'n_comments': [],\n",
    "                   'body': []}\n",
    "    \n",
    "    # build dictionary\n",
    "    \n",
    "    for post in subreddit_object:\n",
    "        \n",
    "        columns_dict['title'].append(post.title)\n",
    "        \n",
    "        columns_dict['url'].append(post.url)\n",
    "        \n",
    "        columns_dict['date'].append(post.created)\n",
    "        \n",
    "        columns_dict['score'].append(post.score)\n",
    "        \n",
    "        columns_dict['n_comments'].append(post.num_comments)\n",
    "        \n",
    "        columns_dict['body'].append(post.selftext)\n",
    "    \n",
    "    # convert to dataframe\n",
    "    \n",
    "    subreddit_df = pd.DataFrame(columns_dict)\n",
    "    \n",
    "    return subreddit_df\n",
    "        "
   ]
  },
  {
   "cell_type": "code",
   "execution_count": 186,
   "metadata": {},
   "outputs": [],
   "source": [
    "donald_subreddit_df = make_subreddit_df(donald_subreddit)"
   ]
  },
  {
   "cell_type": "code",
   "execution_count": 187,
   "metadata": {},
   "outputs": [
    {
     "data": {
      "text/html": [
       "<div>\n",
       "<style scoped>\n",
       "    .dataframe tbody tr th:only-of-type {\n",
       "        vertical-align: middle;\n",
       "    }\n",
       "\n",
       "    .dataframe tbody tr th {\n",
       "        vertical-align: top;\n",
       "    }\n",
       "\n",
       "    .dataframe thead th {\n",
       "        text-align: right;\n",
       "    }\n",
       "</style>\n",
       "<table border=\"1\" class=\"dataframe\">\n",
       "  <thead>\n",
       "    <tr style=\"text-align: right;\">\n",
       "      <th></th>\n",
       "      <th>title</th>\n",
       "      <th>url</th>\n",
       "      <th>date</th>\n",
       "      <th>score</th>\n",
       "      <th>n_comments</th>\n",
       "      <th>body</th>\n",
       "    </tr>\n",
       "  </thead>\n",
       "  <tbody>\n",
       "    <tr>\n",
       "      <th>0</th>\n",
       "      <td>DONALD J. TRUMP DECLARED THE WINNER!</td>\n",
       "      <td>https://www.reddit.com/r/The_Donald/comments/5...</td>\n",
       "      <td>1.478706e+09</td>\n",
       "      <td>66710</td>\n",
       "      <td>12087</td>\n",
       "      <td>#Meme Magic is REAL.\\n\\n#Donald J. Trump is th...</td>\n",
       "    </tr>\n",
       "    <tr>\n",
       "      <th>1</th>\n",
       "      <td>I’m Donald J. Trump and I'm Your Next Presiden...</td>\n",
       "      <td>https://www.reddit.com/r/The_Donald/comments/4...</td>\n",
       "      <td>1.469687e+09</td>\n",
       "      <td>42126</td>\n",
       "      <td>20790</td>\n",
       "      <td>Hello The_Donald readers and the entire Reddit...</td>\n",
       "    </tr>\n",
       "    <tr>\n",
       "      <th>2</th>\n",
       "      <td>The New Algorithm Was Designed To Keep Preside...</td>\n",
       "      <td>https://i.sli.mg/gu0oHA.png</td>\n",
       "      <td>1.481092e+09</td>\n",
       "      <td>40978</td>\n",
       "      <td>832</td>\n",
       "      <td></td>\n",
       "    </tr>\n",
       "    <tr>\n",
       "      <th>3</th>\n",
       "      <td>CNN will soon be #1...when searching for the t...</td>\n",
       "      <td>https://i.redd.it/7jeyhzgku65y.png</td>\n",
       "      <td>1.482472e+09</td>\n",
       "      <td>37279</td>\n",
       "      <td>724</td>\n",
       "      <td></td>\n",
       "    </tr>\n",
       "    <tr>\n",
       "      <th>4</th>\n",
       "      <td>ALL CELEBRITIES THAT VOWED TO LEAVE THE U.S.A....</td>\n",
       "      <td>https://www.reddit.com/r/The_Donald/comments/5...</td>\n",
       "      <td>1.478702e+09</td>\n",
       "      <td>36614</td>\n",
       "      <td>1685</td>\n",
       "      <td>Now that we have proven our commitment to the ...</td>\n",
       "    </tr>\n",
       "  </tbody>\n",
       "</table>\n",
       "</div>"
      ],
      "text/plain": [
       "                                               title  \\\n",
       "0               DONALD J. TRUMP DECLARED THE WINNER!   \n",
       "1  I’m Donald J. Trump and I'm Your Next Presiden...   \n",
       "2  The New Algorithm Was Designed To Keep Preside...   \n",
       "3  CNN will soon be #1...when searching for the t...   \n",
       "4  ALL CELEBRITIES THAT VOWED TO LEAVE THE U.S.A....   \n",
       "\n",
       "                                                 url          date  score  \\\n",
       "0  https://www.reddit.com/r/The_Donald/comments/5...  1.478706e+09  66710   \n",
       "1  https://www.reddit.com/r/The_Donald/comments/4...  1.469687e+09  42126   \n",
       "2                        https://i.sli.mg/gu0oHA.png  1.481092e+09  40978   \n",
       "3                 https://i.redd.it/7jeyhzgku65y.png  1.482472e+09  37279   \n",
       "4  https://www.reddit.com/r/The_Donald/comments/5...  1.478702e+09  36614   \n",
       "\n",
       "   n_comments                                               body  \n",
       "0       12087  #Meme Magic is REAL.\\n\\n#Donald J. Trump is th...  \n",
       "1       20790  Hello The_Donald readers and the entire Reddit...  \n",
       "2         832                                                     \n",
       "3         724                                                     \n",
       "4        1685  Now that we have proven our commitment to the ...  "
      ]
     },
     "execution_count": 187,
     "metadata": {},
     "output_type": "execute_result"
    }
   ],
   "source": [
    "donald_subreddit_df.head()"
   ]
  },
  {
   "cell_type": "code",
   "execution_count": 300,
   "metadata": {},
   "outputs": [],
   "source": [
    "# text cleaning: 2 different versions\n",
    "# light clean for model training, heavy clean for vocab work\n",
    "\n",
    "def light_clean(doc):\n",
    "    '''\n",
    "    lightly cleans input doc for\n",
    "    word embedding training:\n",
    "    \n",
    "    * tokenizes\n",
    "    * lowercase\n",
    "    * removes punctuation & non-alpha characters\n",
    "    \n",
    "    returns clean document.\n",
    "    \n",
    "    '''\n",
    "    \n",
    "    # tokenize\n",
    "    \n",
    "    split_tokens = doc.split()\n",
    "    \n",
    "    # punctuation list\n",
    "    \n",
    "    punctuation = string.punctuation\n",
    "    \n",
    "    # set up regex filter\n",
    "    \n",
    "    rgx_punct_filter = re.compile('[%s]' % re.escape(punctuation))\n",
    "    \n",
    "    # apply filter\n",
    "    \n",
    "    no_punct_tokens = [rgx_punct_filter.sub('', char) for char in split_tokens]\n",
    "    \n",
    "    # alpha tokens only\n",
    "    \n",
    "    alpha_tokens = [t for t in no_punct_tokens if t.isalpha()]\n",
    "    \n",
    "    # lowercase\n",
    "    \n",
    "    lower_tokens = [t.lower() for t in alpha_tokens]\n",
    "    \n",
    "    return lower_tokens\n",
    "\n",
    "def super_clean(doc):\n",
    "    '''\n",
    "    cleans a single input document.\n",
    "    preps for vocabulary analysis.\n",
    "    applies more processing than\n",
    "    light_clean():\n",
    "    \n",
    "    * tokenizes\n",
    "    * lowercase\n",
    "    * removes punctuation & numbers\n",
    "    * removes stopwords\n",
    "    \n",
    "    returns clean document.\n",
    "    \n",
    "    '''\n",
    "    \n",
    "    # tokenize\n",
    "    \n",
    "    split_tokens = doc.split()\n",
    "    \n",
    "    # grab punctuation list\n",
    "    \n",
    "    punctuation = string.punctuation\n",
    "    \n",
    "    # setup re filter\n",
    "    \n",
    "    rgx_punct_filter = re.compile('[%s]' % re.escape(punctuation))\n",
    "    \n",
    "    # apply filter\n",
    "    \n",
    "    no_punct_tokens = [rgx_punct_filter.sub('', char) for char in split_tokens]\n",
    "    \n",
    "    # take out numbers & any other non-alpha characters\n",
    "    \n",
    "    alpha_tokens = [i for i in no_punct_tokens if i.isalpha()]\n",
    "    \n",
    "    # lowercase\n",
    "    \n",
    "    lower_tokens = [t.lower() for t in alpha_tokens]\n",
    "    \n",
    "    # get stop words\n",
    "    \n",
    "    stop_words = set(stopwords.words('english'))\n",
    "    \n",
    "    # filter out stopwords\n",
    "    \n",
    "    go_tokens = [t for t in lower_tokens if not t in stop_words]\n",
    "    \n",
    "    # remove very short tokens\n",
    "    \n",
    "    clean_tokens = [word for word in go_tokens if len(word) > 1]\n",
    "    \n",
    "    return clean_tokens"
   ]
  },
  {
   "cell_type": "code",
   "execution_count": 299,
   "metadata": {},
   "outputs": [],
   "source": [
    "def clean_all_docs(docs):\n",
    "    \n",
    "    clean_docs = []\n",
    "    \n",
    "    for doc in docs:\n",
    "        \n",
    "        doc = super_clean(doc)\n",
    "        \n",
    "        if doc:\n",
    "            \n",
    "            clean_docs.append(doc)\n",
    "    \n",
    "    return clean_docs\n"
   ]
  },
  {
   "cell_type": "code",
   "execution_count": 236,
   "metadata": {},
   "outputs": [],
   "source": [
    "titles_df = donald_subreddit_df['title']\n",
    "\n",
    "posts_df = donald_subreddit_df['body']\n",
    "\n",
    "donald_clean_titles = clean_all_docs(titles_df)\n",
    "\n",
    "donald_clean_posts = clean_all_docs(posts_df)\n"
   ]
  },
  {
   "cell_type": "code",
   "execution_count": 203,
   "metadata": {},
   "outputs": [
    {
     "name": "stdout",
     "output_type": "stream",
     "text": [
      "['celebrities', 'vowed', 'leave', 'usa', 'trump', 'wins', 'demand', 'follow']\n",
      "['proven', 'commitment', 'cause', 'voiced', 'acted', 'patriotism', 'odds', 'constant', 'criticism', 'world', 'us', 'call', 'elitist', 'hollywood', 'celebrities', 'vowed', 'betray', 'country', 'leave', 'abandon', 'shun', 'spent', 'careers', 'milking', 'posh', 'lifestyles', 'ask', 'nay', 'demand', 'follow', 'claims', 'leave', 'country', 'americans', 'spoken', 'brushed', 'us', 'movement', 'somehow', 'us', 'forgetting', 'us', 'made', 'fuck', 'think', 'good', 'us', 'well', 'good', 'follow', 'vapid', 'empty', 'threat', 'mistakenly', 'pridefully', 'consider', 'get', 'fuck', 'fame', 'celebrity', 'status', 'despicable', 'shall', 'say', 'deplorable', 'better', 'us', 'important', 'us', 'would', 'nothing', 'without', 'us', 'dare', 'pretend', 'us', 'list', 'demand', 'leave', 'asap', 'amy', 'unfunny', 'schumer', 'lena', 'dunham', 'barbra', 'streisand', 'bryan', 'cranston', 'miley', 'cyrus', 'amy', 'schumer', 'jon', 'stewart', 'cher', 'chelsea', 'handler', 'samuel', 'jackson', 'whoopi', 'goldberg', 'neve', 'campbell', 'keeganmichael', 'key', 'george', 'lopez', 'neyo', 'rev', 'al', 'sharpton', 'ravensymoné', 'buhbye', 'assured', 'missed', 'love', 'basket', 'deplorables']\n"
     ]
    }
   ],
   "source": [
    "print(donald_clean_titles[4])\n",
    "print(donald_clean_posts[2])"
   ]
  },
  {
   "cell_type": "code",
   "execution_count": 207,
   "metadata": {},
   "outputs": [],
   "source": [
    "donald_clean_corpus = donald_clean_titles + donald_clean_posts"
   ]
  },
  {
   "cell_type": "code",
   "execution_count": 208,
   "metadata": {},
   "outputs": [],
   "source": [
    "def train_w2v_model(docs):\n",
    "    '''\n",
    "    trains word2vec model on input set of docs.\n",
    "    fits PCA projection to 2d space.\n",
    "    prints 2d visualization of words in vector space.\n",
    "    returns trained model.\n",
    "    \n",
    "    '''\n",
    "    \n",
    "    # train w2v model \n",
    "    \n",
    "    w2v_model = Word2Vec(docs, min_count=1)\n",
    "    \n",
    "    # get vocab\n",
    "    \n",
    "    vector_vocab = w2v_model[w2v_model.wv.vocab]\n",
    "    \n",
    "    # fit PCA model / 2d projection\n",
    "    \n",
    "    pca_model = PCA(n_components=2)\n",
    "    \n",
    "    pca_projection = pca_model.fit_transform(vector_vocab)\n",
    "    \n",
    "    # plot\n",
    "    \n",
    "    pyplot.scatter(pca_projection[:, 0], pca_projection[:, 1])\n",
    "    \n",
    "    # plot with words\n",
    "    \n",
    "    vocab_list = list(w2v_model.wv.vocab)\n",
    "    \n",
    "    for i, word in enumerate(vocab_list):\n",
    "        \n",
    "        pyplot.annotate(word, xy=(pca_projection[i, 0], pca_projection[i, 1]))  \n",
    "    \n",
    "    return w2v_model\n",
    "    "
   ]
  },
  {
   "cell_type": "code",
   "execution_count": 209,
   "metadata": {},
   "outputs": [
    {
     "name": "stderr",
     "output_type": "stream",
     "text": [
      "/opt/conda/lib/python3.6/site-packages/ipykernel_launcher.py:16: DeprecationWarning: Call to deprecated `__getitem__` (Method will be removed in 4.0.0, use self.wv.__getitem__() instead).\n",
      "  app.launch_new_instance()\n"
     ]
    },
    {
     "data": {
      "image/png": "[encoded data removed]",
      "text/plain": [
       "<Figure size 432x288 with 1 Axes>"
      ]
     },
     "metadata": {
      "needs_background": "light"
     },
     "output_type": "display_data"
    }
   ],
   "source": [
    "donald_model = train_w2v_model(donald_clean_corpus)"
   ]
  },
  {
   "cell_type": "code",
   "execution_count": 212,
   "metadata": {},
   "outputs": [],
   "source": [
    "def get_cos_sim(model, word_1, word_2):\n",
    "    \n",
    "    return model.wv.similarity(word_1, word_2)\n",
    "\n",
    "\n",
    "def compare_cos_sim(model, word_list, comp_word):\n",
    "    \n",
    "    cos_sim_list = []\n",
    "    \n",
    "    for word in word_list:\n",
    "        \n",
    "        cos_sim = get_cos_sim(model, word, comp_word)\n",
    "        \n",
    "        in_list = []\n",
    "        \n",
    "        in_list.append(comp_word)\n",
    "        \n",
    "        in_list.append(word)\n",
    "        \n",
    "        in_list.append(cos_sim)\n",
    "        \n",
    "        cos_sim_list.append(in_list)\n",
    "    \n",
    "    return cos_sim_list    \n",
    "            "
   ]
  },
  {
   "cell_type": "code",
   "execution_count": 223,
   "metadata": {},
   "outputs": [],
   "source": [
    "# make contrived list\n",
    "\n",
    "list_A = ['president', 'qualified', 'people', 'email', 'prison', 'crooked']\n",
    "\n",
    "word_1 = 'trump'\n",
    "\n",
    "word_2 = 'clinton'\n"
   ]
  },
  {
   "cell_type": "code",
   "execution_count": 224,
   "metadata": {},
   "outputs": [],
   "source": [
    "# compare_cos_sim(model, word_list, comp_word)\n",
    "\n",
    "cos_sims_list_1 = compare_cos_sim(donald_model, list_A, word_1)\n",
    "\n",
    "cos_sims_list_2 = compare_cos_sim(donald_model, list_A, word_2)"
   ]
  },
  {
   "cell_type": "code",
   "execution_count": 225,
   "metadata": {},
   "outputs": [
    {
     "name": "stdout",
     "output_type": "stream",
     "text": [
      "[['trump', 'president', 0.6437116323233487], ['trump', 'qualified', 0.016517045750558453], ['trump', 'people', 0.6575355789812684], ['trump', 'email', 0.5199953341420535], ['trump', 'prison', 0.08070563753409733], ['trump', 'crooked', 0.15875857307517885]] \n",
      "\n",
      "[['clinton', 'president', 0.5937849527280563], ['clinton', 'qualified', -0.031306804942539644], ['clinton', 'people', 0.6359931049952696], ['clinton', 'email', 0.543810485270158], ['clinton', 'prison', 0.1451578162503217], ['clinton', 'crooked', 0.06423235526010126]]\n"
     ]
    }
   ],
   "source": [
    "print(cos_sims_list_1, '\\n')\n",
    "print(cos_sims_list_2)"
   ]
  },
  {
   "cell_type": "code",
   "execution_count": 226,
   "metadata": {},
   "outputs": [],
   "source": [
    "def comp_cos_sim_lists(model, list_1, list_2):\n",
    "    \n",
    "    cos_sim_list = []\n",
    "    \n",
    "    for word in list_1:\n",
    "        \n",
    "        if word not in list_2:\n",
    "            \n",
    "            sim_line = compare_cos_sim(model, list_2, word)\n",
    "            \n",
    "            cos_sim_list.append(sim_line)\n",
    "    \n",
    "    return cos_sim_list\n",
    "            "
   ]
  },
  {
   "cell_type": "code",
   "execution_count": 321,
   "metadata": {},
   "outputs": [
    {
     "name": "stdout",
     "output_type": "stream",
     "text": [
      "[[['president', 'donald', 0.4253502350796358], ['president', 'trump', 0.6437116323233487], ['president', 'hillary', 0.504059205062843], ['president', 'clinton', 0.5937849527280563]], [['qualified', 'donald', 0.005270225743883399], ['qualified', 'trump', 0.016517045750558453], ['qualified', 'hillary', 0.14810712360137543], ['qualified', 'clinton', -0.031306804942539644]], [['people', 'donald', 0.5852895787194283], ['people', 'trump', 0.6575355789812684], ['people', 'hillary', 0.6112779011272428], ['people', 'clinton', 0.6359931049952696]], [['email', 'donald', 0.2881382393257101], ['email', 'trump', 0.5199953341420535], ['email', 'hillary', 0.4054012103563048], ['email', 'clinton', 0.543810485270158]], [['prison', 'donald', 0.16316250574594812], ['prison', 'trump', 0.08070563753409733], ['prison', 'hillary', 0.12900912858620756], ['prison', 'clinton', 0.1451578162503217]], [['crooked', 'donald', 0.1519629446522846], ['crooked', 'trump', 0.15875857307517885], ['crooked', 'hillary', 0.07375405836368132], ['crooked', 'clinton', 0.06423235526010126]]]\n"
     ]
    }
   ],
   "source": [
    "list_B = ['donald', 'trump', 'hillary', 'clinton']\n",
    "\n",
    "cos_sim_lists = comp_cos_sim_lists(donald_model, list_A, list_B)\n",
    "\n",
    "# test\n",
    "\n",
    "cs_list_df = pd.DataFrame(cos_sim_lists)\n",
    "\n",
    "print(cos_sim_lists)"
   ]
  },
  {
   "cell_type": "code",
   "execution_count": 322,
   "metadata": {},
   "outputs": [
    {
     "data": {
      "text/html": [
       "<div>\n",
       "<style scoped>\n",
       "    .dataframe tbody tr th:only-of-type {\n",
       "        vertical-align: middle;\n",
       "    }\n",
       "\n",
       "    .dataframe tbody tr th {\n",
       "        vertical-align: top;\n",
       "    }\n",
       "\n",
       "    .dataframe thead th {\n",
       "        text-align: right;\n",
       "    }\n",
       "</style>\n",
       "<table border=\"1\" class=\"dataframe\">\n",
       "  <thead>\n",
       "    <tr style=\"text-align: right;\">\n",
       "      <th></th>\n",
       "      <th>0</th>\n",
       "      <th>1</th>\n",
       "      <th>2</th>\n",
       "      <th>3</th>\n",
       "    </tr>\n",
       "  </thead>\n",
       "  <tbody>\n",
       "    <tr>\n",
       "      <th>0</th>\n",
       "      <td>[president, donald, 0.4253502350796358]</td>\n",
       "      <td>[president, trump, 0.6437116323233487]</td>\n",
       "      <td>[president, hillary, 0.504059205062843]</td>\n",
       "      <td>[president, clinton, 0.5937849527280563]</td>\n",
       "    </tr>\n",
       "    <tr>\n",
       "      <th>1</th>\n",
       "      <td>[qualified, donald, 0.005270225743883399]</td>\n",
       "      <td>[qualified, trump, 0.016517045750558453]</td>\n",
       "      <td>[qualified, hillary, 0.14810712360137543]</td>\n",
       "      <td>[qualified, clinton, -0.031306804942539644]</td>\n",
       "    </tr>\n",
       "    <tr>\n",
       "      <th>2</th>\n",
       "      <td>[people, donald, 0.5852895787194283]</td>\n",
       "      <td>[people, trump, 0.6575355789812684]</td>\n",
       "      <td>[people, hillary, 0.6112779011272428]</td>\n",
       "      <td>[people, clinton, 0.6359931049952696]</td>\n",
       "    </tr>\n",
       "    <tr>\n",
       "      <th>3</th>\n",
       "      <td>[email, donald, 0.2881382393257101]</td>\n",
       "      <td>[email, trump, 0.5199953341420535]</td>\n",
       "      <td>[email, hillary, 0.4054012103563048]</td>\n",
       "      <td>[email, clinton, 0.543810485270158]</td>\n",
       "    </tr>\n",
       "    <tr>\n",
       "      <th>4</th>\n",
       "      <td>[prison, donald, 0.16316250574594812]</td>\n",
       "      <td>[prison, trump, 0.08070563753409733]</td>\n",
       "      <td>[prison, hillary, 0.12900912858620756]</td>\n",
       "      <td>[prison, clinton, 0.1451578162503217]</td>\n",
       "    </tr>\n",
       "    <tr>\n",
       "      <th>5</th>\n",
       "      <td>[crooked, donald, 0.1519629446522846]</td>\n",
       "      <td>[crooked, trump, 0.15875857307517885]</td>\n",
       "      <td>[crooked, hillary, 0.07375405836368132]</td>\n",
       "      <td>[crooked, clinton, 0.06423235526010126]</td>\n",
       "    </tr>\n",
       "  </tbody>\n",
       "</table>\n",
       "</div>"
      ],
      "text/plain": [
       "                                           0  \\\n",
       "0    [president, donald, 0.4253502350796358]   \n",
       "1  [qualified, donald, 0.005270225743883399]   \n",
       "2       [people, donald, 0.5852895787194283]   \n",
       "3        [email, donald, 0.2881382393257101]   \n",
       "4      [prison, donald, 0.16316250574594812]   \n",
       "5      [crooked, donald, 0.1519629446522846]   \n",
       "\n",
       "                                          1  \\\n",
       "0    [president, trump, 0.6437116323233487]   \n",
       "1  [qualified, trump, 0.016517045750558453]   \n",
       "2       [people, trump, 0.6575355789812684]   \n",
       "3        [email, trump, 0.5199953341420535]   \n",
       "4      [prison, trump, 0.08070563753409733]   \n",
       "5     [crooked, trump, 0.15875857307517885]   \n",
       "\n",
       "                                           2  \\\n",
       "0    [president, hillary, 0.504059205062843]   \n",
       "1  [qualified, hillary, 0.14810712360137543]   \n",
       "2      [people, hillary, 0.6112779011272428]   \n",
       "3       [email, hillary, 0.4054012103563048]   \n",
       "4     [prison, hillary, 0.12900912858620756]   \n",
       "5    [crooked, hillary, 0.07375405836368132]   \n",
       "\n",
       "                                             3  \n",
       "0     [president, clinton, 0.5937849527280563]  \n",
       "1  [qualified, clinton, -0.031306804942539644]  \n",
       "2        [people, clinton, 0.6359931049952696]  \n",
       "3          [email, clinton, 0.543810485270158]  \n",
       "4        [prison, clinton, 0.1451578162503217]  \n",
       "5      [crooked, clinton, 0.06423235526010126]  "
      ]
     },
     "execution_count": 322,
     "metadata": {},
     "output_type": "execute_result"
    }
   ],
   "source": [
    "cs_list_df"
   ]
  },
  {
   "cell_type": "code",
   "execution_count": 241,
   "metadata": {
    "collapsed": true
   },
   "outputs": [],
   "source": [
    "def join_corpus(df):\n",
    "    \n",
    "    corpus = list(df['title']) + list(df['body'])\n",
    "    \n",
    "    return corpus"
   ]
  },
  {
   "cell_type": "code",
   "execution_count": 242,
   "metadata": {},
   "outputs": [
    {
     "name": "stdout",
     "output_type": "stream",
     "text": [
      "1996\n"
     ]
    }
   ],
   "source": [
    "donald_corpus = join_corpus(donald_subreddit_df)\n",
    "\n",
    "print(len(donald_corpus))"
   ]
  },
  {
   "cell_type": "code",
   "execution_count": 243,
   "metadata": {},
   "outputs": [
    {
     "name": "stdout",
     "output_type": "stream",
     "text": [
      "['hey', 'admins', 'found', 'picture', 'wifes', 'boyfriends', 'president']\n"
     ]
    }
   ],
   "source": [
    "donald_clean_corpus_test = clean_all_docs(donald_corpus)\n",
    "\n",
    "print(donald_clean_corpus_test[6])"
   ]
  },
  {
   "cell_type": "code",
   "execution_count": 244,
   "metadata": {},
   "outputs": [
    {
     "name": "stderr",
     "output_type": "stream",
     "text": [
      "/opt/conda/lib/python3.6/site-packages/ipykernel_launcher.py:16: DeprecationWarning: Call to deprecated `__getitem__` (Method will be removed in 4.0.0, use self.wv.__getitem__() instead).\n",
      "  app.launch_new_instance()\n"
     ]
    },
    {
     "data": {
      "image/png": "[encoded data removed]",
      "text/plain": [
       "<Figure size 432x288 with 1 Axes>"
      ]
     },
     "metadata": {
      "needs_background": "light"
     },
     "output_type": "display_data"
    }
   ],
   "source": [
    "donald_model_test = train_w2v_model(donald_clean_corpus_test)"
   ]
  },
  {
   "cell_type": "code",
   "execution_count": 245,
   "metadata": {},
   "outputs": [
    {
     "name": "stdout",
     "output_type": "stream",
     "text": [
      "[[['president', 'donald', 0.41455337118201996], ['president', 'trump', 0.6355606990334444], ['president', 'hillary', 0.4914439467343301], ['president', 'clinton', 0.5666152362185881]], [['qualified', 'donald', -0.0008163028051628995], ['qualified', 'trump', 0.019144379178387953], ['qualified', 'hillary', 0.1495474711068858], ['qualified', 'clinton', -0.04061095000207812]], [['people', 'donald', 0.5621708519888343], ['people', 'trump', 0.656525562012981], ['people', 'hillary', 0.6015504624283076], ['people', 'clinton', 0.6174236217207607]], [['email', 'donald', 0.24544201743430474], ['email', 'trump', 0.4826150336957016], ['email', 'hillary', 0.3718579122250961], ['email', 'clinton', 0.5145453198599479]], [['prison', 'donald', 0.15686588488233605], ['prison', 'trump', 0.08462507127824795], ['prison', 'hillary', 0.1314446111931134], ['prison', 'clinton', 0.1519961556050803]], [['crooked', 'donald', 0.14722588163090009], ['crooked', 'trump', 0.15105087253448274], ['crooked', 'hillary', 0.06522423508199782], ['crooked', 'clinton', 0.04760778246298544]]]\n"
     ]
    }
   ],
   "source": [
    "cos_sim_lists_test = comp_cos_sim_lists(donald_model_test, list_A, list_B)\n",
    "\n",
    "print(cos_sim_lists_test)"
   ]
  },
  {
   "cell_type": "code",
   "execution_count": 263,
   "metadata": {},
   "outputs": [],
   "source": [
    "def get_vocab(docs):\n",
    "    \n",
    "    words = []\n",
    "    \n",
    "    for doc in docs:\n",
    "        \n",
    "        # super_clean() removes stopwords\n",
    "        # returns a more useful vocabulary for analysis\n",
    "        \n",
    "        doc = super_clean(doc)\n",
    "        \n",
    "        for word in doc:\n",
    "            \n",
    "            words.append(word)\n",
    "    \n",
    "    word_counts = Counter(words)\n",
    "    \n",
    "    word_counts = pd.DataFrame.from_dict(word_counts, orient='index')\n",
    "    \n",
    "    # return df sorted by word frequency\n",
    "    \n",
    "    return word_counts.sort_values(by=[0], ascending=False)"
   ]
  },
  {
   "cell_type": "code",
   "execution_count": 265,
   "metadata": {},
   "outputs": [
    {
     "name": "stdout",
     "output_type": "stream",
     "text": [
      "                      0\n",
      "trump               342\n",
      "us                  154\n",
      "president           123\n",
      "clinton             121\n",
      "people              118\n",
      "reddit              114\n",
      "like                102\n",
      "would                95\n",
      "hillary              90\n",
      "one                  80\n",
      "donald               78\n",
      "get                  77\n",
      "media                66\n",
      "post                 66\n",
      "make                 66\n",
      "campaign             65\n",
      "going                61\n",
      "even                 61\n",
      "new                  59\n",
      "time                 59\n",
      "foundation           58\n",
      "news                 57\n",
      "dont                 57\n",
      "email                57\n",
      "hate                 56\n",
      "first                56\n",
      "rall                 54\n",
      "see                  54\n",
      "know                 52\n",
      "support              50\n",
      "...                 ...\n",
      "forgetting            1\n",
      "videos                1\n",
      "toledo                1\n",
      "kavabrah              1\n",
      "rude                  1\n",
      "elevator              1\n",
      "screamers             1\n",
      "professionals         1\n",
      "professionally        1\n",
      "identical             1\n",
      "basement              1\n",
      "troublemakers         1\n",
      "insurmountable        1\n",
      "crush                 1\n",
      "machine               1\n",
      "spotty                1\n",
      "brushed               1\n",
      "et                    1\n",
      "constant              1\n",
      "criticism             1\n",
      "elitist               1\n",
      "abandon               1\n",
      "shun                  1\n",
      "prodoma               1\n",
      "milking               1\n",
      "posh                  1\n",
      "lifestyles            1\n",
      "nay                   1\n",
      "spoken                1\n",
      "httpimgurcomayzkqt    1\n",
      "\n",
      "[6481 rows x 1 columns]\n"
     ]
    }
   ],
   "source": [
    "donald_vocab = get_vocab(donald_corpus)\n",
    "\n",
    "print(donald_vocab)"
   ]
  },
  {
   "cell_type": "code",
   "execution_count": 304,
   "metadata": {},
   "outputs": [
    {
     "name": "stdout",
     "output_type": "stream",
     "text": [
      "0.03583062034053362 0.14346369689362046\n"
     ]
    }
   ],
   "source": [
    "# just for fun\n",
    "\n",
    "trump_elitist = get_cos_sim(donald_model_test, 'trump', 'elitist')\n",
    "\n",
    "clinton_elitist = get_cos_sim(donald_model_test, 'clinton', 'elitist')\n",
    "\n",
    "print(trump_elitist, clinton_elitist)"
   ]
  },
  {
   "cell_type": "code",
   "execution_count": 297,
   "metadata": {},
   "outputs": [],
   "source": [
    "def get_top_and_bottom(df, number):\n",
    "    \n",
    "    top = df[:number][:]\n",
    "    \n",
    "    bottom = df[-number:][:]\n",
    "    \n",
    "    return top, bottom"
   ]
  },
  {
   "cell_type": "code",
   "execution_count": 298,
   "metadata": {},
   "outputs": [
    {
     "name": "stdout",
     "output_type": "stream",
     "text": [
      "              0\n",
      "trump       342\n",
      "us          154\n",
      "president   123\n",
      "clinton     121\n",
      "people      118\n",
      "reddit      114\n",
      "like        102\n",
      "would        95\n",
      "hillary      90\n",
      "one          80\n",
      "donald       78\n",
      "get          77\n",
      "media        66\n",
      "post         66\n",
      "make         66\n",
      "campaign     65\n",
      "going        61\n",
      "even         61\n",
      "new          59\n",
      "time         59\n",
      "foundation   58\n",
      "news         57\n",
      "dont         57\n",
      "email        57\n",
      "hate         56\n",
      "                    0\n",
      "elevator            1\n",
      "screamers           1\n",
      "professionals       1\n",
      "professionally      1\n",
      "identical           1\n",
      "basement            1\n",
      "troublemakers       1\n",
      "insurmountable      1\n",
      "crush               1\n",
      "machine             1\n",
      "spotty              1\n",
      "brushed             1\n",
      "et                  1\n",
      "constant            1\n",
      "criticism           1\n",
      "elitist             1\n",
      "abandon             1\n",
      "shun                1\n",
      "prodoma             1\n",
      "milking             1\n",
      "posh                1\n",
      "lifestyles          1\n",
      "nay                 1\n",
      "spoken              1\n",
      "httpimgurcomayzkqt  1\n"
     ]
    }
   ],
   "source": [
    "top_25, bottom_25 = get_top_and_bottom(donald_vocab, 25)\n",
    "\n",
    "print(top_25)\n",
    "print(bottom_25)"
   ]
  },
  {
   "cell_type": "markdown",
   "metadata": {},
   "source": [
    "## text prep pipeline"
   ]
  },
  {
   "cell_type": "code",
   "execution_count": 316,
   "metadata": {},
   "outputs": [],
   "source": [
    "def text_prep_pipeline(subreddit_name, app_name, oa_script, oa_secret, pwd, vocab_number):\n",
    "    \n",
    "    # get_subreddit()\n",
    "    #get_subreddit(subreddit_name, app_name, oa_script, oa_secret, pwd)\n",
    "    \n",
    "    subreddit = get_subreddit(subreddit_name, app_name, oa_script, oa_secret, pwd)\n",
    "        \n",
    "    # make_subreddit_df()\n",
    "    #make_subreddit_df(subreddit_object)\n",
    "    \n",
    "    subreddit_df = make_subreddit_df(subreddit)\n",
    "    \n",
    "    # join_corpus()\n",
    "    #join_corpus(df)\n",
    "    \n",
    "    raw_corpus = join_corpus(subreddit_df)\n",
    "    \n",
    "    # clean_all_docs()\n",
    "    #clean_all_docs(docs)\n",
    "    \n",
    "    clean_corpus = clean_all_docs(raw_corpus)\n",
    "    \n",
    "    # get_vocab()\n",
    "    #get_vocab(docs)\n",
    "    \n",
    "    # get vocab takes raw corpus, NOT clean\n",
    "    vocab_df = get_vocab(raw_corpus)\n",
    "    \n",
    "    # get_top_and_bottom()\n",
    "    #get_top_and_bottom(df, number)\n",
    "    #return top, bottom\n",
    "    \n",
    "    top, bottom = get_top_and_bottom(vocab_df, vocab_number)\n",
    "    \n",
    "    return subreddit_df, raw_corpus, clean_corpus, vocab_df, top, bottom"
   ]
  },
  {
   "cell_type": "markdown",
   "metadata": {},
   "source": [
    "## test text_prep_pipeline"
   ]
  },
  {
   "cell_type": "code",
   "execution_count": 317,
   "metadata": {
    "scrolled": true
   },
   "outputs": [
    {
     "name": "stdout",
     "output_type": "stream",
     "text": [
      "DONALD J. TRUMP DECLARED THE WINNER! \n",
      "\n",
      "I’m Donald J. Trump and I'm Your Next President of the United States. \n",
      "\n",
      "The New Algorithm Was Designed To Keep President Trump From The Front Page... But Sadly, That Won't Happen. \n",
      "\n",
      "CNN will soon be #1...when searching for the term \"Fake News\". Congratulations to CNN on this major achievement. \n",
      "\n",
      "ALL CELEBRITIES THAT VOWED TO LEAVE THE U.S.A. IF TRUMP WINS, WE NOW DEMAND YOU TO FOLLOW THROUGH!!!! OUT! OUT! OUT! \n",
      "\n"
     ]
    }
   ],
   "source": [
    "'''\n",
    "donald_subreddit = get_subreddit('The_Donald', 'get_corpora', \n",
    "                                     'reddit_oa_script.txt', 'reddit_oa_secret.txt',\n",
    "                                    'reddit_id.txt')\n",
    "                                    '''\n",
    "# text_prep_pipeline(subreddit_name, app_name, oa_script, pwd, vocab_number)\n",
    "# return subreddit_df, raw_corpus, clean_corpus, vocab_df, top, bottom\n",
    "\n",
    "d_df_2, d_raw_corpus_2, d_clean_corpus_2, d_vocab_df_2, d_top_2, d_bottom_2 = text_prep_pipeline('The_Donald','get_corpora','reddit_oa_script.txt','reddit_oa_secret.txt','reddit_id.txt', 25)"
   ]
  },
  {
   "cell_type": "code",
   "execution_count": 318,
   "metadata": {},
   "outputs": [
    {
     "name": "stdout",
     "output_type": "stream",
     "text": [
      "                                               title  \\\n",
      "0               DONALD J. TRUMP DECLARED THE WINNER!   \n",
      "1  I’m Donald J. Trump and I'm Your Next Presiden...   \n",
      "2  The New Algorithm Was Designed To Keep Preside...   \n",
      "3  CNN will soon be #1...when searching for the t...   \n",
      "4  ALL CELEBRITIES THAT VOWED TO LEAVE THE U.S.A....   \n",
      "\n",
      "                                                 url          date  score  \\\n",
      "0  https://www.reddit.com/r/The_Donald/comments/5...  1.478706e+09  66718   \n",
      "1  https://www.reddit.com/r/The_Donald/comments/4...  1.469687e+09  42117   \n",
      "2                        https://i.sli.mg/gu0oHA.png  1.481092e+09  40978   \n",
      "3                 https://i.redd.it/7jeyhzgku65y.png  1.482472e+09  37283   \n",
      "4  https://www.reddit.com/r/The_Donald/comments/5...  1.478702e+09  36620   \n",
      "\n",
      "   n_comments                                               body  \n",
      "0       12086  #Meme Magic is REAL.\\n\\n#Donald J. Trump is th...  \n",
      "1       20773  Hello The_Donald readers and the entire Reddit...  \n",
      "2         832                                                     \n",
      "3         723                                                     \n",
      "4        1685  Now that we have proven our commitment to the ...   \n",
      "\n",
      "Hey admins, we found a picture of your wife's boyfriend's president! \n",
      "\n",
      "['hey', 'admins', 'found', 'picture', 'wifes', 'boyfriends', 'president'] \n",
      "\n",
      "             0\n",
      "trump      342\n",
      "us         154\n",
      "president  123\n",
      "clinton    121\n",
      "people     118 \n",
      "\n",
      "             0\n",
      "trump      342\n",
      "us         154\n",
      "president  123\n",
      "clinton    121\n",
      "people     118 \n",
      "\n",
      "                0\n",
      "elevator        1\n",
      "screamers       1\n",
      "professionals   1\n",
      "professionally  1\n",
      "identical       1\n"
     ]
    }
   ],
   "source": [
    "print(d_df_2.head(), '\\n')\n",
    "print(d_raw_corpus_2[6], '\\n')\n",
    "print(d_clean_corpus_2[6], '\\n')\n",
    "print(d_vocab_df_2.head(), '\\n')\n",
    "print(d_top_2.head(), '\\n')\n",
    "print(d_bottom_2.head())"
   ]
  },
  {
   "cell_type": "markdown",
   "metadata": {},
   "source": [
    "## training pipeline"
   ]
  },
  {
   "cell_type": "code",
   "execution_count": 352,
   "metadata": {},
   "outputs": [],
   "source": [
    "def train_pipeline(docs, term_list_A, term_list_B):\n",
    "    \n",
    "    # train model\n",
    "    \n",
    "    trained_w2v_model = train_w2v_model(docs)\n",
    "    \n",
    "    term_cos_sims = comp_cos_sim_lists(trained_w2v_model, term_list_A, term_list_B)\n",
    "    \n",
    "    return trained_w2v_model, term_cos_sims"
   ]
  },
  {
   "cell_type": "markdown",
   "metadata": {},
   "source": [
    "## test train pipeline"
   ]
  },
  {
   "cell_type": "code",
   "execution_count": 353,
   "metadata": {},
   "outputs": [
    {
     "name": "stderr",
     "output_type": "stream",
     "text": [
      "/opt/conda/lib/python3.6/site-packages/ipykernel_launcher.py:16: DeprecationWarning: Call to deprecated `__getitem__` (Method will be removed in 4.0.0, use self.wv.__getitem__() instead).\n",
      "  app.launch_new_instance()\n"
     ]
    },
    {
     "data": {
      "image/png": "[encoded data removed]",
      "text/plain": [
       "<Figure size 432x288 with 1 Axes>"
      ]
     },
     "metadata": {
      "needs_background": "light"
     },
     "output_type": "display_data"
    }
   ],
   "source": [
    "d_model_2, terms_list = train_pipeline(d_clean_corpus_2, list_A, list_B)"
   ]
  },
  {
   "cell_type": "code",
   "execution_count": 354,
   "metadata": {},
   "outputs": [
    {
     "name": "stdout",
     "output_type": "stream",
     "text": [
      "[[['president', 'donald', 0.45488072802100576], ['president', 'trump', 0.682874119603753], ['president', 'hillary', 0.5134383698977982], ['president', 'clinton', 0.6063551093197314]], [['qualified', 'donald', 0.018904459818019727], ['qualified', 'trump', 0.031560459613745206], ['qualified', 'hillary', 0.15278231570738632], ['qualified', 'clinton', -0.02559401746575786]], [['people', 'donald', 0.6011536382496974], ['people', 'trump', 0.6658296414862264], ['people', 'hillary', 0.5796963522776016], ['people', 'clinton', 0.6166025820180141]], [['email', 'donald', 0.29858542241525854], ['email', 'trump', 0.5371656319764926], ['email', 'hillary', 0.39888551718100373], ['email', 'clinton', 0.5523375330909384]], [['prison', 'donald', 0.16820644017846734], ['prison', 'trump', 0.09213555520184287], ['prison', 'hillary', 0.12588398282686752], ['prison', 'clinton', 0.13803410697609403]], [['crooked', 'donald', 0.14273233076628533], ['crooked', 'trump', 0.14831232315844087], ['crooked', 'hillary', 0.05428986849402399], ['crooked', 'clinton', 0.049658019102696634]]]\n"
     ]
    }
   ],
   "source": [
    "print(terms_list)"
   ]
  },
  {
   "cell_type": "markdown",
   "metadata": {},
   "source": [
    "## final pipeline\n",
    "\n",
    "* run `text_prep_pipeline()` once per subreddit\n",
    "\n",
    "* run `train_pipeline()` three times per subreddit\n",
    "\n",
    "* return 3 models & 1 list of mean cos similarities\n"
   ]
  },
  {
   "cell_type": "code",
   "execution_count": 383,
   "metadata": {},
   "outputs": [],
   "source": [
    "def list_sims_for_mean(sim_comp_list):\n",
    "    \n",
    "    sims_for_mean = []\n",
    "    \n",
    "    for sub_list in sim_comp_list:\n",
    "        \n",
    "        for i in sub_list:\n",
    "            \n",
    "            # grab 3rd item/cos sim\n",
    "            \n",
    "            sim = i[2]\n",
    "        \n",
    "            sims_for_mean.append(sim)\n",
    "    \n",
    "    return sims_for_mean\n",
    "\n",
    "\n",
    "        \n",
    "def get_sim_means(sims_for_mean_1, sims_for_mean_2, sims_for_mean_3):\n",
    "    \n",
    "    sim_means_list = []\n",
    "    \n",
    "    for i in range(len(sims_for_mean_1)):\n",
    "        \n",
    "        sim_mean = (sims_for_mean_1[i] + sims_for_mean_2[i] + sims_for_mean_3[i]) / 3\n",
    "        \n",
    "        sim_means_list.append(sim_mean)\n",
    "    \n",
    "    return sim_means_list\n",
    "    \n",
    "\n",
    "\n",
    "def get_mean_cos_sim(sim_list_1, sim_list_2, sim_list_3):\n",
    "    \n",
    "    sims_1 = list_sims_for_mean(sim_list_1)\n",
    "    \n",
    "    sims_2 = list_sims_for_mean(sim_list_2)\n",
    "    \n",
    "    sims_3 = list_sims_for_mean(sim_list_3)\n",
    "    \n",
    "    means_list = get_sim_means(sims_1, sims_2, sims_3)\n",
    "    \n",
    "    mean_cos_sims = []\n",
    "    \n",
    "    # make new list with comparison terms\n",
    "    \n",
    "    for sub_lists in sim_list_1:\n",
    "        \n",
    "        for i in sub_lists:\n",
    "            \n",
    "            local_sim_list = []\n",
    "            \n",
    "            local_sim_list.append(i[0])\n",
    "            \n",
    "            local_sim_list.append(i[1])\n",
    "            \n",
    "            mean_cos_sims.append(local_sim_list)\n",
    "            \n",
    "    # append mean cos sim values\n",
    "        \n",
    "    for i in range(len(mean_cos_sims)):\n",
    "        \n",
    "        mean_cos_sims[i].append(means_list[i])\n",
    "    \n",
    "    return mean_cos_sims\n",
    "                \n"
   ]
  },
  {
   "cell_type": "markdown",
   "metadata": {},
   "source": [
    "## test mean cos sims"
   ]
  },
  {
   "cell_type": "code",
   "execution_count": 356,
   "metadata": {},
   "outputs": [
    {
     "name": "stderr",
     "output_type": "stream",
     "text": [
      "/opt/conda/lib/python3.6/site-packages/ipykernel_launcher.py:16: DeprecationWarning: Call to deprecated `__getitem__` (Method will be removed in 4.0.0, use self.wv.__getitem__() instead).\n",
      "  app.launch_new_instance()\n",
      "/opt/conda/lib/python3.6/site-packages/ipykernel_launcher.py:16: DeprecationWarning: Call to deprecated `__getitem__` (Method will be removed in 4.0.0, use self.wv.__getitem__() instead).\n",
      "  app.launch_new_instance()\n",
      "/opt/conda/lib/python3.6/site-packages/ipykernel_launcher.py:16: DeprecationWarning: Call to deprecated `__getitem__` (Method will be removed in 4.0.0, use self.wv.__getitem__() instead).\n",
      "  app.launch_new_instance()\n"
     ]
    },
    {
     "data": {
      "image/png": "[encoded data removed]",
      "text/plain": [
       "<Figure size 432x288 with 1 Axes>"
      ]
     },
     "metadata": {
      "needs_background": "light"
     },
     "output_type": "display_data"
    }
   ],
   "source": [
    "#train_pipeline(docs, term_list_A, term_list_B)\n",
    "#d_df_2, d_raw_corpus_2, d_clean_corpus_2, d_vocab_df_2, d_top_2, d_bottom_2\n",
    "#return trained_w2v_model, term_cos_sims\n",
    "\n",
    "d_test_model_A, sims_A = train_pipeline(d_clean_corpus_2, list_A, list_B)\n",
    "d_test_model_B, sims_B = train_pipeline(d_clean_corpus_2, list_A, list_B)\n",
    "d_test_model_C, sims_C = train_pipeline(d_clean_corpus_2, list_A, list_B)\n"
   ]
  },
  {
   "cell_type": "code",
   "execution_count": 385,
   "metadata": {},
   "outputs": [
    {
     "name": "stdout",
     "output_type": "stream",
     "text": [
      "[[['president', 'donald', 0.40349877178627663], ['president', 'trump', 0.6481701610132141], ['president', 'hillary', 0.4612998274838706], ['president', 'clinton', 0.5620991143989674]], [['qualified', 'donald', -0.0020818439950853647], ['qualified', 'trump', 0.017293174993139072], ['qualified', 'hillary', 0.14260227857549024], ['qualified', 'clinton', -0.04599122260875025]], [['people', 'donald', 0.5910153494823733], ['people', 'trump', 0.6863760919177472], ['people', 'hillary', 0.60208476411483], ['people', 'clinton', 0.6307801129550942]], [['email', 'donald', 0.26861592233195625], ['email', 'trump', 0.5252510571152227], ['email', 'hillary', 0.3931452160357817], ['email', 'clinton', 0.5421025925377752]], [['prison', 'donald', 0.15105325563102048], ['prison', 'trump', 0.08719473993914037], ['prison', 'hillary', 0.12295136016708598], ['prison', 'clinton', 0.1335067752234638]], [['crooked', 'donald', 0.13572123886840984], ['crooked', 'trump', 0.1517201983256919], ['crooked', 'hillary', 0.06073396318523945], ['crooked', 'clinton', 0.05717446165030844]]] \n",
      "\n",
      "[[['president', 'donald', 0.4373095569590825], ['president', 'trump', 0.6870143183104405], ['president', 'hillary', 0.5147668043877593], ['president', 'clinton', 0.5980300316679662]], [['qualified', 'donald', -0.0016055801910668348], ['qualified', 'trump', 0.022658572482783645], ['qualified', 'hillary', 0.14992037616581652], ['qualified', 'clinton', -0.039665104665181736]], [['people', 'donald', 0.5910495630725889], ['people', 'trump', 0.6807828240700191], ['people', 'hillary', 0.605244421491239], ['people', 'clinton', 0.6187780036393226]], [['email', 'donald', 0.2823683186064429], ['email', 'trump', 0.551636057227028], ['email', 'hillary', 0.4141440705510123], ['email', 'clinton', 0.5612350032835629]], [['prison', 'donald', 0.15895555177892703], ['prison', 'trump', 0.08731576142051023], ['prison', 'hillary', 0.11994915413159431], ['prison', 'clinton', 0.1256184496188519]], [['crooked', 'donald', 0.13746234685054465], ['crooked', 'trump', 0.1550001994701093], ['crooked', 'hillary', 0.06487627299149422], ['crooked', 'clinton', 0.058051322799840224]]] \n",
      "\n",
      "[[['president', 'donald', 0.4458932572855263], ['president', 'trump', 0.6298713715000943], ['president', 'hillary', 0.4746586447867168], ['president', 'clinton', 0.5541289385260817]], [['qualified', 'donald', 0.014575549593284852], ['qualified', 'trump', 0.02061554154979733], ['qualified', 'hillary', 0.14357642655906616], ['qualified', 'clinton', -0.04333001280565482]], [['people', 'donald', 0.6275589421161547], ['people', 'trump', 0.6679840463938986], ['people', 'hillary', 0.6079772145996987], ['people', 'clinton', 0.6355332263893173]], [['email', 'donald', 0.2877800083582481], ['email', 'trump', 0.4865856861036881], ['email', 'hillary', 0.3746210816585154], ['email', 'clinton', 0.5224410135272065]], [['prison', 'donald', 0.18578686514093673], ['prison', 'trump', 0.09362508105114635], ['prison', 'hillary', 0.13655567514055728], ['prison', 'clinton', 0.15664068325540575]], [['crooked', 'donald', 0.15721606010258893], ['crooked', 'trump', 0.16507010427832552], ['crooked', 'hillary', 0.06877027513858718], ['crooked', 'clinton', 0.06741447188699573]]] \n",
      "\n",
      "[['president', 'donald', 0.4289005286769618], ['president', 'trump', 0.6550186169412496], ['president', 'hillary', 0.4835750922194489], ['president', 'clinton', 0.5714193615310051], ['qualified', 'donald', 0.003629375135710884], ['qualified', 'trump', 0.020189096341906684], ['qualified', 'hillary', 0.14536636043345766], ['qualified', 'clinton', -0.042995446693195605], ['people', 'donald', 0.603207951557039], ['people', 'trump', 0.678380987460555], ['people', 'hillary', 0.6051021334019225], ['people', 'clinton', 0.628363780994578], ['email', 'donald', 0.2795880830988824], ['email', 'trump', 0.5211576001486463], ['email', 'hillary', 0.39397012274843646], ['email', 'clinton', 0.5419262031161814], ['prison', 'donald', 0.16526522418362807], ['prison', 'trump', 0.08937852747026565], ['prison', 'hillary', 0.12648539647974585], ['prison', 'clinton', 0.13858863603257382], ['crooked', 'donald', 0.14346654860718114], ['crooked', 'trump', 0.15726350069137557], ['crooked', 'hillary', 0.06479350377177362], ['crooked', 'clinton', 0.0608800854457148]]\n",
      "            0        1         2\n",
      "0   president   donald  0.428901\n",
      "1   president    trump  0.655019\n",
      "2   president  hillary  0.483575\n",
      "3   president  clinton  0.571419\n",
      "4   qualified   donald  0.003629\n",
      "5   qualified    trump  0.020189\n",
      "6   qualified  hillary  0.145366\n",
      "7   qualified  clinton -0.042995\n",
      "8      people   donald  0.603208\n",
      "9      people    trump  0.678381\n",
      "10     people  hillary  0.605102\n",
      "11     people  clinton  0.628364\n",
      "12      email   donald  0.279588\n",
      "13      email    trump  0.521158\n",
      "14      email  hillary  0.393970\n",
      "15      email  clinton  0.541926\n",
      "16     prison   donald  0.165265\n",
      "17     prison    trump  0.089379\n",
      "18     prison  hillary  0.126485\n",
      "19     prison  clinton  0.138589\n",
      "20    crooked   donald  0.143467\n",
      "21    crooked    trump  0.157264\n",
      "22    crooked  hillary  0.064794\n",
      "23    crooked  clinton  0.060880\n"
     ]
    }
   ],
   "source": [
    "#get_mean_cos_sim(sim_list_1, sim_list_2, sim_list_3)\n",
    "\n",
    "sims_test = get_mean_cos_sim(sims_A, sims_B, sims_C)\n",
    "\n",
    "sims_test_df = pd.DataFrame(sims_test)\n",
    "\n",
    "print(sims_A, '\\n')\n",
    "print(sims_B, '\\n')\n",
    "print(sims_C, '\\n')\n",
    "print(sims_test)\n",
    "\n",
    "print(sims_test_df)"
   ]
  },
  {
   "cell_type": "markdown",
   "metadata": {},
   "source": [
    "## final pipeline"
   ]
  },
  {
   "cell_type": "code",
   "execution_count": 391,
   "metadata": {},
   "outputs": [],
   "source": [
    "def final_pipeline(subreddit_name, app_name, oa_script, oa_secret, pwd, vocab_number, term_list_A, term_list_B):\n",
    "    \n",
    "    #text_prep_pipeline(subreddit_name, app_name, oa_script, oa_secret, pwd, vocab_number)\n",
    "    # return subreddit_df, raw_corpus, clean_corpus, vocab_df, top, bottom\n",
    "    \n",
    "    subreddit_df, raw_corpus, clean_corpus, vocab_df, top, bottom = text_prep_pipeline(subreddit_name, app_name, oa_script, oa_secret, pwd, vocab_number)\n",
    "    \n",
    "    # save data to file(s)\n",
    "    \n",
    "    # prepare to export as CSVs\n",
    "    # first generate unique names\n",
    "    # subreddit_df, raw_corpus, clean_corpus, vocab_df\n",
    "    \n",
    "    subreddit_df_filename = app_name + '_subreddit.csv'\n",
    "    \n",
    "    raw_corpus_filename = app_name + '_raw_corpus.csv'\n",
    "    \n",
    "    clean_corpus_filename = app_name + '_clean_corpus.csv'\n",
    "    \n",
    "    vocab_df_filename = app_name + '_vocab.csv'\n",
    "    \n",
    "    # next convert lists to DataFrames\n",
    "    \n",
    "    raw_corpus_df = pd.DataFrame(raw_corpus)\n",
    "    \n",
    "    clean_corpus_df = pd.DataFrame(clean_corpus)\n",
    "    \n",
    "    # export to CSVs using unique filenames\n",
    "    \n",
    "    subreddit_df.to_csv(subreddit_df_filename)\n",
    "    \n",
    "    raw_corpus_df.to_csv(raw_corpus_filename)\n",
    "    \n",
    "    clean_corpus_df.to_csv(clean_corpus_filename)\n",
    "    \n",
    "    vocab_df.to_csv(vocab_df_filename)\n",
    "    \n",
    "    \n",
    "    #train_pipeline(docs, term_list_A, term_list_B)\n",
    "    # return trained_w2v_model, term_cos_sims\n",
    "    \n",
    "    # train 3 models\n",
    "    \n",
    "    model_1, cos_sims_1 = train_pipeline(clean_corpus, term_list_A, term_list_B)\n",
    "    \n",
    "    model_2, cos_sims_2 = train_pipeline(clean_corpus, term_list_A, term_list_B)\n",
    "    \n",
    "    model_3, cos_sims_3 = train_pipeline(clean_corpus, term_list_A, term_list_B)\n",
    "    \n",
    "    final_sims_list = get_mean_cos_sim(cos_sims_1, cos_sims_2, cos_sims_3)\n",
    "    \n",
    "    final_sims_df = pd.DataFrame(final_sims_list)\n",
    "    \n",
    "    # display results\n",
    "    \n",
    "    print('top vocabulary: \\n')\n",
    "    \n",
    "    print(top, '\\n')\n",
    "    \n",
    "    print('bottom vocabulary: \\n')\n",
    "    \n",
    "    print(bottom, '\\n')\n",
    "    \n",
    "    print('mean cosine similarities: \\n')\n",
    "    \n",
    "    print(final_sims_df)\n",
    "    \n",
    "    return model_1, model_2, model_3, final_sims_list, top, bottom\n",
    "    "
   ]
  },
  {
   "cell_type": "markdown",
   "metadata": {},
   "source": [
    "## testing final pipeline"
   ]
  },
  {
   "cell_type": "code",
   "execution_count": 392,
   "metadata": {},
   "outputs": [
    {
     "name": "stdout",
     "output_type": "stream",
     "text": [
      "DONALD J. TRUMP DECLARED THE WINNER! \n",
      "\n",
      "I’m Donald J. Trump and I'm Your Next President of the United States. \n",
      "\n",
      "The New Algorithm Was Designed To Keep President Trump From The Front Page... But Sadly, That Won't Happen. \n",
      "\n",
      "CNN will soon be #1...when searching for the term \"Fake News\". Congratulations to CNN on this major achievement. \n",
      "\n",
      "ALL CELEBRITIES THAT VOWED TO LEAVE THE U.S.A. IF TRUMP WINS, WE NOW DEMAND YOU TO FOLLOW THROUGH!!!! OUT! OUT! OUT! \n",
      "\n"
     ]
    },
    {
     "name": "stderr",
     "output_type": "stream",
     "text": [
      "/opt/conda/lib/python3.6/site-packages/ipykernel_launcher.py:16: DeprecationWarning: Call to deprecated `__getitem__` (Method will be removed in 4.0.0, use self.wv.__getitem__() instead).\n",
      "  app.launch_new_instance()\n",
      "/opt/conda/lib/python3.6/site-packages/ipykernel_launcher.py:16: DeprecationWarning: Call to deprecated `__getitem__` (Method will be removed in 4.0.0, use self.wv.__getitem__() instead).\n",
      "  app.launch_new_instance()\n",
      "/opt/conda/lib/python3.6/site-packages/ipykernel_launcher.py:16: DeprecationWarning: Call to deprecated `__getitem__` (Method will be removed in 4.0.0, use self.wv.__getitem__() instead).\n",
      "  app.launch_new_instance()\n"
     ]
    },
    {
     "name": "stdout",
     "output_type": "stream",
     "text": [
      "top vocabulary: \n",
      "\n",
      "              0\n",
      "trump       342\n",
      "us          154\n",
      "president   123\n",
      "clinton     121\n",
      "people      118\n",
      "reddit      114\n",
      "like        102\n",
      "would        95\n",
      "hillary      90\n",
      "one          80\n",
      "donald       78\n",
      "get          77\n",
      "post         66\n",
      "make         66\n",
      "media        66\n",
      "campaign     65\n",
      "going        61\n",
      "even         61\n",
      "new          59\n",
      "time         59\n",
      "foundation   58\n",
      "email        57\n",
      "dont         57\n",
      "news         57\n",
      "first        56 \n",
      "\n",
      "bottom vocabulary: \n",
      "\n",
      "                    0\n",
      "prosecutors         1\n",
      "cleans              1\n",
      "fears               1\n",
      "familiar            1\n",
      "occurrence          1\n",
      "taibbi              1\n",
      "rolling             1\n",
      "merely              1\n",
      "arm                 1\n",
      "nfl                 1\n",
      "yates               1\n",
      "comply              1\n",
      "refusal             1\n",
      "maxine              1\n",
      "waters              1\n",
      "posing              1\n",
      "ukraine             1\n",
      "placements          1\n",
      "flynn               1\n",
      "investigated        1\n",
      "kayne               1\n",
      "smeared             1\n",
      "uncle               1\n",
      "tom                 1\n",
      "httpimgurcomayzkqt  1 \n",
      "\n",
      "mean cosine similarities: \n",
      "\n",
      "            0        1         2\n",
      "0   president   donald  0.436639\n",
      "1   president    trump  0.642807\n",
      "2   president  hillary  0.487945\n",
      "3   president  clinton  0.583637\n",
      "4   qualified   donald  0.003153\n",
      "5   qualified    trump  0.000707\n",
      "6   qualified  hillary  0.139187\n",
      "7   qualified  clinton -0.054276\n",
      "8      people   donald  0.606191\n",
      "9      people    trump  0.664261\n",
      "10     people  hillary  0.603451\n",
      "11     people  clinton  0.628046\n",
      "12      email   donald  0.300606\n",
      "13      email    trump  0.517629\n",
      "14      email  hillary  0.389969\n",
      "15      email  clinton  0.537211\n",
      "16     prison   donald  0.171044\n",
      "17     prison    trump  0.083502\n",
      "18     prison  hillary  0.128377\n",
      "19     prison  clinton  0.122803\n",
      "20    crooked   donald  0.151781\n",
      "21    crooked    trump  0.156017\n",
      "22    crooked  hillary  0.066868\n",
      "23    crooked  clinton  0.057553\n"
     ]
    },
    {
     "data": {
      "image/png": "[encoded data removed]",
      "text/plain": [
       "<Figure size 432x288 with 1 Axes>"
      ]
     },
     "metadata": {
      "needs_background": "light"
     },
     "output_type": "display_data"
    }
   ],
   "source": [
    "d_test_model_1, d_test_model_2, d_test_model_3, d_test_sims_list, d_test_top, d_test_bottom = final_pipeline('The_Donald', 'get_corpora', 'reddit_oa_script.txt', 'reddit_oa_secret.txt', 'reddit_id.txt', 25, list_A, list_B)\n"
   ]
  },
  {
   "cell_type": "markdown",
   "metadata": {},
   "source": [
    "## testing word lists\n",
    "\n",
    "1) possible alt-right terms\n",
    "\n",
    "* ‘kek’, 'kekistan’, ‘normies’, ‘pepe’, ‘deus vult’, ‘tendies’, ‘god emperor trump’, ‘SJW’, ‘snowflake’, ‘pandering’, ‘tumblr’, ‘feminist’, ‘triggering’, ‘gamergate’, ‘virtue signalling’, ‘females’, ‘cuck’, ‘bitch’, ‘chad’, ‘alpha’, ‘beta’, ‘omega’, ‘globalist scum’, ‘establishment’, ‘puppets’, ‘elites’, ‘masters’, ‘george soros’, ‘cultural marxist’\n",
    "\n",
    "\n",
    "\n"
   ]
  },
  {
   "cell_type": "code",
   "execution_count": 461,
   "metadata": {},
   "outputs": [],
   "source": [
    "\n",
    "# words that don't appear in The_Donald vocab:\n",
    "#'kekistan'\n",
    "#'normies'\n",
    "#'deus'\n",
    "#'vult'\n",
    "#'SJW' -> 'sjw' (because of lowercase)\n",
    "#'pandering'\n",
    "#'tumblr'\n",
    "#'gamergate'\n",
    "#'signaling'\n",
    "#'females' -> 'female'\n",
    "#'chad'\n",
    "#'beta'\n",
    "#'omega'\n",
    "#'puppets'\n",
    "#'elites'\n",
    "#'masters'\n",
    "#'marxist'\n",
    "\n",
    "# words i removed:\n",
    "#'george soros' -> 'soros' (vocab is tokenized, 'george' is less useful)\n",
    "#'cultural' ('marxism' did not exist in the vocabulary, making 'cultural' less useful)\n",
    "#'scum' (wasn't particularly relevant)\n",
    "#'kek' (relevance)\n",
    "#'tendies' (didn't understand context)\n",
    "#'sjw' (relevance)\n",
    "#'snowflake' (relevance)\n",
    "#'triggering' (relevance)\n",
    "#'virtue' 'signalling' did not exist in vocab, making 'virtue' less useful\n",
    "#'female'\n",
    "#'feminist' (relevance)\n",
    "#'globalist' (relevance)\n",
    "\n",
    "# words i added:\n",
    "#'prison'\n",
    "#'email'\n",
    "#'corrupt'\n"
   ]
  },
  {
   "cell_type": "code",
   "execution_count": 459,
   "metadata": {},
   "outputs": [],
   "source": [
    "terms_list_A_test_1 = ['pepe', 'god', 'emperor', 'cuck', 'bitch', \n",
    "                       'alpha', 'establishment', 'soros', 'prison', \n",
    "                       'email', 'corrupt']\n",
    "\n",
    "terms_list_B_test_1 = ['trump', 'clinton', 'sanders']\n",
    "\n",
    "\n",
    "terms_test_1_result = comp_cos_sim_lists(d_test_model_1, terms_list_A_test_1, terms_list_B_test_1)"
   ]
  },
  {
   "cell_type": "code",
   "execution_count": 460,
   "metadata": {
    "scrolled": true
   },
   "outputs": [
    {
     "data": {
      "text/plain": [
       "[[['pepe', 'trump', 0.23439466251679417],\n",
       "  ['pepe', 'clinton', 0.14553300334302668],\n",
       "  ['pepe', 'sanders', 0.05182610904233882]],\n",
       " [['god', 'trump', 0.21578022512562972],\n",
       "  ['god', 'clinton', 0.12407597769032738],\n",
       "  ['god', 'sanders', 0.09398939088936471]],\n",
       " [['emperor', 'trump', 0.31317195294480044],\n",
       "  ['emperor', 'clinton', 0.1630202948224156],\n",
       "  ['emperor', 'sanders', 0.18129643990693453]],\n",
       " [['cuck', 'trump', 0.23077357915551036],\n",
       "  ['cuck', 'clinton', 0.1804662037128091],\n",
       "  ['cuck', 'sanders', 0.2146649327736989]],\n",
       " [['bitch', 'trump', 0.028123457851630302],\n",
       "  ['bitch', 'clinton', 0.16726709831362305],\n",
       "  ['bitch', 'sanders', -0.04680372353901299]],\n",
       " [['alpha', 'trump', 0.19116740086423387],\n",
       "  ['alpha', 'clinton', 0.15289338780925393],\n",
       "  ['alpha', 'sanders', 0.053136072483688804]],\n",
       " [['establishment', 'trump', 0.27073736797312165],\n",
       "  ['establishment', 'clinton', 0.32931066400068976],\n",
       "  ['establishment', 'sanders', 0.1185336835114934]],\n",
       " [['soros', 'trump', 0.195644757315792],\n",
       "  ['soros', 'clinton', 0.2914549042044578],\n",
       "  ['soros', 'sanders', -0.01023984987957321]],\n",
       " [['prison', 'trump', 0.07603304482597377],\n",
       "  ['prison', 'clinton', 0.12378219576292072],\n",
       "  ['prison', 'sanders', 0.047745941194004354]],\n",
       " [['email', 'trump', 0.5060416646346226],\n",
       "  ['email', 'clinton', 0.5369734243241286],\n",
       "  ['email', 'sanders', 0.17707773931313694]],\n",
       " [['corrupt', 'trump', -0.02460421137739706],\n",
       "  ['corrupt', 'clinton', 0.007017751127238382],\n",
       "  ['corrupt', 'sanders', 0.00036138891285409204]]]"
      ]
     },
     "execution_count": 460,
     "metadata": {},
     "output_type": "execute_result"
    }
   ],
   "source": [
    "\n",
    "terms_test_1_result"
   ]
  },
  {
   "cell_type": "markdown",
   "metadata": {},
   "source": [
    "## testing pipeline + word list on new subreddit"
   ]
  },
  {
   "cell_type": "code",
   "execution_count": 477,
   "metadata": {},
   "outputs": [
    {
     "name": "stdout",
     "output_type": "stream",
     "text": [
      "Some words from Maisie Williams \n",
      "\n",
      "This sadly happens all to often. \n",
      "\n",
      "This can never go away, this needs to continue to get posted over and over and over again. This should never be forgotten \n",
      "\n",
      "About abortion \n",
      "\n",
      "Got this on my feed today. \n",
      "\n"
     ]
    },
    {
     "name": "stderr",
     "output_type": "stream",
     "text": [
      "/opt/conda/lib/python3.6/site-packages/ipykernel_launcher.py:16: DeprecationWarning: Call to deprecated `__getitem__` (Method will be removed in 4.0.0, use self.wv.__getitem__() instead).\n",
      "  app.launch_new_instance()\n",
      "/opt/conda/lib/python3.6/site-packages/ipykernel_launcher.py:16: DeprecationWarning: Call to deprecated `__getitem__` (Method will be removed in 4.0.0, use self.wv.__getitem__() instead).\n",
      "  app.launch_new_instance()\n",
      "/opt/conda/lib/python3.6/site-packages/ipykernel_launcher.py:16: DeprecationWarning: Call to deprecated `__getitem__` (Method will be removed in 4.0.0, use self.wv.__getitem__() instead).\n",
      "  app.launch_new_instance()\n"
     ]
    },
    {
     "name": "stdout",
     "output_type": "stream",
     "text": [
      "top vocabulary: \n",
      "\n",
      "            0\n",
      "women     312\n",
      "men       147\n",
      "woman     120\n",
      "rape       86\n",
      "sexual     82\n",
      "like       82\n",
      "feminist   82\n",
      "people     75\n",
      "feminism   70\n",
      "female     69\n",
      "man        61\n",
      "first      59\n",
      "time       58\n",
      "male       58\n",
      "one        56\n",
      "im         56\n",
      "get        54\n",
      "dont       51\n",
      "us         50\n",
      "sex        50\n",
      "would      49\n",
      "girls      45\n",
      "know       45\n",
      "even       45\n",
      "never      45 \n",
      "\n",
      "bottom vocabulary: \n",
      "\n",
      "                0\n",
      "aborted         1\n",
      "glasses         1\n",
      "chairwoman      1\n",
      "blocks          1\n",
      "buried          1\n",
      "joseph          1\n",
      "gordonlevitt    1\n",
      "hatespeech      1\n",
      "arrest          1\n",
      "safer           1\n",
      "heroeines       1\n",
      "capes           1\n",
      "suits           1\n",
      "dutch           1\n",
      "amounts         1\n",
      "merry           1\n",
      "holidays        1\n",
      "sois            1\n",
      "slams           1\n",
      "funds           1\n",
      "familyplanning  1\n",
      "centers         1\n",
      "greek           1\n",
      "cos             1\n",
      "heartbroken     1 \n",
      "\n",
      "mean cosine similarities: \n",
      "\n",
      "          0        1         2\n",
      "0       god    trump  0.149826\n",
      "1       god  clinton  0.004088\n",
      "2       god  sanders  0.044328\n",
      "3       god      men  0.229496\n",
      "4       god    women -0.037071\n",
      "5     bitch    trump -0.073507\n",
      "6     bitch  clinton  0.151032\n",
      "7     bitch  sanders -0.076416\n",
      "8     bitch      men  0.020708\n",
      "9     bitch    women -0.087088\n",
      "10   prison    trump -0.040509\n",
      "11   prison  clinton -0.041308\n",
      "12   prison  sanders  0.008457\n",
      "13   prison      men  0.294139\n",
      "14   prison    women  0.281686\n",
      "15     good    trump  0.252374\n",
      "16     good  clinton  0.016018\n",
      "17     good  sanders  0.115227\n",
      "18     good      men  0.263466\n",
      "19     good    women  0.500000\n",
      "20     evil    trump -0.046221\n",
      "21     evil  clinton -0.067986\n",
      "22     evil  sanders -0.135314\n",
      "23     evil      men -0.055624\n",
      "24     evil    women -0.122420\n",
      "25    smart    trump  0.010689\n",
      "26    smart  clinton -0.175233\n",
      "27    smart  sanders -0.004287\n",
      "28    smart      men -0.008843\n",
      "29    smart    women  0.001375\n",
      "30  assault    trump  0.282868\n",
      "31  assault  clinton -0.112841\n",
      "32  assault  sanders  0.001333\n",
      "33  assault      men  0.300551\n",
      "34  assault    women  0.447848\n",
      "35   honest    trump  0.028812\n",
      "36   honest  clinton -0.083452\n",
      "37   honest  sanders  0.044402\n",
      "38   honest      men  0.009951\n",
      "39   honest    women  0.003931\n",
      "40   brains    trump -0.149493\n",
      "41   brains  clinton -0.178332\n",
      "42   brains  sanders  0.247766\n",
      "43   brains      men -0.030675\n",
      "44   brains    women -0.080921\n"
     ]
    },
    {
     "data": {
      "image/png": "[encoded data removed]",
      "text/plain": [
       "<Figure size 432x288 with 1 Axes>"
      ]
     },
     "metadata": {
      "needs_background": "light"
     },
     "output_type": "display_data"
    }
   ],
   "source": [
    "feminism_words_A = ['god', 'bitch', \n",
    "                        'prison', \n",
    "                       'good', 'evil', 'smart', 'assault', 'honest', 'brains']\n",
    "\n",
    "feminism_words_B = ['trump', 'clinton', 'sanders', 'men', 'women']\n",
    "\n",
    "'''d_test_model_1, d_test_model_2, d_test_model_3, \n",
    "d_test_sims_list, d_test_top, d_test_bottom = final_pipeline('The_Donald', \n",
    "                                            'get_corpora', 'reddit_oa_script.txt', \n",
    "                                            'reddit_oa_secret.txt', 'reddit_id.txt', \n",
    "                                            25, list_A, list_B)\n",
    "'''\n",
    "\n",
    "feminism_model_1, feminism_model_2, feminism_model_3, feminism_cos_sims, feminism_top_vocab, feminism_bottom_vocab = final_pipeline('feminism', 'feminism', 'r_feminism_script.txt', 'r_feminism_secret.txt', 'reddit_id.txt', 25, feminism_words_A, feminism_words_B)"
   ]
  },
  {
   "cell_type": "markdown",
   "metadata": {},
   "source": [
    "## testing conservative subreddits\n",
    "\n",
    "TODO:\n",
    "\n",
    "run processing pipeline \n",
    "\n",
    "run model train once\n",
    "\n",
    "test vocab lists on model not pipeline"
   ]
  },
  {
   "cell_type": "code",
   "execution_count": 485,
   "metadata": {},
   "outputs": [
    {
     "name": "stdout",
     "output_type": "stream",
     "text": [
      "[META] r/NeutralPolitics is opting out of r/all, and by extension, r/popular \n",
      "\n",
      "Megathread: Net Neutrality \n",
      "\n",
      "First Debate Fact-Checking Thread \n",
      "\n",
      "Is there precedence over the past 100 years for the White House to block media outlets from press briefings? \n",
      "\n",
      "Did AG Jeff Sessions commit perjury during his confirmation hearing when he didn't disclose prior meetings with the Russian Ambassador? \n",
      "\n"
     ]
    }
   ],
   "source": [
    "# text prep\n",
    "\n",
    "np_df, np_raw, np_clean, np_vocab, np_top, np_bottom = text_prep_pipeline('NeutralPolitics', 'NeutralPolitics', 'NeutralPolitics_script.txt', 'NeutralPolitics_secret.txt', 'reddit_id.txt', 25)"
   ]
  },
  {
   "cell_type": "code",
   "execution_count": 486,
   "metadata": {},
   "outputs": [
    {
     "name": "stderr",
     "output_type": "stream",
     "text": [
      "/opt/conda/lib/python3.6/site-packages/ipykernel_launcher.py:16: DeprecationWarning: Call to deprecated `__getitem__` (Method will be removed in 4.0.0, use self.wv.__getitem__() instead).\n",
      "  app.launch_new_instance()\n"
     ]
    },
    {
     "data": {
      "image/png": "[encoded data removed]",
      "text/plain": [
       "<Figure size 432x288 with 1 Axes>"
      ]
     },
     "metadata": {
      "needs_background": "light"
     },
     "output_type": "display_data"
    }
   ],
   "source": [
    "# train model\n",
    "\n",
    "np_model = train_w2v_model(np_clean)"
   ]
  },
  {
   "cell_type": "code",
   "execution_count": null,
   "metadata": {},
   "outputs": [],
   "source": []
  }
 ],
 "metadata": {
  "kernelspec": {
   "display_name": "Python 3",
   "language": "python",
   "name": "python3"
  },
  "language_info": {
   "codemirror_mode": {
    "name": "ipython",
    "version": 3
   },
   "file_extension": ".py",
   "mimetype": "text/x-python",
   "name": "python",
   "nbconvert_exporter": "python",
   "pygments_lexer": "ipython3",
   "version": "3.6.3"
  }
 },
 "nbformat": 4,
 "nbformat_minor": 2
}
